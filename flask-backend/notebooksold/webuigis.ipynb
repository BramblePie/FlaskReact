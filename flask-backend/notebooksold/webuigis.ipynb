{
 "cells": [
  {
   "cell_type": "code",
   "execution_count": 1,
   "metadata": {},
   "outputs": [
    {
     "data": {
      "text/html": [
       "<div>\n",
       "<style scoped>\n",
       "    .dataframe tbody tr th:only-of-type {\n",
       "        vertical-align: middle;\n",
       "    }\n",
       "\n",
       "    .dataframe tbody tr th {\n",
       "        vertical-align: top;\n",
       "    }\n",
       "\n",
       "    .dataframe thead th {\n",
       "        text-align: right;\n",
       "    }\n",
       "</style>\n",
       "<table border=\"1\" class=\"dataframe\">\n",
       "  <thead>\n",
       "    <tr style=\"text-align: right;\">\n",
       "      <th></th>\n",
       "      <th>Regio</th>\n",
       "      <th>Woonlasten 2012</th>\n",
       "      <th>Woonlasten 2015</th>\n",
       "      <th>Woonlasten 2018</th>\n",
       "    </tr>\n",
       "  </thead>\n",
       "  <tbody>\n",
       "    <tr>\n",
       "      <td>0</td>\n",
       "      <td>Groningen (PV)</td>\n",
       "      <td>546</td>\n",
       "      <td>585</td>\n",
       "      <td>599</td>\n",
       "    </tr>\n",
       "    <tr>\n",
       "      <td>1</td>\n",
       "      <td>Friesland (PV)</td>\n",
       "      <td>528</td>\n",
       "      <td>583</td>\n",
       "      <td>578</td>\n",
       "    </tr>\n",
       "    <tr>\n",
       "      <td>2</td>\n",
       "      <td>Drenthe (PV)</td>\n",
       "      <td>556</td>\n",
       "      <td>601</td>\n",
       "      <td>609</td>\n",
       "    </tr>\n",
       "    <tr>\n",
       "      <td>3</td>\n",
       "      <td>Overijssel (PV)</td>\n",
       "      <td>563</td>\n",
       "      <td>610</td>\n",
       "      <td>633</td>\n",
       "    </tr>\n",
       "    <tr>\n",
       "      <td>4</td>\n",
       "      <td>Flevoland (PV)</td>\n",
       "      <td>607</td>\n",
       "      <td>646</td>\n",
       "      <td>693</td>\n",
       "    </tr>\n",
       "  </tbody>\n",
       "</table>\n",
       "</div>"
      ],
      "text/plain": [
       "             Regio  Woonlasten 2012  Woonlasten 2015  Woonlasten 2018\n",
       "0   Groningen (PV)              546              585              599\n",
       "1   Friesland (PV)              528              583              578\n",
       "2     Drenthe (PV)              556              601              609\n",
       "3  Overijssel (PV)              563              610              633\n",
       "4   Flevoland (PV)              607              646              693"
      ]
     },
     "execution_count": 1,
     "metadata": {},
     "output_type": "execute_result"
    }
   ],
   "source": [
    "import pandas as pd\n",
    "import dash\n",
    "import dash_core_components as dcc\n",
    "import dash_html_components as html\n",
    "\n",
    "tdata = pd.read_csv('testdata.csv')\n",
    "tdata.head()"
   ]
  },
  {
   "cell_type": "code",
   "execution_count": null,
   "metadata": {},
   "outputs": [
    {
     "name": "stdout",
     "output_type": "stream",
     "text": [
      " * Serving Flask app \"__main__\" (lazy loading)\n",
      " * Environment: production\n",
      "   WARNING: This is a development server. Do not use it in a production deployment.\n",
      "   Use a production WSGI server instead.\n",
      " * Debug mode: off\n"
     ]
    },
    {
     "name": "stderr",
     "output_type": "stream",
     "text": [
      " * Running on http://127.0.0.1:8050/ (Press CTRL+C to quit)\n",
      "127.0.0.1 - - [09/Apr/2020 09:53:03] \"GET / HTTP/1.1\" 200 -\n",
      "127.0.0.1 - - [09/Apr/2020 09:53:03] \"GET /_dash-component-suites/dash_renderer/react@16.v1_3_0m1585903798.13.0.min.js HTTP/1.1\" 200 -\n",
      "127.0.0.1 - - [09/Apr/2020 09:53:03] \"GET /_dash-component-suites/dash_renderer/prop-types@15.v1_3_0m1585903798.7.2.min.js HTTP/1.1\" 200 -\n",
      "127.0.0.1 - - [09/Apr/2020 09:53:03] \"GET /_dash-component-suites/dash_renderer/polyfill@7.v1_3_0m1585903798.8.7.min.js HTTP/1.1\" 200 -\n",
      "127.0.0.1 - - [09/Apr/2020 09:53:03] \"GET /_dash-component-suites/dash_html_components/dash_html_components.v1_0_3m1585903799.min.js HTTP/1.1\" 200 -\n",
      "127.0.0.1 - - [09/Apr/2020 09:53:03] \"GET /_dash-component-suites/dash_renderer/react-dom@16.v1_3_0m1585903798.13.0.min.js HTTP/1.1\" 200 -\n",
      "127.0.0.1 - - [09/Apr/2020 09:53:03] \"GET /_dash-component-suites/dash_core_components/dash_core_components-shared.v1_9_0m1585903800.js HTTP/1.1\" 200 -\n",
      "127.0.0.1 - - [09/Apr/2020 09:53:03] \"GET /_dash-component-suites/dash_core_components/dash_core_components.v1_9_0m1585903800.min.js HTTP/1.1\" 200 -\n",
      "127.0.0.1 - - [09/Apr/2020 09:53:03] \"GET /_dash-component-suites/dash_renderer/dash_renderer.v1_3_0m1585903798.min.js HTTP/1.1\" 200 -\n",
      "127.0.0.1 - - [09/Apr/2020 09:53:04] \"GET /_dash-layout HTTP/1.1\" 200 -\n",
      "127.0.0.1 - - [09/Apr/2020 09:53:04] \"GET /_dash-dependencies HTTP/1.1\" 200 -\n",
      "127.0.0.1 - - [09/Apr/2020 09:53:04] \"GET /_favicon.ico?v=1.10.0 HTTP/1.1\" 200 -\n"
     ]
    }
   ],
   "source": [
    "gis = dash.Dash()\n",
    "gis.layout = html.Div(children=[\n",
    "    html.H1('Dash test'),\n",
    "    dcc.Graph(id='test',\n",
    "             figure ={\n",
    "                 'data': [{'x':tdata['Regio'],'y':tdata['Woonlasten 2012'], 'type':'line','name':'huurlast 2012'},\n",
    "                         {'x':tdata['Regio'],'y':tdata['Woonlasten 2015'], 'type':'line','name':'huurlast 2015'},\n",
    "                          {'x':tdata['Regio'],'y':tdata['Woonlasten 2018'], 'type':'line','name':'huurlast 2018'}\n",
    "                         ],\n",
    "                 'layout': {\n",
    "                     'title':'testplot'\n",
    "                 }\n",
    "             })\n",
    "    ])\n",
    "\n",
    "if __name__ == '__main__':\n",
    "        gis.run_server(debug=False)"
   ]
  }
 ],
 "metadata": {
  "kernelspec": {
   "display_name": "Python 3",
   "language": "python",
   "name": "python3"
  },
  "language_info": {
   "codemirror_mode": {
    "name": "ipython",
    "version": 3
   },
   "file_extension": ".py",
   "mimetype": "text/x-python",
   "name": "python",
   "nbconvert_exporter": "python",
   "pygments_lexer": "ipython3",
   "version": "3.7.4"
  }
 },
 "nbformat": 4,
 "nbformat_minor": 4
}
