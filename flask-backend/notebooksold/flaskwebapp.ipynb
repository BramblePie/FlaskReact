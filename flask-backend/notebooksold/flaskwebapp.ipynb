{
 "cells": [
  {
   "cell_type": "code",
   "execution_count": 1,
   "metadata": {},
   "outputs": [],
   "source": [
    "from flask import Flask, render_template, url_for\n",
    "import geopandas as gpd\n",
    "gis = Flask(__name__)\n",
    "dataurl = 'http://geodata.nationaalgeoregister.nl/wijkenbuurten2019/extract/wijkenbuurten2019.zip'\n",
    "tdata = gpd.read_file(dataurl)\n"
   ]
  },
  {
   "cell_type": "code",
   "execution_count": 2,
   "metadata": {},
   "outputs": [],
   "source": [
    "wijk = \"Rheezerend\"\n",
    "wijkdata = tdata.loc[tdata['BU_NAAM'] == wijk]"
   ]
  },
  {
   "cell_type": "code",
   "execution_count": null,
   "metadata": {},
   "outputs": [],
   "source": [
    "@gis.route(\"/\")\n",
    "@gis.route(\"/home\")\n",
    "def homepage():\n",
    "     return render_template('home.html', wijkdata=wijkdata)\n",
    "\n",
    "@gis.route(\"/wijk\")\n",
    "def formpage():\n",
    "     return render_template('wijk.html', wijkdata=wijkdata)\n",
    "\n",
    "@gis.route(\"/test\")\n",
    "def testpage():\n",
    "    return \"<h1>bami</h1>\"\n",
    "\n",
    "\n",
    "\n",
    "\n",
    "if __name__ == '__main__':\n",
    "    gis.run()\n",
    "    "
   ]
  }
 ],
 "metadata": {
  "kernelspec": {
   "display_name": "Python 3",
   "language": "python",
   "name": "python3"
  },
  "language_info": {
   "codemirror_mode": {
    "name": "ipython",
    "version": 3
   },
   "file_extension": ".py",
   "mimetype": "text/x-python",
   "name": "python",
   "nbconvert_exporter": "python",
   "pygments_lexer": "ipython3",
   "version": "3.7.4"
  }
 },
 "nbformat": 4,
 "nbformat_minor": 4
}
