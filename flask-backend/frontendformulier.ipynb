{
 "cells": [
  {
   "cell_type": "code",
   "execution_count": 2,
   "metadata": {},
   "outputs": [],
   "source": [
    "from flask import Flask, render_template, request\n",
    "app = Flask(__name__)\n",
    "\n",
    "\n",
    "\n"
   ]
  },
  {
   "cell_type": "code",
   "execution_count": null,
   "metadata": {},
   "outputs": [],
   "source": []
  },
  {
   "cell_type": "code",
   "execution_count": null,
   "metadata": {},
   "outputs": [
    {
     "name": "stdout",
     "output_type": "stream",
     "text": [
      " * Serving Flask app \"__main__\" (lazy loading)\n",
      " * Environment: production\n",
      "\u001b[31m   WARNING: This is a development server. Do not use it in a production deployment.\u001b[0m\n",
      "\u001b[2m   Use a production WSGI server instead.\u001b[0m\n",
      " * Debug mode: off\n"
     ]
    },
    {
     "name": "stderr",
     "output_type": "stream",
     "text": [
      " * Running on http://127.0.0.1:5000/ (Press CTRL+C to quit)\n",
      "127.0.0.1 - - [29/May/2020 10:29:57] \"GET / HTTP/1.1\" 200 -\n"
     ]
    }
   ],
   "source": [
    "@app.route('/', methods=['GET'])\n",
    "def Formulier():\n",
    "    wozinput = ['Laag','Middel','Hoog','Heel-Hoog']\n",
    "    misdaadinput = ['Laag','Middel','Hoog']\n",
    "    stedelijkheidinput = ['Middel', 'Middel-Hoog', 'Hoog', 'Laag']\n",
    "    Bedrijfstakinput = ['Landbouw, bosbouw en visserij', 'Delfstoffenwinning', 'Industrie',\n",
    "       'Energievoorziening', 'Waterbedrijven en afvalbeheer',\n",
    "       'Bouwnijverheid', 'Handel', 'Vervoer en opslag', 'Horeca',\n",
    "       'Informatie en communicatie', 'Financiële dienstverlening',\n",
    "       'Verhuur en handel van onroerend goed',\n",
    "       'Specialistische zakelijke diensten',\n",
    "       'Verhuur en overige zakelijke diensten',\n",
    "       'Cultuur, sport en recreatie', 'Overige dienstverlening',\n",
    "       'Extraterritoriale organisaties']\n",
    "    werkgelegenheidinput = ['Hoog', 'Geen', 'Middel-Hoog', 'Middel']\n",
    "    return render_template('formulier.html', misdaadinput=misdaadinput,wozinput=wozinput,stedelijkheidinput=stedelijkheidinput,Bedrijfstakinput=Bedrijfstakinput,werkgelegenheidinput=werkgelegenheidinput)\n",
    "\n",
    "if __name__ == \"__main__\":\n",
    "    app.run()"
   ]
  }
 ],
 "metadata": {
  "kernelspec": {
   "display_name": "Python 3",
   "language": "python",
   "name": "python3"
  },
  "language_info": {
   "codemirror_mode": {
    "name": "ipython",
    "version": 3
   },
   "file_extension": ".py",
   "mimetype": "text/x-python",
   "name": "python",
   "nbconvert_exporter": "python",
   "pygments_lexer": "ipython3",
   "version": "3.7.4"
  }
 },
 "nbformat": 4,
 "nbformat_minor": 4
}
