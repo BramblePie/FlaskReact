{
 "cells": [
  {
   "cell_type": "code",
   "execution_count": 1,
   "metadata": {},
   "outputs": [],
   "source": [
    "from flask import Flask, render_template, request\n",
    "import pandas as pd\n",
    "app = Flask(__name__)\n",
    "\n",
    "\n",
    "\n"
   ]
  },
  {
   "cell_type": "code",
   "execution_count": 2,
   "metadata": {},
   "outputs": [],
   "source": [
    "\n",
    "datawoz = pd.read_csv('data/datasetwoznormaliseerd.csv')\n",
    "datawoz = datawoz.drop(columns=['geometry', 'Unnamed: 0'])\n",
    "datamisdaad = pd.read_csv('data/misdrijven.csv')\n",
    "datamisdaad = datamisdaad.rename(columns={\"Regio's\": \"gemeente\",})\n",
    "datamisdaad = datamisdaad.drop(columns=[ 'Unnamed: 0'])\n",
    "datamisdaad = datamisdaad.loc[(datamisdaad['Soort_misdrijf'] == 'Misdrijven, totaal') & (datamisdaad['Perioden'] == '2019*')]\n",
    "datademografie = pd.read_csv('data/Demografie_wijken_data.csv')\n",
    "datademografie = datademografie.rename(columns={\"gemeentenaam\": \"gemeente\",})\n",
    "datademografie = datademografie.drop(columns=['id','wijkcode','jrstatcode','gemeentecode','ind_wbi','Unnamed: 0','geometry','percentage_westerse_migratieachtergrond','percentage_niet_westerse_migratieachtergrond','percentage_uit_marokko','percentage_uit_nederlandse_antillen_en_aruba','percentage_uit_suriname', 'percentage_uit_turkije','percentage_overige_nietwestersemigratieachtergrond'])\n",
    "datawerk = pd.read_csv('data/werkgelegenheid_df.csv')\n",
    "datawerk = datawerk.rename(columns={\"Regio's\": \"gemeente\",})\n",
    "datawerk = datawerk.drop(columns=['Unnamed: 0'])\n",
    "data = datademografie.merge(datawoz, on='gemeente')\n",
    "data = data.drop_duplicates()\n",
    "data = data.merge(datawerk, on='gemeente')\n",
    "data = data.drop_duplicates()\n",
    "data = data.merge(datamisdaad, on='gemeente')\n",
    "data = data.drop_duplicates()\n",
    "def formulierAPI(stedelijkheidinput,wozinput,werkgelegenheidinput,Bedrijfstakinput,misdaadinput):\n",
    "    resultaat = data.loc[(data['klasse_stedelijkheid_normalisatie'] == stedelijkheidinput) & (data['klasse_woz'] == wozinput)& (data['Vestigingen Klasse'] == werkgelegenheidinput) & (data['Bedrijfstak'] == Bedrijfstakinput)& (data['Aantal_misdrijven_klasse'] == misdaadinput)]\n",
    "    output = resultaat[['wijknaam','gemeente']].drop_duplicates()\n",
    "    return output"
   ]
  },
  {
   "cell_type": "code",
   "execution_count": null,
   "metadata": {},
   "outputs": [
    {
     "name": "stdout",
     "output_type": "stream",
     "text": [
      " * Serving Flask app \"__main__\" (lazy loading)\n",
      " * Environment: production\n",
      "\u001b[31m   WARNING: This is a development server. Do not use it in a production deployment.\u001b[0m\n",
      "\u001b[2m   Use a production WSGI server instead.\u001b[0m\n",
      " * Debug mode: off\n"
     ]
    },
    {
     "name": "stderr",
     "output_type": "stream",
     "text": [
      " * Running on http://127.0.0.1:5000/ (Press CTRL+C to quit)\n",
      "127.0.0.1 - - [29/May/2020 11:38:45] \"POST /formulieroutput HTTP/1.1\" 200 -\n"
     ]
    }
   ],
   "source": [
    "@app.route('/', methods=['GET', 'POST'])\n",
    "def Formulier():\n",
    "    wozinput = ['Laag','Middel','Hoog','Heel-Hoog']\n",
    "    misdaadinput = ['Laag','Middel','Hoog']\n",
    "    stedelijkheidinput = ['Middel', 'Middel-Hoog', 'Hoog', 'Laag']\n",
    "    Bedrijfstakinput = ['Landbouw, bosbouw en visserij', 'Delfstoffenwinning', 'Industrie',\n",
    "       'Energievoorziening', 'Waterbedrijven en afvalbeheer',\n",
    "       'Bouwnijverheid', 'Handel', 'Vervoer en opslag', 'Horeca',\n",
    "       'Informatie en communicatie', 'Financiële dienstverlening',\n",
    "       'Verhuur en handel van onroerend goed',\n",
    "       'Specialistische zakelijke diensten',\n",
    "       'Verhuur en overige zakelijke diensten',\n",
    "       'Cultuur, sport en recreatie', 'Overige dienstverlening',\n",
    "       'Extraterritoriale organisaties']\n",
    "    werkgelegenheidinput = ['Hoog', 'Geen', 'Middel-Hoog', 'Middel']\n",
    "    return render_template('formulier.html', misdaadinput=misdaadinput,wozinput=wozinput,stedelijkheidinput=stedelijkheidinput,Bedrijfstakinput=Bedrijfstakinput,werkgelegenheidinput=werkgelegenheidinput)\n",
    "\n",
    "@app.route('/formulieroutput', methods=['POST'])\n",
    "def formulieroutput():\n",
    "    wozinput = request.form[\"wozinput\"]\n",
    "    misdaadinput = request.form[\"misdaadinput\"]\n",
    "    stedelijkheidinput = request.form[\"stedelijkheidinput\"]\n",
    "    Bedrijfstakinput = request.form[\"Bedrijfstakinput\"]\n",
    "    werkgelegenheidinput = request.form[\"werkgelegenheidinput\"]\n",
    "    output = formulierAPI(stedelijkheidinput,wozinput,werkgelegenheidinput,Bedrijfstakinput,misdaadinput)\n",
    "    return render_template(\"formulieroutput.html\",tables=[output.to_html(classes='data',index = False)], titles=output.columns.values)\n",
    "\n",
    "if __name__ == \"__main__\":\n",
    "    app.run()"
   ]
  },
  {
   "cell_type": "code",
   "execution_count": null,
   "metadata": {},
   "outputs": [],
   "source": [
    "output.columns\n"
   ]
  },
  {
   "cell_type": "code",
   "execution_count": null,
   "metadata": {},
   "outputs": [],
   "source": [
    "output"
   ]
  }
 ],
 "metadata": {
  "kernelspec": {
   "display_name": "Python 3",
   "language": "python",
   "name": "python3"
  },
  "language_info": {
   "codemirror_mode": {
    "name": "ipython",
    "version": 3
   },
   "file_extension": ".py",
   "mimetype": "text/x-python",
   "name": "python",
   "nbconvert_exporter": "python",
   "pygments_lexer": "ipython3",
   "version": "3.7.4"
  }
 },
 "nbformat": 4,
 "nbformat_minor": 4
}
