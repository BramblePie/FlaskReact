{
 "cells": [
  {
   "cell_type": "code",
   "execution_count": 33,
   "metadata": {},
   "outputs": [],
   "source": [
    "from Helper_functions import *\n",
    "import numpy as np \n",
    "from sklearn import preprocessing\n",
    "gpdf_gemeenten = wfs_data(\"https://geodata.nationaalgeoregister.nl/wijkenbuurten2019/wfs\", \"wijkenbuurten2019:gemeenten2019\")"
   ]
  },
  {
   "cell_type": "code",
   "execution_count": 34,
   "metadata": {},
   "outputs": [],
   "source": [
    "gpdf_gemeenten = gpdf_gemeenten.drop(columns=['id','jrstatcode','percentage_westerse_migratieachtergrond','percentage_niet_westerse_migratieachtergrond',\n",
    "       'percentage_uit_marokko',\n",
    "       'percentage_uit_nederlandse_antillen_en_aruba',\n",
    "       'percentage_uit_suriname', 'percentage_uit_turkije',\n",
    "       'percentage_overige_nietwestersemigratieachtergrond'])"
   ]
  },
  {
   "cell_type": "code",
   "execution_count": 35,
   "metadata": {},
   "outputs": [
    {
     "output_type": "execute_result",
     "data": {
      "text/plain": "Index(['gemeentecode', 'gemeentenaam', 'water', 'omgevingsadressendichtheid',\n       'stedelijkheid_adressen_per_km2',\n       'bevolkingsdichtheid_inwoners_per_km2', 'aantal_inwoners', 'mannen',\n       'vrouwen', 'percentage_personen_0_tot_15_jaar',\n       'percentage_personen_15_tot_25_jaar',\n       'percentage_personen_25_tot_45_jaar',\n       'percentage_personen_65_jaar_en_ouder',\n       'percentage_personen_45_tot_65_jaar', 'percentage_ongehuwd',\n       'percentage_gehuwd', 'percentage_gescheid', 'percentage_verweduwd',\n       'aantal_huishoudens', 'percentage_eenpersoonshuishoudens',\n       'percentage_huishoudens_zonder_kinderen',\n       'percentage_huishoudens_met_kinderen', 'gemiddelde_huishoudsgrootte',\n       'oppervlakte_totaal_in_ha', 'oppervlakte_land_in_ha',\n       'oppervlakte_water_in_ha', 'geometry'],\n      dtype='object')"
     },
     "metadata": {},
     "execution_count": 35
    }
   ],
   "source": [
    "gpdf_gemeenten.columns"
   ]
  },
  {
   "cell_type": "code",
   "execution_count": 36,
   "metadata": {},
   "outputs": [
    {
     "output_type": "execute_result",
     "data": {
      "text/plain": "(438, 27)"
     },
     "metadata": {},
     "execution_count": 36
    }
   ],
   "source": [
    "gpdf_gemeenten.shape"
   ]
  },
  {
   "cell_type": "code",
   "execution_count": 37,
   "metadata": {},
   "outputs": [],
   "source": [
    "gpdf_gemeenten = gpdf_gemeenten.replace(-99999999, np.nan)"
   ]
  },
  {
   "cell_type": "code",
   "execution_count": 38,
   "metadata": {},
   "outputs": [],
   "source": [
    "def DemografieAPI_gemeenten(gemeente):\n",
    "    df = gpdf_gemeenten.loc[gpdf_gemeenten['gemeentenaam'] == gemeente]\n",
    "    return df"
   ]
  },
  {
   "cell_type": "code",
   "execution_count": null,
   "metadata": {},
   "outputs": [],
   "source": []
  }
 ],
 "metadata": {
  "language_info": {
   "codemirror_mode": {
    "name": "ipython",
    "version": 3
   },
   "file_extension": ".py",
   "mimetype": "text/x-python",
   "name": "python",
   "nbconvert_exporter": "python",
   "pygments_lexer": "ipython3",
   "version": "3.7.7-final"
  },
  "orig_nbformat": 2,
  "kernelspec": {
   "name": "python3",
   "display_name": "Python 3"
  }
 },
 "nbformat": 4,
 "nbformat_minor": 2
}