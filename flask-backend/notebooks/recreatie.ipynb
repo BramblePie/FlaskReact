{
 "cells": [
  {
   "cell_type": "code",
   "execution_count": 15,
   "metadata": {},
   "outputs": [],
   "source": [
    "#from Helper_functions import wfs_data\n",
    "\n",
    "def wfs_data(wfs_url, type_param, startindex):\n",
    "    url=wfs_url \n",
    "    wfs = WebFeatureService(url=url)\n",
    "    # Laatste beschikbare versie pakken\n",
    "    layer = list(wfs.contents)[-1]\n",
    "    # Specificeren van de parameters van de data\n",
    "    params = dict(service='WFS', version=\"1.0.0\", request='GetFeature', typeName=type_param, outputFormat='json', StartIndex=startindex)\n",
    "    q = Request('GET', url, params=params).prepare().url\n",
    "    return gpd.read_file(q)\n"
   ]
  },
  {
   "cell_type": "code",
   "execution_count": 16,
   "metadata": {},
   "outputs": [
    {
     "output_type": "error",
     "ename": "NameError",
     "evalue": "name 'WebFeatureService' is not defined",
     "traceback": [
      "\u001b[0;31m---------------------------------------------------------------------------\u001b[0m",
      "\u001b[0;31mNameError\u001b[0m                                 Traceback (most recent call last)",
      "\u001b[0;32m<ipython-input-16-fc46ef4b5a7a>\u001b[0m in \u001b[0;36m<module>\u001b[0;34m\u001b[0m\n\u001b[0;32m----> 1\u001b[0;31m \u001b[0mtest1\u001b[0m \u001b[0;34m=\u001b[0m \u001b[0mwfs_data\u001b[0m\u001b[0;34m(\u001b[0m\u001b[0;34m\"https://geodata.nationaalgeoregister.nl/cbspostcode4/wfs?language=eng&\"\u001b[0m\u001b[0;34m,\u001b[0m \u001b[0;34m\"cbspostcode4:postcode42017\"\u001b[0m\u001b[0;34m,\u001b[0m\u001b[0;36m0\u001b[0m\u001b[0;34m)\u001b[0m\u001b[0;34m\u001b[0m\u001b[0;34m\u001b[0m\u001b[0m\n\u001b[0m\u001b[1;32m      2\u001b[0m \u001b[0;31m# test2 = wfs_data(\"https://geodata.nationaalgeoregister.nl/cbspostcode4/wfs?language=eng&\", \"cbspostcode4:postcode42017\",1000)\u001b[0m\u001b[0;34m\u001b[0m\u001b[0;34m\u001b[0m\u001b[0;34m\u001b[0m\u001b[0m\n\u001b[1;32m      3\u001b[0m \u001b[0;31m# test3 = wfs_data(\"https://geodata.nationaalgeoregister.nl/cbspostcode4/wfs?language=eng&\", \"cbspostcode4:postcode42017\",2000)\u001b[0m\u001b[0;34m\u001b[0m\u001b[0;34m\u001b[0m\u001b[0;34m\u001b[0m\u001b[0m\n\u001b[1;32m      4\u001b[0m \u001b[0;31m# test4 = wfs_data(\"https://geodata.nationaalgeoregister.nl/cbspostcode4/wfs?language=eng&\", \"cbspostcode4:postcode42017\",3000)\u001b[0m\u001b[0;34m\u001b[0m\u001b[0;34m\u001b[0m\u001b[0;34m\u001b[0m\u001b[0m\n\u001b[1;32m      5\u001b[0m \u001b[0;31m# test5 = wfs_data(\"https://geodata.nationaalgeoregister.nl/cbspostcode4/wfs?language=eng&\", \"cbspostcode4:postcode42017\",4000)\u001b[0m\u001b[0;34m\u001b[0m\u001b[0;34m\u001b[0m\u001b[0;34m\u001b[0m\u001b[0m\n",
      "\u001b[0;32m<ipython-input-15-cefeeabfc1f7>\u001b[0m in \u001b[0;36mwfs_data\u001b[0;34m(wfs_url, type_param, startindex)\u001b[0m\n\u001b[1;32m      3\u001b[0m \u001b[0;32mdef\u001b[0m \u001b[0mwfs_data\u001b[0m\u001b[0;34m(\u001b[0m\u001b[0mwfs_url\u001b[0m\u001b[0;34m,\u001b[0m \u001b[0mtype_param\u001b[0m\u001b[0;34m,\u001b[0m \u001b[0mstartindex\u001b[0m\u001b[0;34m)\u001b[0m\u001b[0;34m:\u001b[0m\u001b[0;34m\u001b[0m\u001b[0;34m\u001b[0m\u001b[0m\n\u001b[1;32m      4\u001b[0m     \u001b[0murl\u001b[0m\u001b[0;34m=\u001b[0m\u001b[0mwfs_url\u001b[0m\u001b[0;34m\u001b[0m\u001b[0;34m\u001b[0m\u001b[0m\n\u001b[0;32m----> 5\u001b[0;31m     \u001b[0mwfs\u001b[0m \u001b[0;34m=\u001b[0m \u001b[0mWebFeatureService\u001b[0m\u001b[0;34m(\u001b[0m\u001b[0murl\u001b[0m\u001b[0;34m=\u001b[0m\u001b[0murl\u001b[0m\u001b[0;34m)\u001b[0m\u001b[0;34m\u001b[0m\u001b[0;34m\u001b[0m\u001b[0m\n\u001b[0m\u001b[1;32m      6\u001b[0m     \u001b[0;31m# Laatste beschikbare versie pakken\u001b[0m\u001b[0;34m\u001b[0m\u001b[0;34m\u001b[0m\u001b[0;34m\u001b[0m\u001b[0m\n\u001b[1;32m      7\u001b[0m     \u001b[0mlayer\u001b[0m \u001b[0;34m=\u001b[0m \u001b[0mlist\u001b[0m\u001b[0;34m(\u001b[0m\u001b[0mwfs\u001b[0m\u001b[0;34m.\u001b[0m\u001b[0mcontents\u001b[0m\u001b[0;34m)\u001b[0m\u001b[0;34m[\u001b[0m\u001b[0;34m-\u001b[0m\u001b[0;36m1\u001b[0m\u001b[0;34m]\u001b[0m\u001b[0;34m\u001b[0m\u001b[0;34m\u001b[0m\u001b[0m\n",
      "\u001b[0;31mNameError\u001b[0m: name 'WebFeatureService' is not defined"
     ]
    }
   ],
   "source": [
    "test1 = wfs_data(\"https://geodata.nationaalgeoregister.nl/cbspostcode4/wfs?language=eng&\", \"cbspostcode4:postcode42017\",0)\n",
    "# test2 = wfs_data(\"https://geodata.nationaalgeoregister.nl/cbspostcode4/wfs?language=eng&\", \"cbspostcode4:postcode42017\",1000)\n",
    "# test3 = wfs_data(\"https://geodata.nationaalgeoregister.nl/cbspostcode4/wfs?language=eng&\", \"cbspostcode4:postcode42017\",2000)\n",
    "# test4 = wfs_data(\"https://geodata.nationaalgeoregister.nl/cbspostcode4/wfs?language=eng&\", \"cbspostcode4:postcode42017\",3000)\n",
    "# test5 = wfs_data(\"https://geodata.nationaalgeoregister.nl/cbspostcode4/wfs?language=eng&\", \"cbspostcode4:postcode42017\",4000)\n",
    "# test5"
   ]
  },
  {
   "cell_type": "code",
   "execution_count": 10,
   "metadata": {},
   "outputs": [
    {
     "output_type": "execute_result",
     "data": {
      "text/plain": "      PC4  INWONER    MAN  VROUW  INW_014  INW_1524  INW_2544  INW_4564  \\\n0    1011     9645   4990   4655      800      1195      3195      2920   \n1    1012     8240   4480   3760      465      1195      4195      1730   \n2    1013    21080  10550  10525     2640      1860      7685      6115   \n3    1014      645    375    270       65        45       400       115   \n4    1015    14810   7545   7265     1410      1465      5235      4365   \n..    ...      ...    ...    ...      ...       ...       ...       ...   \n995  3271     4385   2160   2225      735       435       805      1385   \n996  3273     2040   1005   1035      305       205       395       640   \n997  3274     3560   1785   1775      565       335       820      1175   \n998  3281     8710   4290   4420     1265       935      1710      2770   \n999  3284     3480   1700   1780      485       315       730      1155   \n\n     INW_65PL  GEBOORTE  ...  AV1_KDV  AV3_KDV  AV5_KDV  AFS_BRANDW  \\\n0        1540        80  ...      6.7     83.5    227.9         0.7   \n1         650        70  ...      4.2    101.2    239.6         1.3   \n2        2775       265  ...      6.9     54.7    166.6         2.0   \n3          20        10  ...      4.1     47.6    135.7         1.6   \n4        2340       120  ...     10.0     90.2    227.0         1.0   \n..        ...       ...  ...      ...      ...      ...         ...   \n995      1025        30  ...      0.7      2.0      4.1         1.4   \n996       490        15  ...      0.8      1.9      3.1         1.2   \n997       660        50  ...      0.7      1.1      3.6         1.2   \n998      2035        55  ...      0.3      0.9      1.4         1.1   \n999       790        30  ...      0.6      0.9      1.1         1.5   \n\n     AFS_OPRIT  AFS_TRNOVS  AFS_TREINS    OAD  STED  \\\n0          4.6         1.2         1.2   6907     1   \n1          4.0         0.8         0.8   8410     1   \n2          2.9         1.7         1.7   6224     1   \n3          0.7         1.7         1.7   2645     1   \n4          3.1         1.3         1.3  10975     1   \n..         ...         ...         ...    ...   ...   \n995        0.9        17.7        12.0    407     5   \n996        0.7        18.8        13.2    344     5   \n997        1.1        15.7        10.1    286     5   \n998        1.9        25.7        20.7    757     4   \n999        4.3        29.2        23.5    330     5   \n\n                                              geometry  \n0    POLYGON ((122246.232 487910.177, 122259.064 48...  \n1    POLYGON ((121995.029 488243.202, 121999.664 48...  \n2    MULTIPOLYGON (((120506.219 489494.551, 120495....  \n3    MULTIPOLYGON (((120390.113 489860.746, 120387....  \n4    POLYGON ((120665.642 488535.500, 120668.785 48...  \n..                                                 ...  \n995  POLYGON ((90332.941 425899.783, 90336.327 4258...  \n996  POLYGON ((89162.539 423810.560, 89184.394 4237...  \n997  POLYGON ((93054.396 428097.494, 93058.585 4280...  \n998  POLYGON ((87196.000 420056.000, 87206.400 4200...  \n999  POLYGON ((82886.304 421777.559, 82893.130 4217...  \n\n[1000 rows x 80 columns]",
      "text/html": "<div>\n<style scoped>\n    .dataframe tbody tr th:only-of-type {\n        vertical-align: middle;\n    }\n\n    .dataframe tbody tr th {\n        vertical-align: top;\n    }\n\n    .dataframe thead th {\n        text-align: right;\n    }\n</style>\n<table border=\"1\" class=\"dataframe\">\n  <thead>\n    <tr style=\"text-align: right;\">\n      <th></th>\n      <th>PC4</th>\n      <th>INWONER</th>\n      <th>MAN</th>\n      <th>VROUW</th>\n      <th>INW_014</th>\n      <th>INW_1524</th>\n      <th>INW_2544</th>\n      <th>INW_4564</th>\n      <th>INW_65PL</th>\n      <th>GEBOORTE</th>\n      <th>...</th>\n      <th>AV1_KDV</th>\n      <th>AV3_KDV</th>\n      <th>AV5_KDV</th>\n      <th>AFS_BRANDW</th>\n      <th>AFS_OPRIT</th>\n      <th>AFS_TRNOVS</th>\n      <th>AFS_TREINS</th>\n      <th>OAD</th>\n      <th>STED</th>\n      <th>geometry</th>\n    </tr>\n  </thead>\n  <tbody>\n    <tr>\n      <th>0</th>\n      <td>1011</td>\n      <td>9645</td>\n      <td>4990</td>\n      <td>4655</td>\n      <td>800</td>\n      <td>1195</td>\n      <td>3195</td>\n      <td>2920</td>\n      <td>1540</td>\n      <td>80</td>\n      <td>...</td>\n      <td>6.7</td>\n      <td>83.5</td>\n      <td>227.9</td>\n      <td>0.7</td>\n      <td>4.6</td>\n      <td>1.2</td>\n      <td>1.2</td>\n      <td>6907</td>\n      <td>1</td>\n      <td>POLYGON ((122246.232 487910.177, 122259.064 48...</td>\n    </tr>\n    <tr>\n      <th>1</th>\n      <td>1012</td>\n      <td>8240</td>\n      <td>4480</td>\n      <td>3760</td>\n      <td>465</td>\n      <td>1195</td>\n      <td>4195</td>\n      <td>1730</td>\n      <td>650</td>\n      <td>70</td>\n      <td>...</td>\n      <td>4.2</td>\n      <td>101.2</td>\n      <td>239.6</td>\n      <td>1.3</td>\n      <td>4.0</td>\n      <td>0.8</td>\n      <td>0.8</td>\n      <td>8410</td>\n      <td>1</td>\n      <td>POLYGON ((121995.029 488243.202, 121999.664 48...</td>\n    </tr>\n    <tr>\n      <th>2</th>\n      <td>1013</td>\n      <td>21080</td>\n      <td>10550</td>\n      <td>10525</td>\n      <td>2640</td>\n      <td>1860</td>\n      <td>7685</td>\n      <td>6115</td>\n      <td>2775</td>\n      <td>265</td>\n      <td>...</td>\n      <td>6.9</td>\n      <td>54.7</td>\n      <td>166.6</td>\n      <td>2.0</td>\n      <td>2.9</td>\n      <td>1.7</td>\n      <td>1.7</td>\n      <td>6224</td>\n      <td>1</td>\n      <td>MULTIPOLYGON (((120506.219 489494.551, 120495....</td>\n    </tr>\n    <tr>\n      <th>3</th>\n      <td>1014</td>\n      <td>645</td>\n      <td>375</td>\n      <td>270</td>\n      <td>65</td>\n      <td>45</td>\n      <td>400</td>\n      <td>115</td>\n      <td>20</td>\n      <td>10</td>\n      <td>...</td>\n      <td>4.1</td>\n      <td>47.6</td>\n      <td>135.7</td>\n      <td>1.6</td>\n      <td>0.7</td>\n      <td>1.7</td>\n      <td>1.7</td>\n      <td>2645</td>\n      <td>1</td>\n      <td>MULTIPOLYGON (((120390.113 489860.746, 120387....</td>\n    </tr>\n    <tr>\n      <th>4</th>\n      <td>1015</td>\n      <td>14810</td>\n      <td>7545</td>\n      <td>7265</td>\n      <td>1410</td>\n      <td>1465</td>\n      <td>5235</td>\n      <td>4365</td>\n      <td>2340</td>\n      <td>120</td>\n      <td>...</td>\n      <td>10.0</td>\n      <td>90.2</td>\n      <td>227.0</td>\n      <td>1.0</td>\n      <td>3.1</td>\n      <td>1.3</td>\n      <td>1.3</td>\n      <td>10975</td>\n      <td>1</td>\n      <td>POLYGON ((120665.642 488535.500, 120668.785 48...</td>\n    </tr>\n    <tr>\n      <th>...</th>\n      <td>...</td>\n      <td>...</td>\n      <td>...</td>\n      <td>...</td>\n      <td>...</td>\n      <td>...</td>\n      <td>...</td>\n      <td>...</td>\n      <td>...</td>\n      <td>...</td>\n      <td>...</td>\n      <td>...</td>\n      <td>...</td>\n      <td>...</td>\n      <td>...</td>\n      <td>...</td>\n      <td>...</td>\n      <td>...</td>\n      <td>...</td>\n      <td>...</td>\n      <td>...</td>\n    </tr>\n    <tr>\n      <th>995</th>\n      <td>3271</td>\n      <td>4385</td>\n      <td>2160</td>\n      <td>2225</td>\n      <td>735</td>\n      <td>435</td>\n      <td>805</td>\n      <td>1385</td>\n      <td>1025</td>\n      <td>30</td>\n      <td>...</td>\n      <td>0.7</td>\n      <td>2.0</td>\n      <td>4.1</td>\n      <td>1.4</td>\n      <td>0.9</td>\n      <td>17.7</td>\n      <td>12.0</td>\n      <td>407</td>\n      <td>5</td>\n      <td>POLYGON ((90332.941 425899.783, 90336.327 4258...</td>\n    </tr>\n    <tr>\n      <th>996</th>\n      <td>3273</td>\n      <td>2040</td>\n      <td>1005</td>\n      <td>1035</td>\n      <td>305</td>\n      <td>205</td>\n      <td>395</td>\n      <td>640</td>\n      <td>490</td>\n      <td>15</td>\n      <td>...</td>\n      <td>0.8</td>\n      <td>1.9</td>\n      <td>3.1</td>\n      <td>1.2</td>\n      <td>0.7</td>\n      <td>18.8</td>\n      <td>13.2</td>\n      <td>344</td>\n      <td>5</td>\n      <td>POLYGON ((89162.539 423810.560, 89184.394 4237...</td>\n    </tr>\n    <tr>\n      <th>997</th>\n      <td>3274</td>\n      <td>3560</td>\n      <td>1785</td>\n      <td>1775</td>\n      <td>565</td>\n      <td>335</td>\n      <td>820</td>\n      <td>1175</td>\n      <td>660</td>\n      <td>50</td>\n      <td>...</td>\n      <td>0.7</td>\n      <td>1.1</td>\n      <td>3.6</td>\n      <td>1.2</td>\n      <td>1.1</td>\n      <td>15.7</td>\n      <td>10.1</td>\n      <td>286</td>\n      <td>5</td>\n      <td>POLYGON ((93054.396 428097.494, 93058.585 4280...</td>\n    </tr>\n    <tr>\n      <th>998</th>\n      <td>3281</td>\n      <td>8710</td>\n      <td>4290</td>\n      <td>4420</td>\n      <td>1265</td>\n      <td>935</td>\n      <td>1710</td>\n      <td>2770</td>\n      <td>2035</td>\n      <td>55</td>\n      <td>...</td>\n      <td>0.3</td>\n      <td>0.9</td>\n      <td>1.4</td>\n      <td>1.1</td>\n      <td>1.9</td>\n      <td>25.7</td>\n      <td>20.7</td>\n      <td>757</td>\n      <td>4</td>\n      <td>POLYGON ((87196.000 420056.000, 87206.400 4200...</td>\n    </tr>\n    <tr>\n      <th>999</th>\n      <td>3284</td>\n      <td>3480</td>\n      <td>1700</td>\n      <td>1780</td>\n      <td>485</td>\n      <td>315</td>\n      <td>730</td>\n      <td>1155</td>\n      <td>790</td>\n      <td>30</td>\n      <td>...</td>\n      <td>0.6</td>\n      <td>0.9</td>\n      <td>1.1</td>\n      <td>1.5</td>\n      <td>4.3</td>\n      <td>29.2</td>\n      <td>23.5</td>\n      <td>330</td>\n      <td>5</td>\n      <td>POLYGON ((82886.304 421777.559, 82893.130 4217...</td>\n    </tr>\n  </tbody>\n</table>\n<p>1000 rows × 80 columns</p>\n</div>"
     },
     "metadata": {},
     "execution_count": 10
    }
   ],
   "source": [
    "import geopandas as gpd\n",
    "\n",
    "df = gpd.read_file('zip://Postcode4.zip')\n",
    "df.head(1000)"
   ]
  },
  {
   "cell_type": "code",
   "execution_count": 9,
   "metadata": {},
   "outputs": [
    {
     "output_type": "execute_result",
     "data": {
      "text/plain": "Index(['PC4', 'INWONER', 'MAN', 'VROUW', 'INW_014', 'INW_1524', 'INW_2544',\n       'INW_4564', 'INW_65PL', 'GEBOORTE', 'P_NL_ACHTG', 'P_WE_MIG_A',\n       'P_NW_MIG_A', 'AANTAL_HH', 'TOTHH_EENP', 'TOTHH_MPZK', 'HH_EENOUD',\n       'HH_TWEEOUD', 'GEM_HH_GR', 'WONING', 'WONVOOR45', 'WON_4564',\n       'WON_6574', 'WON_7584', 'WON_8594', 'WON_9504', 'WON_0514', 'WON_1524',\n       'WON_MRGEZ', 'P_HUURWON', 'P_KOOPWON', 'WON_HCORP', 'WON_NBEW',\n       'WOZWONING', 'G_GAS_WON', 'G_ELEK_WON', 'UITKMINAOW', 'AFS_SUPERM',\n       'AV1_SUPERM', 'AV3_SUPERM', 'AV5_SUPERM', 'AFS_DAGLMD', 'AV1_DAGLMD',\n       'AV3_DAGLMD', 'AV5_DAGLMD', 'AFS_WARENH', 'AV5_WARENH', 'AV10WARENH',\n       'AV20WARENH', 'AFS_CAFE', 'AV1_CAFE', 'AV3_CAFE', 'AV5_CAFE',\n       'AFS_CAFTAR', 'AV1_CAFTAR', 'AV3_CAFTAR', 'AV5_CAFTAR', 'AFS_HOTEL',\n       'AV5_HOTEL', 'AV10_HOTEL', 'AV20_HOTEL', 'AFS_RESTAU', 'AV1_RESTAU',\n       'AV3_RESTAU', 'AV5_RESTAU', 'AFS_BSO', 'AV1_BSO', 'AV3_BSO', 'AV5_BSO',\n       'AFS_KDV', 'AV1_KDV', 'AV3_KDV', 'AV5_KDV', 'AFS_BRANDW', 'AFS_OPRIT',\n       'AFS_TRNOVS', 'AFS_TREINS', 'OAD', 'STED', 'geometry'],\n      dtype='object')"
     },
     "metadata": {},
     "execution_count": 9
    }
   ],
   "source": [
    "df.columns"
   ]
  },
  {
   "cell_type": "code",
   "execution_count": null,
   "metadata": {},
   "outputs": [],
   "source": []
  }
 ],
 "metadata": {
  "language_info": {
   "codemirror_mode": {
    "name": "ipython",
    "version": 3
   },
   "file_extension": ".py",
   "mimetype": "text/x-python",
   "name": "python",
   "nbconvert_exporter": "python",
   "pygments_lexer": "ipython3",
   "version": "3.7.7-final"
  },
  "orig_nbformat": 2,
  "kernelspec": {
   "name": "python3",
   "display_name": "Python 3"
  }
 },
 "nbformat": 4,
 "nbformat_minor": 2
}