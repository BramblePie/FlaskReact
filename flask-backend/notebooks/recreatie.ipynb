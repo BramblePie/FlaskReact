{
 "cells": [
  {
   "cell_type": "code",
   "execution_count": 130,
   "metadata": {},
   "outputs": [],
   "source": [
    "from Helper_functions import *\n",
    "import seaborn as sb\n"
   ]
  },
  {
   "cell_type": "code",
   "execution_count": 131,
   "metadata": {},
   "outputs": [],
   "source": [
    "test1 = wfs_data(\"https://geodata.nationaalgeoregister.nl/cbspostcode4/wfs?language=eng&\", \"cbspostcode4:postcode42017\",0)\n",
    "test2 = wfs_data(\"https://geodata.nationaalgeoregister.nl/cbspostcode4/wfs?language=eng&\", \"cbspostcode4:postcode42017\",1000)\n",
    "test3 = wfs_data(\"https://geodata.nationaalgeoregister.nl/cbspostcode4/wfs?language=eng&\", \"cbspostcode4:postcode42017\",2000)\n",
    "test4 = wfs_data(\"https://geodata.nationaalgeoregister.nl/cbspostcode4/wfs?language=eng&\", \"cbspostcode4:postcode42017\",3000)\n",
    "test5 = wfs_data(\"https://geodata.nationaalgeoregister.nl/cbspostcode4/wfs?language=eng&\", \"cbspostcode4:postcode42017\",4000)\n"
   ]
  },
  {
   "cell_type": "code",
   "execution_count": 132,
   "metadata": {},
   "outputs": [],
   "source": [
    "df_recreatie = pd.concat([test1, test2, test3, test4, test5], ignore_index=True)\n"
   ]
  },
  {
   "cell_type": "code",
   "execution_count": 133,
   "metadata": {},
   "outputs": [],
   "source": [
    "df_recreatie = df_recreatie[['aantal_woningen','aantal_woningen_bouwjaar_voor_1945','aantal_woningen_bouwjaar_45_tot_65','aantal_woningen_bouwjaar_65_tot_75','aantal_woningen_bouwjaar_75_tot_85','aantal_woningen_bouwjaar_85_tot_95','aantal_woningen_bouwjaar_95_tot_05','aantal_woningen_bouwjaar_05_tot_15','aantal_woningen_bouwjaar_15_en_later','gemiddelde_woz_waarde_woning','percentage_koopwoningen', 'percentage_huurwoningen','kinderdagverblijf_gemiddelde_afstand_in_km','kinderdagverblijf_aantal_binnen_1_km','kinderdagverblijf_aantal_binnen_3_km','kinderdagverblijf_aantal_binnen_5_km','buitenschoolse_opvang_gem_afstand_in_km','buitenschoolse_opvang_aantal_binnen_1_km','buitenschoolse_opvang_aantal_binnen_3_km','buitenschoolse_opvang_aantal_binnen_5_km','grote_supermarkt_gemiddelde_afstand_in_km','grote_supermarkt_aantal_binnen_1_km','grote_supermarkt_aantal_binnen_3_km','grote_supermarkt_aantal_binnen_5_km','winkels_ov_dagelijkse_levensm_gem_afst_in_km','winkels_ov_dagel_levensm_aantal_binnen_1_km','winkels_ov_dagel_levensm_aantal_binnen_3_km','winkels_ov_dagel_levensm_aantal_binnen_5_km','warenhuis_gemiddelde_afstand_in_km', 'warenhuis_aantal_binnen_5_km',\n",
    "'warenhuis_aantal_binnen_10_km', 'warenhuis_aantal_binnen_20_km','cafe_gemiddelde_afstand_in_km', 'cafe_aantal_binnen_1_km','cafe_aantal_binnen_3_km', 'cafe_aantal_binnen_5_km','cafetaria_gemiddelde_afstand_in_km', 'cafetaria_aantal_binnen_1_km','cafetaria_aantal_binnen_3_km', 'cafetaria_aantal_binnen_5_km','restaurant_gemiddelde_afstand_in_km','restaurant_aantal_binnen_1_km','restaurant_aantal_binnen_3_km', 'restaurant_aantal_binnen_5_km','hotel_gemiddelde_afstand_in_km', 'hotel_aantal_binnen_5_km','hotel_aantal_binnen_10_km', 'hotel_aantal_binnen_20_km','treinstation_gemiddelde_afstand_in_km','overstapstation_gemiddelde_afstand_in_km','brandweerkazerne_gemiddelde_afstand_in_km','geometry']]\n"
   ]
  },
  {
   "cell_type": "code",
   "execution_count": 134,
   "metadata": {},
   "outputs": [],
   "source": [
    "zipfile = \"zip://Postcode4.zip\"\n",
    "df = gpd.read_file(zipfile)\n"
   ]
  },
  {
   "cell_type": "code",
   "execution_count": 135,
   "metadata": {},
   "outputs": [],
   "source": [
    "df_recreatie = pd.concat([df_recreatie, df['PC4']], axis=1)\n",
    "df_recreatie = df_recreatie[['PC4','aantal_woningen', 'aantal_woningen_bouwjaar_voor_1945',\n",
    "       'aantal_woningen_bouwjaar_45_tot_65',\n",
    "       'aantal_woningen_bouwjaar_65_tot_75',\n",
    "       'aantal_woningen_bouwjaar_75_tot_85',\n",
    "       'aantal_woningen_bouwjaar_85_tot_95',\n",
    "       'aantal_woningen_bouwjaar_95_tot_05',\n",
    "       'aantal_woningen_bouwjaar_05_tot_15',\n",
    "       'aantal_woningen_bouwjaar_15_en_later', 'gemiddelde_woz_waarde_woning',\n",
    "       'percentage_koopwoningen', 'percentage_huurwoningen',\n",
    "       'kinderdagverblijf_gemiddelde_afstand_in_km',\n",
    "       'kinderdagverblijf_aantal_binnen_1_km',\n",
    "       'kinderdagverblijf_aantal_binnen_5_km',\n",
    "       'buitenschoolse_opvang_gem_afstand_in_km',\n",
    "       'buitenschoolse_opvang_aantal_binnen_1_km',\n",
    "       'buitenschoolse_opvang_aantal_binnen_5_km',\n",
    "       'grote_supermarkt_gemiddelde_afstand_in_km',\n",
    "       'grote_supermarkt_aantal_binnen_1_km',\n",
    "       'grote_supermarkt_aantal_binnen_5_km',\n",
    "       'winkels_ov_dagelijkse_levensm_gem_afst_in_km',\n",
    "       'winkels_ov_dagel_levensm_aantal_binnen_1_km',\n",
    "       'winkels_ov_dagel_levensm_aantal_binnen_5_km',\n",
    "       'warenhuis_gemiddelde_afstand_in_km', 'warenhuis_aantal_binnen_5_km',\n",
    "       'warenhuis_aantal_binnen_10_km', 'warenhuis_aantal_binnen_20_km',\n",
    "       'cafe_gemiddelde_afstand_in_km', 'cafe_aantal_binnen_1_km', 'cafe_aantal_binnen_5_km',\n",
    "       'cafetaria_gemiddelde_afstand_in_km', 'cafetaria_aantal_binnen_1_km', 'cafetaria_aantal_binnen_5_km',\n",
    "       'restaurant_gemiddelde_afstand_in_km', 'restaurant_aantal_binnen_1_km', 'restaurant_aantal_binnen_5_km',\n",
    "       'hotel_gemiddelde_afstand_in_km', 'hotel_aantal_binnen_5_km',\n",
    "       'hotel_aantal_binnen_10_km', 'hotel_aantal_binnen_20_km',\n",
    "       'treinstation_gemiddelde_afstand_in_km',\n",
    "       'overstapstation_gemiddelde_afstand_in_km',\n",
    "       'brandweerkazerne_gemiddelde_afstand_in_km', 'geometry']]\n"
   ]
  },
  {
   "cell_type": "code",
   "execution_count": 136,
   "metadata": {},
   "outputs": [],
   "source": [
    "df_recreatie = df_recreatie.replace('-99997', np.nan)\n"
   ]
  },
  {
   "cell_type": "code",
   "execution_count": 137,
   "metadata": {},
   "outputs": [
    {
     "output_type": "execute_result",
     "data": {
      "text/plain": "Index(['PC4', 'aantal_woningen', 'aantal_woningen_bouwjaar_voor_1945',\n       'aantal_woningen_bouwjaar_45_tot_65',\n       'aantal_woningen_bouwjaar_65_tot_75',\n       'aantal_woningen_bouwjaar_75_tot_85',\n       'aantal_woningen_bouwjaar_85_tot_95',\n       'aantal_woningen_bouwjaar_95_tot_05',\n       'aantal_woningen_bouwjaar_05_tot_15',\n       'aantal_woningen_bouwjaar_15_en_later', 'gemiddelde_woz_waarde_woning',\n       'percentage_koopwoningen', 'percentage_huurwoningen',\n       'kinderdagverblijf_gemiddelde_afstand_in_km',\n       'kinderdagverblijf_aantal_binnen_1_km',\n       'kinderdagverblijf_aantal_binnen_5_km',\n       'buitenschoolse_opvang_gem_afstand_in_km',\n       'buitenschoolse_opvang_aantal_binnen_1_km',\n       'buitenschoolse_opvang_aantal_binnen_5_km',\n       'grote_supermarkt_gemiddelde_afstand_in_km',\n       'grote_supermarkt_aantal_binnen_1_km',\n       'grote_supermarkt_aantal_binnen_5_km',\n       'winkels_ov_dagelijkse_levensm_gem_afst_in_km',\n       'winkels_ov_dagel_levensm_aantal_binnen_1_km',\n       'winkels_ov_dagel_levensm_aantal_binnen_5_km',\n       'warenhuis_gemiddelde_afstand_in_km', 'warenhuis_aantal_binnen_5_km',\n       'warenhuis_aantal_binnen_10_km', 'warenhuis_aantal_binnen_20_km',\n       'cafe_gemiddelde_afstand_in_km', 'cafe_aantal_binnen_1_km',\n       'cafe_aantal_binnen_5_km', 'cafetaria_gemiddelde_afstand_in_km',\n       'cafetaria_aantal_binnen_1_km', 'cafetaria_aantal_binnen_5_km',\n       'restaurant_gemiddelde_afstand_in_km', 'restaurant_aantal_binnen_1_km',\n       'restaurant_aantal_binnen_5_km', 'hotel_gemiddelde_afstand_in_km',\n       'hotel_aantal_binnen_5_km', 'hotel_aantal_binnen_10_km',\n       'hotel_aantal_binnen_20_km', 'treinstation_gemiddelde_afstand_in_km',\n       'overstapstation_gemiddelde_afstand_in_km',\n       'brandweerkazerne_gemiddelde_afstand_in_km', 'geometry'],\n      dtype='object')"
     },
     "metadata": {},
     "execution_count": 137
    }
   ],
   "source": [
    "df_recreatie.columns"
   ]
  },
  {
   "cell_type": "code",
   "execution_count": 138,
   "metadata": {},
   "outputs": [],
   "source": [
    "df_recreatie_formulier = df_recreatie\n",
    "lijst = df_recreatie_formulier[['aantal_woningen_bouwjaar_voor_1945',\n",
    "       'aantal_woningen_bouwjaar_45_tot_65',\n",
    "       'aantal_woningen_bouwjaar_65_tot_75',\n",
    "       'aantal_woningen_bouwjaar_75_tot_85',\n",
    "       'aantal_woningen_bouwjaar_85_tot_95',\n",
    "       'aantal_woningen_bouwjaar_95_tot_05',\n",
    "       'aantal_woningen_bouwjaar_05_tot_15',\n",
    "       'aantal_woningen_bouwjaar_15_en_later','gemiddelde_woz_waarde_woning',\n",
    "       'percentage_koopwoningen', 'percentage_huurwoningen',\n",
    "       'kinderdagverblijf_gemiddelde_afstand_in_km',\n",
    "       'kinderdagverblijf_aantal_binnen_1_km',\n",
    "       'kinderdagverblijf_aantal_binnen_5_km',\n",
    "       'buitenschoolse_opvang_gem_afstand_in_km',\n",
    "       'buitenschoolse_opvang_aantal_binnen_1_km',\n",
    "       'buitenschoolse_opvang_aantal_binnen_5_km',\n",
    "       'grote_supermarkt_gemiddelde_afstand_in_km',\n",
    "       'grote_supermarkt_aantal_binnen_1_km',\n",
    "       'grote_supermarkt_aantal_binnen_5_km',\n",
    "       'winkels_ov_dagelijkse_levensm_gem_afst_in_km',\n",
    "       'winkels_ov_dagel_levensm_aantal_binnen_1_km',\n",
    "       'winkels_ov_dagel_levensm_aantal_binnen_5_km',\n",
    "       'warenhuis_gemiddelde_afstand_in_km', 'warenhuis_aantal_binnen_5_km',\n",
    "       'warenhuis_aantal_binnen_10_km', 'warenhuis_aantal_binnen_20_km',\n",
    "       'cafe_gemiddelde_afstand_in_km', 'cafe_aantal_binnen_1_km', 'cafe_aantal_binnen_5_km',\n",
    "       'cafetaria_gemiddelde_afstand_in_km', 'cafetaria_aantal_binnen_1_km', 'cafetaria_aantal_binnen_5_km',\n",
    "       'restaurant_gemiddelde_afstand_in_km', 'restaurant_aantal_binnen_1_km', 'restaurant_aantal_binnen_5_km',\n",
    "       'hotel_gemiddelde_afstand_in_km', 'hotel_aantal_binnen_5_km',\n",
    "       'hotel_aantal_binnen_10_km', 'hotel_aantal_binnen_20_km',\n",
    "       'treinstation_gemiddelde_afstand_in_km',\n",
    "       'overstapstation_gemiddelde_afstand_in_km',\n",
    "       'brandweerkazerne_gemiddelde_afstand_in_km']]\n",
    "\n",
    "for x in lijst:\n",
    "    kolom = df_recreatie_formulier[[x]]\n",
    "    min_max_scaler = preprocessing.MinMaxScaler()\n",
    "    x_scaled = min_max_scaler.fit_transform(kolom)\n",
    "    df_recreatie_formulier[x + \"_genormaliseerd\"] = pd.DataFrame(x_scaled)\n",
    "    df_recreatie_formulier = movecol(df_recreatie_formulier, cols_to_move=[x + \"_genormaliseerd\"], ref_col=x, place='After')\n",
    "\n",
    "\n",
    "\n"
   ]
  },
  {
   "cell_type": "code",
   "execution_count": 139,
   "metadata": {},
   "outputs": [],
   "source": [
    "df_recreatie_formulier = df_recreatie_formulier.rename(columns={\"PC4\": \"postcode\"})\n",
    "df_recreatie = df_recreatie.rename(columns={\"PC4\": \"postcode\"})"
   ]
  },
  {
   "cell_type": "code",
   "execution_count": 140,
   "metadata": {},
   "outputs": [],
   "source": [
    "df_toevoeging = pd.read_csv('dataset.csv')\n",
    "df_toevoeging = df_toevoeging[['postcode','gemeente']]\n",
    "\n",
    "\n"
   ]
  },
  {
   "cell_type": "code",
   "execution_count": 141,
   "metadata": {},
   "outputs": [],
   "source": [
    "df_recreatie = pd.merge(df_recreatie, df_toevoeging, on='postcode', how='left')\n",
    "df_recreatie_formulier = pd.merge(df_recreatie_formulier, df_toevoeging, on='postcode', how='left')\n",
    "df_recreatie = movecol(df_recreatie, cols_to_move=['gemeente'], ref_col='postcode', place='After')\n",
    "df_recreatie_formulier = movecol(df_recreatie_formulier, cols_to_move=['gemeente'], ref_col='postcode', place='After')\n",
    "df_recreatie.drop(columns=['aantal_woningen_bouwjaar_voor_1945_genormaliseerd','geometry'], inplace=True)\n"
   ]
  },
  {
   "cell_type": "code",
   "execution_count": 142,
   "metadata": {},
   "outputs": [
    {
     "output_type": "execute_result",
     "data": {
      "text/plain": "Index(['postcode', 'gemeente', 'aantal_woningen',\n       'aantal_woningen_bouwjaar_voor_1945',\n       'aantal_woningen_bouwjaar_45_tot_65',\n       'aantal_woningen_bouwjaar_65_tot_75',\n       'aantal_woningen_bouwjaar_75_tot_85',\n       'aantal_woningen_bouwjaar_85_tot_95',\n       'aantal_woningen_bouwjaar_95_tot_05',\n       'aantal_woningen_bouwjaar_05_tot_15',\n       'aantal_woningen_bouwjaar_15_en_later', 'gemiddelde_woz_waarde_woning',\n       'percentage_koopwoningen', 'percentage_huurwoningen',\n       'kinderdagverblijf_gemiddelde_afstand_in_km',\n       'kinderdagverblijf_aantal_binnen_1_km',\n       'kinderdagverblijf_aantal_binnen_5_km',\n       'buitenschoolse_opvang_gem_afstand_in_km',\n       'buitenschoolse_opvang_aantal_binnen_1_km',\n       'buitenschoolse_opvang_aantal_binnen_5_km',\n       'grote_supermarkt_gemiddelde_afstand_in_km',\n       'grote_supermarkt_aantal_binnen_1_km',\n       'grote_supermarkt_aantal_binnen_5_km',\n       'winkels_ov_dagelijkse_levensm_gem_afst_in_km',\n       'winkels_ov_dagel_levensm_aantal_binnen_1_km',\n       'winkels_ov_dagel_levensm_aantal_binnen_5_km',\n       'warenhuis_gemiddelde_afstand_in_km', 'warenhuis_aantal_binnen_5_km',\n       'warenhuis_aantal_binnen_10_km', 'warenhuis_aantal_binnen_20_km',\n       'cafe_gemiddelde_afstand_in_km', 'cafe_aantal_binnen_1_km',\n       'cafe_aantal_binnen_5_km', 'cafetaria_gemiddelde_afstand_in_km',\n       'cafetaria_aantal_binnen_1_km', 'cafetaria_aantal_binnen_5_km',\n       'restaurant_gemiddelde_afstand_in_km', 'restaurant_aantal_binnen_1_km',\n       'restaurant_aantal_binnen_5_km', 'hotel_gemiddelde_afstand_in_km',\n       'hotel_aantal_binnen_5_km', 'hotel_aantal_binnen_10_km',\n       'hotel_aantal_binnen_20_km', 'treinstation_gemiddelde_afstand_in_km',\n       'overstapstation_gemiddelde_afstand_in_km',\n       'brandweerkazerne_gemiddelde_afstand_in_km'],\n      dtype='object')"
     },
     "metadata": {},
     "execution_count": 142
    }
   ],
   "source": [
    "df_recreatie.columns"
   ]
  },
  {
   "cell_type": "code",
   "execution_count": null,
   "metadata": {},
   "outputs": [],
   "source": [
    "df_recreatie_correlatie = df_recreatie\n",
    "df_recreatie_correlatie = df_recreatie_correlatie.replace(np.nan, '0')\n",
    "# df_recreatie_correlatie = df_recreatie_correlatie.drop(columns=['postcode','gemeente'])\n",
    "# df_recreatie_correlatie[['aantal_woningen',\n",
    "#        'aantal_woningen_bouwjaar_voor_1945',\n",
    "#        'aantal_woningen_bouwjaar_45_tot_65',\n",
    "#        'aantal_woningen_bouwjaar_65_tot_75',\n",
    "#        'aantal_woningen_bouwjaar_75_tot_85',\n",
    "#        'aantal_woningen_bouwjaar_85_tot_95',\n",
    "#        'aantal_woningen_bouwjaar_95_tot_05',\n",
    "#        'aantal_woningen_bouwjaar_05_tot_15',\n",
    "#        'aantal_woningen_bouwjaar_15_en_later', 'gemiddelde_woz_waarde_woning',\n",
    "#        'percentage_koopwoningen', 'percentage_huurwoningen',\n",
    "#        'kinderdagverblijf_gemiddelde_afstand_in_km',\n",
    "#        'kinderdagverblijf_aantal_binnen_1_km',\n",
    "#        'kinderdagverblijf_aantal_binnen_5_km',\n",
    "#        'buitenschoolse_opvang_gem_afstand_in_km',\n",
    "#        'buitenschoolse_opvang_aantal_binnen_1_km',\n",
    "#        'buitenschoolse_opvang_aantal_binnen_5_km',\n",
    "#        'grote_supermarkt_gemiddelde_afstand_in_km',\n",
    "#        'grote_supermarkt_aantal_binnen_1_km',\n",
    "#        'grote_supermarkt_aantal_binnen_5_km',\n",
    "#        'winkels_ov_dagelijkse_levensm_gem_afst_in_km',\n",
    "#        'winkels_ov_dagel_levensm_aantal_binnen_1_km',\n",
    "#        'winkels_ov_dagel_levensm_aantal_binnen_5_km',\n",
    "#        'warenhuis_gemiddelde_afstand_in_km', 'warenhuis_aantal_binnen_5_km',\n",
    "#        'warenhuis_aantal_binnen_10_km', 'warenhuis_aantal_binnen_20_km',\n",
    "#        'cafe_gemiddelde_afstand_in_km', 'cafe_aantal_binnen_1_km',\n",
    "#        'cafe_aantal_binnen_5_km', 'cafetaria_gemiddelde_afstand_in_km',\n",
    "#        'cafetaria_aantal_binnen_1_km', 'cafetaria_aantal_binnen_5_km',\n",
    "#        'restaurant_gemiddelde_afstand_in_km', 'restaurant_aantal_binnen_1_km',\n",
    "#        'restaurant_aantal_binnen_5_km', 'hotel_gemiddelde_afstand_in_km',\n",
    "#        'hotel_aantal_binnen_5_km', 'hotel_aantal_binnen_10_km',\n",
    "#        'hotel_aantal_binnen_20_km', 'treinstation_gemiddelde_afstand_in_km',\n",
    "#        'overstapstation_gemiddelde_afstand_in_km',\n",
    "#        'brandweerkazerne_gemiddelde_afstand_in_km']] = df_recreatie_correlatie[['aantal_woningen',\n",
    "#        'aantal_woningen_bouwjaar_voor_1945',\n",
    "#        'aantal_woningen_bouwjaar_45_tot_65',\n",
    "#        'aantal_woningen_bouwjaar_65_tot_75',\n",
    "#        'aantal_woningen_bouwjaar_75_tot_85',\n",
    "#        'aantal_woningen_bouwjaar_85_tot_95',\n",
    "#        'aantal_woningen_bouwjaar_95_tot_05',\n",
    "#        'aantal_woningen_bouwjaar_05_tot_15',\n",
    "#        'aantal_woningen_bouwjaar_15_en_later', 'gemiddelde_woz_waarde_woning',\n",
    "#        'percentage_koopwoningen', 'percentage_huurwoningen',\n",
    "#        'kinderdagverblijf_gemiddelde_afstand_in_km',\n",
    "#        'kinderdagverblijf_aantal_binnen_1_km',\n",
    "#        'kinderdagverblijf_aantal_binnen_5_km',\n",
    "#        'buitenschoolse_opvang_gem_afstand_in_km',\n",
    "#        'buitenschoolse_opvang_aantal_binnen_1_km',\n",
    "#        'buitenschoolse_opvang_aantal_binnen_5_km',\n",
    "#        'grote_supermarkt_gemiddelde_afstand_in_km',\n",
    "#        'grote_supermarkt_aantal_binnen_1_km',\n",
    "#        'grote_supermarkt_aantal_binnen_5_km',\n",
    "#        'winkels_ov_dagelijkse_levensm_gem_afst_in_km',\n",
    "#        'winkels_ov_dagel_levensm_aantal_binnen_1_km',\n",
    "#        'winkels_ov_dagel_levensm_aantal_binnen_5_km',\n",
    "#        'warenhuis_gemiddelde_afstand_in_km', 'warenhuis_aantal_binnen_5_km',\n",
    "#        'warenhuis_aantal_binnen_10_km', 'warenhuis_aantal_binnen_20_km',\n",
    "#        'cafe_gemiddelde_afstand_in_km', 'cafe_aantal_binnen_1_km',\n",
    "#        'cafe_aantal_binnen_5_km', 'cafetaria_gemiddelde_afstand_in_km',\n",
    "#        'cafetaria_aantal_binnen_1_km', 'cafetaria_aantal_binnen_5_km',\n",
    "#        'restaurant_gemiddelde_afstand_in_km', 'restaurant_aantal_binnen_1_km',\n",
    "#        'restaurant_aantal_binnen_5_km', 'hotel_gemiddelde_afstand_in_km',\n",
    "#        'hotel_aantal_binnen_5_km', 'hotel_aantal_binnen_10_km',\n",
    "#        'hotel_aantal_binnen_20_km', 'treinstation_gemiddelde_afstand_in_km',\n",
    "#        'overstapstation_gemiddelde_afstand_in_km',\n",
    "#        'brandweerkazerne_gemiddelde_afstand_in_km']].astype('float')\n",
    "\n",
    "df_recreatie_correlatie.dtypes\n"
   ]
  },
  {
   "cell_type": "code",
   "execution_count": null,
   "metadata": {},
   "outputs": [],
   "source": [
    "sb.pairplot(df_recreatie_correlatie.head(50),kind='reg')"
   ]
  },
  {
   "cell_type": "markdown",
   "metadata": {},
   "source": [
    "# Samenvatting van de beschikbare datasets\n",
    "\n",
    "- `df_recreatie` kan worden gebruikt voor het beschrijvende statistiek gedeelte, dit kan belangrijk/interessant zijn om te laten zien.\n",
    "- `df_recreatie_formulier` moet worden gebruikt bij het maken van de afwegingen, hier zitten extra kolommen in waar normalisatie waardes in staan."
   ]
  },
  {
   "cell_type": "code",
   "execution_count": 144,
   "metadata": {},
   "outputs": [],
   "source": [
    "def RecreatieAPI_Postcode(postcode):\n",
    "    df = df_recreatie.loc[df_recreatie['postcode'] == postcode]\n",
    "    return df\n",
    "\n",
    "def RecreatieAPI_Gemeente(gemeente):\n",
    "    df = df_recreatie.loc[df_recreatie['gemeente'] == gemeente]\n",
    "    return df\n",
    "    "
   ]
  }
 ],
 "metadata": {
  "language_info": {
   "codemirror_mode": {
    "name": "ipython",
    "version": 3
   },
   "file_extension": ".py",
   "mimetype": "text/x-python",
   "name": "python",
   "nbconvert_exporter": "python",
   "pygments_lexer": "ipython3",
   "version": "3.7.7-final"
  },
  "orig_nbformat": 2,
  "kernelspec": {
   "name": "python3",
   "display_name": "Python 3"
  }
 },
 "nbformat": 4,
 "nbformat_minor": 2
}