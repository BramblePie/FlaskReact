{
 "cells": [
  {
   "cell_type": "code",
   "execution_count": 2,
   "metadata": {},
   "outputs": [],
   "source": [
    "from Helper_functions import *\n",
    "import seaborn as sb\n"
   ]
  },
  {
   "cell_type": "code",
   "execution_count": 3,
   "metadata": {},
   "outputs": [],
   "source": [
    "test1 = wfs_data(\"https://geodata.nationaalgeoregister.nl/cbspostcode4/wfs?language=eng&\", \"cbspostcode4:postcode42017\",0)\n",
    "test2 = wfs_data(\"https://geodata.nationaalgeoregister.nl/cbspostcode4/wfs?language=eng&\", \"cbspostcode4:postcode42017\",1000)\n",
    "test3 = wfs_data(\"https://geodata.nationaalgeoregister.nl/cbspostcode4/wfs?language=eng&\", \"cbspostcode4:postcode42017\",2000)\n",
    "test4 = wfs_data(\"https://geodata.nationaalgeoregister.nl/cbspostcode4/wfs?language=eng&\", \"cbspostcode4:postcode42017\",3000)\n",
    "test5 = wfs_data(\"https://geodata.nationaalgeoregister.nl/cbspostcode4/wfs?language=eng&\", \"cbspostcode4:postcode42017\",4000)\n"
   ]
  },
  {
   "cell_type": "code",
   "execution_count": 4,
   "metadata": {},
   "outputs": [],
   "source": [
    "df_recreatie = pd.concat([test1, test2, test3, test4, test5], ignore_index=True)\n"
   ]
  },
  {
   "cell_type": "code",
   "execution_count": 5,
   "metadata": {},
   "outputs": [],
   "source": [
    "df_recreatie = df_recreatie[['aantal_woningen','aantal_woningen_bouwjaar_voor_1945','aantal_woningen_bouwjaar_45_tot_65','aantal_woningen_bouwjaar_65_tot_75','aantal_woningen_bouwjaar_75_tot_85','aantal_woningen_bouwjaar_85_tot_95','aantal_woningen_bouwjaar_95_tot_05','aantal_woningen_bouwjaar_05_tot_15','aantal_woningen_bouwjaar_15_en_later','gemiddelde_woz_waarde_woning','percentage_koopwoningen', 'percentage_huurwoningen','kinderdagverblijf_gemiddelde_afstand_in_km','kinderdagverblijf_aantal_binnen_1_km','kinderdagverblijf_aantal_binnen_3_km','kinderdagverblijf_aantal_binnen_5_km','buitenschoolse_opvang_gem_afstand_in_km','buitenschoolse_opvang_aantal_binnen_1_km','buitenschoolse_opvang_aantal_binnen_3_km','buitenschoolse_opvang_aantal_binnen_5_km','grote_supermarkt_gemiddelde_afstand_in_km','grote_supermarkt_aantal_binnen_1_km','grote_supermarkt_aantal_binnen_3_km','grote_supermarkt_aantal_binnen_5_km','winkels_ov_dagelijkse_levensm_gem_afst_in_km','winkels_ov_dagel_levensm_aantal_binnen_1_km','winkels_ov_dagel_levensm_aantal_binnen_3_km','winkels_ov_dagel_levensm_aantal_binnen_5_km','warenhuis_gemiddelde_afstand_in_km', 'warenhuis_aantal_binnen_5_km',\n",
    "'warenhuis_aantal_binnen_10_km', 'warenhuis_aantal_binnen_20_km','cafe_gemiddelde_afstand_in_km', 'cafe_aantal_binnen_1_km','cafe_aantal_binnen_3_km', 'cafe_aantal_binnen_5_km','cafetaria_gemiddelde_afstand_in_km', 'cafetaria_aantal_binnen_1_km','cafetaria_aantal_binnen_3_km', 'cafetaria_aantal_binnen_5_km','restaurant_gemiddelde_afstand_in_km','restaurant_aantal_binnen_1_km','restaurant_aantal_binnen_3_km', 'restaurant_aantal_binnen_5_km','hotel_gemiddelde_afstand_in_km', 'hotel_aantal_binnen_5_km','hotel_aantal_binnen_10_km', 'hotel_aantal_binnen_20_km','treinstation_gemiddelde_afstand_in_km','overstapstation_gemiddelde_afstand_in_km','brandweerkazerne_gemiddelde_afstand_in_km','geometry']]\n"
   ]
  },
  {
   "cell_type": "code",
   "execution_count": 6,
   "metadata": {},
   "outputs": [],
   "source": [
    "zipfile = \"zip://Postcode4.zip\"\n",
    "df = gpd.read_file(zipfile)\n"
   ]
  },
  {
   "cell_type": "code",
   "execution_count": 7,
   "metadata": {},
   "outputs": [],
   "source": [
    "df_recreatie = pd.concat([df_recreatie, df['PC4']], axis=1)\n",
    "df_recreatie = df_recreatie[['PC4','aantal_woningen', 'aantal_woningen_bouwjaar_voor_1945',\n",
    "       'aantal_woningen_bouwjaar_45_tot_65',\n",
    "       'aantal_woningen_bouwjaar_65_tot_75',\n",
    "       'aantal_woningen_bouwjaar_75_tot_85',\n",
    "       'aantal_woningen_bouwjaar_85_tot_95',\n",
    "       'aantal_woningen_bouwjaar_95_tot_05',\n",
    "       'aantal_woningen_bouwjaar_05_tot_15',\n",
    "       'aantal_woningen_bouwjaar_15_en_later', 'gemiddelde_woz_waarde_woning',\n",
    "       'percentage_koopwoningen', 'percentage_huurwoningen',\n",
    "       'kinderdagverblijf_gemiddelde_afstand_in_km',\n",
    "       'kinderdagverblijf_aantal_binnen_1_km',\n",
    "       'kinderdagverblijf_aantal_binnen_5_km',\n",
    "       'buitenschoolse_opvang_gem_afstand_in_km',\n",
    "       'buitenschoolse_opvang_aantal_binnen_1_km',\n",
    "       'buitenschoolse_opvang_aantal_binnen_5_km',\n",
    "       'grote_supermarkt_gemiddelde_afstand_in_km',\n",
    "       'grote_supermarkt_aantal_binnen_1_km',\n",
    "       'grote_supermarkt_aantal_binnen_5_km',\n",
    "       'winkels_ov_dagelijkse_levensm_gem_afst_in_km',\n",
    "       'winkels_ov_dagel_levensm_aantal_binnen_1_km',\n",
    "       'winkels_ov_dagel_levensm_aantal_binnen_5_km',\n",
    "       'warenhuis_gemiddelde_afstand_in_km', 'warenhuis_aantal_binnen_5_km',\n",
    "       'warenhuis_aantal_binnen_10_km', 'warenhuis_aantal_binnen_20_km',\n",
    "       'cafe_gemiddelde_afstand_in_km', 'cafe_aantal_binnen_1_km', 'cafe_aantal_binnen_5_km',\n",
    "       'cafetaria_gemiddelde_afstand_in_km', 'cafetaria_aantal_binnen_1_km', 'cafetaria_aantal_binnen_5_km',\n",
    "       'restaurant_gemiddelde_afstand_in_km', 'restaurant_aantal_binnen_1_km', 'restaurant_aantal_binnen_5_km',\n",
    "       'hotel_gemiddelde_afstand_in_km', 'hotel_aantal_binnen_5_km',\n",
    "       'hotel_aantal_binnen_10_km', 'hotel_aantal_binnen_20_km',\n",
    "       'treinstation_gemiddelde_afstand_in_km',\n",
    "       'overstapstation_gemiddelde_afstand_in_km',\n",
    "       'brandweerkazerne_gemiddelde_afstand_in_km', 'geometry']]\n"
   ]
  },
  {
   "cell_type": "code",
   "execution_count": 8,
   "metadata": {},
   "outputs": [],
   "source": [
    "df_recreatie = df_recreatie.replace('-99997', np.nan)\n"
   ]
  },
  {
   "cell_type": "code",
   "execution_count": 9,
   "metadata": {},
   "outputs": [
    {
     "output_type": "execute_result",
     "data": {
      "text/plain": "Index(['PC4', 'aantal_woningen', 'aantal_woningen_bouwjaar_voor_1945',\n       'aantal_woningen_bouwjaar_45_tot_65',\n       'aantal_woningen_bouwjaar_65_tot_75',\n       'aantal_woningen_bouwjaar_75_tot_85',\n       'aantal_woningen_bouwjaar_85_tot_95',\n       'aantal_woningen_bouwjaar_95_tot_05',\n       'aantal_woningen_bouwjaar_05_tot_15',\n       'aantal_woningen_bouwjaar_15_en_later', 'gemiddelde_woz_waarde_woning',\n       'percentage_koopwoningen', 'percentage_huurwoningen',\n       'kinderdagverblijf_gemiddelde_afstand_in_km',\n       'kinderdagverblijf_aantal_binnen_1_km',\n       'kinderdagverblijf_aantal_binnen_5_km',\n       'buitenschoolse_opvang_gem_afstand_in_km',\n       'buitenschoolse_opvang_aantal_binnen_1_km',\n       'buitenschoolse_opvang_aantal_binnen_5_km',\n       'grote_supermarkt_gemiddelde_afstand_in_km',\n       'grote_supermarkt_aantal_binnen_1_km',\n       'grote_supermarkt_aantal_binnen_5_km',\n       'winkels_ov_dagelijkse_levensm_gem_afst_in_km',\n       'winkels_ov_dagel_levensm_aantal_binnen_1_km',\n       'winkels_ov_dagel_levensm_aantal_binnen_5_km',\n       'warenhuis_gemiddelde_afstand_in_km', 'warenhuis_aantal_binnen_5_km',\n       'warenhuis_aantal_binnen_10_km', 'warenhuis_aantal_binnen_20_km',\n       'cafe_gemiddelde_afstand_in_km', 'cafe_aantal_binnen_1_km',\n       'cafe_aantal_binnen_5_km', 'cafetaria_gemiddelde_afstand_in_km',\n       'cafetaria_aantal_binnen_1_km', 'cafetaria_aantal_binnen_5_km',\n       'restaurant_gemiddelde_afstand_in_km', 'restaurant_aantal_binnen_1_km',\n       'restaurant_aantal_binnen_5_km', 'hotel_gemiddelde_afstand_in_km',\n       'hotel_aantal_binnen_5_km', 'hotel_aantal_binnen_10_km',\n       'hotel_aantal_binnen_20_km', 'treinstation_gemiddelde_afstand_in_km',\n       'overstapstation_gemiddelde_afstand_in_km',\n       'brandweerkazerne_gemiddelde_afstand_in_km', 'geometry'],\n      dtype='object')"
     },
     "metadata": {},
     "execution_count": 9
    }
   ],
   "source": [
    "df_recreatie.columns"
   ]
  },
  {
   "cell_type": "code",
   "execution_count": 10,
   "metadata": {},
   "outputs": [],
   "source": [
    "df_recreatie_formulier = df_recreatie\n",
    "lijst = df_recreatie_formulier[['aantal_woningen_bouwjaar_voor_1945',\n",
    "       'aantal_woningen_bouwjaar_45_tot_65',\n",
    "       'aantal_woningen_bouwjaar_65_tot_75',\n",
    "       'aantal_woningen_bouwjaar_75_tot_85',\n",
    "       'aantal_woningen_bouwjaar_85_tot_95',\n",
    "       'aantal_woningen_bouwjaar_95_tot_05',\n",
    "       'aantal_woningen_bouwjaar_05_tot_15',\n",
    "       'aantal_woningen_bouwjaar_15_en_later','gemiddelde_woz_waarde_woning',\n",
    "       'percentage_koopwoningen', 'percentage_huurwoningen',\n",
    "       'kinderdagverblijf_gemiddelde_afstand_in_km',\n",
    "       'kinderdagverblijf_aantal_binnen_1_km',\n",
    "       'kinderdagverblijf_aantal_binnen_5_km',\n",
    "       'buitenschoolse_opvang_gem_afstand_in_km',\n",
    "       'buitenschoolse_opvang_aantal_binnen_1_km',\n",
    "       'buitenschoolse_opvang_aantal_binnen_5_km',\n",
    "       'grote_supermarkt_gemiddelde_afstand_in_km',\n",
    "       'grote_supermarkt_aantal_binnen_1_km',\n",
    "       'grote_supermarkt_aantal_binnen_5_km',\n",
    "       'winkels_ov_dagelijkse_levensm_gem_afst_in_km',\n",
    "       'winkels_ov_dagel_levensm_aantal_binnen_1_km',\n",
    "       'winkels_ov_dagel_levensm_aantal_binnen_5_km',\n",
    "       'warenhuis_gemiddelde_afstand_in_km', 'warenhuis_aantal_binnen_5_km',\n",
    "       'warenhuis_aantal_binnen_10_km', 'warenhuis_aantal_binnen_20_km',\n",
    "       'cafe_gemiddelde_afstand_in_km', 'cafe_aantal_binnen_1_km', 'cafe_aantal_binnen_5_km',\n",
    "       'cafetaria_gemiddelde_afstand_in_km', 'cafetaria_aantal_binnen_1_km', 'cafetaria_aantal_binnen_5_km',\n",
    "       'restaurant_gemiddelde_afstand_in_km', 'restaurant_aantal_binnen_1_km', 'restaurant_aantal_binnen_5_km',\n",
    "       'hotel_gemiddelde_afstand_in_km', 'hotel_aantal_binnen_5_km',\n",
    "       'hotel_aantal_binnen_10_km', 'hotel_aantal_binnen_20_km',\n",
    "       'treinstation_gemiddelde_afstand_in_km',\n",
    "       'overstapstation_gemiddelde_afstand_in_km',\n",
    "       'brandweerkazerne_gemiddelde_afstand_in_km']]\n",
    "\n",
    "for x in lijst:\n",
    "    kolom = df_recreatie_formulier[[x]]\n",
    "    min_max_scaler = preprocessing.MinMaxScaler()\n",
    "    x_scaled = min_max_scaler.fit_transform(kolom)\n",
    "    df_recreatie_formulier[x + \"_genormaliseerd\"] = pd.DataFrame(x_scaled)\n",
    "    df_recreatie_formulier = movecol(df_recreatie_formulier, cols_to_move=[x + \"_genormaliseerd\"], ref_col=x, place='After')\n",
    "\n",
    "\n",
    "\n"
   ]
  },
  {
   "cell_type": "code",
   "execution_count": 11,
   "metadata": {},
   "outputs": [],
   "source": [
    "df_recreatie_formulier = df_recreatie_formulier.rename(columns={\"PC4\": \"postcode\"})\n",
    "df_recreatie = df_recreatie.rename(columns={\"PC4\": \"postcode\"})"
   ]
  },
  {
   "cell_type": "code",
   "execution_count": 12,
   "metadata": {},
   "outputs": [],
   "source": [
    "df_toevoeging = pd.read_csv('dataset.csv')\n",
    "df_toevoeging = df_toevoeging[['postcode','gemeente']]\n",
    "\n",
    "\n"
   ]
  },
  {
   "cell_type": "code",
   "execution_count": 13,
   "metadata": {},
   "outputs": [],
   "source": [
    "df_recreatie = pd.merge(df_recreatie, df_toevoeging, on='postcode', how='left')\n",
    "df_recreatie_formulier = pd.merge(df_recreatie_formulier, df_toevoeging, on='postcode', how='left')\n",
    "df_recreatie = movecol(df_recreatie, cols_to_move=['gemeente'], ref_col='postcode', place='After')\n",
    "df_recreatie_formulier = movecol(df_recreatie_formulier, cols_to_move=['gemeente'], ref_col='postcode', place='After')\n",
    "df_recreatie.drop(columns=['aantal_woningen_bouwjaar_voor_1945_genormaliseerd','geometry'], inplace=True)\n"
   ]
  },
  {
   "cell_type": "markdown",
   "metadata": {},
   "source": [
    "# Vanaf hier voorspellende statistieken maken en meenemen in de API"
   ]
  },
  {
   "cell_type": "code",
   "execution_count": 14,
   "metadata": {},
   "outputs": [
    {
     "output_type": "execute_result",
     "data": {
      "text/plain": "postcode                                         int64\ngemeente                                        object\naantal_woningen                                 object\naantal_woningen_bouwjaar_voor_1945              object\naantal_woningen_bouwjaar_45_tot_65              object\naantal_woningen_bouwjaar_65_tot_75              object\naantal_woningen_bouwjaar_75_tot_85              object\naantal_woningen_bouwjaar_85_tot_95              object\naantal_woningen_bouwjaar_95_tot_05              object\naantal_woningen_bouwjaar_05_tot_15              object\naantal_woningen_bouwjaar_15_en_later            object\ngemiddelde_woz_waarde_woning                    object\npercentage_koopwoningen                         object\npercentage_huurwoningen                         object\nkinderdagverblijf_gemiddelde_afstand_in_km      object\nkinderdagverblijf_aantal_binnen_1_km            object\nkinderdagverblijf_aantal_binnen_5_km            object\nbuitenschoolse_opvang_gem_afstand_in_km         object\nbuitenschoolse_opvang_aantal_binnen_1_km        object\nbuitenschoolse_opvang_aantal_binnen_5_km        object\ngrote_supermarkt_gemiddelde_afstand_in_km       object\ngrote_supermarkt_aantal_binnen_1_km             object\ngrote_supermarkt_aantal_binnen_5_km             object\nwinkels_ov_dagelijkse_levensm_gem_afst_in_km    object\nwinkels_ov_dagel_levensm_aantal_binnen_1_km     object\nwinkels_ov_dagel_levensm_aantal_binnen_5_km     object\nwarenhuis_gemiddelde_afstand_in_km              object\nwarenhuis_aantal_binnen_5_km                    object\nwarenhuis_aantal_binnen_10_km                   object\nwarenhuis_aantal_binnen_20_km                   object\ncafe_gemiddelde_afstand_in_km                   object\ncafe_aantal_binnen_1_km                         object\ncafe_aantal_binnen_5_km                         object\ncafetaria_gemiddelde_afstand_in_km              object\ncafetaria_aantal_binnen_1_km                    object\ncafetaria_aantal_binnen_5_km                    object\nrestaurant_gemiddelde_afstand_in_km             object\nrestaurant_aantal_binnen_1_km                   object\nrestaurant_aantal_binnen_5_km                   object\nhotel_gemiddelde_afstand_in_km                  object\nhotel_aantal_binnen_5_km                        object\nhotel_aantal_binnen_10_km                       object\nhotel_aantal_binnen_20_km                       object\ntreinstation_gemiddelde_afstand_in_km           object\noverstapstation_gemiddelde_afstand_in_km        object\nbrandweerkazerne_gemiddelde_afstand_in_km       object\ndtype: object"
     },
     "metadata": {},
     "execution_count": 14
    }
   ],
   "source": [
    "df_recreatie_correlatie = df_recreatie\n",
    "df_recreatie_correlatie = df_recreatie_correlatie.replace(np.nan, 0)\n",
    "# df_recreatie_correlatie = df_recreatie_correlatie.drop(columns=['postcode','gemeente'])\n",
    "# df_recreatie_correlatie[['aantal_woningen',\n",
    "#        'aantal_woningen_bouwjaar_voor_1945',\n",
    "#        'aantal_woningen_bouwjaar_45_tot_65',\n",
    "#        'aantal_woningen_bouwjaar_65_tot_75',\n",
    "#        'aantal_woningen_bouwjaar_75_tot_85',\n",
    "#        'aantal_woningen_bouwjaar_85_tot_95',\n",
    "#        'aantal_woningen_bouwjaar_95_tot_05',\n",
    "#        'aantal_woningen_bouwjaar_05_tot_15',\n",
    "#        'aantal_woningen_bouwjaar_15_en_later', 'gemiddelde_woz_waarde_woning',\n",
    "#        'percentage_koopwoningen', 'percentage_huurwoningen',\n",
    "#        'kinderdagverblijf_gemiddelde_afstand_in_km',\n",
    "#        'kinderdagverblijf_aantal_binnen_1_km',\n",
    "#        'kinderdagverblijf_aantal_binnen_5_km',\n",
    "#        'buitenschoolse_opvang_gem_afstand_in_km',\n",
    "#        'buitenschoolse_opvang_aantal_binnen_1_km',\n",
    "#        'buitenschoolse_opvang_aantal_binnen_5_km',\n",
    "#        'grote_supermarkt_gemiddelde_afstand_in_km',\n",
    "#        'grote_supermarkt_aantal_binnen_1_km',\n",
    "#        'grote_supermarkt_aantal_binnen_5_km',\n",
    "#        'winkels_ov_dagelijkse_levensm_gem_afst_in_km',\n",
    "#        'winkels_ov_dagel_levensm_aantal_binnen_1_km',\n",
    "#        'winkels_ov_dagel_levensm_aantal_binnen_5_km',\n",
    "#        'warenhuis_gemiddelde_afstand_in_km', 'warenhuis_aantal_binnen_5_km',\n",
    "#        'warenhuis_aantal_binnen_10_km', 'warenhuis_aantal_binnen_20_km',\n",
    "#        'cafe_gemiddelde_afstand_in_km', 'cafe_aantal_binnen_1_km',\n",
    "#        'cafe_aantal_binnen_5_km', 'cafetaria_gemiddelde_afstand_in_km',\n",
    "#        'cafetaria_aantal_binnen_1_km', 'cafetaria_aantal_binnen_5_km',\n",
    "#        'restaurant_gemiddelde_afstand_in_km', 'restaurant_aantal_binnen_1_km',\n",
    "#        'restaurant_aantal_binnen_5_km', 'hotel_gemiddelde_afstand_in_km',\n",
    "#        'hotel_aantal_binnen_5_km', 'hotel_aantal_binnen_10_km',\n",
    "#        'hotel_aantal_binnen_20_km', 'treinstation_gemiddelde_afstand_in_km',\n",
    "#        'overstapstation_gemiddelde_afstand_in_km',\n",
    "#        'brandweerkazerne_gemiddelde_afstand_in_km']] = df_recreatie_correlatie[['aantal_woningen',\n",
    "#        'aantal_woningen_bouwjaar_voor_1945',\n",
    "#        'aantal_woningen_bouwjaar_45_tot_65',\n",
    "#        'aantal_woningen_bouwjaar_65_tot_75',\n",
    "#        'aantal_woningen_bouwjaar_75_tot_85',\n",
    "#        'aantal_woningen_bouwjaar_85_tot_95',\n",
    "#        'aantal_woningen_bouwjaar_95_tot_05',\n",
    "#        'aantal_woningen_bouwjaar_05_tot_15',\n",
    "#        'aantal_woningen_bouwjaar_15_en_later', 'gemiddelde_woz_waarde_woning',\n",
    "#        'percentage_koopwoningen', 'percentage_huurwoningen',\n",
    "#        'kinderdagverblijf_gemiddelde_afstand_in_km',\n",
    "#        'kinderdagverblijf_aantal_binnen_1_km',\n",
    "#        'kinderdagverblijf_aantal_binnen_5_km',\n",
    "#        'buitenschoolse_opvang_gem_afstand_in_km',\n",
    "#        'buitenschoolse_opvang_aantal_binnen_1_km',\n",
    "#        'buitenschoolse_opvang_aantal_binnen_5_km',\n",
    "#        'grote_supermarkt_gemiddelde_afstand_in_km',\n",
    "#        'grote_supermarkt_aantal_binnen_1_km',\n",
    "#        'grote_supermarkt_aantal_binnen_5_km',\n",
    "#        'winkels_ov_dagelijkse_levensm_gem_afst_in_km',\n",
    "#        'winkels_ov_dagel_levensm_aantal_binnen_1_km',\n",
    "#        'winkels_ov_dagel_levensm_aantal_binnen_5_km',\n",
    "#        'warenhuis_gemiddelde_afstand_in_km', 'warenhuis_aantal_binnen_5_km',\n",
    "#        'warenhuis_aantal_binnen_10_km', 'warenhuis_aantal_binnen_20_km',\n",
    "#        'cafe_gemiddelde_afstand_in_km', 'cafe_aantal_binnen_1_km',\n",
    "#        'cafe_aantal_binnen_5_km', 'cafetaria_gemiddelde_afstand_in_km',\n",
    "#        'cafetaria_aantal_binnen_1_km', 'cafetaria_aantal_binnen_5_km',\n",
    "#        'restaurant_gemiddelde_afstand_in_km', 'restaurant_aantal_binnen_1_km',\n",
    "#        'restaurant_aantal_binnen_5_km', 'hotel_gemiddelde_afstand_in_km',\n",
    "#        'hotel_aantal_binnen_5_km', 'hotel_aantal_binnen_10_km',\n",
    "#        'hotel_aantal_binnen_20_km', 'treinstation_gemiddelde_afstand_in_km',\n",
    "#        'overstapstation_gemiddelde_afstand_in_km',\n",
    "#        'brandweerkazerne_gemiddelde_afstand_in_km']].astype('float')\n",
    "\n",
    "df_recreatie_correlatie.dtypes\n"
   ]
  },
  {
   "cell_type": "markdown",
   "metadata": {},
   "source": [
    "# Samenvatting van de beschikbare datasets\n",
    "\n",
    "- `df_recreatie` kan worden gebruikt voor het beschrijvende statistiek gedeelte, dit kan belangrijk/interessant zijn om te laten zien.\n",
    "- `df_recreatie_formulier` moet worden gebruikt bij het maken van de afwegingen, hier zitten extra kolommen in waar normalisatie waardes in staan."
   ]
  },
  {
   "cell_type": "code",
   "execution_count": 15,
   "metadata": {},
   "outputs": [],
   "source": [
    "def RecreatieAPI_Postcode(postcode):\n",
    "    df = df_recreatie.loc[df_recreatie['postcode'] == postcode]\n",
    "    return df\n",
    "\n",
    "def RecreatieAPI_Gemeente(gemeente):\n",
    "    df = df_recreatie.loc[df_recreatie['gemeente'] == gemeente]\n",
    "    return df\n",
    "    "
   ]
  },
  {
   "cell_type": "code",
   "execution_count": 17,
   "metadata": {},
   "outputs": [
    {
     "output_type": "execute_result",
     "data": {
      "text/plain": "      postcode           gemeente aantal_woningen  \\\n0         1011          Amsterdam            6110   \n1         1012          Amsterdam            5695   \n2         1013          Amsterdam           12825   \n3         1014          Amsterdam             270   \n4         1015          Amsterdam            9865   \n...        ...                ...             ...   \n4200      9999              Venlo              45   \n4201      9999          Staphorst              45   \n4202      9999  Horst aan de Maas              45   \n4203      9999        Voorschoten              45   \n4204      9999           Roermond              45   \n\n     aantal_woningen_bouwjaar_voor_1945 aantal_woningen_bouwjaar_45_tot_65  \\\n0                                  3605                                115   \n1                                  4725                                 20   \n2                                  6930                                 75   \n3                                    20                                  5   \n4                                  7275                                100   \n...                                 ...                                ...   \n4200                                 30                                NaN   \n4201                                 30                                NaN   \n4202                                 30                                NaN   \n4203                                 30                                NaN   \n4204                                 30                                NaN   \n\n     aantal_woningen_bouwjaar_65_tot_75 aantal_woningen_bouwjaar_75_tot_85  \\\n0                                   115                                800   \n1                                    50                                 85   \n2                                   115                               1625   \n3                                     5                                  5   \n4                                   235                                755   \n...                                 ...                                ...   \n4200                                NaN                                NaN   \n4201                                NaN                                NaN   \n4202                                NaN                                NaN   \n4203                                NaN                                NaN   \n4204                                NaN                                NaN   \n\n     aantal_woningen_bouwjaar_85_tot_95 aantal_woningen_bouwjaar_95_tot_05  \\\n0                                   390                                670   \n1                                   490                                225   \n2                                  1475                                445   \n3                                    20                                185   \n4                                  1075                                340   \n...                                 ...                                ...   \n4200                                NaN                                NaN   \n4201                                NaN                                NaN   \n4202                                NaN                                NaN   \n4203                                NaN                                NaN   \n4204                                NaN                                NaN   \n\n     aantal_woningen_bouwjaar_05_tot_15  ...  \\\n0                                   370  ...   \n1                                   105  ...   \n2                                  2005  ...   \n3                                   NaN  ...   \n4                                    80  ...   \n...                                 ...  ...   \n4200                                NaN  ...   \n4201                                NaN  ...   \n4202                                NaN  ...   \n4203                                NaN  ...   \n4204                                NaN  ...   \n\n     restaurant_gemiddelde_afstand_in_km restaurant_aantal_binnen_1_km  \\\n0                                    0.1                         178.8   \n1                                      0                           313   \n2                                    0.2                          65.6   \n3                                    0.5                          10.1   \n4                                    0.1                         190.4   \n...                                  ...                           ...   \n4200                                 4.4                             0   \n4201                                 4.4                             0   \n4202                                 4.4                             0   \n4203                                 4.4                             0   \n4204                                 4.4                             0   \n\n     restaurant_aantal_binnen_5_km hotel_gemiddelde_afstand_in_km  \\\n0                           1738.4                            0.2   \n1                           1759.3                            0.1   \n2                           1529.2                            0.6   \n3                           1086.6                            0.4   \n4                           1740.9                            0.3   \n...                            ...                            ...   \n4200                           1.7                            5.4   \n4201                           1.7                            5.4   \n4202                           1.7                            5.4   \n4203                           1.7                            5.4   \n4204                           1.7                            5.4   \n\n     hotel_aantal_binnen_5_km hotel_aantal_binnen_10_km  \\\n0                       349.1                       400   \n1                       354.5                     400.2   \n2                         338                     398.9   \n3                       245.4                     400.1   \n4                       359.8                     400.5   \n...                       ...                       ...   \n4200                      0.1                       3.6   \n4201                      0.1                       3.6   \n4202                      0.1                       3.6   \n4203                      0.1                       3.6   \n4204                      0.1                       3.6   \n\n     hotel_aantal_binnen_20_km treinstation_gemiddelde_afstand_in_km  \\\n0                        464.4                                   1.2   \n1                        469.9                                   0.8   \n2                        467.7                                   1.7   \n3                        470.6                                   1.7   \n4                        473.5                                   1.3   \n...                        ...                                   ...   \n4200                      28.5                                   6.5   \n4201                      28.5                                   6.5   \n4202                      28.5                                   6.5   \n4203                      28.5                                   6.5   \n4204                      28.5                                   6.5   \n\n     overstapstation_gemiddelde_afstand_in_km  \\\n0                                         1.2   \n1                                         0.8   \n2                                         1.7   \n3                                         1.7   \n4                                         1.3   \n...                                       ...   \n4200                                     19.6   \n4201                                     19.6   \n4202                                     19.6   \n4203                                     19.6   \n4204                                     19.6   \n\n     brandweerkazerne_gemiddelde_afstand_in_km  \n0                                          0.7  \n1                                          1.3  \n2                                            2  \n3                                          1.6  \n4                                            1  \n...                                        ...  \n4200                                       6.1  \n4201                                       6.1  \n4202                                       6.1  \n4203                                       6.1  \n4204                                       6.1  \n\n[4205 rows x 46 columns]",
      "text/html": "<div>\n<style scoped>\n    .dataframe tbody tr th:only-of-type {\n        vertical-align: middle;\n    }\n\n    .dataframe tbody tr th {\n        vertical-align: top;\n    }\n\n    .dataframe thead th {\n        text-align: right;\n    }\n</style>\n<table border=\"1\" class=\"dataframe\">\n  <thead>\n    <tr style=\"text-align: right;\">\n      <th></th>\n      <th>postcode</th>\n      <th>gemeente</th>\n      <th>aantal_woningen</th>\n      <th>aantal_woningen_bouwjaar_voor_1945</th>\n      <th>aantal_woningen_bouwjaar_45_tot_65</th>\n      <th>aantal_woningen_bouwjaar_65_tot_75</th>\n      <th>aantal_woningen_bouwjaar_75_tot_85</th>\n      <th>aantal_woningen_bouwjaar_85_tot_95</th>\n      <th>aantal_woningen_bouwjaar_95_tot_05</th>\n      <th>aantal_woningen_bouwjaar_05_tot_15</th>\n      <th>...</th>\n      <th>restaurant_gemiddelde_afstand_in_km</th>\n      <th>restaurant_aantal_binnen_1_km</th>\n      <th>restaurant_aantal_binnen_5_km</th>\n      <th>hotel_gemiddelde_afstand_in_km</th>\n      <th>hotel_aantal_binnen_5_km</th>\n      <th>hotel_aantal_binnen_10_km</th>\n      <th>hotel_aantal_binnen_20_km</th>\n      <th>treinstation_gemiddelde_afstand_in_km</th>\n      <th>overstapstation_gemiddelde_afstand_in_km</th>\n      <th>brandweerkazerne_gemiddelde_afstand_in_km</th>\n    </tr>\n  </thead>\n  <tbody>\n    <tr>\n      <th>0</th>\n      <td>1011</td>\n      <td>Amsterdam</td>\n      <td>6110</td>\n      <td>3605</td>\n      <td>115</td>\n      <td>115</td>\n      <td>800</td>\n      <td>390</td>\n      <td>670</td>\n      <td>370</td>\n      <td>...</td>\n      <td>0.1</td>\n      <td>178.8</td>\n      <td>1738.4</td>\n      <td>0.2</td>\n      <td>349.1</td>\n      <td>400</td>\n      <td>464.4</td>\n      <td>1.2</td>\n      <td>1.2</td>\n      <td>0.7</td>\n    </tr>\n    <tr>\n      <th>1</th>\n      <td>1012</td>\n      <td>Amsterdam</td>\n      <td>5695</td>\n      <td>4725</td>\n      <td>20</td>\n      <td>50</td>\n      <td>85</td>\n      <td>490</td>\n      <td>225</td>\n      <td>105</td>\n      <td>...</td>\n      <td>0</td>\n      <td>313</td>\n      <td>1759.3</td>\n      <td>0.1</td>\n      <td>354.5</td>\n      <td>400.2</td>\n      <td>469.9</td>\n      <td>0.8</td>\n      <td>0.8</td>\n      <td>1.3</td>\n    </tr>\n    <tr>\n      <th>2</th>\n      <td>1013</td>\n      <td>Amsterdam</td>\n      <td>12825</td>\n      <td>6930</td>\n      <td>75</td>\n      <td>115</td>\n      <td>1625</td>\n      <td>1475</td>\n      <td>445</td>\n      <td>2005</td>\n      <td>...</td>\n      <td>0.2</td>\n      <td>65.6</td>\n      <td>1529.2</td>\n      <td>0.6</td>\n      <td>338</td>\n      <td>398.9</td>\n      <td>467.7</td>\n      <td>1.7</td>\n      <td>1.7</td>\n      <td>2</td>\n    </tr>\n    <tr>\n      <th>3</th>\n      <td>1014</td>\n      <td>Amsterdam</td>\n      <td>270</td>\n      <td>20</td>\n      <td>5</td>\n      <td>5</td>\n      <td>5</td>\n      <td>20</td>\n      <td>185</td>\n      <td>NaN</td>\n      <td>...</td>\n      <td>0.5</td>\n      <td>10.1</td>\n      <td>1086.6</td>\n      <td>0.4</td>\n      <td>245.4</td>\n      <td>400.1</td>\n      <td>470.6</td>\n      <td>1.7</td>\n      <td>1.7</td>\n      <td>1.6</td>\n    </tr>\n    <tr>\n      <th>4</th>\n      <td>1015</td>\n      <td>Amsterdam</td>\n      <td>9865</td>\n      <td>7275</td>\n      <td>100</td>\n      <td>235</td>\n      <td>755</td>\n      <td>1075</td>\n      <td>340</td>\n      <td>80</td>\n      <td>...</td>\n      <td>0.1</td>\n      <td>190.4</td>\n      <td>1740.9</td>\n      <td>0.3</td>\n      <td>359.8</td>\n      <td>400.5</td>\n      <td>473.5</td>\n      <td>1.3</td>\n      <td>1.3</td>\n      <td>1</td>\n    </tr>\n    <tr>\n      <th>...</th>\n      <td>...</td>\n      <td>...</td>\n      <td>...</td>\n      <td>...</td>\n      <td>...</td>\n      <td>...</td>\n      <td>...</td>\n      <td>...</td>\n      <td>...</td>\n      <td>...</td>\n      <td>...</td>\n      <td>...</td>\n      <td>...</td>\n      <td>...</td>\n      <td>...</td>\n      <td>...</td>\n      <td>...</td>\n      <td>...</td>\n      <td>...</td>\n      <td>...</td>\n      <td>...</td>\n    </tr>\n    <tr>\n      <th>4200</th>\n      <td>9999</td>\n      <td>Venlo</td>\n      <td>45</td>\n      <td>30</td>\n      <td>NaN</td>\n      <td>NaN</td>\n      <td>NaN</td>\n      <td>NaN</td>\n      <td>NaN</td>\n      <td>NaN</td>\n      <td>...</td>\n      <td>4.4</td>\n      <td>0</td>\n      <td>1.7</td>\n      <td>5.4</td>\n      <td>0.1</td>\n      <td>3.6</td>\n      <td>28.5</td>\n      <td>6.5</td>\n      <td>19.6</td>\n      <td>6.1</td>\n    </tr>\n    <tr>\n      <th>4201</th>\n      <td>9999</td>\n      <td>Staphorst</td>\n      <td>45</td>\n      <td>30</td>\n      <td>NaN</td>\n      <td>NaN</td>\n      <td>NaN</td>\n      <td>NaN</td>\n      <td>NaN</td>\n      <td>NaN</td>\n      <td>...</td>\n      <td>4.4</td>\n      <td>0</td>\n      <td>1.7</td>\n      <td>5.4</td>\n      <td>0.1</td>\n      <td>3.6</td>\n      <td>28.5</td>\n      <td>6.5</td>\n      <td>19.6</td>\n      <td>6.1</td>\n    </tr>\n    <tr>\n      <th>4202</th>\n      <td>9999</td>\n      <td>Horst aan de Maas</td>\n      <td>45</td>\n      <td>30</td>\n      <td>NaN</td>\n      <td>NaN</td>\n      <td>NaN</td>\n      <td>NaN</td>\n      <td>NaN</td>\n      <td>NaN</td>\n      <td>...</td>\n      <td>4.4</td>\n      <td>0</td>\n      <td>1.7</td>\n      <td>5.4</td>\n      <td>0.1</td>\n      <td>3.6</td>\n      <td>28.5</td>\n      <td>6.5</td>\n      <td>19.6</td>\n      <td>6.1</td>\n    </tr>\n    <tr>\n      <th>4203</th>\n      <td>9999</td>\n      <td>Voorschoten</td>\n      <td>45</td>\n      <td>30</td>\n      <td>NaN</td>\n      <td>NaN</td>\n      <td>NaN</td>\n      <td>NaN</td>\n      <td>NaN</td>\n      <td>NaN</td>\n      <td>...</td>\n      <td>4.4</td>\n      <td>0</td>\n      <td>1.7</td>\n      <td>5.4</td>\n      <td>0.1</td>\n      <td>3.6</td>\n      <td>28.5</td>\n      <td>6.5</td>\n      <td>19.6</td>\n      <td>6.1</td>\n    </tr>\n    <tr>\n      <th>4204</th>\n      <td>9999</td>\n      <td>Roermond</td>\n      <td>45</td>\n      <td>30</td>\n      <td>NaN</td>\n      <td>NaN</td>\n      <td>NaN</td>\n      <td>NaN</td>\n      <td>NaN</td>\n      <td>NaN</td>\n      <td>...</td>\n      <td>4.4</td>\n      <td>0</td>\n      <td>1.7</td>\n      <td>5.4</td>\n      <td>0.1</td>\n      <td>3.6</td>\n      <td>28.5</td>\n      <td>6.5</td>\n      <td>19.6</td>\n      <td>6.1</td>\n    </tr>\n  </tbody>\n</table>\n<p>4205 rows × 46 columns</p>\n</div>"
     },
     "metadata": {},
     "execution_count": 17
    }
   ],
   "source": [
    "df_recreatie"
   ]
  },
  {
   "cell_type": "code",
   "execution_count": 19,
   "metadata": {},
   "outputs": [
    {
     "output_type": "execute_result",
     "data": {
      "text/plain": "     postcode   gemeente aantal_woningen aantal_woningen_bouwjaar_voor_1945  \\\n0        1011  Amsterdam            6110                               3605   \n1        1012  Amsterdam            5695                               4725   \n2        1013  Amsterdam           12825                               6930   \n3        1014  Amsterdam             270                                 20   \n4        1015  Amsterdam            9865                               7275   \n..        ...        ...             ...                                ...   \n80       1107  Amsterdam            5395                                 80   \n81       1108  Amsterdam            1680                                 65   \n82       1109  Amsterdam             630                                155   \n107      1181  Amsterdam            9020                               1915   \n110      1183  Amsterdam            6170                                 75   \n\n    aantal_woningen_bouwjaar_45_tot_65 aantal_woningen_bouwjaar_65_tot_75  \\\n0                                  115                                115   \n1                                   20                                 50   \n2                                   75                                115   \n3                                    5                                  5   \n4                                  100                                235   \n..                                 ...                                ...   \n80                                 NaN                                NaN   \n81                                  10                                NaN   \n82                                 180                                 80   \n107                               4865                               1265   \n110                                250                               4215   \n\n    aantal_woningen_bouwjaar_75_tot_85 aantal_woningen_bouwjaar_85_tot_95  \\\n0                                  800                                390   \n1                                   85                                490   \n2                                 1625                               1475   \n3                                    5                                 20   \n4                                  755                               1075   \n..                                 ...                                ...   \n80                                3650                               1660   \n81                                1605                                NaN   \n82                                  45                                145   \n107                                  5                                330   \n110                                 85                                265   \n\n    aantal_woningen_bouwjaar_95_tot_05 aantal_woningen_bouwjaar_05_tot_15  \\\n0                                  670                                370   \n1                                  225                                105   \n2                                  445                               2005   \n3                                  185                                NaN   \n4                                  340                                 80   \n..                                 ...                                ...   \n80                                 NaN                                NaN   \n81                                 NaN                                NaN   \n82                                  20                                NaN   \n107                                435                                110   \n110                                330                                895   \n\n     ... restaurant_gemiddelde_afstand_in_km restaurant_aantal_binnen_1_km  \\\n0    ...                                 0.1                         178.8   \n1    ...                                   0                           313   \n2    ...                                 0.2                          65.6   \n3    ...                                 0.5                          10.1   \n4    ...                                 0.1                         190.4   \n..   ...                                 ...                           ...   \n80   ...                                   1                           1.7   \n81   ...                                 1.5                           0.1   \n82   ...                                 1.7                             0   \n107  ...                                 0.4                           9.3   \n110  ...                                 0.7                           5.6   \n\n    restaurant_aantal_binnen_5_km hotel_gemiddelde_afstand_in_km  \\\n0                          1738.4                            0.2   \n1                          1759.3                            0.1   \n2                          1529.2                            0.6   \n3                          1086.6                            0.4   \n4                          1740.9                            0.3   \n..                            ...                            ...   \n80                           46.8                            3.1   \n81                           61.5                              1   \n82                           28.5                            2.5   \n107                         191.4                            1.1   \n110                         221.6                            1.8   \n\n    hotel_aantal_binnen_5_km hotel_aantal_binnen_10_km  \\\n0                      349.1                       400   \n1                      354.5                     400.2   \n2                        338                     398.9   \n3                      245.4                     400.1   \n4                      359.8                     400.5   \n..                       ...                       ...   \n80                       9.5                      28.9   \n81                       8.7                     114.8   \n82                         3                      23.6   \n107                     19.6                     365.9   \n110                     25.9                     362.5   \n\n    hotel_aantal_binnen_20_km treinstation_gemiddelde_afstand_in_km  \\\n0                       464.4                                   1.2   \n1                       469.9                                   0.8   \n2                       467.7                                   1.7   \n3                       470.6                                   1.7   \n4                       473.5                                   1.3   \n..                        ...                                   ...   \n80                      436.3                                   2.6   \n81                      436.9                                   3.1   \n82                      433.4                                   3.6   \n107                     459.3                                   3.7   \n110                     454.5                                   3.6   \n\n    overstapstation_gemiddelde_afstand_in_km  \\\n0                                        1.2   \n1                                        0.8   \n2                                        1.7   \n3                                        1.7   \n4                                        1.3   \n..                                       ...   \n80                                       6.9   \n81                                         6   \n82                                       3.6   \n107                                      3.7   \n110                                      3.6   \n\n    brandweerkazerne_gemiddelde_afstand_in_km  \n0                                         0.7  \n1                                         1.3  \n2                                           2  \n3                                         1.6  \n4                                           1  \n..                                        ...  \n80                                        2.4  \n81                                        0.8  \n82                                        0.4  \n107                                       2.2  \n110                                         2  \n\n[75 rows x 46 columns]",
      "text/html": "<div>\n<style scoped>\n    .dataframe tbody tr th:only-of-type {\n        vertical-align: middle;\n    }\n\n    .dataframe tbody tr th {\n        vertical-align: top;\n    }\n\n    .dataframe thead th {\n        text-align: right;\n    }\n</style>\n<table border=\"1\" class=\"dataframe\">\n  <thead>\n    <tr style=\"text-align: right;\">\n      <th></th>\n      <th>postcode</th>\n      <th>gemeente</th>\n      <th>aantal_woningen</th>\n      <th>aantal_woningen_bouwjaar_voor_1945</th>\n      <th>aantal_woningen_bouwjaar_45_tot_65</th>\n      <th>aantal_woningen_bouwjaar_65_tot_75</th>\n      <th>aantal_woningen_bouwjaar_75_tot_85</th>\n      <th>aantal_woningen_bouwjaar_85_tot_95</th>\n      <th>aantal_woningen_bouwjaar_95_tot_05</th>\n      <th>aantal_woningen_bouwjaar_05_tot_15</th>\n      <th>...</th>\n      <th>restaurant_gemiddelde_afstand_in_km</th>\n      <th>restaurant_aantal_binnen_1_km</th>\n      <th>restaurant_aantal_binnen_5_km</th>\n      <th>hotel_gemiddelde_afstand_in_km</th>\n      <th>hotel_aantal_binnen_5_km</th>\n      <th>hotel_aantal_binnen_10_km</th>\n      <th>hotel_aantal_binnen_20_km</th>\n      <th>treinstation_gemiddelde_afstand_in_km</th>\n      <th>overstapstation_gemiddelde_afstand_in_km</th>\n      <th>brandweerkazerne_gemiddelde_afstand_in_km</th>\n    </tr>\n  </thead>\n  <tbody>\n    <tr>\n      <th>0</th>\n      <td>1011</td>\n      <td>Amsterdam</td>\n      <td>6110</td>\n      <td>3605</td>\n      <td>115</td>\n      <td>115</td>\n      <td>800</td>\n      <td>390</td>\n      <td>670</td>\n      <td>370</td>\n      <td>...</td>\n      <td>0.1</td>\n      <td>178.8</td>\n      <td>1738.4</td>\n      <td>0.2</td>\n      <td>349.1</td>\n      <td>400</td>\n      <td>464.4</td>\n      <td>1.2</td>\n      <td>1.2</td>\n      <td>0.7</td>\n    </tr>\n    <tr>\n      <th>1</th>\n      <td>1012</td>\n      <td>Amsterdam</td>\n      <td>5695</td>\n      <td>4725</td>\n      <td>20</td>\n      <td>50</td>\n      <td>85</td>\n      <td>490</td>\n      <td>225</td>\n      <td>105</td>\n      <td>...</td>\n      <td>0</td>\n      <td>313</td>\n      <td>1759.3</td>\n      <td>0.1</td>\n      <td>354.5</td>\n      <td>400.2</td>\n      <td>469.9</td>\n      <td>0.8</td>\n      <td>0.8</td>\n      <td>1.3</td>\n    </tr>\n    <tr>\n      <th>2</th>\n      <td>1013</td>\n      <td>Amsterdam</td>\n      <td>12825</td>\n      <td>6930</td>\n      <td>75</td>\n      <td>115</td>\n      <td>1625</td>\n      <td>1475</td>\n      <td>445</td>\n      <td>2005</td>\n      <td>...</td>\n      <td>0.2</td>\n      <td>65.6</td>\n      <td>1529.2</td>\n      <td>0.6</td>\n      <td>338</td>\n      <td>398.9</td>\n      <td>467.7</td>\n      <td>1.7</td>\n      <td>1.7</td>\n      <td>2</td>\n    </tr>\n    <tr>\n      <th>3</th>\n      <td>1014</td>\n      <td>Amsterdam</td>\n      <td>270</td>\n      <td>20</td>\n      <td>5</td>\n      <td>5</td>\n      <td>5</td>\n      <td>20</td>\n      <td>185</td>\n      <td>NaN</td>\n      <td>...</td>\n      <td>0.5</td>\n      <td>10.1</td>\n      <td>1086.6</td>\n      <td>0.4</td>\n      <td>245.4</td>\n      <td>400.1</td>\n      <td>470.6</td>\n      <td>1.7</td>\n      <td>1.7</td>\n      <td>1.6</td>\n    </tr>\n    <tr>\n      <th>4</th>\n      <td>1015</td>\n      <td>Amsterdam</td>\n      <td>9865</td>\n      <td>7275</td>\n      <td>100</td>\n      <td>235</td>\n      <td>755</td>\n      <td>1075</td>\n      <td>340</td>\n      <td>80</td>\n      <td>...</td>\n      <td>0.1</td>\n      <td>190.4</td>\n      <td>1740.9</td>\n      <td>0.3</td>\n      <td>359.8</td>\n      <td>400.5</td>\n      <td>473.5</td>\n      <td>1.3</td>\n      <td>1.3</td>\n      <td>1</td>\n    </tr>\n    <tr>\n      <th>...</th>\n      <td>...</td>\n      <td>...</td>\n      <td>...</td>\n      <td>...</td>\n      <td>...</td>\n      <td>...</td>\n      <td>...</td>\n      <td>...</td>\n      <td>...</td>\n      <td>...</td>\n      <td>...</td>\n      <td>...</td>\n      <td>...</td>\n      <td>...</td>\n      <td>...</td>\n      <td>...</td>\n      <td>...</td>\n      <td>...</td>\n      <td>...</td>\n      <td>...</td>\n      <td>...</td>\n    </tr>\n    <tr>\n      <th>80</th>\n      <td>1107</td>\n      <td>Amsterdam</td>\n      <td>5395</td>\n      <td>80</td>\n      <td>NaN</td>\n      <td>NaN</td>\n      <td>3650</td>\n      <td>1660</td>\n      <td>NaN</td>\n      <td>NaN</td>\n      <td>...</td>\n      <td>1</td>\n      <td>1.7</td>\n      <td>46.8</td>\n      <td>3.1</td>\n      <td>9.5</td>\n      <td>28.9</td>\n      <td>436.3</td>\n      <td>2.6</td>\n      <td>6.9</td>\n      <td>2.4</td>\n    </tr>\n    <tr>\n      <th>81</th>\n      <td>1108</td>\n      <td>Amsterdam</td>\n      <td>1680</td>\n      <td>65</td>\n      <td>10</td>\n      <td>NaN</td>\n      <td>1605</td>\n      <td>NaN</td>\n      <td>NaN</td>\n      <td>NaN</td>\n      <td>...</td>\n      <td>1.5</td>\n      <td>0.1</td>\n      <td>61.5</td>\n      <td>1</td>\n      <td>8.7</td>\n      <td>114.8</td>\n      <td>436.9</td>\n      <td>3.1</td>\n      <td>6</td>\n      <td>0.8</td>\n    </tr>\n    <tr>\n      <th>82</th>\n      <td>1109</td>\n      <td>Amsterdam</td>\n      <td>630</td>\n      <td>155</td>\n      <td>180</td>\n      <td>80</td>\n      <td>45</td>\n      <td>145</td>\n      <td>20</td>\n      <td>NaN</td>\n      <td>...</td>\n      <td>1.7</td>\n      <td>0</td>\n      <td>28.5</td>\n      <td>2.5</td>\n      <td>3</td>\n      <td>23.6</td>\n      <td>433.4</td>\n      <td>3.6</td>\n      <td>3.6</td>\n      <td>0.4</td>\n    </tr>\n    <tr>\n      <th>107</th>\n      <td>1181</td>\n      <td>Amsterdam</td>\n      <td>9020</td>\n      <td>1915</td>\n      <td>4865</td>\n      <td>1265</td>\n      <td>5</td>\n      <td>330</td>\n      <td>435</td>\n      <td>110</td>\n      <td>...</td>\n      <td>0.4</td>\n      <td>9.3</td>\n      <td>191.4</td>\n      <td>1.1</td>\n      <td>19.6</td>\n      <td>365.9</td>\n      <td>459.3</td>\n      <td>3.7</td>\n      <td>3.7</td>\n      <td>2.2</td>\n    </tr>\n    <tr>\n      <th>110</th>\n      <td>1183</td>\n      <td>Amsterdam</td>\n      <td>6170</td>\n      <td>75</td>\n      <td>250</td>\n      <td>4215</td>\n      <td>85</td>\n      <td>265</td>\n      <td>330</td>\n      <td>895</td>\n      <td>...</td>\n      <td>0.7</td>\n      <td>5.6</td>\n      <td>221.6</td>\n      <td>1.8</td>\n      <td>25.9</td>\n      <td>362.5</td>\n      <td>454.5</td>\n      <td>3.6</td>\n      <td>3.6</td>\n      <td>2</td>\n    </tr>\n  </tbody>\n</table>\n<p>75 rows × 46 columns</p>\n</div>"
     },
     "metadata": {},
     "execution_count": 19
    }
   ],
   "source": [
    "RecreatieAPI_Gemeente('Amsterdam')"
   ]
  },
  {
   "cell_type": "code",
   "execution_count": null,
   "metadata": {},
   "outputs": [],
   "source": []
  }
 ],
 "metadata": {
  "language_info": {
   "codemirror_mode": {
    "name": "ipython",
    "version": 3
   },
   "file_extension": ".py",
   "mimetype": "text/x-python",
   "name": "python",
   "nbconvert_exporter": "python",
   "pygments_lexer": "ipython3",
   "version": "3.7.7-final"
  },
  "orig_nbformat": 2,
  "kernelspec": {
   "name": "python3",
   "display_name": "Python 3"
  }
 },
 "nbformat": 4,
 "nbformat_minor": 2
}