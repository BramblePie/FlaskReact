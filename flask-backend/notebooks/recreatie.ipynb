{
 "cells": [
  {
   "cell_type": "code",
   "execution_count": 22,
   "metadata": {},
   "outputs": [],
   "source": [
    "from Helper_functions import *\n"
   ]
  },
  {
   "cell_type": "code",
   "execution_count": 23,
   "metadata": {},
   "outputs": [],
   "source": [
    "test1 = wfs_data(\"https://geodata.nationaalgeoregister.nl/cbspostcode4/wfs?language=eng&\", \"cbspostcode4:postcode42017\",0)\n",
    "test2 = wfs_data(\"https://geodata.nationaalgeoregister.nl/cbspostcode4/wfs?language=eng&\", \"cbspostcode4:postcode42017\",1000)\n",
    "test3 = wfs_data(\"https://geodata.nationaalgeoregister.nl/cbspostcode4/wfs?language=eng&\", \"cbspostcode4:postcode42017\",2000)\n",
    "test4 = wfs_data(\"https://geodata.nationaalgeoregister.nl/cbspostcode4/wfs?language=eng&\", \"cbspostcode4:postcode42017\",3000)\n",
    "test5 = wfs_data(\"https://geodata.nationaalgeoregister.nl/cbspostcode4/wfs?language=eng&\", \"cbspostcode4:postcode42017\",4000)\n"
   ]
  },
  {
   "cell_type": "code",
   "execution_count": 24,
   "metadata": {},
   "outputs": [],
   "source": [
    "df_recreatie = pd.concat([test1, test2, test3, test4, test5], ignore_index=True)\n"
   ]
  },
  {
   "cell_type": "code",
   "execution_count": 25,
   "metadata": {},
   "outputs": [],
   "source": [
    "df_recreatie = df_recreatie[['aantal_woningen','aantal_woningen_bouwjaar_voor_1945','aantal_woningen_bouwjaar_45_tot_65','aantal_woningen_bouwjaar_65_tot_75','aantal_woningen_bouwjaar_75_tot_85','aantal_woningen_bouwjaar_85_tot_95','aantal_woningen_bouwjaar_95_tot_05','aantal_woningen_bouwjaar_05_tot_15','aantal_woningen_bouwjaar_15_en_later','gemiddelde_woz_waarde_woning','percentage_koopwoningen', 'percentage_huurwoningen','kinderdagverblijf_gemiddelde_afstand_in_km','kinderdagverblijf_aantal_binnen_1_km','kinderdagverblijf_aantal_binnen_3_km','kinderdagverblijf_aantal_binnen_5_km','buitenschoolse_opvang_gem_afstand_in_km','buitenschoolse_opvang_aantal_binnen_1_km','buitenschoolse_opvang_aantal_binnen_3_km','buitenschoolse_opvang_aantal_binnen_5_km','grote_supermarkt_gemiddelde_afstand_in_km','grote_supermarkt_aantal_binnen_1_km','grote_supermarkt_aantal_binnen_3_km','grote_supermarkt_aantal_binnen_5_km','winkels_ov_dagelijkse_levensm_gem_afst_in_km','winkels_ov_dagel_levensm_aantal_binnen_1_km','winkels_ov_dagel_levensm_aantal_binnen_3_km','winkels_ov_dagel_levensm_aantal_binnen_5_km','warenhuis_gemiddelde_afstand_in_km', 'warenhuis_aantal_binnen_5_km',\n",
    "'warenhuis_aantal_binnen_10_km', 'warenhuis_aantal_binnen_20_km','cafe_gemiddelde_afstand_in_km', 'cafe_aantal_binnen_1_km','cafe_aantal_binnen_3_km', 'cafe_aantal_binnen_5_km','cafetaria_gemiddelde_afstand_in_km', 'cafetaria_aantal_binnen_1_km','cafetaria_aantal_binnen_3_km', 'cafetaria_aantal_binnen_5_km','restaurant_gemiddelde_afstand_in_km','restaurant_aantal_binnen_1_km','restaurant_aantal_binnen_3_km', 'restaurant_aantal_binnen_5_km','hotel_gemiddelde_afstand_in_km', 'hotel_aantal_binnen_5_km','hotel_aantal_binnen_10_km', 'hotel_aantal_binnen_20_km','treinstation_gemiddelde_afstand_in_km','overstapstation_gemiddelde_afstand_in_km','brandweerkazerne_gemiddelde_afstand_in_km','geometry']]\n"
   ]
  },
  {
   "cell_type": "markdown",
   "metadata": {},
   "source": [
    "# maken van data preparation, -99997 werkwerken enz. "
   ]
  },
  {
   "cell_type": "code",
   "execution_count": 26,
   "metadata": {},
   "outputs": [],
   "source": [
    "df = gpd.read_file('zip://Postcode4.zip')\n"
   ]
  },
  {
   "cell_type": "code",
   "execution_count": 38,
   "metadata": {},
   "outputs": [],
   "source": [
    "df_recreatie = pd.concat([df_recreatie, df['PC4']], axis=1)\n",
    "df_recreatie = df_recreatie[['PC4','aantal_woningen', 'aantal_woningen_bouwjaar_voor_1945',\n",
    "       'aantal_woningen_bouwjaar_45_tot_65',\n",
    "       'aantal_woningen_bouwjaar_65_tot_75',\n",
    "       'aantal_woningen_bouwjaar_75_tot_85',\n",
    "       'aantal_woningen_bouwjaar_85_tot_95',\n",
    "       'aantal_woningen_bouwjaar_95_tot_05',\n",
    "       'aantal_woningen_bouwjaar_05_tot_15',\n",
    "       'aantal_woningen_bouwjaar_15_en_later', 'gemiddelde_woz_waarde_woning',\n",
    "       'percentage_koopwoningen', 'percentage_huurwoningen',\n",
    "       'kinderdagverblijf_gemiddelde_afstand_in_km',\n",
    "       'kinderdagverblijf_aantal_binnen_1_km',\n",
    "       'kinderdagverblijf_aantal_binnen_3_km',\n",
    "       'kinderdagverblijf_aantal_binnen_5_km',\n",
    "       'buitenschoolse_opvang_gem_afstand_in_km',\n",
    "       'buitenschoolse_opvang_aantal_binnen_1_km',\n",
    "       'buitenschoolse_opvang_aantal_binnen_3_km',\n",
    "       'buitenschoolse_opvang_aantal_binnen_5_km',\n",
    "       'grote_supermarkt_gemiddelde_afstand_in_km',\n",
    "       'grote_supermarkt_aantal_binnen_1_km',\n",
    "       'grote_supermarkt_aantal_binnen_3_km',\n",
    "       'grote_supermarkt_aantal_binnen_5_km',\n",
    "       'winkels_ov_dagelijkse_levensm_gem_afst_in_km',\n",
    "       'winkels_ov_dagel_levensm_aantal_binnen_1_km',\n",
    "       'winkels_ov_dagel_levensm_aantal_binnen_3_km',\n",
    "       'winkels_ov_dagel_levensm_aantal_binnen_5_km',\n",
    "       'warenhuis_gemiddelde_afstand_in_km', 'warenhuis_aantal_binnen_5_km',\n",
    "       'warenhuis_aantal_binnen_10_km', 'warenhuis_aantal_binnen_20_km',\n",
    "       'cafe_gemiddelde_afstand_in_km', 'cafe_aantal_binnen_1_km',\n",
    "       'cafe_aantal_binnen_3_km', 'cafe_aantal_binnen_5_km',\n",
    "       'cafetaria_gemiddelde_afstand_in_km', 'cafetaria_aantal_binnen_1_km',\n",
    "       'cafetaria_aantal_binnen_3_km', 'cafetaria_aantal_binnen_5_km',\n",
    "       'restaurant_gemiddelde_afstand_in_km', 'restaurant_aantal_binnen_1_km',\n",
    "       'restaurant_aantal_binnen_3_km', 'restaurant_aantal_binnen_5_km',\n",
    "       'hotel_gemiddelde_afstand_in_km', 'hotel_aantal_binnen_5_km',\n",
    "       'hotel_aantal_binnen_10_km', 'hotel_aantal_binnen_20_km',\n",
    "       'treinstation_gemiddelde_afstand_in_km',\n",
    "       'overstapstation_gemiddelde_afstand_in_km',\n",
    "       'brandweerkazerne_gemiddelde_afstand_in_km', 'geometry']]\n"
   ]
  },
  {
   "cell_type": "code",
   "execution_count": 41,
   "metadata": {},
   "outputs": [
    {
     "output_type": "execute_result",
     "data": {
      "text/plain": "       PC4 aantal_woningen aantal_woningen_bouwjaar_voor_1945  \\\n0     1011            6110                               3605   \n1     1012            5695                               4725   \n2     1013           12825                               6930   \n3     1014             270                                 20   \n4     1015            9865                               7275   \n...    ...             ...                                ...   \n4061  9995             295                                135   \n4062  9996              35                                 25   \n4063  9997             265                                145   \n4064  9998              75                                 45   \n4065  9999              45                                 30   \n\n     aantal_woningen_bouwjaar_45_tot_65 aantal_woningen_bouwjaar_65_tot_75  \\\n0                                   115                                115   \n1                                    20                                 50   \n2                                    75                                115   \n3                                     5                                  5   \n4                                   100                                235   \n...                                 ...                                ...   \n4061                                 40                                 55   \n4062                             -99997                             -99997   \n4063                                 30                                 50   \n4064                                 10                             -99997   \n4065                             -99997                             -99997   \n\n     aantal_woningen_bouwjaar_75_tot_85 aantal_woningen_bouwjaar_85_tot_95  \\\n0                                   800                                390   \n1                                    85                                490   \n2                                  1625                               1475   \n3                                     5                                 20   \n4                                   755                               1075   \n...                                 ...                                ...   \n4061                                 20                                 15   \n4062                             -99997                             -99997   \n4063                                  5                             -99997   \n4064                             -99997                             -99997   \n4065                             -99997                             -99997   \n\n     aantal_woningen_bouwjaar_95_tot_05 aantal_woningen_bouwjaar_05_tot_15  \\\n0                                   670                                370   \n1                                   225                                105   \n2                                   445                               2005   \n3                                   185                             -99997   \n4                                   340                                 80   \n...                                 ...                                ...   \n4061                                 25                             -99997   \n4062                             -99997                             -99997   \n4063                                 20                                  5   \n4064                                  5                             -99997   \n4065                             -99997                             -99997   \n\n     aantal_woningen_bouwjaar_15_en_later  ... restaurant_aantal_binnen_3_km  \\\n0                                      45  ...                        1219.4   \n1                                  -99997  ...                        1267.9   \n2                                     160  ...                         729.6   \n3                                      25  ...                         204.4   \n4                                  -99997  ...                        1137.5   \n...                                   ...  ...                           ...   \n4061                               -99997  ...                           1.8   \n4062                               -99997  ...                             0   \n4063                               -99997  ...                           6.2   \n4064                               -99997  ...                           0.3   \n4065                               -99997  ...                           0.1   \n\n     restaurant_aantal_binnen_5_km hotel_gemiddelde_afstand_in_km  \\\n0                           1738.4                            0.2   \n1                           1759.3                            0.1   \n2                           1529.2                            0.6   \n3                           1086.6                            0.4   \n4                           1740.9                            0.3   \n...                            ...                            ...   \n4061                           3.4                            2.3   \n4062                           7.7                            3.9   \n4063                             8                            2.6   \n4064                           3.1                            4.5   \n4065                           1.7                            5.4   \n\n     hotel_aantal_binnen_5_km hotel_aantal_binnen_10_km  \\\n0                       349.1                       400   \n1                       354.5                     400.2   \n2                         338                     398.9   \n3                       245.4                     400.1   \n4                       359.8                     400.5   \n...                       ...                       ...   \n4061                        1                       4.3   \n4062                      2.6                       5.9   \n4063                      2.5                       5.5   \n4064                      0.9                         4   \n4065                      0.1                       3.6   \n\n     hotel_aantal_binnen_20_km treinstation_gemiddelde_afstand_in_km  \\\n0                        464.4                                   1.2   \n1                        469.9                                   0.8   \n2                        467.7                                   1.7   \n3                        470.6                                   1.7   \n4                        473.5                                   1.3   \n...                        ...                                   ...   \n4061                      16.6                                     5   \n4062                      11.5                                   4.3   \n4063                        12                                     3   \n4064                      13.5                                   3.7   \n4065                      28.5                                   6.5   \n\n     overstapstation_gemiddelde_afstand_in_km  \\\n0                                         1.2   \n1                                         0.8   \n2                                         1.7   \n3                                         1.7   \n4                                         1.3   \n...                                       ...   \n4061                                     21.5   \n4062                                     23.8   \n4063                                     25.2   \n4064                                     23.1   \n4065                                     19.6   \n\n     brandweerkazerne_gemiddelde_afstand_in_km  \\\n0                                          0.7   \n1                                          1.3   \n2                                            2   \n3                                          1.6   \n4                                            1   \n...                                        ...   \n4061                                       3.1   \n4062                                       4.7   \n4063                                       3.3   \n4064                                       5.3   \n4065                                       6.1   \n\n                                               geometry  \n0     POLYGON ((122246.232 487910.177, 122259.064 48...  \n1     POLYGON ((121995.029 488243.202, 121999.664 48...  \n2     POLYGON ((120506.219 489494.551, 120495.813 48...  \n3     POLYGON ((120390.113 489860.746, 120387.401 48...  \n4     POLYGON ((120665.642 488535.500, 120668.785 48...  \n...                                                 ...  \n4061  POLYGON ((239924.227 600089.649, 240113.770 59...  \n4062  POLYGON ((242620.211 600841.827, 242626.305 60...  \n4063  POLYGON ((240755.585 602191.415, 240752.643 60...  \n4064  POLYGON ((237960.007 602041.398, 237962.650 60...  \n4065  POLYGON ((235725.834 598999.629, 235737.522 59...  \n\n[4066 rows x 53 columns]",
      "text/html": "<div>\n<style scoped>\n    .dataframe tbody tr th:only-of-type {\n        vertical-align: middle;\n    }\n\n    .dataframe tbody tr th {\n        vertical-align: top;\n    }\n\n    .dataframe thead th {\n        text-align: right;\n    }\n</style>\n<table border=\"1\" class=\"dataframe\">\n  <thead>\n    <tr style=\"text-align: right;\">\n      <th></th>\n      <th>PC4</th>\n      <th>aantal_woningen</th>\n      <th>aantal_woningen_bouwjaar_voor_1945</th>\n      <th>aantal_woningen_bouwjaar_45_tot_65</th>\n      <th>aantal_woningen_bouwjaar_65_tot_75</th>\n      <th>aantal_woningen_bouwjaar_75_tot_85</th>\n      <th>aantal_woningen_bouwjaar_85_tot_95</th>\n      <th>aantal_woningen_bouwjaar_95_tot_05</th>\n      <th>aantal_woningen_bouwjaar_05_tot_15</th>\n      <th>aantal_woningen_bouwjaar_15_en_later</th>\n      <th>...</th>\n      <th>restaurant_aantal_binnen_3_km</th>\n      <th>restaurant_aantal_binnen_5_km</th>\n      <th>hotel_gemiddelde_afstand_in_km</th>\n      <th>hotel_aantal_binnen_5_km</th>\n      <th>hotel_aantal_binnen_10_km</th>\n      <th>hotel_aantal_binnen_20_km</th>\n      <th>treinstation_gemiddelde_afstand_in_km</th>\n      <th>overstapstation_gemiddelde_afstand_in_km</th>\n      <th>brandweerkazerne_gemiddelde_afstand_in_km</th>\n      <th>geometry</th>\n    </tr>\n  </thead>\n  <tbody>\n    <tr>\n      <th>0</th>\n      <td>1011</td>\n      <td>6110</td>\n      <td>3605</td>\n      <td>115</td>\n      <td>115</td>\n      <td>800</td>\n      <td>390</td>\n      <td>670</td>\n      <td>370</td>\n      <td>45</td>\n      <td>...</td>\n      <td>1219.4</td>\n      <td>1738.4</td>\n      <td>0.2</td>\n      <td>349.1</td>\n      <td>400</td>\n      <td>464.4</td>\n      <td>1.2</td>\n      <td>1.2</td>\n      <td>0.7</td>\n      <td>POLYGON ((122246.232 487910.177, 122259.064 48...</td>\n    </tr>\n    <tr>\n      <th>1</th>\n      <td>1012</td>\n      <td>5695</td>\n      <td>4725</td>\n      <td>20</td>\n      <td>50</td>\n      <td>85</td>\n      <td>490</td>\n      <td>225</td>\n      <td>105</td>\n      <td>-99997</td>\n      <td>...</td>\n      <td>1267.9</td>\n      <td>1759.3</td>\n      <td>0.1</td>\n      <td>354.5</td>\n      <td>400.2</td>\n      <td>469.9</td>\n      <td>0.8</td>\n      <td>0.8</td>\n      <td>1.3</td>\n      <td>POLYGON ((121995.029 488243.202, 121999.664 48...</td>\n    </tr>\n    <tr>\n      <th>2</th>\n      <td>1013</td>\n      <td>12825</td>\n      <td>6930</td>\n      <td>75</td>\n      <td>115</td>\n      <td>1625</td>\n      <td>1475</td>\n      <td>445</td>\n      <td>2005</td>\n      <td>160</td>\n      <td>...</td>\n      <td>729.6</td>\n      <td>1529.2</td>\n      <td>0.6</td>\n      <td>338</td>\n      <td>398.9</td>\n      <td>467.7</td>\n      <td>1.7</td>\n      <td>1.7</td>\n      <td>2</td>\n      <td>POLYGON ((120506.219 489494.551, 120495.813 48...</td>\n    </tr>\n    <tr>\n      <th>3</th>\n      <td>1014</td>\n      <td>270</td>\n      <td>20</td>\n      <td>5</td>\n      <td>5</td>\n      <td>5</td>\n      <td>20</td>\n      <td>185</td>\n      <td>-99997</td>\n      <td>25</td>\n      <td>...</td>\n      <td>204.4</td>\n      <td>1086.6</td>\n      <td>0.4</td>\n      <td>245.4</td>\n      <td>400.1</td>\n      <td>470.6</td>\n      <td>1.7</td>\n      <td>1.7</td>\n      <td>1.6</td>\n      <td>POLYGON ((120390.113 489860.746, 120387.401 48...</td>\n    </tr>\n    <tr>\n      <th>4</th>\n      <td>1015</td>\n      <td>9865</td>\n      <td>7275</td>\n      <td>100</td>\n      <td>235</td>\n      <td>755</td>\n      <td>1075</td>\n      <td>340</td>\n      <td>80</td>\n      <td>-99997</td>\n      <td>...</td>\n      <td>1137.5</td>\n      <td>1740.9</td>\n      <td>0.3</td>\n      <td>359.8</td>\n      <td>400.5</td>\n      <td>473.5</td>\n      <td>1.3</td>\n      <td>1.3</td>\n      <td>1</td>\n      <td>POLYGON ((120665.642 488535.500, 120668.785 48...</td>\n    </tr>\n    <tr>\n      <th>...</th>\n      <td>...</td>\n      <td>...</td>\n      <td>...</td>\n      <td>...</td>\n      <td>...</td>\n      <td>...</td>\n      <td>...</td>\n      <td>...</td>\n      <td>...</td>\n      <td>...</td>\n      <td>...</td>\n      <td>...</td>\n      <td>...</td>\n      <td>...</td>\n      <td>...</td>\n      <td>...</td>\n      <td>...</td>\n      <td>...</td>\n      <td>...</td>\n      <td>...</td>\n      <td>...</td>\n    </tr>\n    <tr>\n      <th>4061</th>\n      <td>9995</td>\n      <td>295</td>\n      <td>135</td>\n      <td>40</td>\n      <td>55</td>\n      <td>20</td>\n      <td>15</td>\n      <td>25</td>\n      <td>-99997</td>\n      <td>-99997</td>\n      <td>...</td>\n      <td>1.8</td>\n      <td>3.4</td>\n      <td>2.3</td>\n      <td>1</td>\n      <td>4.3</td>\n      <td>16.6</td>\n      <td>5</td>\n      <td>21.5</td>\n      <td>3.1</td>\n      <td>POLYGON ((239924.227 600089.649, 240113.770 59...</td>\n    </tr>\n    <tr>\n      <th>4062</th>\n      <td>9996</td>\n      <td>35</td>\n      <td>25</td>\n      <td>-99997</td>\n      <td>-99997</td>\n      <td>-99997</td>\n      <td>-99997</td>\n      <td>-99997</td>\n      <td>-99997</td>\n      <td>-99997</td>\n      <td>...</td>\n      <td>0</td>\n      <td>7.7</td>\n      <td>3.9</td>\n      <td>2.6</td>\n      <td>5.9</td>\n      <td>11.5</td>\n      <td>4.3</td>\n      <td>23.8</td>\n      <td>4.7</td>\n      <td>POLYGON ((242620.211 600841.827, 242626.305 60...</td>\n    </tr>\n    <tr>\n      <th>4063</th>\n      <td>9997</td>\n      <td>265</td>\n      <td>145</td>\n      <td>30</td>\n      <td>50</td>\n      <td>5</td>\n      <td>-99997</td>\n      <td>20</td>\n      <td>5</td>\n      <td>-99997</td>\n      <td>...</td>\n      <td>6.2</td>\n      <td>8</td>\n      <td>2.6</td>\n      <td>2.5</td>\n      <td>5.5</td>\n      <td>12</td>\n      <td>3</td>\n      <td>25.2</td>\n      <td>3.3</td>\n      <td>POLYGON ((240755.585 602191.415, 240752.643 60...</td>\n    </tr>\n    <tr>\n      <th>4064</th>\n      <td>9998</td>\n      <td>75</td>\n      <td>45</td>\n      <td>10</td>\n      <td>-99997</td>\n      <td>-99997</td>\n      <td>-99997</td>\n      <td>5</td>\n      <td>-99997</td>\n      <td>-99997</td>\n      <td>...</td>\n      <td>0.3</td>\n      <td>3.1</td>\n      <td>4.5</td>\n      <td>0.9</td>\n      <td>4</td>\n      <td>13.5</td>\n      <td>3.7</td>\n      <td>23.1</td>\n      <td>5.3</td>\n      <td>POLYGON ((237960.007 602041.398, 237962.650 60...</td>\n    </tr>\n    <tr>\n      <th>4065</th>\n      <td>9999</td>\n      <td>45</td>\n      <td>30</td>\n      <td>-99997</td>\n      <td>-99997</td>\n      <td>-99997</td>\n      <td>-99997</td>\n      <td>-99997</td>\n      <td>-99997</td>\n      <td>-99997</td>\n      <td>...</td>\n      <td>0.1</td>\n      <td>1.7</td>\n      <td>5.4</td>\n      <td>0.1</td>\n      <td>3.6</td>\n      <td>28.5</td>\n      <td>6.5</td>\n      <td>19.6</td>\n      <td>6.1</td>\n      <td>POLYGON ((235725.834 598999.629, 235737.522 59...</td>\n    </tr>\n  </tbody>\n</table>\n<p>4066 rows × 53 columns</p>\n</div>"
     },
     "metadata": {},
     "execution_count": 41
    }
   ],
   "source": [
    "df_recreatie.replace(-99997, np.nan)\n",
    "df_recreatie"
   ]
  },
  {
   "cell_type": "code",
   "execution_count": null,
   "metadata": {},
   "outputs": [],
   "source": []
  }
 ],
 "metadata": {
  "language_info": {
   "codemirror_mode": {
    "name": "ipython",
    "version": 3
   },
   "file_extension": ".py",
   "mimetype": "text/x-python",
   "name": "python",
   "nbconvert_exporter": "python",
   "pygments_lexer": "ipython3",
   "version": "3.7.7-final"
  },
  "orig_nbformat": 2,
  "kernelspec": {
   "name": "python3",
   "display_name": "Python 3"
  }
 },
 "nbformat": 4,
 "nbformat_minor": 2
}