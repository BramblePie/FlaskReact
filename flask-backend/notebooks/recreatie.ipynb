{
 "cells": [
  {
   "cell_type": "code",
   "execution_count": 70,
   "metadata": {},
   "outputs": [],
   "source": [
    "from Helper_functions import *\n"
   ]
  },
  {
   "cell_type": "code",
   "execution_count": 71,
   "metadata": {},
   "outputs": [],
   "source": [
    "test1 = wfs_data(\"https://geodata.nationaalgeoregister.nl/cbspostcode4/wfs?language=eng&\", \"cbspostcode4:postcode42017\",0)\n",
    "test2 = wfs_data(\"https://geodata.nationaalgeoregister.nl/cbspostcode4/wfs?language=eng&\", \"cbspostcode4:postcode42017\",1000)\n",
    "test3 = wfs_data(\"https://geodata.nationaalgeoregister.nl/cbspostcode4/wfs?language=eng&\", \"cbspostcode4:postcode42017\",2000)\n",
    "test4 = wfs_data(\"https://geodata.nationaalgeoregister.nl/cbspostcode4/wfs?language=eng&\", \"cbspostcode4:postcode42017\",3000)\n",
    "test5 = wfs_data(\"https://geodata.nationaalgeoregister.nl/cbspostcode4/wfs?language=eng&\", \"cbspostcode4:postcode42017\",4000)\n"
   ]
  },
  {
   "cell_type": "code",
   "execution_count": 72,
   "metadata": {},
   "outputs": [],
   "source": [
    "df_recreatie = pd.concat([test1, test2, test3, test4, test5], ignore_index=True)\n"
   ]
  },
  {
   "cell_type": "code",
   "execution_count": 73,
   "metadata": {},
   "outputs": [],
   "source": [
    "df_recreatie = df_recreatie[['aantal_woningen','aantal_woningen_bouwjaar_voor_1945','aantal_woningen_bouwjaar_45_tot_65','aantal_woningen_bouwjaar_65_tot_75','aantal_woningen_bouwjaar_75_tot_85','aantal_woningen_bouwjaar_85_tot_95','aantal_woningen_bouwjaar_95_tot_05','aantal_woningen_bouwjaar_05_tot_15','aantal_woningen_bouwjaar_15_en_later','gemiddelde_woz_waarde_woning','percentage_koopwoningen', 'percentage_huurwoningen','kinderdagverblijf_gemiddelde_afstand_in_km','kinderdagverblijf_aantal_binnen_1_km','kinderdagverblijf_aantal_binnen_3_km','kinderdagverblijf_aantal_binnen_5_km','buitenschoolse_opvang_gem_afstand_in_km','buitenschoolse_opvang_aantal_binnen_1_km','buitenschoolse_opvang_aantal_binnen_3_km','buitenschoolse_opvang_aantal_binnen_5_km','grote_supermarkt_gemiddelde_afstand_in_km','grote_supermarkt_aantal_binnen_1_km','grote_supermarkt_aantal_binnen_3_km','grote_supermarkt_aantal_binnen_5_km','winkels_ov_dagelijkse_levensm_gem_afst_in_km','winkels_ov_dagel_levensm_aantal_binnen_1_km','winkels_ov_dagel_levensm_aantal_binnen_3_km','winkels_ov_dagel_levensm_aantal_binnen_5_km','warenhuis_gemiddelde_afstand_in_km', 'warenhuis_aantal_binnen_5_km',\n",
    "'warenhuis_aantal_binnen_10_km', 'warenhuis_aantal_binnen_20_km','cafe_gemiddelde_afstand_in_km', 'cafe_aantal_binnen_1_km','cafe_aantal_binnen_3_km', 'cafe_aantal_binnen_5_km','cafetaria_gemiddelde_afstand_in_km', 'cafetaria_aantal_binnen_1_km','cafetaria_aantal_binnen_3_km', 'cafetaria_aantal_binnen_5_km','restaurant_gemiddelde_afstand_in_km','restaurant_aantal_binnen_1_km','restaurant_aantal_binnen_3_km', 'restaurant_aantal_binnen_5_km','hotel_gemiddelde_afstand_in_km', 'hotel_aantal_binnen_5_km','hotel_aantal_binnen_10_km', 'hotel_aantal_binnen_20_km','treinstation_gemiddelde_afstand_in_km','overstapstation_gemiddelde_afstand_in_km','brandweerkazerne_gemiddelde_afstand_in_km','geometry']]\n"
   ]
  },
  {
   "cell_type": "code",
   "execution_count": 74,
   "metadata": {},
   "outputs": [],
   "source": [
    "df = gpd.read_file('zip://Postcode4.zip')\n"
   ]
  },
  {
   "cell_type": "code",
   "execution_count": 75,
   "metadata": {},
   "outputs": [],
   "source": [
    "df_recreatie = pd.concat([df_recreatie, df['PC4']], axis=1)\n",
    "df_recreatie = df_recreatie[['PC4','aantal_woningen', 'aantal_woningen_bouwjaar_voor_1945',\n",
    "       'aantal_woningen_bouwjaar_45_tot_65',\n",
    "       'aantal_woningen_bouwjaar_65_tot_75',\n",
    "       'aantal_woningen_bouwjaar_75_tot_85',\n",
    "       'aantal_woningen_bouwjaar_85_tot_95',\n",
    "       'aantal_woningen_bouwjaar_95_tot_05',\n",
    "       'aantal_woningen_bouwjaar_05_tot_15',\n",
    "       'aantal_woningen_bouwjaar_15_en_later', 'gemiddelde_woz_waarde_woning',\n",
    "       'percentage_koopwoningen', 'percentage_huurwoningen',\n",
    "       'kinderdagverblijf_gemiddelde_afstand_in_km',\n",
    "       'kinderdagverblijf_aantal_binnen_1_km',\n",
    "       'kinderdagverblijf_aantal_binnen_5_km',\n",
    "       'buitenschoolse_opvang_gem_afstand_in_km',\n",
    "       'buitenschoolse_opvang_aantal_binnen_1_km',\n",
    "       'buitenschoolse_opvang_aantal_binnen_5_km',\n",
    "       'grote_supermarkt_gemiddelde_afstand_in_km',\n",
    "       'grote_supermarkt_aantal_binnen_1_km',\n",
    "       'grote_supermarkt_aantal_binnen_5_km',\n",
    "       'winkels_ov_dagelijkse_levensm_gem_afst_in_km',\n",
    "       'winkels_ov_dagel_levensm_aantal_binnen_1_km',\n",
    "       'winkels_ov_dagel_levensm_aantal_binnen_5_km',\n",
    "       'warenhuis_gemiddelde_afstand_in_km', 'warenhuis_aantal_binnen_5_km',\n",
    "       'warenhuis_aantal_binnen_10_km', 'warenhuis_aantal_binnen_20_km',\n",
    "       'cafe_gemiddelde_afstand_in_km', 'cafe_aantal_binnen_1_km', 'cafe_aantal_binnen_5_km',\n",
    "       'cafetaria_gemiddelde_afstand_in_km', 'cafetaria_aantal_binnen_1_km', 'cafetaria_aantal_binnen_5_km',\n",
    "       'restaurant_gemiddelde_afstand_in_km', 'restaurant_aantal_binnen_1_km', 'restaurant_aantal_binnen_5_km',\n",
    "       'hotel_gemiddelde_afstand_in_km', 'hotel_aantal_binnen_5_km',\n",
    "       'hotel_aantal_binnen_10_km', 'hotel_aantal_binnen_20_km',\n",
    "       'treinstation_gemiddelde_afstand_in_km',\n",
    "       'overstapstation_gemiddelde_afstand_in_km',\n",
    "       'brandweerkazerne_gemiddelde_afstand_in_km', 'geometry']]\n"
   ]
  },
  {
   "cell_type": "code",
   "execution_count": 76,
   "metadata": {},
   "outputs": [],
   "source": [
    "df_recreatie = df_recreatie.replace('-99997', np.nan)\n"
   ]
  },
  {
   "cell_type": "code",
   "execution_count": 77,
   "metadata": {},
   "outputs": [
    {
     "output_type": "execute_result",
     "data": {
      "text/plain": "Index(['PC4', 'aantal_woningen', 'aantal_woningen_bouwjaar_voor_1945',\n       'aantal_woningen_bouwjaar_45_tot_65',\n       'aantal_woningen_bouwjaar_65_tot_75',\n       'aantal_woningen_bouwjaar_75_tot_85',\n       'aantal_woningen_bouwjaar_85_tot_95',\n       'aantal_woningen_bouwjaar_95_tot_05',\n       'aantal_woningen_bouwjaar_05_tot_15',\n       'aantal_woningen_bouwjaar_15_en_later', 'gemiddelde_woz_waarde_woning',\n       'percentage_koopwoningen', 'percentage_huurwoningen',\n       'kinderdagverblijf_gemiddelde_afstand_in_km',\n       'kinderdagverblijf_aantal_binnen_1_km',\n       'kinderdagverblijf_aantal_binnen_5_km',\n       'buitenschoolse_opvang_gem_afstand_in_km',\n       'buitenschoolse_opvang_aantal_binnen_1_km',\n       'buitenschoolse_opvang_aantal_binnen_5_km',\n       'grote_supermarkt_gemiddelde_afstand_in_km',\n       'grote_supermarkt_aantal_binnen_1_km',\n       'grote_supermarkt_aantal_binnen_5_km',\n       'winkels_ov_dagelijkse_levensm_gem_afst_in_km',\n       'winkels_ov_dagel_levensm_aantal_binnen_1_km',\n       'winkels_ov_dagel_levensm_aantal_binnen_5_km',\n       'warenhuis_gemiddelde_afstand_in_km', 'warenhuis_aantal_binnen_5_km',\n       'warenhuis_aantal_binnen_10_km', 'warenhuis_aantal_binnen_20_km',\n       'cafe_gemiddelde_afstand_in_km', 'cafe_aantal_binnen_1_km',\n       'cafe_aantal_binnen_5_km', 'cafetaria_gemiddelde_afstand_in_km',\n       'cafetaria_aantal_binnen_1_km', 'cafetaria_aantal_binnen_5_km',\n       'restaurant_gemiddelde_afstand_in_km', 'restaurant_aantal_binnen_1_km',\n       'restaurant_aantal_binnen_5_km', 'hotel_gemiddelde_afstand_in_km',\n       'hotel_aantal_binnen_5_km', 'hotel_aantal_binnen_10_km',\n       'hotel_aantal_binnen_20_km', 'treinstation_gemiddelde_afstand_in_km',\n       'overstapstation_gemiddelde_afstand_in_km',\n       'brandweerkazerne_gemiddelde_afstand_in_km', 'geometry'],\n      dtype='object')"
     },
     "metadata": {},
     "execution_count": 77
    }
   ],
   "source": [
    "df_recreatie.columns"
   ]
  },
  {
   "cell_type": "code",
   "execution_count": 78,
   "metadata": {},
   "outputs": [],
   "source": [
    "df_recreatie_formulier = df_recreatie\n",
    "lijst = df_recreatie_formulier[['aantal_woningen_bouwjaar_voor_1945',\n",
    "       'aantal_woningen_bouwjaar_45_tot_65',\n",
    "       'aantal_woningen_bouwjaar_65_tot_75',\n",
    "       'aantal_woningen_bouwjaar_75_tot_85',\n",
    "       'aantal_woningen_bouwjaar_85_tot_95',\n",
    "       'aantal_woningen_bouwjaar_95_tot_05',\n",
    "       'aantal_woningen_bouwjaar_05_tot_15',\n",
    "       'aantal_woningen_bouwjaar_15_en_later','gemiddelde_woz_waarde_woning',\n",
    "       'percentage_koopwoningen', 'percentage_huurwoningen',\n",
    "       'kinderdagverblijf_gemiddelde_afstand_in_km',\n",
    "       'kinderdagverblijf_aantal_binnen_1_km',\n",
    "       'kinderdagverblijf_aantal_binnen_5_km',\n",
    "       'buitenschoolse_opvang_gem_afstand_in_km',\n",
    "       'buitenschoolse_opvang_aantal_binnen_1_km',\n",
    "       'buitenschoolse_opvang_aantal_binnen_5_km',\n",
    "       'grote_supermarkt_gemiddelde_afstand_in_km',\n",
    "       'grote_supermarkt_aantal_binnen_1_km',\n",
    "       'grote_supermarkt_aantal_binnen_5_km',\n",
    "       'winkels_ov_dagelijkse_levensm_gem_afst_in_km',\n",
    "       'winkels_ov_dagel_levensm_aantal_binnen_1_km',\n",
    "       'winkels_ov_dagel_levensm_aantal_binnen_5_km',\n",
    "       'warenhuis_gemiddelde_afstand_in_km', 'warenhuis_aantal_binnen_5_km',\n",
    "       'warenhuis_aantal_binnen_10_km', 'warenhuis_aantal_binnen_20_km',\n",
    "       'cafe_gemiddelde_afstand_in_km', 'cafe_aantal_binnen_1_km', 'cafe_aantal_binnen_5_km',\n",
    "       'cafetaria_gemiddelde_afstand_in_km', 'cafetaria_aantal_binnen_1_km', 'cafetaria_aantal_binnen_5_km',\n",
    "       'restaurant_gemiddelde_afstand_in_km', 'restaurant_aantal_binnen_1_km', 'restaurant_aantal_binnen_5_km',\n",
    "       'hotel_gemiddelde_afstand_in_km', 'hotel_aantal_binnen_5_km',\n",
    "       'hotel_aantal_binnen_10_km', 'hotel_aantal_binnen_20_km',\n",
    "       'treinstation_gemiddelde_afstand_in_km',\n",
    "       'overstapstation_gemiddelde_afstand_in_km',\n",
    "       'brandweerkazerne_gemiddelde_afstand_in_km']]\n",
    "\n",
    "for x in lijst:\n",
    "    kolom = df_recreatie_formulier[[x]]\n",
    "    min_max_scaler = preprocessing.MinMaxScaler()\n",
    "    x_scaled = min_max_scaler.fit_transform(kolom)\n",
    "    df_recreatie_formulier[x + \"_genormaliseerd\"] = pd.DataFrame(x_scaled)\n",
    "    df_recreatie_formulier = movecol(df_recreatie_formulier, cols_to_move=[x + \"_genormaliseerd\"], ref_col=x, place='After')\n",
    "\n",
    "\n",
    "\n"
   ]
  },
  {
   "cell_type": "code",
   "execution_count": 79,
   "metadata": {},
   "outputs": [],
   "source": [
    "df_recreatie_formulier = df_recreatie_formulier.rename(columns={\"PC4\": \"postcode\"})\n",
    "df_recreatie = df_recreatie.rename(columns={\"PC4\": \"postcode\"})"
   ]
  },
  {
   "cell_type": "code",
   "execution_count": 80,
   "metadata": {},
   "outputs": [],
   "source": [
    "df_toevoeging = pd.read_csv('dataset.csv')\n",
    "df_toevoeging = df_toevoeging[['postcode','gemeente']]\n",
    "\n",
    "\n"
   ]
  },
  {
   "cell_type": "code",
   "execution_count": 81,
   "metadata": {},
   "outputs": [
    {
     "output_type": "execute_result",
     "data": {
      "text/plain": "      postcode           gemeente aantal_woningen  \\\n0         1011          Amsterdam            6110   \n1         1012          Amsterdam            5695   \n2         1013          Amsterdam           12825   \n3         1014          Amsterdam             270   \n4         1015          Amsterdam            9865   \n...        ...                ...             ...   \n4200      9999              Venlo              45   \n4201      9999          Staphorst              45   \n4202      9999  Horst aan de Maas              45   \n4203      9999        Voorschoten              45   \n4204      9999           Roermond              45   \n\n     aantal_woningen_bouwjaar_voor_1945  \\\n0                                  3605   \n1                                  4725   \n2                                  6930   \n3                                    20   \n4                                  7275   \n...                                 ...   \n4200                                 30   \n4201                                 30   \n4202                                 30   \n4203                                 30   \n4204                                 30   \n\n      aantal_woningen_bouwjaar_voor_1945_genormaliseerd  \\\n0                                              0.405405   \n1                                              0.531532   \n2                                              0.779842   \n3                                              0.001689   \n4                                              0.818694   \n...                                                 ...   \n4200                                           0.002815   \n4201                                           0.002815   \n4202                                           0.002815   \n4203                                           0.002815   \n4204                                           0.002815   \n\n     aantal_woningen_bouwjaar_45_tot_65  \\\n0                                   115   \n1                                    20   \n2                                    75   \n3                                     5   \n4                                   100   \n...                                 ...   \n4200                                NaN   \n4201                                NaN   \n4202                                NaN   \n4203                                NaN   \n4204                                NaN   \n\n      aantal_woningen_bouwjaar_45_tot_65_genormaliseerd  \\\n0                                              0.021359   \n1                                              0.002913   \n2                                              0.013592   \n3                                              0.000000   \n4                                              0.018447   \n...                                                 ...   \n4200                                                NaN   \n4201                                                NaN   \n4202                                                NaN   \n4203                                                NaN   \n4204                                                NaN   \n\n     aantal_woningen_bouwjaar_65_tot_75  \\\n0                                   115   \n1                                    50   \n2                                   115   \n3                                     5   \n4                                   235   \n...                                 ...   \n4200                                NaN   \n4201                                NaN   \n4202                                NaN   \n4203                                NaN   \n4204                                NaN   \n\n      aantal_woningen_bouwjaar_65_tot_75_genormaliseerd  \\\n0                                              0.017614   \n1                                              0.007206   \n2                                              0.017614   \n3                                              0.000000   \n4                                              0.036829   \n...                                                 ...   \n4200                                                NaN   \n4201                                                NaN   \n4202                                                NaN   \n4203                                                NaN   \n4204                                                NaN   \n\n     aantal_woningen_bouwjaar_75_tot_85  ...  \\\n0                                   800  ...   \n1                                    85  ...   \n2                                  1625  ...   \n3                                     5  ...   \n4                                   755  ...   \n...                                 ...  ...   \n4200                                NaN  ...   \n4201                                NaN  ...   \n4202                                NaN  ...   \n4203                                NaN  ...   \n4204                                NaN  ...   \n\n      hotel_aantal_binnen_10_km_genormaliseerd hotel_aantal_binnen_20_km  \\\n0                                     0.984737                     464.4   \n1                                     0.985229                     469.9   \n2                                     0.982029                     467.7   \n3                                     0.984983                     470.6   \n4                                     0.985968                     473.5   \n...                                        ...                       ...   \n4200                                  0.008863                      28.5   \n4201                                  0.008863                      28.5   \n4202                                  0.008863                      28.5   \n4203                                  0.008863                      28.5   \n4204                                  0.008863                      28.5   \n\n      hotel_aantal_binnen_20_km_genormaliseerd  \\\n0                                     0.947541   \n1                                     0.958811   \n2                                     0.954303   \n3                                     0.960246   \n4                                     0.966189   \n...                                        ...   \n4200                                  0.054303   \n4201                                  0.054303   \n4202                                  0.054303   \n4203                                  0.054303   \n4204                                  0.054303   \n\n     treinstation_gemiddelde_afstand_in_km  \\\n0                                      1.2   \n1                                      0.8   \n2                                      1.7   \n3                                      1.7   \n4                                      1.3   \n...                                    ...   \n4200                                   6.5   \n4201                                   6.5   \n4202                                   6.5   \n4203                                   6.5   \n4204                                   6.5   \n\n      treinstation_gemiddelde_afstand_in_km_genormaliseerd  \\\n0                                              0.013652      \n1                                              0.006826      \n2                                              0.022184      \n3                                              0.022184      \n4                                              0.015358      \n...                                                 ...      \n4200                                           0.104096      \n4201                                           0.104096      \n4202                                           0.104096      \n4203                                           0.104096      \n4204                                           0.104096      \n\n     overstapstation_gemiddelde_afstand_in_km  \\\n0                                         1.2   \n1                                         0.8   \n2                                         1.7   \n3                                         1.7   \n4                                         1.3   \n...                                       ...   \n4200                                     19.6   \n4201                                     19.6   \n4202                                     19.6   \n4203                                     19.6   \n4204                                     19.6   \n\n      overstapstation_gemiddelde_afstand_in_km_genormaliseerd  \\\n0                                              0.009818         \n1                                              0.004208         \n2                                              0.016830         \n3                                              0.016830         \n4                                              0.011220         \n...                                                 ...         \n4200                                           0.267882         \n4201                                           0.267882         \n4202                                           0.267882         \n4203                                           0.267882         \n4204                                           0.267882         \n\n     brandweerkazerne_gemiddelde_afstand_in_km  \\\n0                                          0.7   \n1                                          1.3   \n2                                            2   \n3                                          1.6   \n4                                            1   \n...                                        ...   \n4200                                       6.1   \n4201                                       6.1   \n4202                                       6.1   \n4203                                       6.1   \n4204                                       6.1   \n\n      brandweerkazerne_gemiddelde_afstand_in_km_genormaliseerd  \\\n0                                              0.027027          \n1                                              0.081081          \n2                                              0.144144          \n3                                              0.108108          \n4                                              0.054054          \n...                                                 ...          \n4200                                           0.513514          \n4201                                           0.513514          \n4202                                           0.513514          \n4203                                           0.513514          \n4204                                           0.513514          \n\n                                               geometry  \n0     POLYGON ((122246.232 487910.177, 122259.064 48...  \n1     POLYGON ((121995.029 488243.202, 121999.664 48...  \n2     POLYGON ((120506.219 489494.551, 120495.813 48...  \n3     POLYGON ((120390.113 489860.746, 120387.401 48...  \n4     POLYGON ((120665.642 488535.500, 120668.785 48...  \n...                                                 ...  \n4200  POLYGON ((235725.834 598999.629, 235737.522 59...  \n4201  POLYGON ((235725.834 598999.629, 235737.522 59...  \n4202  POLYGON ((235725.834 598999.629, 235737.522 59...  \n4203  POLYGON ((235725.834 598999.629, 235737.522 59...  \n4204  POLYGON ((235725.834 598999.629, 235737.522 59...  \n\n[4205 rows x 90 columns]",
      "text/html": "<div>\n<style scoped>\n    .dataframe tbody tr th:only-of-type {\n        vertical-align: middle;\n    }\n\n    .dataframe tbody tr th {\n        vertical-align: top;\n    }\n\n    .dataframe thead th {\n        text-align: right;\n    }\n</style>\n<table border=\"1\" class=\"dataframe\">\n  <thead>\n    <tr style=\"text-align: right;\">\n      <th></th>\n      <th>postcode</th>\n      <th>gemeente</th>\n      <th>aantal_woningen</th>\n      <th>aantal_woningen_bouwjaar_voor_1945</th>\n      <th>aantal_woningen_bouwjaar_voor_1945_genormaliseerd</th>\n      <th>aantal_woningen_bouwjaar_45_tot_65</th>\n      <th>aantal_woningen_bouwjaar_45_tot_65_genormaliseerd</th>\n      <th>aantal_woningen_bouwjaar_65_tot_75</th>\n      <th>aantal_woningen_bouwjaar_65_tot_75_genormaliseerd</th>\n      <th>aantal_woningen_bouwjaar_75_tot_85</th>\n      <th>...</th>\n      <th>hotel_aantal_binnen_10_km_genormaliseerd</th>\n      <th>hotel_aantal_binnen_20_km</th>\n      <th>hotel_aantal_binnen_20_km_genormaliseerd</th>\n      <th>treinstation_gemiddelde_afstand_in_km</th>\n      <th>treinstation_gemiddelde_afstand_in_km_genormaliseerd</th>\n      <th>overstapstation_gemiddelde_afstand_in_km</th>\n      <th>overstapstation_gemiddelde_afstand_in_km_genormaliseerd</th>\n      <th>brandweerkazerne_gemiddelde_afstand_in_km</th>\n      <th>brandweerkazerne_gemiddelde_afstand_in_km_genormaliseerd</th>\n      <th>geometry</th>\n    </tr>\n  </thead>\n  <tbody>\n    <tr>\n      <th>0</th>\n      <td>1011</td>\n      <td>Amsterdam</td>\n      <td>6110</td>\n      <td>3605</td>\n      <td>0.405405</td>\n      <td>115</td>\n      <td>0.021359</td>\n      <td>115</td>\n      <td>0.017614</td>\n      <td>800</td>\n      <td>...</td>\n      <td>0.984737</td>\n      <td>464.4</td>\n      <td>0.947541</td>\n      <td>1.2</td>\n      <td>0.013652</td>\n      <td>1.2</td>\n      <td>0.009818</td>\n      <td>0.7</td>\n      <td>0.027027</td>\n      <td>POLYGON ((122246.232 487910.177, 122259.064 48...</td>\n    </tr>\n    <tr>\n      <th>1</th>\n      <td>1012</td>\n      <td>Amsterdam</td>\n      <td>5695</td>\n      <td>4725</td>\n      <td>0.531532</td>\n      <td>20</td>\n      <td>0.002913</td>\n      <td>50</td>\n      <td>0.007206</td>\n      <td>85</td>\n      <td>...</td>\n      <td>0.985229</td>\n      <td>469.9</td>\n      <td>0.958811</td>\n      <td>0.8</td>\n      <td>0.006826</td>\n      <td>0.8</td>\n      <td>0.004208</td>\n      <td>1.3</td>\n      <td>0.081081</td>\n      <td>POLYGON ((121995.029 488243.202, 121999.664 48...</td>\n    </tr>\n    <tr>\n      <th>2</th>\n      <td>1013</td>\n      <td>Amsterdam</td>\n      <td>12825</td>\n      <td>6930</td>\n      <td>0.779842</td>\n      <td>75</td>\n      <td>0.013592</td>\n      <td>115</td>\n      <td>0.017614</td>\n      <td>1625</td>\n      <td>...</td>\n      <td>0.982029</td>\n      <td>467.7</td>\n      <td>0.954303</td>\n      <td>1.7</td>\n      <td>0.022184</td>\n      <td>1.7</td>\n      <td>0.016830</td>\n      <td>2</td>\n      <td>0.144144</td>\n      <td>POLYGON ((120506.219 489494.551, 120495.813 48...</td>\n    </tr>\n    <tr>\n      <th>3</th>\n      <td>1014</td>\n      <td>Amsterdam</td>\n      <td>270</td>\n      <td>20</td>\n      <td>0.001689</td>\n      <td>5</td>\n      <td>0.000000</td>\n      <td>5</td>\n      <td>0.000000</td>\n      <td>5</td>\n      <td>...</td>\n      <td>0.984983</td>\n      <td>470.6</td>\n      <td>0.960246</td>\n      <td>1.7</td>\n      <td>0.022184</td>\n      <td>1.7</td>\n      <td>0.016830</td>\n      <td>1.6</td>\n      <td>0.108108</td>\n      <td>POLYGON ((120390.113 489860.746, 120387.401 48...</td>\n    </tr>\n    <tr>\n      <th>4</th>\n      <td>1015</td>\n      <td>Amsterdam</td>\n      <td>9865</td>\n      <td>7275</td>\n      <td>0.818694</td>\n      <td>100</td>\n      <td>0.018447</td>\n      <td>235</td>\n      <td>0.036829</td>\n      <td>755</td>\n      <td>...</td>\n      <td>0.985968</td>\n      <td>473.5</td>\n      <td>0.966189</td>\n      <td>1.3</td>\n      <td>0.015358</td>\n      <td>1.3</td>\n      <td>0.011220</td>\n      <td>1</td>\n      <td>0.054054</td>\n      <td>POLYGON ((120665.642 488535.500, 120668.785 48...</td>\n    </tr>\n    <tr>\n      <th>...</th>\n      <td>...</td>\n      <td>...</td>\n      <td>...</td>\n      <td>...</td>\n      <td>...</td>\n      <td>...</td>\n      <td>...</td>\n      <td>...</td>\n      <td>...</td>\n      <td>...</td>\n      <td>...</td>\n      <td>...</td>\n      <td>...</td>\n      <td>...</td>\n      <td>...</td>\n      <td>...</td>\n      <td>...</td>\n      <td>...</td>\n      <td>...</td>\n      <td>...</td>\n      <td>...</td>\n    </tr>\n    <tr>\n      <th>4200</th>\n      <td>9999</td>\n      <td>Venlo</td>\n      <td>45</td>\n      <td>30</td>\n      <td>0.002815</td>\n      <td>NaN</td>\n      <td>NaN</td>\n      <td>NaN</td>\n      <td>NaN</td>\n      <td>NaN</td>\n      <td>...</td>\n      <td>0.008863</td>\n      <td>28.5</td>\n      <td>0.054303</td>\n      <td>6.5</td>\n      <td>0.104096</td>\n      <td>19.6</td>\n      <td>0.267882</td>\n      <td>6.1</td>\n      <td>0.513514</td>\n      <td>POLYGON ((235725.834 598999.629, 235737.522 59...</td>\n    </tr>\n    <tr>\n      <th>4201</th>\n      <td>9999</td>\n      <td>Staphorst</td>\n      <td>45</td>\n      <td>30</td>\n      <td>0.002815</td>\n      <td>NaN</td>\n      <td>NaN</td>\n      <td>NaN</td>\n      <td>NaN</td>\n      <td>NaN</td>\n      <td>...</td>\n      <td>0.008863</td>\n      <td>28.5</td>\n      <td>0.054303</td>\n      <td>6.5</td>\n      <td>0.104096</td>\n      <td>19.6</td>\n      <td>0.267882</td>\n      <td>6.1</td>\n      <td>0.513514</td>\n      <td>POLYGON ((235725.834 598999.629, 235737.522 59...</td>\n    </tr>\n    <tr>\n      <th>4202</th>\n      <td>9999</td>\n      <td>Horst aan de Maas</td>\n      <td>45</td>\n      <td>30</td>\n      <td>0.002815</td>\n      <td>NaN</td>\n      <td>NaN</td>\n      <td>NaN</td>\n      <td>NaN</td>\n      <td>NaN</td>\n      <td>...</td>\n      <td>0.008863</td>\n      <td>28.5</td>\n      <td>0.054303</td>\n      <td>6.5</td>\n      <td>0.104096</td>\n      <td>19.6</td>\n      <td>0.267882</td>\n      <td>6.1</td>\n      <td>0.513514</td>\n      <td>POLYGON ((235725.834 598999.629, 235737.522 59...</td>\n    </tr>\n    <tr>\n      <th>4203</th>\n      <td>9999</td>\n      <td>Voorschoten</td>\n      <td>45</td>\n      <td>30</td>\n      <td>0.002815</td>\n      <td>NaN</td>\n      <td>NaN</td>\n      <td>NaN</td>\n      <td>NaN</td>\n      <td>NaN</td>\n      <td>...</td>\n      <td>0.008863</td>\n      <td>28.5</td>\n      <td>0.054303</td>\n      <td>6.5</td>\n      <td>0.104096</td>\n      <td>19.6</td>\n      <td>0.267882</td>\n      <td>6.1</td>\n      <td>0.513514</td>\n      <td>POLYGON ((235725.834 598999.629, 235737.522 59...</td>\n    </tr>\n    <tr>\n      <th>4204</th>\n      <td>9999</td>\n      <td>Roermond</td>\n      <td>45</td>\n      <td>30</td>\n      <td>0.002815</td>\n      <td>NaN</td>\n      <td>NaN</td>\n      <td>NaN</td>\n      <td>NaN</td>\n      <td>NaN</td>\n      <td>...</td>\n      <td>0.008863</td>\n      <td>28.5</td>\n      <td>0.054303</td>\n      <td>6.5</td>\n      <td>0.104096</td>\n      <td>19.6</td>\n      <td>0.267882</td>\n      <td>6.1</td>\n      <td>0.513514</td>\n      <td>POLYGON ((235725.834 598999.629, 235737.522 59...</td>\n    </tr>\n  </tbody>\n</table>\n<p>4205 rows × 90 columns</p>\n</div>"
     },
     "metadata": {},
     "execution_count": 81
    }
   ],
   "source": [
    "df_recreatie = pd.merge(df_recreatie, df_toevoeging, on='postcode', how='left')\n",
    "df_recreatie_formulier = pd.merge(df_recreatie_formulier, df_toevoeging, on='postcode', how='left')\n",
    "df_recreatie = movecol(df_recreatie, cols_to_move=['gemeente'], ref_col='postcode', place='After')\n",
    "df_recreatie_formulier = movecol(df_recreatie_formulier, cols_to_move=['gemeente'], ref_col='postcode', place='After')\n",
    "df_recreatie.drop(columns=['aantal_woningen_bouwjaar_voor_1945_genormaliseerd'])"
   ]
  },
  {
   "cell_type": "code",
   "execution_count": null,
   "metadata": {},
   "outputs": [],
   "source": [
    "df_recreatie.drop(columns='geometry')"
   ]
  },
  {
   "cell_type": "markdown",
   "metadata": {},
   "source": [
    "# Samenvatting van de beschikbare datasets\n",
    "\n",
    "- `df_recreatie` kan worden gebruikt voor het beschrijvende statistiek gedeelte, dit kan belangrijk/interessant zijn om te laten zien.\n",
    "- `df_recreatie_formulier` moet worden gebruikt bij het maken van de afwegingen, hier zitten extra kolommen in waar normalisatie waardes in staan."
   ]
  },
  {
   "cell_type": "code",
   "execution_count": null,
   "metadata": {},
   "outputs": [],
   "source": [
    "def RecreatieAPI_Postcode(postcode):\n",
    "    df = df_recreatie.loc[df_recreatie['postcode'] == postcode]\n",
    "    return df\n",
    "\n",
    "def RecreatieAPI_Gemeente(gemeente):\n",
    "    df = df_recreatie.loc[df_recreatie['gemeente'] == gemeente]\n",
    "    return df\n",
    "    "
   ]
  }
 ],
 "metadata": {
  "language_info": {
   "codemirror_mode": {
    "name": "ipython",
    "version": 3
   },
   "file_extension": ".py",
   "mimetype": "text/x-python",
   "name": "python",
   "nbconvert_exporter": "python",
   "pygments_lexer": "ipython3",
   "version": "3.7.7-final"
  },
  "orig_nbformat": 2,
  "kernelspec": {
   "name": "python3",
   "display_name": "Python 3"
  }
 },
 "nbformat": 4,
 "nbformat_minor": 2
}