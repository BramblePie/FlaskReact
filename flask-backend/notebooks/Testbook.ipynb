{
 "cells": [
  {
   "cell_type": "code",
   "execution_count": 2,
   "metadata": {},
   "outputs": [],
   "source": [
    "from Helper_functions import query_kadaster"
   ]
  },
  {
   "cell_type": "code",
   "execution_count": 19,
   "metadata": {},
   "outputs": [
    {
     "output_type": "execute_result",
     "data": {
      "text/plain": "  Wijk_1.type                                       Wijk_1.value\n0         uri  https://data.pldn.nl/cbs/wijken-buurten/regios...",
      "text/html": "<div>\n<style scoped>\n    .dataframe tbody tr th:only-of-type {\n        vertical-align: middle;\n    }\n\n    .dataframe tbody tr th {\n        vertical-align: top;\n    }\n\n    .dataframe thead th {\n        text-align: right;\n    }\n</style>\n<table border=\"1\" class=\"dataframe\">\n  <thead>\n    <tr style=\"text-align: right;\">\n      <th></th>\n      <th>Wijk_1.type</th>\n      <th>Wijk_1.value</th>\n    </tr>\n  </thead>\n  <tbody>\n    <tr>\n      <th>0</th>\n      <td>uri</td>\n      <td>https://data.pldn.nl/cbs/wijken-buurten/regios...</td>\n    </tr>\n  </tbody>\n</table>\n</div>"
     },
     "metadata": {},
     "execution_count": 19
    }
   ],
   "source": [
    "\n",
    "wijk = \"WK009300\"\n",
    "sparql_query= f\"\"\"PREFIX n1: <https://data.pldn.nl/cbs/wijken-buurten/def/cbs#>\n",
    "PREFIX n6: <http://www.opengis.net/ont/geosparql#>\n",
    "SELECT DISTINCT ?Wijk_1\n",
    "WHERE {{ ?Wijk_1 a n1:Wijk .\n",
    "        ?Wijk_1 a n6:Feature .\n",
    "        FILTER ( REGEX(str(?Wijk_1), '{wijk}', 'i') ) }}\n",
    "LIMIT 200\"\"\"\n",
    "\n",
    "sparql_service_url = 'https://data.pldn.nl/cbs/wijken-buurten/sparql/wijken-buurten'\n",
    "\n",
    "\n",
    "test = query_kadaster(sparql_query, sparql_service_url)\n",
    "test"
   ]
  },
  {
   "cell_type": "code",
   "execution_count": null,
   "metadata": {},
   "outputs": [],
   "source": []
  }
 ],
 "metadata": {
  "language_info": {
   "codemirror_mode": {
    "name": "ipython",
    "version": 3
   },
   "file_extension": ".py",
   "mimetype": "text/x-python",
   "name": "python",
   "nbconvert_exporter": "python",
   "pygments_lexer": "ipython3",
   "version": "3.7.7-final"
  },
  "orig_nbformat": 2,
  "kernelspec": {
   "name": "python3",
   "display_name": "Python 3"
  }
 },
 "nbformat": 4,
 "nbformat_minor": 2
}