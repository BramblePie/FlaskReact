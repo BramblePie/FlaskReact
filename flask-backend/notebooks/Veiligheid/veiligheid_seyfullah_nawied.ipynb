{
 "nbformat": 4,
 "nbformat_minor": 2,
 "metadata": {
  "language_info": {
   "name": "python",
   "codemirror_mode": {
    "name": "ipython",
    "version": 3
   },
   "version": "3.8.2-final"
  },
  "orig_nbformat": 2,
  "file_extension": ".py",
  "mimetype": "text/x-python",
  "name": "python",
  "npconvert_exporter": "python",
  "pygments_lexer": "ipython3",
  "version": 3,
  "kernelspec": {
   "name": "python3",
   "display_name": "Python 3"
  }
 },
 "cells": [
  {
   "cell_type": "markdown",
   "metadata": {},
   "source": [
    "# Data understanding\n",
    "\n",
    "De gebruikte dataset is “Geregistreerde criminaliteit\" (https://opendata.cbs.nl/statline/#/CBS/nl/dataset/83648NED/table?fromstatweb). \n",
    "\n",
    "De CBS data is een csv bestand, dit staat voor comma seperated values of door comma gescheide waarden in het nederlands.\n",
    "De data bevat de volgende kolomen:\n",
    " - `ID` is de unieke waarde voor elke row.\n",
    " - `Soort misdrijf` geeft aan welke om wat voor misdrijf het gaat.\n",
    " - `Perioden` geeft de periode aan waarin de misdrijven en aantal misdrijven zijn uitgevoerd.\n",
    " - `Regio's` is de regio waarin de genoemde aantal misdrijven in zijn gebeurd.\n",
    " - `Geregistreerde misdrijven/Totaal geregistreerde misdrijven (aantal)` is de aantal misdrijven die binnen een provincie/gemeente geregistreerd zijn.\n",
    " - `Geregistreerde misdrijven/Geregistreerde misdrijven, relatief (% van totaal geregistreerde misdrijven)` is de procentuele aantal van de totaal geregistreerde misdrijven.\n",
    " - `Geregistreerde misdrijven/Geregistreerde misdrijven per 1000 inw. (per 1.000 inwoners)` is de aantal misdrijven die binnen een provincie/gemeente geregistreerd zijn per 1.000 inwoners."
   ]
  },
  {
   "cell_type": "markdown",
   "metadata": {},
   "source": [
    "## Beschrijven van de data\n",
    "\n",
    "Hieronder staat een beschrijving van de data vanuit de Centraal Bureau Statistieken. Dit wordt telkens door middel van een stukje code weergegeven. "
   ]
  },
  {
   "cell_type": "code",
   "execution_count": 1,
   "metadata": {},
   "outputs": [
    {
     "output_type": "execute_result",
     "data": {
      "text/plain": "               Soort misdrijf Perioden                      Regio's  \\\n0          Misdrijven, totaal     2015               Groningen (PV)   \n1          Misdrijven, totaal     2016               Groningen (PV)   \n2          Misdrijven, totaal     2017               Groningen (PV)   \n3          Misdrijven, totaal    2018*               Groningen (PV)   \n4          Misdrijven, totaal    2019*               Groningen (PV)   \n...                       ...      ...                          ...   \n176995  9.2 Misdrijf (overig)     2015  Niet-gemeentelijk ingedeeld   \n176996  9.2 Misdrijf (overig)     2016  Niet-gemeentelijk ingedeeld   \n176997  9.2 Misdrijf (overig)     2017  Niet-gemeentelijk ingedeeld   \n176998  9.2 Misdrijf (overig)    2018*  Niet-gemeentelijk ingedeeld   \n176999  9.2 Misdrijf (overig)    2019*  Niet-gemeentelijk ingedeeld   \n\n        Geregistreerde misdrijven/Totaal geregistreerde misdrijven (aantal)  \\\n0                                                 30065.0                     \n1                                                 29570.0                     \n2                                                 24990.0                     \n3                                                 24035.0                     \n4                                                 24865.0                     \n...                                                   ...                     \n176995                                               10.0                     \n176996                                               10.0                     \n176997                                               20.0                     \n176998                                               25.0                     \n176999                                               10.0                     \n\n        Geregistreerde misdrijven/Geregistreerde misdrijven, relatief (% van totaal geregistreerde misdrijven)  \\\n0                                                   100.0                                                        \n1                                                   100.0                                                        \n2                                                   100.0                                                        \n3                                                   100.0                                                        \n4                                                   100.0                                                        \n...                                                   ...                                                        \n176995                                                1.0                                                        \n176996                                                1.0                                                        \n176997                                                1.0                                                        \n176998                                                1.0                                                        \n176999                                                0.0                                                        \n\n       Geregistreerde misdrijven/Geregistreerde misdrijven per 1000 inw.  (per 1 000 inwoners)  \n0                                                    51,5                                       \n1                                                    50,7                                       \n2                                                    42,8                                       \n3                                                    41,2                                       \n4                                                    42,6                                       \n...                                                   ...                                       \n176995                                                NaN                                       \n176996                                                NaN                                       \n176997                                                NaN                                       \n176998                                                NaN                                       \n176999                                                NaN                                       \n\n[177000 rows x 6 columns]",
      "text/html": "<div>\n<style scoped>\n    .dataframe tbody tr th:only-of-type {\n        vertical-align: middle;\n    }\n\n    .dataframe tbody tr th {\n        vertical-align: top;\n    }\n\n    .dataframe thead th {\n        text-align: right;\n    }\n</style>\n<table border=\"1\" class=\"dataframe\">\n  <thead>\n    <tr style=\"text-align: right;\">\n      <th></th>\n      <th>Soort misdrijf</th>\n      <th>Perioden</th>\n      <th>Regio's</th>\n      <th>Geregistreerde misdrijven/Totaal geregistreerde misdrijven (aantal)</th>\n      <th>Geregistreerde misdrijven/Geregistreerde misdrijven, relatief (% van totaal geregistreerde misdrijven)</th>\n      <th>Geregistreerde misdrijven/Geregistreerde misdrijven per 1000 inw.  (per 1 000 inwoners)</th>\n    </tr>\n  </thead>\n  <tbody>\n    <tr>\n      <th>0</th>\n      <td>Misdrijven, totaal</td>\n      <td>2015</td>\n      <td>Groningen (PV)</td>\n      <td>30065.0</td>\n      <td>100.0</td>\n      <td>51,5</td>\n    </tr>\n    <tr>\n      <th>1</th>\n      <td>Misdrijven, totaal</td>\n      <td>2016</td>\n      <td>Groningen (PV)</td>\n      <td>29570.0</td>\n      <td>100.0</td>\n      <td>50,7</td>\n    </tr>\n    <tr>\n      <th>2</th>\n      <td>Misdrijven, totaal</td>\n      <td>2017</td>\n      <td>Groningen (PV)</td>\n      <td>24990.0</td>\n      <td>100.0</td>\n      <td>42,8</td>\n    </tr>\n    <tr>\n      <th>3</th>\n      <td>Misdrijven, totaal</td>\n      <td>2018*</td>\n      <td>Groningen (PV)</td>\n      <td>24035.0</td>\n      <td>100.0</td>\n      <td>41,2</td>\n    </tr>\n    <tr>\n      <th>4</th>\n      <td>Misdrijven, totaal</td>\n      <td>2019*</td>\n      <td>Groningen (PV)</td>\n      <td>24865.0</td>\n      <td>100.0</td>\n      <td>42,6</td>\n    </tr>\n    <tr>\n      <th>...</th>\n      <td>...</td>\n      <td>...</td>\n      <td>...</td>\n      <td>...</td>\n      <td>...</td>\n      <td>...</td>\n    </tr>\n    <tr>\n      <th>176995</th>\n      <td>9.2 Misdrijf (overig)</td>\n      <td>2015</td>\n      <td>Niet-gemeentelijk ingedeeld</td>\n      <td>10.0</td>\n      <td>1.0</td>\n      <td>NaN</td>\n    </tr>\n    <tr>\n      <th>176996</th>\n      <td>9.2 Misdrijf (overig)</td>\n      <td>2016</td>\n      <td>Niet-gemeentelijk ingedeeld</td>\n      <td>10.0</td>\n      <td>1.0</td>\n      <td>NaN</td>\n    </tr>\n    <tr>\n      <th>176997</th>\n      <td>9.2 Misdrijf (overig)</td>\n      <td>2017</td>\n      <td>Niet-gemeentelijk ingedeeld</td>\n      <td>20.0</td>\n      <td>1.0</td>\n      <td>NaN</td>\n    </tr>\n    <tr>\n      <th>176998</th>\n      <td>9.2 Misdrijf (overig)</td>\n      <td>2018*</td>\n      <td>Niet-gemeentelijk ingedeeld</td>\n      <td>25.0</td>\n      <td>1.0</td>\n      <td>NaN</td>\n    </tr>\n    <tr>\n      <th>176999</th>\n      <td>9.2 Misdrijf (overig)</td>\n      <td>2019*</td>\n      <td>Niet-gemeentelijk ingedeeld</td>\n      <td>10.0</td>\n      <td>0.0</td>\n      <td>NaN</td>\n    </tr>\n  </tbody>\n</table>\n<p>177000 rows × 6 columns</p>\n</div>"
     },
     "metadata": {},
     "execution_count": 1
    }
   ],
   "source": [
    "import pandas as pd\n",
    "import geopandas as gpd\n",
    "import seaborn as sb\n",
    "import numpy as np\n",
    "import matplotlib.pyplot as plt\n",
    "\n",
    "from prep import movecol\n",
    "\n",
    "# Dataset inlezen\n",
    "file = \"../../../raw-data/Veiligheid.csv\"\n",
    "data_veiligheid = pd.read_csv(file, sep=\";\")\n",
    "\n",
    "df = pd.DataFrame(data_veiligheid)\n",
    "\n",
    "# Dataverkennen door dataframe te openen\n",
    "data_veiligheid\n",
    "\n",
    ""
   ]
  },
  {
   "cell_type": "code",
   "execution_count": 2,
   "metadata": {},
   "outputs": [
    {
     "output_type": "stream",
     "name": "stdout",
     "text": "<class 'pandas.core.frame.DataFrame'>\nRangeIndex: 177000 entries, 0 to 176999\nData columns (total 6 columns):\n #   Column                                                                                                  Non-Null Count   Dtype  \n---  ------                                                                                                  --------------   -----  \n 0   Soort misdrijf                                                                                          177000 non-null  object \n 1   Perioden                                                                                                177000 non-null  object \n 2   Regio's                                                                                                 177000 non-null  object \n 3   Geregistreerde misdrijven/Totaal geregistreerde misdrijven (aantal)                                     148200 non-null  float64\n 4   Geregistreerde misdrijven/Geregistreerde misdrijven, relatief (% van totaal geregistreerde misdrijven)  148200 non-null  float64\n 5   Geregistreerde misdrijven/Geregistreerde misdrijven per 1000 inw.  (per 1 000 inwoners)                 87965 non-null   object \ndtypes: float64(2), object(4)\nmemory usage: 8.1+ MB\n"
    }
   ],
   "source": [
    "# Info over de kolommen\n",
    "info_kolommen_veiligheid = data_veiligheid.info()\n",
    "info_kolommen_veiligheid"
   ]
  },
  {
   "cell_type": "code",
   "execution_count": 3,
   "metadata": {},
   "outputs": [
    {
     "output_type": "execute_result",
     "data": {
      "text/plain": "       Geregistreerde misdrijven/Totaal geregistreerde misdrijven (aantal)  \\\ncount                                      148200.000000                     \nmean                                          219.201113                     \nstd                                          2918.560582                     \nmin                                             0.000000                     \n25%                                             0.000000                     \n50%                                             5.000000                     \n75%                                            30.000000                     \nmax                                        224970.000000                     \n\n       Geregistreerde misdrijven/Geregistreerde misdrijven, relatief (% van totaal geregistreerde misdrijven)  \ncount                                      148200.000000                                                       \nmean                                            4.900385                                                       \nstd                                            14.944102                                                       \nmin                                             0.000000                                                       \n25%                                             0.000000                                                       \n50%                                             0.000000                                                       \n75%                                             2.000000                                                       \nmax                                           100.000000                                                       ",
      "text/html": "<div>\n<style scoped>\n    .dataframe tbody tr th:only-of-type {\n        vertical-align: middle;\n    }\n\n    .dataframe tbody tr th {\n        vertical-align: top;\n    }\n\n    .dataframe thead th {\n        text-align: right;\n    }\n</style>\n<table border=\"1\" class=\"dataframe\">\n  <thead>\n    <tr style=\"text-align: right;\">\n      <th></th>\n      <th>Geregistreerde misdrijven/Totaal geregistreerde misdrijven (aantal)</th>\n      <th>Geregistreerde misdrijven/Geregistreerde misdrijven, relatief (% van totaal geregistreerde misdrijven)</th>\n    </tr>\n  </thead>\n  <tbody>\n    <tr>\n      <th>count</th>\n      <td>148200.000000</td>\n      <td>148200.000000</td>\n    </tr>\n    <tr>\n      <th>mean</th>\n      <td>219.201113</td>\n      <td>4.900385</td>\n    </tr>\n    <tr>\n      <th>std</th>\n      <td>2918.560582</td>\n      <td>14.944102</td>\n    </tr>\n    <tr>\n      <th>min</th>\n      <td>0.000000</td>\n      <td>0.000000</td>\n    </tr>\n    <tr>\n      <th>25%</th>\n      <td>0.000000</td>\n      <td>0.000000</td>\n    </tr>\n    <tr>\n      <th>50%</th>\n      <td>5.000000</td>\n      <td>0.000000</td>\n    </tr>\n    <tr>\n      <th>75%</th>\n      <td>30.000000</td>\n      <td>2.000000</td>\n    </tr>\n    <tr>\n      <th>max</th>\n      <td>224970.000000</td>\n      <td>100.000000</td>\n    </tr>\n  </tbody>\n</table>\n</div>"
     },
     "metadata": {},
     "execution_count": 3
    }
   ],
   "source": [
    "# Beschrijvende statistieken van de data\n",
    "beschrijvende_stats_veiligheid = data_veiligheid.describe()\n",
    "beschrijvende_stats_veiligheid"
   ]
  },
  {
   "cell_type": "code",
   "execution_count": 4,
   "metadata": {},
   "outputs": [
    {
     "output_type": "execute_result",
     "data": {
      "text/plain": "Index(['Soort misdrijf', 'Perioden', 'Regio's',\n       'Geregistreerde misdrijven/Totaal geregistreerde misdrijven (aantal)',\n       'Geregistreerde misdrijven/Geregistreerde misdrijven, relatief (% van totaal geregistreerde misdrijven)',\n       'Geregistreerde misdrijven/Geregistreerde misdrijven per 1000 inw.  (per 1 000 inwoners)'],\n      dtype='object')"
     },
     "metadata": {},
     "execution_count": 4
    }
   ],
   "source": [
    "# Informatie over de kolomnamen in de Dataframe\n",
    "data_veiligheid.columns"
   ]
  },
  {
   "cell_type": "code",
   "execution_count": 5,
   "metadata": {},
   "outputs": [
    {
     "output_type": "execute_result",
     "data": {
      "text/plain": "Soort misdrijf                                                                                                0\nPerioden                                                                                                      0\nRegio's                                                                                                       0\nGeregistreerde misdrijven/Totaal geregistreerde misdrijven (aantal)                                       28800\nGeregistreerde misdrijven/Geregistreerde misdrijven, relatief (% van totaal geregistreerde misdrijven)    28800\nGeregistreerde misdrijven/Geregistreerde misdrijven per 1000 inw.  (per 1 000 inwoners)                   89035\ndtype: int64"
     },
     "metadata": {},
     "execution_count": 5
    }
   ],
   "source": [
    "# Controleren op nulwaarden in de dataframe\n",
    "data_veiligheid.isna().sum()"
   ]
  },
  {
   "cell_type": "markdown",
   "metadata": {},
   "source": [
    "## Data exploratie"
   ]
  },
  {
   "cell_type": "code",
   "execution_count": 6,
   "metadata": {},
   "outputs": [],
   "source": [
    "# Pairplot weergave van de data.\n",
    "#sb.pairplot(data_veiligheid, kind=\"reg\")"
   ]
  },
  {
   "cell_type": "code",
   "execution_count": 7,
   "metadata": {},
   "outputs": [],
   "source": [
    "# Catplot weergave van de data.\n",
    "# sb.barplot(x=\"Perioden\", y=\"Geregistreerde misdrijven/Totaal geregistreerde misdrijven (aantal)\", data=data_veiligheid, color=\"steelblue\", errwidth=0)"
   ]
  },
  {
   "cell_type": "code",
   "execution_count": 8,
   "metadata": {},
   "outputs": [
    {
     "output_type": "execute_result",
     "data": {
      "text/plain": "0                              Misdrijven, totaal\n2360                        1 Vermogensmisdrijven\n4720        1.1 Diefstal/verduistering en inbraak\n7080         1.1.1 Diefstal en inbraak met geweld\n9440      1.1.2 Diefstal en inbraak zonder geweld\n                           ...                   \n165200                 6.3 Drugsmisdrijf (overig)\n167560                    7 (Vuur)wapenmisdrijven\n169920                9 Misdrijven overige wetten\n172280                      9.1 Militair misdrijf\n174640                      9.2 Misdrijf (overig)\nName: Soort misdrijf, Length: 75, dtype: object"
     },
     "metadata": {},
     "execution_count": 8
    }
   ],
   "source": [
    "# Alle soorten misdrijven die er minimaal 1 keer in voorkomen.\n",
    "soorten_misdrijven = data_veiligheid[\"Soort misdrijf\"].drop_duplicates()\n",
    "soorten_misdrijven"
   ]
  },
  {
   "cell_type": "markdown",
   "metadata": {},
   "source": [
    "## Data Preperation"
   ]
  },
  {
   "cell_type": "code",
   "execution_count": 9,
   "metadata": {},
   "outputs": [
    {
     "output_type": "execute_result",
     "data": {
      "text/plain": "               Soort misdrijf Perioden                      Regio's  \\\n0          Misdrijven, totaal     2015               Groningen (PV)   \n1          Misdrijven, totaal     2016               Groningen (PV)   \n2          Misdrijven, totaal     2017               Groningen (PV)   \n3          Misdrijven, totaal    2018*               Groningen (PV)   \n4          Misdrijven, totaal    2019*               Groningen (PV)   \n...                       ...      ...                          ...   \n176995  9.2 Misdrijf (overig)     2015  Niet-gemeentelijk ingedeeld   \n176996  9.2 Misdrijf (overig)     2016  Niet-gemeentelijk ingedeeld   \n176997  9.2 Misdrijf (overig)     2017  Niet-gemeentelijk ingedeeld   \n176998  9.2 Misdrijf (overig)    2018*  Niet-gemeentelijk ingedeeld   \n176999  9.2 Misdrijf (overig)    2019*  Niet-gemeentelijk ingedeeld   \n\n        Aantal_misdrijven  Misdrijven_relatief(%)  \\\n0                 30065.0                   100.0   \n1                 29570.0                   100.0   \n2                 24990.0                   100.0   \n3                 24035.0                   100.0   \n4                 24865.0                   100.0   \n...                   ...                     ...   \n176995               10.0                     1.0   \n176996               10.0                     1.0   \n176997               20.0                     1.0   \n176998               25.0                     1.0   \n176999               10.0                     0.0   \n\n       Aantal_misdrijven(per_1000_inw)  \n0                                 51,5  \n1                                 50,7  \n2                                 42,8  \n3                                 41,2  \n4                                 42,6  \n...                                ...  \n176995                             NaN  \n176996                             NaN  \n176997                             NaN  \n176998                             NaN  \n176999                             NaN  \n\n[177000 rows x 6 columns]",
      "text/html": "<div>\n<style scoped>\n    .dataframe tbody tr th:only-of-type {\n        vertical-align: middle;\n    }\n\n    .dataframe tbody tr th {\n        vertical-align: top;\n    }\n\n    .dataframe thead th {\n        text-align: right;\n    }\n</style>\n<table border=\"1\" class=\"dataframe\">\n  <thead>\n    <tr style=\"text-align: right;\">\n      <th></th>\n      <th>Soort misdrijf</th>\n      <th>Perioden</th>\n      <th>Regio's</th>\n      <th>Aantal_misdrijven</th>\n      <th>Misdrijven_relatief(%)</th>\n      <th>Aantal_misdrijven(per_1000_inw)</th>\n    </tr>\n  </thead>\n  <tbody>\n    <tr>\n      <th>0</th>\n      <td>Misdrijven, totaal</td>\n      <td>2015</td>\n      <td>Groningen (PV)</td>\n      <td>30065.0</td>\n      <td>100.0</td>\n      <td>51,5</td>\n    </tr>\n    <tr>\n      <th>1</th>\n      <td>Misdrijven, totaal</td>\n      <td>2016</td>\n      <td>Groningen (PV)</td>\n      <td>29570.0</td>\n      <td>100.0</td>\n      <td>50,7</td>\n    </tr>\n    <tr>\n      <th>2</th>\n      <td>Misdrijven, totaal</td>\n      <td>2017</td>\n      <td>Groningen (PV)</td>\n      <td>24990.0</td>\n      <td>100.0</td>\n      <td>42,8</td>\n    </tr>\n    <tr>\n      <th>3</th>\n      <td>Misdrijven, totaal</td>\n      <td>2018*</td>\n      <td>Groningen (PV)</td>\n      <td>24035.0</td>\n      <td>100.0</td>\n      <td>41,2</td>\n    </tr>\n    <tr>\n      <th>4</th>\n      <td>Misdrijven, totaal</td>\n      <td>2019*</td>\n      <td>Groningen (PV)</td>\n      <td>24865.0</td>\n      <td>100.0</td>\n      <td>42,6</td>\n    </tr>\n    <tr>\n      <th>...</th>\n      <td>...</td>\n      <td>...</td>\n      <td>...</td>\n      <td>...</td>\n      <td>...</td>\n      <td>...</td>\n    </tr>\n    <tr>\n      <th>176995</th>\n      <td>9.2 Misdrijf (overig)</td>\n      <td>2015</td>\n      <td>Niet-gemeentelijk ingedeeld</td>\n      <td>10.0</td>\n      <td>1.0</td>\n      <td>NaN</td>\n    </tr>\n    <tr>\n      <th>176996</th>\n      <td>9.2 Misdrijf (overig)</td>\n      <td>2016</td>\n      <td>Niet-gemeentelijk ingedeeld</td>\n      <td>10.0</td>\n      <td>1.0</td>\n      <td>NaN</td>\n    </tr>\n    <tr>\n      <th>176997</th>\n      <td>9.2 Misdrijf (overig)</td>\n      <td>2017</td>\n      <td>Niet-gemeentelijk ingedeeld</td>\n      <td>20.0</td>\n      <td>1.0</td>\n      <td>NaN</td>\n    </tr>\n    <tr>\n      <th>176998</th>\n      <td>9.2 Misdrijf (overig)</td>\n      <td>2018*</td>\n      <td>Niet-gemeentelijk ingedeeld</td>\n      <td>25.0</td>\n      <td>1.0</td>\n      <td>NaN</td>\n    </tr>\n    <tr>\n      <th>176999</th>\n      <td>9.2 Misdrijf (overig)</td>\n      <td>2019*</td>\n      <td>Niet-gemeentelijk ingedeeld</td>\n      <td>10.0</td>\n      <td>0.0</td>\n      <td>NaN</td>\n    </tr>\n  </tbody>\n</table>\n<p>177000 rows × 6 columns</p>\n</div>"
     },
     "metadata": {},
     "execution_count": 9
    }
   ],
   "source": [
    "# Kolomnamen van de dataset wijzigen.\n",
    "\n",
    "data_veiligheid_nieuw = data_veiligheid\n",
    "\n",
    "data_veiligheid_nieuw.rename(columns={'Geregistreerde misdrijven/Totaal geregistreerde misdrijven (aantal)':'Aantal_misdrijven', 'Geregistreerde misdrijven/Geregistreerde misdrijven, relatief (% van totaal geregistreerde misdrijven)':'Misdrijven_relatief(%)', 'Geregistreerde misdrijven/Geregistreerde misdrijven per 1000 inw.  (per 1 000 inwoners)':'Aantal_misdrijven(per_1000_inw)'}, inplace=True)\n",
    "\n",
    "data_veiligheid_nieuw"
   ]
  },
  {
   "cell_type": "code",
   "execution_count": 10,
   "metadata": {},
   "outputs": [
    {
     "output_type": "execute_result",
     "data": {
      "text/plain": "Soort misdrijf                         0\nPerioden                               0\nRegio's                                0\nAantal_misdrijven                  28800\nMisdrijven_relatief(%)             28800\nAantal_misdrijven(per_1000_inw)    89035\ndtype: int64"
     },
     "metadata": {},
     "execution_count": 10
    }
   ],
   "source": [
    "# Controleren op nulwaarden in de dataframe\n",
    "data_veiligheid_nieuw.isna().sum()"
   ]
  },
  {
   "cell_type": "code",
   "execution_count": 11,
   "metadata": {},
   "outputs": [
    {
     "output_type": "execute_result",
     "data": {
      "text/plain": "Soort misdrijf                     0\nPerioden                           0\nRegio's                            0\nAantal_misdrijven                  0\nMisdrijven_relatief(%)             0\nAantal_misdrijven(per_1000_inw)    0\ndtype: int64"
     },
     "metadata": {},
     "execution_count": 11
    }
   ],
   "source": [
    "# Het vervangen van de NA values door een string object\n",
    "data_veiligheid_nieuw['Misdrijven_relatief(%)'].fillna(value='N/A', inplace=True)\n",
    "data_veiligheid_nieuw['Aantal_misdrijven'].fillna(value='N/A', inplace=True)\n",
    "data_veiligheid_nieuw['Aantal_misdrijven(per_1000_inw)'].fillna(value='N/A', inplace=True)\n",
    "\n",
    "# De waardes zijn vervangen van de NA values door een string object\n",
    "data_veiligheid_nieuw.isna().sum()"
   ]
  },
  {
   "cell_type": "code",
   "execution_count": 12,
   "metadata": {},
   "outputs": [
    {
     "output_type": "execute_result",
     "data": {
      "text/plain": "                  Soort misdrijf Perioden      Regio's Aantal_misdrijven  \\\n0             Misdrijven, totaal     2015  Aa en Hunze               645   \n1             Misdrijven, totaal     2015  Aa en Hunze               645   \n2             Misdrijven, totaal     2015  Aa en Hunze               645   \n3             Misdrijven, totaal     2015  Aa en Hunze               645   \n4             Misdrijven, totaal     2015  Aa en Hunze               645   \n...                          ...      ...          ...               ...   \n162661120  9.2 Misdrijf (overig)    2019*       Zwolle                15   \n162661121  9.2 Misdrijf (overig)    2019*       Zwolle                15   \n162661122  9.2 Misdrijf (overig)    2019*       Zwolle                15   \n162661123  9.2 Misdrijf (overig)    2019*       Zwolle                15   \n162661124  9.2 Misdrijf (overig)    2019*       Zwolle                15   \n\n          Misdrijven_relatief(%) Aantal_misdrijven(per_1000_inw)   Provincie  \n0                            100                            25,6     Drenthe  \n1                            100                            25,6     Drenthe  \n2                            100                            25,6     Drenthe  \n3                            100                            25,6     Drenthe  \n4                            100                            25,6     Drenthe  \n...                          ...                             ...         ...  \n162661120                      0                             N/A  Overijssel  \n162661121                      0                             N/A  Overijssel  \n162661122                      0                             N/A  Overijssel  \n162661123                      0                             N/A  Overijssel  \n162661124                      0                             N/A  Overijssel  \n\n[162661125 rows x 7 columns]",
      "text/html": "<div>\n<style scoped>\n    .dataframe tbody tr th:only-of-type {\n        vertical-align: middle;\n    }\n\n    .dataframe tbody tr th {\n        vertical-align: top;\n    }\n\n    .dataframe thead th {\n        text-align: right;\n    }\n</style>\n<table border=\"1\" class=\"dataframe\">\n  <thead>\n    <tr style=\"text-align: right;\">\n      <th></th>\n      <th>Soort misdrijf</th>\n      <th>Perioden</th>\n      <th>Regio's</th>\n      <th>Aantal_misdrijven</th>\n      <th>Misdrijven_relatief(%)</th>\n      <th>Aantal_misdrijven(per_1000_inw)</th>\n      <th>Provincie</th>\n    </tr>\n  </thead>\n  <tbody>\n    <tr>\n      <th>0</th>\n      <td>Misdrijven, totaal</td>\n      <td>2015</td>\n      <td>Aa en Hunze</td>\n      <td>645</td>\n      <td>100</td>\n      <td>25,6</td>\n      <td>Drenthe</td>\n    </tr>\n    <tr>\n      <th>1</th>\n      <td>Misdrijven, totaal</td>\n      <td>2015</td>\n      <td>Aa en Hunze</td>\n      <td>645</td>\n      <td>100</td>\n      <td>25,6</td>\n      <td>Drenthe</td>\n    </tr>\n    <tr>\n      <th>2</th>\n      <td>Misdrijven, totaal</td>\n      <td>2015</td>\n      <td>Aa en Hunze</td>\n      <td>645</td>\n      <td>100</td>\n      <td>25,6</td>\n      <td>Drenthe</td>\n    </tr>\n    <tr>\n      <th>3</th>\n      <td>Misdrijven, totaal</td>\n      <td>2015</td>\n      <td>Aa en Hunze</td>\n      <td>645</td>\n      <td>100</td>\n      <td>25,6</td>\n      <td>Drenthe</td>\n    </tr>\n    <tr>\n      <th>4</th>\n      <td>Misdrijven, totaal</td>\n      <td>2015</td>\n      <td>Aa en Hunze</td>\n      <td>645</td>\n      <td>100</td>\n      <td>25,6</td>\n      <td>Drenthe</td>\n    </tr>\n    <tr>\n      <th>...</th>\n      <td>...</td>\n      <td>...</td>\n      <td>...</td>\n      <td>...</td>\n      <td>...</td>\n      <td>...</td>\n      <td>...</td>\n    </tr>\n    <tr>\n      <th>162661120</th>\n      <td>9.2 Misdrijf (overig)</td>\n      <td>2019*</td>\n      <td>Zwolle</td>\n      <td>15</td>\n      <td>0</td>\n      <td>N/A</td>\n      <td>Overijssel</td>\n    </tr>\n    <tr>\n      <th>162661121</th>\n      <td>9.2 Misdrijf (overig)</td>\n      <td>2019*</td>\n      <td>Zwolle</td>\n      <td>15</td>\n      <td>0</td>\n      <td>N/A</td>\n      <td>Overijssel</td>\n    </tr>\n    <tr>\n      <th>162661122</th>\n      <td>9.2 Misdrijf (overig)</td>\n      <td>2019*</td>\n      <td>Zwolle</td>\n      <td>15</td>\n      <td>0</td>\n      <td>N/A</td>\n      <td>Overijssel</td>\n    </tr>\n    <tr>\n      <th>162661123</th>\n      <td>9.2 Misdrijf (overig)</td>\n      <td>2019*</td>\n      <td>Zwolle</td>\n      <td>15</td>\n      <td>0</td>\n      <td>N/A</td>\n      <td>Overijssel</td>\n    </tr>\n    <tr>\n      <th>162661124</th>\n      <td>9.2 Misdrijf (overig)</td>\n      <td>2019*</td>\n      <td>Zwolle</td>\n      <td>15</td>\n      <td>0</td>\n      <td>N/A</td>\n      <td>Overijssel</td>\n    </tr>\n  </tbody>\n</table>\n<p>162661125 rows × 7 columns</p>\n</div>"
     },
     "metadata": {},
     "execution_count": 12
    }
   ],
   "source": [
    "#nieuwe dataset inladen voor mergen dataset, zodat regio's ook provincie er achter heeft staan.\n",
    "\n",
    "file = \"../../../raw-data/postcodetabel.xlsx\"\n",
    "postcode = pd.read_excel(file) \n",
    "\n",
    "#dataframe maken van de dataset\n",
    "df2 = pd.DataFrame(postcode)\n",
    "\n",
    "#colom hernoemen\n",
    "postcode.rename(columns={\"Gemeente\":\"Regio's\"}, inplace=True)\n",
    "\n",
    "#dataframe opnieuw defineren\n",
    "df2 = pd.DataFrame(postcode)\n",
    "\n",
    "#mergen van 2 dataset op basis van regio's colomn\n",
    "data_veiligheid_incl_provincie = data_veiligheid_nieuw.merge(df2, on=\"Regio's\")\n",
    "\n",
    "data_veiligheid_incl_provincie"
   ]
  },
  {
   "cell_type": "code",
   "execution_count": 13,
   "metadata": {},
   "outputs": [
    {
     "output_type": "execute_result",
     "data": {
      "text/plain": "                  Soort misdrijf Perioden      Regio's   Provincie  \\\n0             Misdrijven, totaal     2015  Aa en Hunze     Drenthe   \n1             Misdrijven, totaal     2015  Aa en Hunze     Drenthe   \n2             Misdrijven, totaal     2015  Aa en Hunze     Drenthe   \n3             Misdrijven, totaal     2015  Aa en Hunze     Drenthe   \n4             Misdrijven, totaal     2015  Aa en Hunze     Drenthe   \n...                          ...      ...          ...         ...   \n162661120  9.2 Misdrijf (overig)    2019*       Zwolle  Overijssel   \n162661121  9.2 Misdrijf (overig)    2019*       Zwolle  Overijssel   \n162661122  9.2 Misdrijf (overig)    2019*       Zwolle  Overijssel   \n162661123  9.2 Misdrijf (overig)    2019*       Zwolle  Overijssel   \n162661124  9.2 Misdrijf (overig)    2019*       Zwolle  Overijssel   \n\n          Aantal_misdrijven Misdrijven_relatief(%)  \\\n0                       645                    100   \n1                       645                    100   \n2                       645                    100   \n3                       645                    100   \n4                       645                    100   \n...                     ...                    ...   \n162661120                15                      0   \n162661121                15                      0   \n162661122                15                      0   \n162661123                15                      0   \n162661124                15                      0   \n\n          Aantal_misdrijven(per_1000_inw)  \n0                                    25,6  \n1                                    25,6  \n2                                    25,6  \n3                                    25,6  \n4                                    25,6  \n...                                   ...  \n162661120                             N/A  \n162661121                             N/A  \n162661122                             N/A  \n162661123                             N/A  \n162661124                             N/A  \n\n[162661125 rows x 7 columns]",
      "text/html": "<div>\n<style scoped>\n    .dataframe tbody tr th:only-of-type {\n        vertical-align: middle;\n    }\n\n    .dataframe tbody tr th {\n        vertical-align: top;\n    }\n\n    .dataframe thead th {\n        text-align: right;\n    }\n</style>\n<table border=\"1\" class=\"dataframe\">\n  <thead>\n    <tr style=\"text-align: right;\">\n      <th></th>\n      <th>Soort misdrijf</th>\n      <th>Perioden</th>\n      <th>Regio's</th>\n      <th>Provincie</th>\n      <th>Aantal_misdrijven</th>\n      <th>Misdrijven_relatief(%)</th>\n      <th>Aantal_misdrijven(per_1000_inw)</th>\n    </tr>\n  </thead>\n  <tbody>\n    <tr>\n      <th>0</th>\n      <td>Misdrijven, totaal</td>\n      <td>2015</td>\n      <td>Aa en Hunze</td>\n      <td>Drenthe</td>\n      <td>645</td>\n      <td>100</td>\n      <td>25,6</td>\n    </tr>\n    <tr>\n      <th>1</th>\n      <td>Misdrijven, totaal</td>\n      <td>2015</td>\n      <td>Aa en Hunze</td>\n      <td>Drenthe</td>\n      <td>645</td>\n      <td>100</td>\n      <td>25,6</td>\n    </tr>\n    <tr>\n      <th>2</th>\n      <td>Misdrijven, totaal</td>\n      <td>2015</td>\n      <td>Aa en Hunze</td>\n      <td>Drenthe</td>\n      <td>645</td>\n      <td>100</td>\n      <td>25,6</td>\n    </tr>\n    <tr>\n      <th>3</th>\n      <td>Misdrijven, totaal</td>\n      <td>2015</td>\n      <td>Aa en Hunze</td>\n      <td>Drenthe</td>\n      <td>645</td>\n      <td>100</td>\n      <td>25,6</td>\n    </tr>\n    <tr>\n      <th>4</th>\n      <td>Misdrijven, totaal</td>\n      <td>2015</td>\n      <td>Aa en Hunze</td>\n      <td>Drenthe</td>\n      <td>645</td>\n      <td>100</td>\n      <td>25,6</td>\n    </tr>\n    <tr>\n      <th>...</th>\n      <td>...</td>\n      <td>...</td>\n      <td>...</td>\n      <td>...</td>\n      <td>...</td>\n      <td>...</td>\n      <td>...</td>\n    </tr>\n    <tr>\n      <th>162661120</th>\n      <td>9.2 Misdrijf (overig)</td>\n      <td>2019*</td>\n      <td>Zwolle</td>\n      <td>Overijssel</td>\n      <td>15</td>\n      <td>0</td>\n      <td>N/A</td>\n    </tr>\n    <tr>\n      <th>162661121</th>\n      <td>9.2 Misdrijf (overig)</td>\n      <td>2019*</td>\n      <td>Zwolle</td>\n      <td>Overijssel</td>\n      <td>15</td>\n      <td>0</td>\n      <td>N/A</td>\n    </tr>\n    <tr>\n      <th>162661122</th>\n      <td>9.2 Misdrijf (overig)</td>\n      <td>2019*</td>\n      <td>Zwolle</td>\n      <td>Overijssel</td>\n      <td>15</td>\n      <td>0</td>\n      <td>N/A</td>\n    </tr>\n    <tr>\n      <th>162661123</th>\n      <td>9.2 Misdrijf (overig)</td>\n      <td>2019*</td>\n      <td>Zwolle</td>\n      <td>Overijssel</td>\n      <td>15</td>\n      <td>0</td>\n      <td>N/A</td>\n    </tr>\n    <tr>\n      <th>162661124</th>\n      <td>9.2 Misdrijf (overig)</td>\n      <td>2019*</td>\n      <td>Zwolle</td>\n      <td>Overijssel</td>\n      <td>15</td>\n      <td>0</td>\n      <td>N/A</td>\n    </tr>\n  </tbody>\n</table>\n<p>162661125 rows × 7 columns</p>\n</div>"
     },
     "metadata": {},
     "execution_count": 13
    }
   ],
   "source": [
    "data_veiligheid_incl_provincie = movecol(data_veiligheid_incl_provincie, cols_to_move=['Provincie'], ref_col=\"Regio's\", place='After')\n",
    "\n",
    "data_veiligheid_incl_provincie"
   ]
  },
  {
   "cell_type": "code",
   "execution_count": 14,
   "metadata": {},
   "outputs": [
    {
     "output_type": "execute_result",
     "data": {
      "text/plain": "['Drenthe',\n 'Flevoland',\n 'Friesland',\n 'Gelderland',\n 'Groningen',\n 'Limburg',\n 'Noord-Brabant',\n 'Noord-Holland',\n 'Overijssel',\n 'Utrecht',\n 'Zeeland',\n 'Zuid-Holland']"
     },
     "metadata": {},
     "execution_count": 14
    }
   ],
   "source": [
    "# Alle Gemeentelijke records groeperen in de bijbehorende Provincie\n",
    "\n",
    "provincies = sorted(data_veiligheid_incl_provincie[\"Provincie\"].drop_duplicates())\n",
    "\n",
    "provincies"
   ]
  },
  {
   "cell_type": "code",
   "execution_count": 19,
   "metadata": {},
   "outputs": [
    {
     "output_type": "execute_result",
     "data": {
      "text/plain": "                  Soort misdrijf Perioden     Regio's  Provincie  \\\n18163125      Misdrijven, totaal     2015  Appingedam  Groningen   \n18163126      Misdrijven, totaal     2015  Appingedam  Groningen   \n18163127      Misdrijven, totaal     2015  Appingedam  Groningen   \n18163128      Misdrijven, totaal     2015  Appingedam  Groningen   \n18163129      Misdrijven, totaal     2015  Appingedam  Groningen   \n...                          ...      ...         ...        ...   \n162645104  9.2 Misdrijf (overig)     2015      Zwolle  Groningen   \n162645169  9.2 Misdrijf (overig)     2015      Zwolle  Groningen   \n162646204  9.2 Misdrijf (overig)     2015      Zwolle  Groningen   \n162646519  9.2 Misdrijf (overig)     2015      Zwolle  Groningen   \n162647082  9.2 Misdrijf (overig)     2015      Zwolle  Groningen   \n\n          Aantal_misdrijven Misdrijven_relatief(%)  \\\n18163125                445                    100   \n18163126                445                    100   \n18163127                445                    100   \n18163128                445                    100   \n18163129                445                    100   \n...                     ...                    ...   \n162645104                15                      0   \n162645169                15                      0   \n162646204                15                      0   \n162646519                15                      0   \n162647082                15                      0   \n\n          Aantal_misdrijven(per_1000_inw)  \n18163125                               37  \n18163126                               37  \n18163127                               37  \n18163128                               37  \n18163129                               37  \n...                                   ...  \n162645104                             N/A  \n162645169                             N/A  \n162646204                             N/A  \n162646519                             N/A  \n162647082                             N/A  \n\n[988200 rows x 7 columns]",
      "text/html": "<div>\n<style scoped>\n    .dataframe tbody tr th:only-of-type {\n        vertical-align: middle;\n    }\n\n    .dataframe tbody tr th {\n        vertical-align: top;\n    }\n\n    .dataframe thead th {\n        text-align: right;\n    }\n</style>\n<table border=\"1\" class=\"dataframe\">\n  <thead>\n    <tr style=\"text-align: right;\">\n      <th></th>\n      <th>Soort misdrijf</th>\n      <th>Perioden</th>\n      <th>Regio's</th>\n      <th>Provincie</th>\n      <th>Aantal_misdrijven</th>\n      <th>Misdrijven_relatief(%)</th>\n      <th>Aantal_misdrijven(per_1000_inw)</th>\n    </tr>\n  </thead>\n  <tbody>\n    <tr>\n      <th>18163125</th>\n      <td>Misdrijven, totaal</td>\n      <td>2015</td>\n      <td>Appingedam</td>\n      <td>Groningen</td>\n      <td>445</td>\n      <td>100</td>\n      <td>37</td>\n    </tr>\n    <tr>\n      <th>18163126</th>\n      <td>Misdrijven, totaal</td>\n      <td>2015</td>\n      <td>Appingedam</td>\n      <td>Groningen</td>\n      <td>445</td>\n      <td>100</td>\n      <td>37</td>\n    </tr>\n    <tr>\n      <th>18163127</th>\n      <td>Misdrijven, totaal</td>\n      <td>2015</td>\n      <td>Appingedam</td>\n      <td>Groningen</td>\n      <td>445</td>\n      <td>100</td>\n      <td>37</td>\n    </tr>\n    <tr>\n      <th>18163128</th>\n      <td>Misdrijven, totaal</td>\n      <td>2015</td>\n      <td>Appingedam</td>\n      <td>Groningen</td>\n      <td>445</td>\n      <td>100</td>\n      <td>37</td>\n    </tr>\n    <tr>\n      <th>18163129</th>\n      <td>Misdrijven, totaal</td>\n      <td>2015</td>\n      <td>Appingedam</td>\n      <td>Groningen</td>\n      <td>445</td>\n      <td>100</td>\n      <td>37</td>\n    </tr>\n    <tr>\n      <th>...</th>\n      <td>...</td>\n      <td>...</td>\n      <td>...</td>\n      <td>...</td>\n      <td>...</td>\n      <td>...</td>\n      <td>...</td>\n    </tr>\n    <tr>\n      <th>162645104</th>\n      <td>9.2 Misdrijf (overig)</td>\n      <td>2015</td>\n      <td>Zwolle</td>\n      <td>Groningen</td>\n      <td>15</td>\n      <td>0</td>\n      <td>N/A</td>\n    </tr>\n    <tr>\n      <th>162645169</th>\n      <td>9.2 Misdrijf (overig)</td>\n      <td>2015</td>\n      <td>Zwolle</td>\n      <td>Groningen</td>\n      <td>15</td>\n      <td>0</td>\n      <td>N/A</td>\n    </tr>\n    <tr>\n      <th>162646204</th>\n      <td>9.2 Misdrijf (overig)</td>\n      <td>2015</td>\n      <td>Zwolle</td>\n      <td>Groningen</td>\n      <td>15</td>\n      <td>0</td>\n      <td>N/A</td>\n    </tr>\n    <tr>\n      <th>162646519</th>\n      <td>9.2 Misdrijf (overig)</td>\n      <td>2015</td>\n      <td>Zwolle</td>\n      <td>Groningen</td>\n      <td>15</td>\n      <td>0</td>\n      <td>N/A</td>\n    </tr>\n    <tr>\n      <th>162647082</th>\n      <td>9.2 Misdrijf (overig)</td>\n      <td>2015</td>\n      <td>Zwolle</td>\n      <td>Groningen</td>\n      <td>15</td>\n      <td>0</td>\n      <td>N/A</td>\n    </tr>\n  </tbody>\n</table>\n<p>988200 rows × 7 columns</p>\n</div>"
     },
     "metadata": {},
     "execution_count": 19
    }
   ],
   "source": [
    "provincie_groningen = data_veiligheid_incl_provincie.loc[((data_veiligheid_incl_provincie.Provincie == 'Groningen') & (data_veiligheid_incl_provincie.Perioden == '2015'))]\n",
    "\n",
    "provincie_groningen"
   ]
  },
  {
   "cell_type": "code",
   "execution_count": 20,
   "metadata": {},
   "outputs": [
    {
     "output_type": "execute_result",
     "data": {
      "text/plain": "41103930.0"
     },
     "metadata": {},
     "execution_count": 20
    }
   ],
   "source": [
    "provincie_groningen['Aantal_misdrijven'].sum()"
   ]
  },
  {
   "cell_type": "code",
   "execution_count": null,
   "metadata": {},
   "outputs": [],
   "source": []
  },
  {
   "cell_type": "code",
   "execution_count": 17,
   "metadata": {},
   "outputs": [],
   "source": [
    "# Alle Gemeentelijke records groeperen op Eigen Gemeente\n",
    ""
   ]
  },
  {
   "cell_type": "code",
   "execution_count": 18,
   "metadata": {},
   "outputs": [],
   "source": [
    "# Alle Overige records groeperen op Overig\n",
    ""
   ]
  }
 ]
}