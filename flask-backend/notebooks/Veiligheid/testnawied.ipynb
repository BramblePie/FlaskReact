{
 "cells": [
  {
   "cell_type": "code",
   "execution_count": 68,
   "metadata": {},
   "outputs": [
    {
     "output_type": "execute_result",
     "data": {
      "text/plain": "        Unnamed: 0         Soort misdrijf Perioden  \\\n0                0     Misdrijven, totaal     2015   \n1                1     Misdrijven, totaal     2016   \n2                2     Misdrijven, totaal     2017   \n3                3     Misdrijven, totaal    2018*   \n4                4     Misdrijven, totaal    2019*   \n...            ...                    ...      ...   \n176995      176995  9.2 Misdrijf (overig)     2015   \n176996      176996  9.2 Misdrijf (overig)     2016   \n176997      176997  9.2 Misdrijf (overig)     2017   \n176998      176998  9.2 Misdrijf (overig)    2018*   \n176999      176999  9.2 Misdrijf (overig)    2019*   \n\n                            Regio's  Aantal_misdrijven  \\\n0                    Groningen (PV)            30065.0   \n1                    Groningen (PV)            29570.0   \n2                    Groningen (PV)            24990.0   \n3                    Groningen (PV)            24035.0   \n4                    Groningen (PV)            24865.0   \n...                             ...                ...   \n176995  Niet-gemeentelijk ingedeeld               10.0   \n176996  Niet-gemeentelijk ingedeeld               10.0   \n176997  Niet-gemeentelijk ingedeeld               20.0   \n176998  Niet-gemeentelijk ingedeeld               25.0   \n176999  Niet-gemeentelijk ingedeeld               10.0   \n\n        Misdrijven_relatief(%) Aantal_misdrijven(per_1000_inw)  \n0                        100.0                            51,5  \n1                        100.0                            50,7  \n2                        100.0                            42,8  \n3                        100.0                            41,2  \n4                        100.0                            42,6  \n...                        ...                             ...  \n176995                     1.0                             NaN  \n176996                     1.0                             NaN  \n176997                     1.0                             NaN  \n176998                     1.0                             NaN  \n176999                     0.0                             NaN  \n\n[177000 rows x 7 columns]",
      "text/html": "<div>\n<style scoped>\n    .dataframe tbody tr th:only-of-type {\n        vertical-align: middle;\n    }\n\n    .dataframe tbody tr th {\n        vertical-align: top;\n    }\n\n    .dataframe thead th {\n        text-align: right;\n    }\n</style>\n<table border=\"1\" class=\"dataframe\">\n  <thead>\n    <tr style=\"text-align: right;\">\n      <th></th>\n      <th>Unnamed: 0</th>\n      <th>Soort misdrijf</th>\n      <th>Perioden</th>\n      <th>Regio's</th>\n      <th>Aantal_misdrijven</th>\n      <th>Misdrijven_relatief(%)</th>\n      <th>Aantal_misdrijven(per_1000_inw)</th>\n    </tr>\n  </thead>\n  <tbody>\n    <tr>\n      <th>0</th>\n      <td>0</td>\n      <td>Misdrijven, totaal</td>\n      <td>2015</td>\n      <td>Groningen (PV)</td>\n      <td>30065.0</td>\n      <td>100.0</td>\n      <td>51,5</td>\n    </tr>\n    <tr>\n      <th>1</th>\n      <td>1</td>\n      <td>Misdrijven, totaal</td>\n      <td>2016</td>\n      <td>Groningen (PV)</td>\n      <td>29570.0</td>\n      <td>100.0</td>\n      <td>50,7</td>\n    </tr>\n    <tr>\n      <th>2</th>\n      <td>2</td>\n      <td>Misdrijven, totaal</td>\n      <td>2017</td>\n      <td>Groningen (PV)</td>\n      <td>24990.0</td>\n      <td>100.0</td>\n      <td>42,8</td>\n    </tr>\n    <tr>\n      <th>3</th>\n      <td>3</td>\n      <td>Misdrijven, totaal</td>\n      <td>2018*</td>\n      <td>Groningen (PV)</td>\n      <td>24035.0</td>\n      <td>100.0</td>\n      <td>41,2</td>\n    </tr>\n    <tr>\n      <th>4</th>\n      <td>4</td>\n      <td>Misdrijven, totaal</td>\n      <td>2019*</td>\n      <td>Groningen (PV)</td>\n      <td>24865.0</td>\n      <td>100.0</td>\n      <td>42,6</td>\n    </tr>\n    <tr>\n      <th>...</th>\n      <td>...</td>\n      <td>...</td>\n      <td>...</td>\n      <td>...</td>\n      <td>...</td>\n      <td>...</td>\n      <td>...</td>\n    </tr>\n    <tr>\n      <th>176995</th>\n      <td>176995</td>\n      <td>9.2 Misdrijf (overig)</td>\n      <td>2015</td>\n      <td>Niet-gemeentelijk ingedeeld</td>\n      <td>10.0</td>\n      <td>1.0</td>\n      <td>NaN</td>\n    </tr>\n    <tr>\n      <th>176996</th>\n      <td>176996</td>\n      <td>9.2 Misdrijf (overig)</td>\n      <td>2016</td>\n      <td>Niet-gemeentelijk ingedeeld</td>\n      <td>10.0</td>\n      <td>1.0</td>\n      <td>NaN</td>\n    </tr>\n    <tr>\n      <th>176997</th>\n      <td>176997</td>\n      <td>9.2 Misdrijf (overig)</td>\n      <td>2017</td>\n      <td>Niet-gemeentelijk ingedeeld</td>\n      <td>20.0</td>\n      <td>1.0</td>\n      <td>NaN</td>\n    </tr>\n    <tr>\n      <th>176998</th>\n      <td>176998</td>\n      <td>9.2 Misdrijf (overig)</td>\n      <td>2018*</td>\n      <td>Niet-gemeentelijk ingedeeld</td>\n      <td>25.0</td>\n      <td>1.0</td>\n      <td>NaN</td>\n    </tr>\n    <tr>\n      <th>176999</th>\n      <td>176999</td>\n      <td>9.2 Misdrijf (overig)</td>\n      <td>2019*</td>\n      <td>Niet-gemeentelijk ingedeeld</td>\n      <td>10.0</td>\n      <td>0.0</td>\n      <td>NaN</td>\n    </tr>\n  </tbody>\n</table>\n<p>177000 rows × 7 columns</p>\n</div>"
     },
     "metadata": {},
     "execution_count": 68
    }
   ],
   "source": [
    "import pandas as pd\n",
    "import geopandas as gpd\n",
    "import seaborn as sb\n",
    "import numpy as np\n",
    "import matplotlib.pyplot as plt\n",
    "\n",
    "# Dataset inlezen\n",
    "file = \"../../../raw-data/nieuw_veiligheid.csv\"\n",
    "data_veiligheid_nieuw = pd.read_csv(file, sep=\",\")\n",
    "\n",
    "df1= pd.DataFrame(data_veiligheid_nieuw)\n",
    "\n",
    "# Dataverkennen door dataframe te openen\n",
    "data_veiligheid_nieuw\n",
    ""
   ]
  },
  {
   "cell_type": "code",
   "execution_count": 69,
   "metadata": {},
   "outputs": [],
   "source": [
    "# Dataset inlezen\n",
    "file = \"../../../raw-data/postcodetabel.xlsx\"\n",
    "postcode = pd.read_excel(file) \n",
    "\n",
    "df2 = pd.DataFrame(postcode)"
   ]
  },
  {
   "cell_type": "code",
   "execution_count": 70,
   "metadata": {},
   "outputs": [
    {
     "output_type": "execute_result",
     "data": {
      "text/plain": "                Gemeente      Provincie\n0                 Druten     Gelderland\n1             Amstelveen  Noord-Holland\n2              Amsterdam  Noord-Holland\n3       Weststellingwerf      Friesland\n4                Zutphen     Gelderland\n...                  ...            ...\n471776             Weesp  Noord-Holland\n471777            Zwolle     Overijssel\n471778        Appingedam      Groningen\n471779             Haren      Groningen\n471780         Apeldoorn     Gelderland\n\n[471781 rows x 2 columns]",
      "text/html": "<div>\n<style scoped>\n    .dataframe tbody tr th:only-of-type {\n        vertical-align: middle;\n    }\n\n    .dataframe tbody tr th {\n        vertical-align: top;\n    }\n\n    .dataframe thead th {\n        text-align: right;\n    }\n</style>\n<table border=\"1\" class=\"dataframe\">\n  <thead>\n    <tr style=\"text-align: right;\">\n      <th></th>\n      <th>Gemeente</th>\n      <th>Provincie</th>\n    </tr>\n  </thead>\n  <tbody>\n    <tr>\n      <th>0</th>\n      <td>Druten</td>\n      <td>Gelderland</td>\n    </tr>\n    <tr>\n      <th>1</th>\n      <td>Amstelveen</td>\n      <td>Noord-Holland</td>\n    </tr>\n    <tr>\n      <th>2</th>\n      <td>Amsterdam</td>\n      <td>Noord-Holland</td>\n    </tr>\n    <tr>\n      <th>3</th>\n      <td>Weststellingwerf</td>\n      <td>Friesland</td>\n    </tr>\n    <tr>\n      <th>4</th>\n      <td>Zutphen</td>\n      <td>Gelderland</td>\n    </tr>\n    <tr>\n      <th>...</th>\n      <td>...</td>\n      <td>...</td>\n    </tr>\n    <tr>\n      <th>471776</th>\n      <td>Weesp</td>\n      <td>Noord-Holland</td>\n    </tr>\n    <tr>\n      <th>471777</th>\n      <td>Zwolle</td>\n      <td>Overijssel</td>\n    </tr>\n    <tr>\n      <th>471778</th>\n      <td>Appingedam</td>\n      <td>Groningen</td>\n    </tr>\n    <tr>\n      <th>471779</th>\n      <td>Haren</td>\n      <td>Groningen</td>\n    </tr>\n    <tr>\n      <th>471780</th>\n      <td>Apeldoorn</td>\n      <td>Gelderland</td>\n    </tr>\n  </tbody>\n</table>\n<p>471781 rows × 2 columns</p>\n</div>"
     },
     "metadata": {},
     "execution_count": 70
    }
   ],
   "source": [
    "postcode"
   ]
  },
  {
   "cell_type": "code",
   "execution_count": 76,
   "metadata": {},
   "outputs": [
    {
     "output_type": "execute_result",
     "data": {
      "text/plain": "                 Regio's      Provincie\n0                 Druten     Gelderland\n1             Amstelveen  Noord-Holland\n2              Amsterdam  Noord-Holland\n3       Weststellingwerf      Friesland\n4                Zutphen     Gelderland\n...                  ...            ...\n471776             Weesp  Noord-Holland\n471777            Zwolle     Overijssel\n471778        Appingedam      Groningen\n471779             Haren      Groningen\n471780         Apeldoorn     Gelderland\n\n[471781 rows x 2 columns]",
      "text/html": "<div>\n<style scoped>\n    .dataframe tbody tr th:only-of-type {\n        vertical-align: middle;\n    }\n\n    .dataframe tbody tr th {\n        vertical-align: top;\n    }\n\n    .dataframe thead th {\n        text-align: right;\n    }\n</style>\n<table border=\"1\" class=\"dataframe\">\n  <thead>\n    <tr style=\"text-align: right;\">\n      <th></th>\n      <th>Regio's</th>\n      <th>Provincie</th>\n    </tr>\n  </thead>\n  <tbody>\n    <tr>\n      <th>0</th>\n      <td>Druten</td>\n      <td>Gelderland</td>\n    </tr>\n    <tr>\n      <th>1</th>\n      <td>Amstelveen</td>\n      <td>Noord-Holland</td>\n    </tr>\n    <tr>\n      <th>2</th>\n      <td>Amsterdam</td>\n      <td>Noord-Holland</td>\n    </tr>\n    <tr>\n      <th>3</th>\n      <td>Weststellingwerf</td>\n      <td>Friesland</td>\n    </tr>\n    <tr>\n      <th>4</th>\n      <td>Zutphen</td>\n      <td>Gelderland</td>\n    </tr>\n    <tr>\n      <th>...</th>\n      <td>...</td>\n      <td>...</td>\n    </tr>\n    <tr>\n      <th>471776</th>\n      <td>Weesp</td>\n      <td>Noord-Holland</td>\n    </tr>\n    <tr>\n      <th>471777</th>\n      <td>Zwolle</td>\n      <td>Overijssel</td>\n    </tr>\n    <tr>\n      <th>471778</th>\n      <td>Appingedam</td>\n      <td>Groningen</td>\n    </tr>\n    <tr>\n      <th>471779</th>\n      <td>Haren</td>\n      <td>Groningen</td>\n    </tr>\n    <tr>\n      <th>471780</th>\n      <td>Apeldoorn</td>\n      <td>Gelderland</td>\n    </tr>\n  </tbody>\n</table>\n<p>471781 rows × 2 columns</p>\n</div>"
     },
     "metadata": {},
     "execution_count": 76
    }
   ],
   "source": [
    "\n",
    "postcode.rename(columns={\"Gemeente\":\"Regio's\"}, inplace=True)\n",
    "\n",
    "df2 = pd.DataFrame(postcode)\n",
    "postcode"
   ]
  },
  {
   "cell_type": "code",
   "execution_count": 77,
   "metadata": {},
   "outputs": [
    {
     "output_type": "execute_result",
     "data": {
      "text/plain": "                 Regio's      Provincie\n0                 Druten     Gelderland\n1             Amstelveen  Noord-Holland\n2              Amsterdam  Noord-Holland\n3       Weststellingwerf      Friesland\n4                Zutphen     Gelderland\n...                  ...            ...\n471776             Weesp  Noord-Holland\n471777            Zwolle     Overijssel\n471778        Appingedam      Groningen\n471779             Haren      Groningen\n471780         Apeldoorn     Gelderland\n\n[471781 rows x 2 columns]",
      "text/html": "<div>\n<style scoped>\n    .dataframe tbody tr th:only-of-type {\n        vertical-align: middle;\n    }\n\n    .dataframe tbody tr th {\n        vertical-align: top;\n    }\n\n    .dataframe thead th {\n        text-align: right;\n    }\n</style>\n<table border=\"1\" class=\"dataframe\">\n  <thead>\n    <tr style=\"text-align: right;\">\n      <th></th>\n      <th>Regio's</th>\n      <th>Provincie</th>\n    </tr>\n  </thead>\n  <tbody>\n    <tr>\n      <th>0</th>\n      <td>Druten</td>\n      <td>Gelderland</td>\n    </tr>\n    <tr>\n      <th>1</th>\n      <td>Amstelveen</td>\n      <td>Noord-Holland</td>\n    </tr>\n    <tr>\n      <th>2</th>\n      <td>Amsterdam</td>\n      <td>Noord-Holland</td>\n    </tr>\n    <tr>\n      <th>3</th>\n      <td>Weststellingwerf</td>\n      <td>Friesland</td>\n    </tr>\n    <tr>\n      <th>4</th>\n      <td>Zutphen</td>\n      <td>Gelderland</td>\n    </tr>\n    <tr>\n      <th>...</th>\n      <td>...</td>\n      <td>...</td>\n    </tr>\n    <tr>\n      <th>471776</th>\n      <td>Weesp</td>\n      <td>Noord-Holland</td>\n    </tr>\n    <tr>\n      <th>471777</th>\n      <td>Zwolle</td>\n      <td>Overijssel</td>\n    </tr>\n    <tr>\n      <th>471778</th>\n      <td>Appingedam</td>\n      <td>Groningen</td>\n    </tr>\n    <tr>\n      <th>471779</th>\n      <td>Haren</td>\n      <td>Groningen</td>\n    </tr>\n    <tr>\n      <th>471780</th>\n      <td>Apeldoorn</td>\n      <td>Gelderland</td>\n    </tr>\n  </tbody>\n</table>\n<p>471781 rows × 2 columns</p>\n</div>"
     },
     "metadata": {},
     "execution_count": 77
    }
   ],
   "source": [
    "df2"
   ]
  },
  {
   "cell_type": "code",
   "execution_count": 78,
   "metadata": {},
   "outputs": [
    {
     "output_type": "execute_result",
     "data": {
      "text/plain": "           Unnamed: 0         Soort misdrijf Perioden      Regio's  \\\n0                  65     Misdrijven, totaal     2015  Aa en Hunze   \n1                  65     Misdrijven, totaal     2015  Aa en Hunze   \n2                  65     Misdrijven, totaal     2015  Aa en Hunze   \n3                  65     Misdrijven, totaal     2015  Aa en Hunze   \n4                  65     Misdrijven, totaal     2015  Aa en Hunze   \n...               ...                    ...      ...          ...   \n162661120      176994  9.2 Misdrijf (overig)    2019*       Zwolle   \n162661121      176994  9.2 Misdrijf (overig)    2019*       Zwolle   \n162661122      176994  9.2 Misdrijf (overig)    2019*       Zwolle   \n162661123      176994  9.2 Misdrijf (overig)    2019*       Zwolle   \n162661124      176994  9.2 Misdrijf (overig)    2019*       Zwolle   \n\n           Aantal_misdrijven  Misdrijven_relatief(%)  \\\n0                      645.0                   100.0   \n1                      645.0                   100.0   \n2                      645.0                   100.0   \n3                      645.0                   100.0   \n4                      645.0                   100.0   \n...                      ...                     ...   \n162661120               15.0                     0.0   \n162661121               15.0                     0.0   \n162661122               15.0                     0.0   \n162661123               15.0                     0.0   \n162661124               15.0                     0.0   \n\n          Aantal_misdrijven(per_1000_inw)   Provincie  \n0                                    25,6     Drenthe  \n1                                    25,6     Drenthe  \n2                                    25,6     Drenthe  \n3                                    25,6     Drenthe  \n4                                    25,6     Drenthe  \n...                                   ...         ...  \n162661120                             NaN  Overijssel  \n162661121                             NaN  Overijssel  \n162661122                             NaN  Overijssel  \n162661123                             NaN  Overijssel  \n162661124                             NaN  Overijssel  \n\n[162661125 rows x 8 columns]",
      "text/html": "<div>\n<style scoped>\n    .dataframe tbody tr th:only-of-type {\n        vertical-align: middle;\n    }\n\n    .dataframe tbody tr th {\n        vertical-align: top;\n    }\n\n    .dataframe thead th {\n        text-align: right;\n    }\n</style>\n<table border=\"1\" class=\"dataframe\">\n  <thead>\n    <tr style=\"text-align: right;\">\n      <th></th>\n      <th>Unnamed: 0</th>\n      <th>Soort misdrijf</th>\n      <th>Perioden</th>\n      <th>Regio's</th>\n      <th>Aantal_misdrijven</th>\n      <th>Misdrijven_relatief(%)</th>\n      <th>Aantal_misdrijven(per_1000_inw)</th>\n      <th>Provincie</th>\n    </tr>\n  </thead>\n  <tbody>\n    <tr>\n      <th>0</th>\n      <td>65</td>\n      <td>Misdrijven, totaal</td>\n      <td>2015</td>\n      <td>Aa en Hunze</td>\n      <td>645.0</td>\n      <td>100.0</td>\n      <td>25,6</td>\n      <td>Drenthe</td>\n    </tr>\n    <tr>\n      <th>1</th>\n      <td>65</td>\n      <td>Misdrijven, totaal</td>\n      <td>2015</td>\n      <td>Aa en Hunze</td>\n      <td>645.0</td>\n      <td>100.0</td>\n      <td>25,6</td>\n      <td>Drenthe</td>\n    </tr>\n    <tr>\n      <th>2</th>\n      <td>65</td>\n      <td>Misdrijven, totaal</td>\n      <td>2015</td>\n      <td>Aa en Hunze</td>\n      <td>645.0</td>\n      <td>100.0</td>\n      <td>25,6</td>\n      <td>Drenthe</td>\n    </tr>\n    <tr>\n      <th>3</th>\n      <td>65</td>\n      <td>Misdrijven, totaal</td>\n      <td>2015</td>\n      <td>Aa en Hunze</td>\n      <td>645.0</td>\n      <td>100.0</td>\n      <td>25,6</td>\n      <td>Drenthe</td>\n    </tr>\n    <tr>\n      <th>4</th>\n      <td>65</td>\n      <td>Misdrijven, totaal</td>\n      <td>2015</td>\n      <td>Aa en Hunze</td>\n      <td>645.0</td>\n      <td>100.0</td>\n      <td>25,6</td>\n      <td>Drenthe</td>\n    </tr>\n    <tr>\n      <th>...</th>\n      <td>...</td>\n      <td>...</td>\n      <td>...</td>\n      <td>...</td>\n      <td>...</td>\n      <td>...</td>\n      <td>...</td>\n      <td>...</td>\n    </tr>\n    <tr>\n      <th>162661120</th>\n      <td>176994</td>\n      <td>9.2 Misdrijf (overig)</td>\n      <td>2019*</td>\n      <td>Zwolle</td>\n      <td>15.0</td>\n      <td>0.0</td>\n      <td>NaN</td>\n      <td>Overijssel</td>\n    </tr>\n    <tr>\n      <th>162661121</th>\n      <td>176994</td>\n      <td>9.2 Misdrijf (overig)</td>\n      <td>2019*</td>\n      <td>Zwolle</td>\n      <td>15.0</td>\n      <td>0.0</td>\n      <td>NaN</td>\n      <td>Overijssel</td>\n    </tr>\n    <tr>\n      <th>162661122</th>\n      <td>176994</td>\n      <td>9.2 Misdrijf (overig)</td>\n      <td>2019*</td>\n      <td>Zwolle</td>\n      <td>15.0</td>\n      <td>0.0</td>\n      <td>NaN</td>\n      <td>Overijssel</td>\n    </tr>\n    <tr>\n      <th>162661123</th>\n      <td>176994</td>\n      <td>9.2 Misdrijf (overig)</td>\n      <td>2019*</td>\n      <td>Zwolle</td>\n      <td>15.0</td>\n      <td>0.0</td>\n      <td>NaN</td>\n      <td>Overijssel</td>\n    </tr>\n    <tr>\n      <th>162661124</th>\n      <td>176994</td>\n      <td>9.2 Misdrijf (overig)</td>\n      <td>2019*</td>\n      <td>Zwolle</td>\n      <td>15.0</td>\n      <td>0.0</td>\n      <td>NaN</td>\n      <td>Overijssel</td>\n    </tr>\n  </tbody>\n</table>\n<p>162661125 rows × 8 columns</p>\n</div>"
     },
     "metadata": {},
     "execution_count": 78
    }
   ],
   "source": [
    "ok = df1.merge(df2, on=\"Regio's\")\n",
    "\n",
    "ok"
   ]
  },
  {
   "cell_type": "code",
   "execution_count": null,
   "metadata": {},
   "outputs": [],
   "source": []
  },
  {
   "cell_type": "code",
   "execution_count": 2,
   "metadata": {},
   "outputs": [],
   "source": [
    "from tkinter import *\n",
    "from tkinter.ttk import *\n",
    "\n",
    "class Gui:\n",
    "\n",
    "    def __init__(self):\n",
    "        self.root = Tk()\n",
    "\n",
    "        # Set up the Combobox\n",
    "        self.selections = Combobox(self.root)\n",
    "        self.selections['values'] = ['Apples', 'Oranges', 'Blueberries', 'Bananas', 'Custom']\n",
    "        self.selections.pack()\n",
    "\n",
    "        # The Entry to be shown if \"Custom\" is selected\n",
    "        self.custom_field = Entry(self.root)\n",
    "        self.show_custom_field = False\n",
    "\n",
    "        # Check the selection in 100 ms\n",
    "        self.root.after(100, self.check_for_selection)\n",
    "\n",
    "    def check_for_selection(self):\n",
    "        '''Checks if the value of the Combobox equals \"Custom\".'''\n",
    "\n",
    "\n",
    "        # Get the value of the Combobox\n",
    "        value = self.selections.get()\n",
    "\n",
    "        # If the value is equal to \"Custom\" and show_field is set to False\n",
    "        if value == 'Custom' and not self.show_custom_field:\n",
    "\n",
    "            # Set show_field to True and pack() the custom entry field\n",
    "            self.show_custom_field = True\n",
    "            self.custom_field.pack()\n",
    "\n",
    "\n",
    "        # If the value DOESNT equal \"Custom\"\n",
    "        elif value != 'Custom':\n",
    "\n",
    "            # Set show_field to False\n",
    "            self.show_custom_field = False\n",
    "\n",
    "            # Destroy the custom input\n",
    "            self.custom_field.destroy()\n",
    "\n",
    "            # Set up a new Entry object to pack() if we need it later.\n",
    "            # Without this line, tkinter was raising an error for me.\n",
    "            # This fixed it, but I don't promise that this is the\n",
    "            # most efficient method to do this.\n",
    "            self.custom_field = Entry(self.root)\n",
    "\n",
    "        # If the value IS \"Custom\" and we're showing the custom_feild\n",
    "        elif value == 'Custom' and self.show_custom_field:\n",
    "            pass\n",
    "\n",
    "\n",
    "        # Call this method again to keep checking the selection box\n",
    "        self.root.after(100, self.check_for_selection)\n",
    "\n",
    "\n",
    "app = Gui()\n",
    "app.root.mainloop()"
   ]
  },
  {
   "cell_type": "code",
   "execution_count": null,
   "metadata": {},
   "outputs": [],
   "source": []
  }
 ],
 "metadata": {
  "language_info": {
   "name": "python",
   "codemirror_mode": {
    "name": "ipython",
    "version": 3
   },
   "version": "3.8.2-final"
  },
  "orig_nbformat": 2,
  "file_extension": ".py",
  "mimetype": "text/x-python",
  "name": "python",
  "npconvert_exporter": "python",
  "pygments_lexer": "ipython3",
  "version": 3,
  "kernelspec": {
   "name": "python38264bitenvcondaf96fe45400d245478aa42fe86c9a5622",
   "display_name": "Python 3.8.2 64-bit ('.env': conda)"
  }
 },
 "nbformat": 4,
 "nbformat_minor": 2
}