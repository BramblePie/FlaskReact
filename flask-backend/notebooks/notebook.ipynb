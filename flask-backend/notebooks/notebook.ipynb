{
 "cells": [
  {
   "cell_type": "code",
   "execution_count": 1,
   "metadata": {},
   "outputs": [],
   "source": [
    "import pandas as pd\n",
    "import geopandas as gpd\n",
    ""
   ]
  },
  {
   "cell_type": "code",
   "execution_count": 2,
   "metadata": {},
   "outputs": [
    {
     "output_type": "stream",
     "name": "stdout",
     "text": "Loading zip://../../raw-data/wijkenbuurten2019.zip...\nLoaded zip://../../raw-data/wijkenbuurten2019.zip\n"
    }
   ],
   "source": [
    "zipfile = \"zip://../../raw-data/wijkenbuurten2019.zip\"\n",
    "print(f\"Loading {zipfile}...\")\n",
    "gdf = gpd.read_file(zipfile)\n",
    "print(f\"Loaded {zipfile}\")"
   ]
  },
  {
   "cell_type": "code",
   "execution_count": 3,
   "metadata": {},
   "outputs": [
    {
     "output_type": "execute_result",
     "data": {
      "text/plain": "      BU_CODE      JRSTATCODE             BU_NAAM   WK_CODE  WK_NAAM GM_CODE  \\\n0  BU00030000  2019BU00030000  Appingedam-Centrum  WK000300  Wijk 00  GM0003   \n1  BU00030001  2019BU00030001     Appingedam-West  WK000300  Wijk 00  GM0003   \n\n      GM_NAAM  IND_WBI WATER POSTCODE  ...  P_N_W_AL  P_MAROKKO  P_ANT_ARU  \\\n0  Appingedam        1   NEE     9901  ...         4          0          1   \n1  Appingedam        1   NEE     9903  ...         4          0          1   \n\n   P_SURINAM  P_TURKIJE  P_OVER_NW  OPP_TOT  OPP_LAND  OPP_WATER  \\\n0          0          0          2       90        84          5   \n1          0          1          2      163       158          5   \n\n                                            geometry  \n0  POLYGON ((252643.203 594343.688, 252674.500 59...  \n1  POLYGON ((251260.496 594393.830, 251261.415 59...  \n\n[2 rows x 42 columns]",
      "text/html": "<div>\n<style scoped>\n    .dataframe tbody tr th:only-of-type {\n        vertical-align: middle;\n    }\n\n    .dataframe tbody tr th {\n        vertical-align: top;\n    }\n\n    .dataframe thead th {\n        text-align: right;\n    }\n</style>\n<table border=\"1\" class=\"dataframe\">\n  <thead>\n    <tr style=\"text-align: right;\">\n      <th></th>\n      <th>BU_CODE</th>\n      <th>JRSTATCODE</th>\n      <th>BU_NAAM</th>\n      <th>WK_CODE</th>\n      <th>WK_NAAM</th>\n      <th>GM_CODE</th>\n      <th>GM_NAAM</th>\n      <th>IND_WBI</th>\n      <th>WATER</th>\n      <th>POSTCODE</th>\n      <th>...</th>\n      <th>P_N_W_AL</th>\n      <th>P_MAROKKO</th>\n      <th>P_ANT_ARU</th>\n      <th>P_SURINAM</th>\n      <th>P_TURKIJE</th>\n      <th>P_OVER_NW</th>\n      <th>OPP_TOT</th>\n      <th>OPP_LAND</th>\n      <th>OPP_WATER</th>\n      <th>geometry</th>\n    </tr>\n  </thead>\n  <tbody>\n    <tr>\n      <th>0</th>\n      <td>BU00030000</td>\n      <td>2019BU00030000</td>\n      <td>Appingedam-Centrum</td>\n      <td>WK000300</td>\n      <td>Wijk 00</td>\n      <td>GM0003</td>\n      <td>Appingedam</td>\n      <td>1</td>\n      <td>NEE</td>\n      <td>9901</td>\n      <td>...</td>\n      <td>4</td>\n      <td>0</td>\n      <td>1</td>\n      <td>0</td>\n      <td>0</td>\n      <td>2</td>\n      <td>90</td>\n      <td>84</td>\n      <td>5</td>\n      <td>POLYGON ((252643.203 594343.688, 252674.500 59...</td>\n    </tr>\n    <tr>\n      <th>1</th>\n      <td>BU00030001</td>\n      <td>2019BU00030001</td>\n      <td>Appingedam-West</td>\n      <td>WK000300</td>\n      <td>Wijk 00</td>\n      <td>GM0003</td>\n      <td>Appingedam</td>\n      <td>1</td>\n      <td>NEE</td>\n      <td>9903</td>\n      <td>...</td>\n      <td>4</td>\n      <td>0</td>\n      <td>1</td>\n      <td>0</td>\n      <td>1</td>\n      <td>2</td>\n      <td>163</td>\n      <td>158</td>\n      <td>5</td>\n      <td>POLYGON ((251260.496 594393.830, 251261.415 59...</td>\n    </tr>\n  </tbody>\n</table>\n<p>2 rows × 42 columns</p>\n</div>"
     },
     "metadata": {},
     "execution_count": 3
    }
   ],
   "source": [
    "gdf.head(2)"
   ]
  },
  {
   "cell_type": "code",
   "execution_count": 4,
   "metadata": {},
   "outputs": [
    {
     "output_type": "stream",
     "name": "stdout",
     "text": "<class 'geopandas.geodataframe.GeoDataFrame'>\nRangeIndex: 13689 entries, 0 to 13688\nData columns (total 42 columns):\n #   Column      Non-Null Count  Dtype   \n---  ------      --------------  -----   \n 0   BU_CODE     13689 non-null  object  \n 1   JRSTATCODE  13689 non-null  object  \n 2   BU_NAAM     13689 non-null  object  \n 3   WK_CODE     13689 non-null  object  \n 4   WK_NAAM     13689 non-null  object  \n 5   GM_CODE     13689 non-null  object  \n 6   GM_NAAM     13689 non-null  object  \n 7   IND_WBI     13689 non-null  int64   \n 8   WATER       13689 non-null  object  \n 9   POSTCODE    13594 non-null  object  \n 10  DEK_PERC    13689 non-null  int64   \n 11  OAD         13689 non-null  int64   \n 12  STED        13689 non-null  int64   \n 13  BEV_DICHTH  13689 non-null  int64   \n 14  AANT_INW    13689 non-null  int64   \n 15  AANT_MAN    13689 non-null  int64   \n 16  AANT_VROUW  13689 non-null  int64   \n 17  P_00_14_JR  13689 non-null  int64   \n 18  P_15_24_JR  13689 non-null  int64   \n 19  P_25_44_JR  13689 non-null  int64   \n 20  P_45_64_JR  13689 non-null  int64   \n 21  P_65_EO_JR  13689 non-null  int64   \n 22  P_ONGEHUWD  13689 non-null  int64   \n 23  P_GEHUWD    13689 non-null  int64   \n 24  P_GESCHEID  13689 non-null  int64   \n 25  P_VERWEDUW  13689 non-null  int64   \n 26  AANTAL_HH   13689 non-null  int64   \n 27  P_EENP_HH   13689 non-null  int64   \n 28  P_HH_Z_K    13689 non-null  int64   \n 29  P_HH_M_K    13689 non-null  int64   \n 30  GEM_HH_GR   13689 non-null  float64 \n 31  P_WEST_AL   13689 non-null  int64   \n 32  P_N_W_AL    13689 non-null  int64   \n 33  P_MAROKKO   13689 non-null  int64   \n 34  P_ANT_ARU   13689 non-null  int64   \n 35  P_SURINAM   13689 non-null  int64   \n 36  P_TURKIJE   13689 non-null  int64   \n 37  P_OVER_NW   13689 non-null  int64   \n 38  OPP_TOT     13689 non-null  int64   \n 39  OPP_LAND    13689 non-null  int64   \n 40  OPP_WATER   13689 non-null  int64   \n 41  geometry    13689 non-null  geometry\ndtypes: float64(1), geometry(1), int64(31), object(9)\nmemory usage: 4.4+ MB\n"
    }
   ],
   "source": [
    "gdf.info()"
   ]
  },
  {
   "cell_type": "code",
   "execution_count": 12,
   "metadata": {},
   "outputs": [
    {
     "output_type": "execute_result",
     "data": {
      "text/plain": "      BU_CODE      JRSTATCODE                                      BU_NAAM  \\\n0  BU00030000  2019BU00030000                           Appingedam-Centrum   \n1  BU00030001  2019BU00030001                              Appingedam-West   \n2  BU00030002  2019BU00030002                              Appingedam-Oost   \n3  BU00030007  2019BU00030007  Verspreide huizen Damsterdiep en Eemskanaal   \n4  BU00030008  2019BU00030008  Verspreide huizen ten zuiden van Eemskanaal   \n\n    WK_CODE  WK_NAAM GM_CODE     GM_NAAM  IND_WBI WATER POSTCODE  ...  \\\n0  WK000300  Wijk 00  GM0003  Appingedam        1   NEE     9901  ...   \n1  WK000300  Wijk 00  GM0003  Appingedam        1   NEE     9903  ...   \n2  WK000300  Wijk 00  GM0003  Appingedam        1   NEE     9902  ...   \n3  WK000300  Wijk 00  GM0003  Appingedam        1   NEE     9903  ...   \n4  WK000300  Wijk 00  GM0003  Appingedam        1   NEE     9902  ...   \n\n   P_WEST_AL  P_N_W_AL  P_MAROKKO  P_ANT_ARU  P_SURINAM  P_TURKIJE  P_OVER_NW  \\\n0          6         4          0          1          0          0          2   \n1          5         4          0          1          0          1          2   \n2          9        11          1          1          1          4          4   \n3          7         2          0          0          0          0          0   \n4          3         1          0          0          0          0          0   \n\n   OPP_TOT  OPP_LAND  OPP_WATER  \n0       90        84          5  \n1      163       158          5  \n2      295       284         11  \n3      559       540         18  \n4      582       554         28  \n\n[5 rows x 41 columns]",
      "text/html": "<div>\n<style scoped>\n    .dataframe tbody tr th:only-of-type {\n        vertical-align: middle;\n    }\n\n    .dataframe tbody tr th {\n        vertical-align: top;\n    }\n\n    .dataframe thead th {\n        text-align: right;\n    }\n</style>\n<table border=\"1\" class=\"dataframe\">\n  <thead>\n    <tr style=\"text-align: right;\">\n      <th></th>\n      <th>BU_CODE</th>\n      <th>JRSTATCODE</th>\n      <th>BU_NAAM</th>\n      <th>WK_CODE</th>\n      <th>WK_NAAM</th>\n      <th>GM_CODE</th>\n      <th>GM_NAAM</th>\n      <th>IND_WBI</th>\n      <th>WATER</th>\n      <th>POSTCODE</th>\n      <th>...</th>\n      <th>P_WEST_AL</th>\n      <th>P_N_W_AL</th>\n      <th>P_MAROKKO</th>\n      <th>P_ANT_ARU</th>\n      <th>P_SURINAM</th>\n      <th>P_TURKIJE</th>\n      <th>P_OVER_NW</th>\n      <th>OPP_TOT</th>\n      <th>OPP_LAND</th>\n      <th>OPP_WATER</th>\n    </tr>\n  </thead>\n  <tbody>\n    <tr>\n      <th>0</th>\n      <td>BU00030000</td>\n      <td>2019BU00030000</td>\n      <td>Appingedam-Centrum</td>\n      <td>WK000300</td>\n      <td>Wijk 00</td>\n      <td>GM0003</td>\n      <td>Appingedam</td>\n      <td>1</td>\n      <td>NEE</td>\n      <td>9901</td>\n      <td>...</td>\n      <td>6</td>\n      <td>4</td>\n      <td>0</td>\n      <td>1</td>\n      <td>0</td>\n      <td>0</td>\n      <td>2</td>\n      <td>90</td>\n      <td>84</td>\n      <td>5</td>\n    </tr>\n    <tr>\n      <th>1</th>\n      <td>BU00030001</td>\n      <td>2019BU00030001</td>\n      <td>Appingedam-West</td>\n      <td>WK000300</td>\n      <td>Wijk 00</td>\n      <td>GM0003</td>\n      <td>Appingedam</td>\n      <td>1</td>\n      <td>NEE</td>\n      <td>9903</td>\n      <td>...</td>\n      <td>5</td>\n      <td>4</td>\n      <td>0</td>\n      <td>1</td>\n      <td>0</td>\n      <td>1</td>\n      <td>2</td>\n      <td>163</td>\n      <td>158</td>\n      <td>5</td>\n    </tr>\n    <tr>\n      <th>2</th>\n      <td>BU00030002</td>\n      <td>2019BU00030002</td>\n      <td>Appingedam-Oost</td>\n      <td>WK000300</td>\n      <td>Wijk 00</td>\n      <td>GM0003</td>\n      <td>Appingedam</td>\n      <td>1</td>\n      <td>NEE</td>\n      <td>9902</td>\n      <td>...</td>\n      <td>9</td>\n      <td>11</td>\n      <td>1</td>\n      <td>1</td>\n      <td>1</td>\n      <td>4</td>\n      <td>4</td>\n      <td>295</td>\n      <td>284</td>\n      <td>11</td>\n    </tr>\n    <tr>\n      <th>3</th>\n      <td>BU00030007</td>\n      <td>2019BU00030007</td>\n      <td>Verspreide huizen Damsterdiep en Eemskanaal</td>\n      <td>WK000300</td>\n      <td>Wijk 00</td>\n      <td>GM0003</td>\n      <td>Appingedam</td>\n      <td>1</td>\n      <td>NEE</td>\n      <td>9903</td>\n      <td>...</td>\n      <td>7</td>\n      <td>2</td>\n      <td>0</td>\n      <td>0</td>\n      <td>0</td>\n      <td>0</td>\n      <td>0</td>\n      <td>559</td>\n      <td>540</td>\n      <td>18</td>\n    </tr>\n    <tr>\n      <th>4</th>\n      <td>BU00030008</td>\n      <td>2019BU00030008</td>\n      <td>Verspreide huizen ten zuiden van Eemskanaal</td>\n      <td>WK000300</td>\n      <td>Wijk 00</td>\n      <td>GM0003</td>\n      <td>Appingedam</td>\n      <td>1</td>\n      <td>NEE</td>\n      <td>9902</td>\n      <td>...</td>\n      <td>3</td>\n      <td>1</td>\n      <td>0</td>\n      <td>0</td>\n      <td>0</td>\n      <td>0</td>\n      <td>0</td>\n      <td>582</td>\n      <td>554</td>\n      <td>28</td>\n    </tr>\n  </tbody>\n</table>\n<p>5 rows × 41 columns</p>\n</div>"
     },
     "metadata": {},
     "execution_count": 12
    }
   ],
   "source": [
    "inwgem = pd.DataFrame(gdf.drop(columns=\"geometry\"))\n",
    "nums = inwgem._get_numeric_data()\n",
    "nums[nums < 0] = 0\n",
    "inwgem.head()"
   ]
  },
  {
   "cell_type": "code",
   "execution_count": 8,
   "metadata": {},
   "outputs": [
    {
     "output_type": "execute_result",
     "data": {
      "text/plain": "              GM_NAAM  AANT_INW\n0       's-Gravenhage  537525.0\n1    's-Hertogenbosch  153990.0\n2         Aa en Hunze   25485.0\n3            Aalsmeer   31710.0\n4              Aalten   26975.0\n..                ...       ...\n350           Zundert   21590.0\n351           Zutphen   47545.0\n352   Zwartewaterland   22580.0\n353       Zwijndrecht   44490.0\n354            Zwolle  127425.0\n\n[355 rows x 2 columns]",
      "text/html": "<div>\n<style scoped>\n    .dataframe tbody tr th:only-of-type {\n        vertical-align: middle;\n    }\n\n    .dataframe tbody tr th {\n        vertical-align: top;\n    }\n\n    .dataframe thead th {\n        text-align: right;\n    }\n</style>\n<table border=\"1\" class=\"dataframe\">\n  <thead>\n    <tr style=\"text-align: right;\">\n      <th></th>\n      <th>GM_NAAM</th>\n      <th>AANT_INW</th>\n    </tr>\n  </thead>\n  <tbody>\n    <tr>\n      <th>0</th>\n      <td>'s-Gravenhage</td>\n      <td>537525.0</td>\n    </tr>\n    <tr>\n      <th>1</th>\n      <td>'s-Hertogenbosch</td>\n      <td>153990.0</td>\n    </tr>\n    <tr>\n      <th>2</th>\n      <td>Aa en Hunze</td>\n      <td>25485.0</td>\n    </tr>\n    <tr>\n      <th>3</th>\n      <td>Aalsmeer</td>\n      <td>31710.0</td>\n    </tr>\n    <tr>\n      <th>4</th>\n      <td>Aalten</td>\n      <td>26975.0</td>\n    </tr>\n    <tr>\n      <th>...</th>\n      <td>...</td>\n      <td>...</td>\n    </tr>\n    <tr>\n      <th>350</th>\n      <td>Zundert</td>\n      <td>21590.0</td>\n    </tr>\n    <tr>\n      <th>351</th>\n      <td>Zutphen</td>\n      <td>47545.0</td>\n    </tr>\n    <tr>\n      <th>352</th>\n      <td>Zwartewaterland</td>\n      <td>22580.0</td>\n    </tr>\n    <tr>\n      <th>353</th>\n      <td>Zwijndrecht</td>\n      <td>44490.0</td>\n    </tr>\n    <tr>\n      <th>354</th>\n      <td>Zwolle</td>\n      <td>127425.0</td>\n    </tr>\n  </tbody>\n</table>\n<p>355 rows × 2 columns</p>\n</div>"
     },
     "metadata": {},
     "execution_count": 8
    }
   ],
   "source": [
    "inwgem = inwgem.groupby([\"GM_NAAM\"]).sum()\n",
    "inwgem.reset_index(inplace=True)\n",
    "inwgem"
   ]
  },
  {
   "cell_type": "code",
   "execution_count": null,
   "metadata": {},
   "outputs": [],
   "source": []
  }
 ],
 "metadata": {
  "kernelspec": {
   "display_name": "Python 3",
   "language": "python",
   "name": "python3"
  },
  "language_info": {
   "codemirror_mode": {
    "name": "ipython",
    "version": 3
   },
   "file_extension": ".py",
   "mimetype": "text/x-python",
   "name": "python",
   "nbconvert_exporter": "python",
   "pygments_lexer": "ipython3",
   "version": "3.8.2-final"
  }
 },
 "nbformat": 4,
 "nbformat_minor": 4
}