{
 "cells": [
  {
   "cell_type": "code",
   "execution_count": 1,
   "metadata": {},
   "outputs": [],
   "source": [
    "from Helper_functions import *\n",
    "import numpy as np \n",
    "from sklearn import preprocessing\n",
    "gpdf_gemeenten = wfs_data(\"https://geodata.nationaalgeoregister.nl/wijkenbuurten2019/wfs\", \"wijkenbuurten2019:gemeenten2019\")"
   ]
  },
  {
   "cell_type": "code",
   "execution_count": 4,
   "metadata": {},
   "outputs": [],
   "source": [
    "gpdf_gemeenten = gpdf_gemeenten.drop(columns=['id','jrstatcode','percentage_westerse_migratieachtergrond','percentage_niet_westerse_migratieachtergrond',\n",
    "       'percentage_uit_marokko',\n",
    "       'percentage_uit_nederlandse_antillen_en_aruba',\n",
    "       'percentage_uit_suriname', 'percentage_uit_turkije',\n",
    "       'percentage_overige_nietwestersemigratieachtergrond'])"
   ]
  },
  {
   "cell_type": "code",
   "execution_count": 5,
   "metadata": {},
   "outputs": [
    {
     "output_type": "execute_result",
     "data": {
      "text/plain": "Index(['gemeentecode', 'gemeentenaam', 'water', 'omgevingsadressendichtheid',\n       'stedelijkheid_adressen_per_km2',\n       'bevolkingsdichtheid_inwoners_per_km2', 'aantal_inwoners', 'mannen',\n       'vrouwen', 'percentage_personen_0_tot_15_jaar',\n       'percentage_personen_15_tot_25_jaar',\n       'percentage_personen_25_tot_45_jaar',\n       'percentage_personen_65_jaar_en_ouder',\n       'percentage_personen_45_tot_65_jaar', 'percentage_ongehuwd',\n       'percentage_gehuwd', 'percentage_gescheid', 'percentage_verweduwd',\n       'aantal_huishoudens', 'percentage_eenpersoonshuishoudens',\n       'percentage_huishoudens_zonder_kinderen',\n       'percentage_huishoudens_met_kinderen', 'gemiddelde_huishoudsgrootte',\n       'oppervlakte_totaal_in_ha', 'oppervlakte_land_in_ha',\n       'oppervlakte_water_in_ha', 'geometry'],\n      dtype='object')"
     },
     "metadata": {},
     "execution_count": 5
    }
   ],
   "source": [
    "gpdf_gemeenten.columns"
   ]
  },
  {
   "cell_type": "code",
   "execution_count": 10,
   "metadata": {},
   "outputs": [],
   "source": [
    "gpdf_gemeenten = gpdf_gemeenten.replace(-99999999, np.nan)"
   ]
  },
  {
   "cell_type": "code",
   "execution_count": 11,
   "metadata": {},
   "outputs": [
    {
     "output_type": "execute_result",
     "data": {
      "text/plain": "    gemeentecode       gemeentenaam water  omgevingsadressendichtheid  \\\n0         GM0003         Appingedam   NEE                      1067.0   \n1         GM0010           Delfzijl   NEE                       673.0   \n2         GM0014          Groningen   NEE                      3219.0   \n3         GM0024          Loppersum   NEE                       213.0   \n4         GM0034             Almere   NEE                      1601.0   \n..           ...                ...   ...                         ...   \n433       GM1708    Steenwijkerland    JA                         NaN   \n434       GM1709           Moerdijk    JA                         NaN   \n435       GM1966       Het Hogeland    JA                         NaN   \n436       GM1969     Westerkwartier    JA                         NaN   \n437       GM1970  Noardeast-Fryslân    JA                         NaN   \n\n     stedelijkheid_adressen_per_km2  bevolkingsdichtheid_inwoners_per_km2  \\\n0                               3.0                                 493.0   \n1                               4.0                                 186.0   \n2                               1.0                                1246.0   \n3                               5.0                                  87.0   \n4                               2.0                                1609.0   \n..                              ...                                   ...   \n433                             NaN                                   NaN   \n434                             NaN                                   NaN   \n435                             NaN                                   NaN   \n436                             NaN                                   NaN   \n437                             NaN                                   NaN   \n\n     aantal_inwoners    mannen   vrouwen  percentage_personen_0_tot_15_jaar  \\\n0            11721.0    5720.0    6001.0                               15.0   \n1            24716.0   12408.0   12308.0                               14.0   \n2           231299.0  114937.0  116362.0                               12.0   \n3             9614.0    4881.0    4733.0                               15.0   \n4           207904.0  103082.0  104822.0                               19.0   \n..               ...       ...       ...                                ...   \n433              NaN       NaN       NaN                                NaN   \n434              NaN       NaN       NaN                                NaN   \n435              NaN       NaN       NaN                                NaN   \n436              NaN       NaN       NaN                                NaN   \n437              NaN       NaN       NaN                                NaN   \n\n     ...  percentage_verweduwd  aantal_huishoudens  \\\n0    ...                   7.0              5531.0   \n1    ...                   7.0             11571.0   \n2    ...                   4.0            135076.0   \n3    ...                   5.0              4282.0   \n4    ...                   3.0             87390.0   \n..   ...                   ...                 ...   \n433  ...                   NaN                 NaN   \n434  ...                   NaN                 NaN   \n435  ...                   NaN                 NaN   \n436  ...                   NaN                 NaN   \n437  ...                   NaN                 NaN   \n\n     percentage_eenpersoonshuishoudens  \\\n0                                 38.0   \n1                                 37.0   \n2                                 59.0   \n3                                 32.0   \n4                                 32.0   \n..                                 ...   \n433                                NaN   \n434                                NaN   \n435                                NaN   \n436                                NaN   \n437                                NaN   \n\n     percentage_huishoudens_zonder_kinderen  \\\n0                                      31.0   \n1                                      32.0   \n2                                      22.0   \n3                                      35.0   \n4                                      25.0   \n..                                      ...   \n433                                     NaN   \n434                                     NaN   \n435                                     NaN   \n436                                     NaN   \n437                                     NaN   \n\n     percentage_huishoudens_met_kinderen  gemiddelde_huishoudsgrootte  \\\n0                                   31.0                          2.1   \n1                                   31.0                          2.1   \n2                                   19.0                          1.7   \n3                                   32.0                          2.2   \n4                                   44.0                          2.4   \n..                                   ...                          ...   \n433                                  NaN                          NaN   \n434                                  NaN                          NaN   \n435                                  NaN                          NaN   \n436                                  NaN                          NaN   \n437                                  NaN                          NaN   \n\n     oppervlakte_totaal_in_ha  oppervlakte_land_in_ha  \\\n0                      2458.0                  2378.0   \n1                     22750.0                 13307.0   \n2                     19796.0                 18560.0   \n3                     11199.0                 11104.0   \n4                     24877.0                 12919.0   \n..                        ...                     ...   \n433                       NaN                     NaN   \n434                       NaN                     NaN   \n435                       NaN                     NaN   \n436                       NaN                     NaN   \n437                       NaN                     NaN   \n\n     oppervlakte_water_in_ha  \\\n0                       80.0   \n1                     9443.0   \n2                     1236.0   \n3                       95.0   \n4                    11958.0   \n..                       ...   \n433                      NaN   \n434                      NaN   \n435                      NaN   \n436                      NaN   \n437                      NaN   \n\n                                              geometry  \n0    MULTIPOLYGON (((249539.950 593217.579, 249543....  \n1    MULTIPOLYGON (((267829.905 587996.480, 267824....  \n2    MULTIPOLYGON (((238286.198 585690.653, 238296....  \n3    MULTIPOLYGON (((243397.174 599378.818, 243444....  \n4    MULTIPOLYGON (((142993.687 482642.725, 142993....  \n..                                                 ...  \n433  MULTIPOLYGON (((197925.908 517291.947, 197906....  \n434  MULTIPOLYGON (((86666.874 412087.271, 86666.97...  \n435  MULTIPOLYGON (((211698.493 598454.762, 211702....  \n436  MULTIPOLYGON (((215284.173 595049.928, 215280....  \n437  MULTIPOLYGON (((201767.157 602623.271, 201763....  \n\n[438 rows x 27 columns]",
      "text/html": "<div>\n<style scoped>\n    .dataframe tbody tr th:only-of-type {\n        vertical-align: middle;\n    }\n\n    .dataframe tbody tr th {\n        vertical-align: top;\n    }\n\n    .dataframe thead th {\n        text-align: right;\n    }\n</style>\n<table border=\"1\" class=\"dataframe\">\n  <thead>\n    <tr style=\"text-align: right;\">\n      <th></th>\n      <th>gemeentecode</th>\n      <th>gemeentenaam</th>\n      <th>water</th>\n      <th>omgevingsadressendichtheid</th>\n      <th>stedelijkheid_adressen_per_km2</th>\n      <th>bevolkingsdichtheid_inwoners_per_km2</th>\n      <th>aantal_inwoners</th>\n      <th>mannen</th>\n      <th>vrouwen</th>\n      <th>percentage_personen_0_tot_15_jaar</th>\n      <th>...</th>\n      <th>percentage_verweduwd</th>\n      <th>aantal_huishoudens</th>\n      <th>percentage_eenpersoonshuishoudens</th>\n      <th>percentage_huishoudens_zonder_kinderen</th>\n      <th>percentage_huishoudens_met_kinderen</th>\n      <th>gemiddelde_huishoudsgrootte</th>\n      <th>oppervlakte_totaal_in_ha</th>\n      <th>oppervlakte_land_in_ha</th>\n      <th>oppervlakte_water_in_ha</th>\n      <th>geometry</th>\n    </tr>\n  </thead>\n  <tbody>\n    <tr>\n      <th>0</th>\n      <td>GM0003</td>\n      <td>Appingedam</td>\n      <td>NEE</td>\n      <td>1067.0</td>\n      <td>3.0</td>\n      <td>493.0</td>\n      <td>11721.0</td>\n      <td>5720.0</td>\n      <td>6001.0</td>\n      <td>15.0</td>\n      <td>...</td>\n      <td>7.0</td>\n      <td>5531.0</td>\n      <td>38.0</td>\n      <td>31.0</td>\n      <td>31.0</td>\n      <td>2.1</td>\n      <td>2458.0</td>\n      <td>2378.0</td>\n      <td>80.0</td>\n      <td>MULTIPOLYGON (((249539.950 593217.579, 249543....</td>\n    </tr>\n    <tr>\n      <th>1</th>\n      <td>GM0010</td>\n      <td>Delfzijl</td>\n      <td>NEE</td>\n      <td>673.0</td>\n      <td>4.0</td>\n      <td>186.0</td>\n      <td>24716.0</td>\n      <td>12408.0</td>\n      <td>12308.0</td>\n      <td>14.0</td>\n      <td>...</td>\n      <td>7.0</td>\n      <td>11571.0</td>\n      <td>37.0</td>\n      <td>32.0</td>\n      <td>31.0</td>\n      <td>2.1</td>\n      <td>22750.0</td>\n      <td>13307.0</td>\n      <td>9443.0</td>\n      <td>MULTIPOLYGON (((267829.905 587996.480, 267824....</td>\n    </tr>\n    <tr>\n      <th>2</th>\n      <td>GM0014</td>\n      <td>Groningen</td>\n      <td>NEE</td>\n      <td>3219.0</td>\n      <td>1.0</td>\n      <td>1246.0</td>\n      <td>231299.0</td>\n      <td>114937.0</td>\n      <td>116362.0</td>\n      <td>12.0</td>\n      <td>...</td>\n      <td>4.0</td>\n      <td>135076.0</td>\n      <td>59.0</td>\n      <td>22.0</td>\n      <td>19.0</td>\n      <td>1.7</td>\n      <td>19796.0</td>\n      <td>18560.0</td>\n      <td>1236.0</td>\n      <td>MULTIPOLYGON (((238286.198 585690.653, 238296....</td>\n    </tr>\n    <tr>\n      <th>3</th>\n      <td>GM0024</td>\n      <td>Loppersum</td>\n      <td>NEE</td>\n      <td>213.0</td>\n      <td>5.0</td>\n      <td>87.0</td>\n      <td>9614.0</td>\n      <td>4881.0</td>\n      <td>4733.0</td>\n      <td>15.0</td>\n      <td>...</td>\n      <td>5.0</td>\n      <td>4282.0</td>\n      <td>32.0</td>\n      <td>35.0</td>\n      <td>32.0</td>\n      <td>2.2</td>\n      <td>11199.0</td>\n      <td>11104.0</td>\n      <td>95.0</td>\n      <td>MULTIPOLYGON (((243397.174 599378.818, 243444....</td>\n    </tr>\n    <tr>\n      <th>4</th>\n      <td>GM0034</td>\n      <td>Almere</td>\n      <td>NEE</td>\n      <td>1601.0</td>\n      <td>2.0</td>\n      <td>1609.0</td>\n      <td>207904.0</td>\n      <td>103082.0</td>\n      <td>104822.0</td>\n      <td>19.0</td>\n      <td>...</td>\n      <td>3.0</td>\n      <td>87390.0</td>\n      <td>32.0</td>\n      <td>25.0</td>\n      <td>44.0</td>\n      <td>2.4</td>\n      <td>24877.0</td>\n      <td>12919.0</td>\n      <td>11958.0</td>\n      <td>MULTIPOLYGON (((142993.687 482642.725, 142993....</td>\n    </tr>\n    <tr>\n      <th>...</th>\n      <td>...</td>\n      <td>...</td>\n      <td>...</td>\n      <td>...</td>\n      <td>...</td>\n      <td>...</td>\n      <td>...</td>\n      <td>...</td>\n      <td>...</td>\n      <td>...</td>\n      <td>...</td>\n      <td>...</td>\n      <td>...</td>\n      <td>...</td>\n      <td>...</td>\n      <td>...</td>\n      <td>...</td>\n      <td>...</td>\n      <td>...</td>\n      <td>...</td>\n      <td>...</td>\n    </tr>\n    <tr>\n      <th>433</th>\n      <td>GM1708</td>\n      <td>Steenwijkerland</td>\n      <td>JA</td>\n      <td>NaN</td>\n      <td>NaN</td>\n      <td>NaN</td>\n      <td>NaN</td>\n      <td>NaN</td>\n      <td>NaN</td>\n      <td>NaN</td>\n      <td>...</td>\n      <td>NaN</td>\n      <td>NaN</td>\n      <td>NaN</td>\n      <td>NaN</td>\n      <td>NaN</td>\n      <td>NaN</td>\n      <td>NaN</td>\n      <td>NaN</td>\n      <td>NaN</td>\n      <td>MULTIPOLYGON (((197925.908 517291.947, 197906....</td>\n    </tr>\n    <tr>\n      <th>434</th>\n      <td>GM1709</td>\n      <td>Moerdijk</td>\n      <td>JA</td>\n      <td>NaN</td>\n      <td>NaN</td>\n      <td>NaN</td>\n      <td>NaN</td>\n      <td>NaN</td>\n      <td>NaN</td>\n      <td>NaN</td>\n      <td>...</td>\n      <td>NaN</td>\n      <td>NaN</td>\n      <td>NaN</td>\n      <td>NaN</td>\n      <td>NaN</td>\n      <td>NaN</td>\n      <td>NaN</td>\n      <td>NaN</td>\n      <td>NaN</td>\n      <td>MULTIPOLYGON (((86666.874 412087.271, 86666.97...</td>\n    </tr>\n    <tr>\n      <th>435</th>\n      <td>GM1966</td>\n      <td>Het Hogeland</td>\n      <td>JA</td>\n      <td>NaN</td>\n      <td>NaN</td>\n      <td>NaN</td>\n      <td>NaN</td>\n      <td>NaN</td>\n      <td>NaN</td>\n      <td>NaN</td>\n      <td>...</td>\n      <td>NaN</td>\n      <td>NaN</td>\n      <td>NaN</td>\n      <td>NaN</td>\n      <td>NaN</td>\n      <td>NaN</td>\n      <td>NaN</td>\n      <td>NaN</td>\n      <td>NaN</td>\n      <td>MULTIPOLYGON (((211698.493 598454.762, 211702....</td>\n    </tr>\n    <tr>\n      <th>436</th>\n      <td>GM1969</td>\n      <td>Westerkwartier</td>\n      <td>JA</td>\n      <td>NaN</td>\n      <td>NaN</td>\n      <td>NaN</td>\n      <td>NaN</td>\n      <td>NaN</td>\n      <td>NaN</td>\n      <td>NaN</td>\n      <td>...</td>\n      <td>NaN</td>\n      <td>NaN</td>\n      <td>NaN</td>\n      <td>NaN</td>\n      <td>NaN</td>\n      <td>NaN</td>\n      <td>NaN</td>\n      <td>NaN</td>\n      <td>NaN</td>\n      <td>MULTIPOLYGON (((215284.173 595049.928, 215280....</td>\n    </tr>\n    <tr>\n      <th>437</th>\n      <td>GM1970</td>\n      <td>Noardeast-Fryslân</td>\n      <td>JA</td>\n      <td>NaN</td>\n      <td>NaN</td>\n      <td>NaN</td>\n      <td>NaN</td>\n      <td>NaN</td>\n      <td>NaN</td>\n      <td>NaN</td>\n      <td>...</td>\n      <td>NaN</td>\n      <td>NaN</td>\n      <td>NaN</td>\n      <td>NaN</td>\n      <td>NaN</td>\n      <td>NaN</td>\n      <td>NaN</td>\n      <td>NaN</td>\n      <td>NaN</td>\n      <td>MULTIPOLYGON (((201767.157 602623.271, 201763....</td>\n    </tr>\n  </tbody>\n</table>\n<p>438 rows × 27 columns</p>\n</div>"
     },
     "metadata": {},
     "execution_count": 11
    }
   ],
   "source": [
    "def DemografieAPI_gemeenten(gemeente):\n",
    "    df = gpdf_gemeenten.loc[gpdf_gemeenten['gemeentenaam'] == gemeente]\n",
    "    return df"
   ]
  },
  {
   "cell_type": "code",
   "execution_count": null,
   "metadata": {},
   "outputs": [],
   "source": []
  }
 ],
 "metadata": {
  "language_info": {
   "codemirror_mode": {
    "name": "ipython",
    "version": 3
   },
   "file_extension": ".py",
   "mimetype": "text/x-python",
   "name": "python",
   "nbconvert_exporter": "python",
   "pygments_lexer": "ipython3",
   "version": "3.7.7-final"
  },
  "orig_nbformat": 2,
  "kernelspec": {
   "name": "python3",
   "display_name": "Python 3"
  }
 },
 "nbformat": 4,
 "nbformat_minor": 2
}