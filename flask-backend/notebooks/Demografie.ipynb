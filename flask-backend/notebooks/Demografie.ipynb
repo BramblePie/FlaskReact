{
 "cells": [
  {
   "cell_type": "code",
   "execution_count": 1,
   "metadata": {},
   "outputs": [],
   "source": [
    "from Helper_functions import *\n",
    "import numpy as np \n",
    "from sklearn import preprocessing\n",
    "gpdf_wijken = wfs_data(\"https://geodata.nationaalgeoregister.nl/wijkenbuurten2019/wfs\", \"wijkenbuurten2019:cbs_wijken_2019\")\n",
    "#gpdf_gemeenten = wfs_data(\"https://geodata.nationaalgeoregister.nl/wijkenbuurten2019/wfs\", \"wijkenbuurten2019:gemeenten2019\")\n"
   ]
  },
  {
   "cell_type": "code",
   "execution_count": 2,
   "metadata": {},
   "outputs": [
    {
     "output_type": "stream",
     "name": "stdout",
     "text": "Index(['id', 'wijkcode', 'jrstatcode', 'wijknaam', 'gemeentecode',\n       'gemeentenaam', 'ind_wbi', 'water', 'omgevingsadressendichtheid',\n       'stedelijkheid_adressen_per_km2',\n       'bevolkingsdichtheid_inwoners_per_km2', 'aantal_inwoners', 'mannen',\n       'vrouwen', 'percentage_personen_0_tot_15_jaar',\n       'percentage_personen_15_tot_25_jaar',\n       'percentage_personen_25_tot_45_jaar',\n       'percentage_personen_65_jaar_en_ouder',\n       'percentage_personen_45_tot_65_jaar', 'percentage_ongehuwd',\n       'percentage_gehuwd', 'percentage_gescheid', 'percentage_verweduwd',\n       'aantal_huishoudens', 'percentage_eenpersoonshuishoudens',\n       'percentage_huishoudens_zonder_kinderen',\n       'percentage_huishoudens_met_kinderen', 'gemiddelde_huishoudsgrootte',\n       'percentage_westerse_migratieachtergrond',\n       'percentage_niet_westerse_migratieachtergrond',\n       'percentage_uit_marokko',\n       'percentage_uit_nederlandse_antillen_en_aruba',\n       'percentage_uit_suriname', 'percentage_uit_turkije',\n       'percentage_overige_nietwestersemigratieachtergrond',\n       'oppervlakte_totaal_in_ha', 'oppervlakte_land_in_ha',\n       'oppervlakte_water_in_ha', 'geometry'],\n      dtype='object')\n"
    }
   ],
   "source": [
    "print(gpdf_wijken.columns)\n",
    "#print(gpdf_gemeenten.columns)"
   ]
  },
  {
   "cell_type": "markdown",
   "metadata": {},
   "source": [
    "# Data Understanding\n",
    "\n",
    " - `BU_CODE`          = Buurtcode\n",
    " - `JRSTATCODE`       = Jaar van de buurt gegegevens + buurtcode\n",
    " - `BU_NAAM`          = Buurtnaam van desbetreffende buurt\n",
    " - `WK_CODE`          = Wijkcode die is toegekend aan een wijk  \n",
    " - `WK_NAAM`          = Wijknaam die is toegekend aan een wijk\n",
    " - `GM_CODE`          = Gemeentecode die is toegekend aan een gemeente\n",
    " - `GM_NAAM`          = Gemeentenaam die is toegekend aan een gemeente\n",
    " - `IND_WBI`          = Indelingswijziging wijken en buurten; Deze indicator geeft per wijk en buurt aan of de cijfers uit deze tabel zonder problemen kunnen worden gekoppeld aan en vergeleken met de cijfers van een jaar eerder, of dat er wijzigingen in de Wijk- en Buurtindeling zijn waardoor dit niet kan. \n",
    " - `WATER`            = Een onderverdeling tussen land en grotere wateroppervlakten overeenkomend met het Bestand Bodemgebruik van het CBS. \n",
    " - `POSTCODE`         = Postcode van de wijk\n",
    " - `DEK_PERC`         = Dekkingspercentage van omgeving\n",
    " - `OAD`              = Omgevingsadressendichtheid; Het gemiddeld aantal adressen van een buurt, wijk of gemeente per vierkante kilometer binnen een cirkel met een straal van één kilometer op 1 januari van het betreffende jaar.\n",
    " - `STED`             = Stedelijkheid; Op grond van de omgevingsadressendichtheid is aan iedere buurt, wijk of gemeente een stedelijkheidsklasse toegekend.                       \n",
    " De volgende klassenindeling is gehanteerd:\n",
    "                       -  1. zeer sterk stedelijk ≥ 2 500 adressen per km2;\n",
    "                       -  2. sterk stedelijk 1 500–2 500 adressen per km2;\n",
    "                       -  3. matig stedelijk 1 000–1 500 adressen per km2;\n",
    "                       -  4. weinig stedelijk 500–1 000 adressen per km2;\n",
    "                       -  5. niet stedelijk < 500 adressen per km2.\n",
    " - `BEV_DICHTH`       = Bevolkingsdichtheid in desbetreffende wijk\n",
    " - `AANT_INW`         = Aantal inwoners in desbetreffende wijk\n",
    " - `AANT_MAN`         = Aantal mannen in desbetreffende wijk\n",
    " - `AANT_VROUW`       = Aantal vrouwen in desbetreffende wijk\n",
    " - `P_00_14_JR`       = Percentage inwoners van 0 t/m 14 jaar\n",
    " - `P_15_24_JR`       = Percentage inwoners van 15 t/m 24 jaar\n",
    " - `P_25_44_JR`       = Percentage inwoners van 25 t/m 64 jaar\n",
    " - `P_45_64_JR`       = Percentage inwoners van 45 t/m 64 jaar\n",
    " - `P_65_EO_JR`       = Percentage inwoners van 65 jaar en ouder\n",
    " - `P_ONGEHUWD`       = Percentage inwoners die ongehuwd is\n",
    " - `P_GEHUWD`         = Percentage inwoners die gehuwd is\n",
    " - `P_GESCHEID`       = Percentage inwoners die gescheiden is\n",
    " - `P_VERWEDUW`       = Percentage inwoners die verweduwed is\n",
    " - `AANTAL_HH`        = Het aantal particuliere huishoudens op 1 januari.\n",
    " - `P_EENP_HH`        = Eenpersoonshuishoudens; Het aantal huishoudens met één persoon, uitgedrukt in hele procenten van het totaal aantal particuliere huishoudens.\n",
    " - `P_HH_Z_K`         = Huishoudens zonder kinderen; Het aantal meerpersoonshuishoudens zonder kinderen uitgedrukt in hele procenten van het totaal aantal particuliere huishoudens\n",
    " - `P_HH_M_K`         = Huishoudens met kinderen; Het aantal meerpersoonshuishoudens met kinderen uitgedrukt in hele procenten van het totaal aantal particuliere huishoudens.\n",
    " - `GEM_HH_GR`        = Gemiddelde huishoudensgrootte;\n",
    "Het aantal in particuliere huishoudens levende personen gedeeld door het aantal particuliere huishoudens. \n",
    "\n",
    " - `P_WEST_AL`        = Westers totaal; Het aantal allochtonen met een westerse herkomst op 1 januari, uitgedrukt in hele procenten van het aantal inwoners. \n",
    " - `P_N_W_AL`         = Niet-westers totaal; Het aantal allochtonen met een niet-westerse herkomst op 1 januari, uitgedrukt in hele procenten van het aantal inwoners. \n",
    " - `P_MAROKKO`        = Marokko totaal uitgedrukt in procenten\n",
    " - `P_ANT_ARU`        = Nederlandse Antillen en Aruba; Het aandeel allochtonen met herkomstgroep van (voormalige) Nederlandse Antillen en Aruba op 1 januari, uitgedrukt in hele procenten van het aantal inwoners.\n",
    " - `P_SURINAM`        = Surinamers uitgedrukt in procenten\n",
    " - `P_TURKIJE`        = Turken uitgedrukt in procenten\n",
    " - `P_OVER_NW`        = Overig niet-westers; Het aandeel allochtonen met een overige niet-westerse herkomst op 1 januari, uitgedrukt in hele procenten van het aantal inwoners.\n",
    " - `OPP_TOT`          = Totale oppervlakte in ha\n",
    " - `OPP_LAND`         = Oppervlakte land in ha\n",
    " - `OPP_WATER`        = Oppervlakte water in ha\n",
    " - `geometry`         = afmetingen op aarde van desbetreffende omgeving\n",
    "\n",
    "\n",
    " -99999999 staat voor nullwaardes\n"
   ]
  },
  {
   "cell_type": "code",
   "execution_count": 3,
   "metadata": {},
   "outputs": [
    {
     "output_type": "stream",
     "name": "stdout",
     "text": "<class 'geopandas.geodataframe.GeoDataFrame'>\nRangeIndex: 3247 entries, 0 to 3246\nData columns (total 39 columns):\n #   Column                                              Non-Null Count  Dtype   \n---  ------                                              --------------  -----   \n 0   id                                                  3247 non-null   object  \n 1   wijkcode                                            3247 non-null   object  \n 2   jrstatcode                                          3247 non-null   object  \n 3   wijknaam                                            3247 non-null   object  \n 4   gemeentecode                                        3247 non-null   object  \n 5   gemeentenaam                                        3247 non-null   object  \n 6   ind_wbi                                             3247 non-null   int64   \n 7   water                                               3247 non-null   object  \n 8   omgevingsadressendichtheid                          3247 non-null   int64   \n 9   stedelijkheid_adressen_per_km2                      3247 non-null   int64   \n 10  bevolkingsdichtheid_inwoners_per_km2                3247 non-null   int64   \n 11  aantal_inwoners                                     3247 non-null   int64   \n 12  mannen                                              3247 non-null   int64   \n 13  vrouwen                                             3247 non-null   int64   \n 14  percentage_personen_0_tot_15_jaar                   3247 non-null   int64   \n 15  percentage_personen_15_tot_25_jaar                  3247 non-null   int64   \n 16  percentage_personen_25_tot_45_jaar                  3247 non-null   int64   \n 17  percentage_personen_65_jaar_en_ouder                3247 non-null   int64   \n 18  percentage_personen_45_tot_65_jaar                  3247 non-null   int64   \n 19  percentage_ongehuwd                                 3247 non-null   int64   \n 20  percentage_gehuwd                                   3247 non-null   int64   \n 21  percentage_gescheid                                 3247 non-null   int64   \n 22  percentage_verweduwd                                3247 non-null   int64   \n 23  aantal_huishoudens                                  3247 non-null   int64   \n 24  percentage_eenpersoonshuishoudens                   3247 non-null   int64   \n 25  percentage_huishoudens_zonder_kinderen              3247 non-null   int64   \n 26  percentage_huishoudens_met_kinderen                 3247 non-null   int64   \n 27  gemiddelde_huishoudsgrootte                         3247 non-null   float64 \n 28  percentage_westerse_migratieachtergrond             3247 non-null   int64   \n 29  percentage_niet_westerse_migratieachtergrond        3247 non-null   int64   \n 30  percentage_uit_marokko                              3247 non-null   int64   \n 31  percentage_uit_nederlandse_antillen_en_aruba        3247 non-null   int64   \n 32  percentage_uit_suriname                             3247 non-null   int64   \n 33  percentage_uit_turkije                              3247 non-null   int64   \n 34  percentage_overige_nietwestersemigratieachtergrond  3247 non-null   int64   \n 35  oppervlakte_totaal_in_ha                            3247 non-null   int64   \n 36  oppervlakte_land_in_ha                              3247 non-null   int64   \n 37  oppervlakte_water_in_ha                             3247 non-null   int64   \n 38  geometry                                            3247 non-null   geometry\ndtypes: float64(1), geometry(1), int64(30), object(7)\nmemory usage: 989.4+ KB\n"
    }
   ],
   "source": [
    "gpdf_wijken.info()"
   ]
  },
  {
   "cell_type": "code",
   "execution_count": 4,
   "metadata": {},
   "outputs": [],
   "source": [
    "gpdf_wijken = gpdf_wijken.replace(-99999999, np.nan)\n",
    "#gpdf_gemeenten = gpdf_gemeenten.replace(-99999999, np.nan)\n"
   ]
  },
  {
   "cell_type": "code",
   "execution_count": 5,
   "metadata": {},
   "outputs": [
    {
     "output_type": "execute_result",
     "data": {
      "text/plain": "count    3161.000000\nmean        3.698197\nstd         1.461757\nmin         1.000000\n25%         2.000000\n50%         4.000000\n75%         5.000000\nmax         5.000000\nName: stedelijkheid_adressen_per_km2, dtype: float64"
     },
     "metadata": {},
     "execution_count": 5
    }
   ],
   "source": [
    "test = gpdf_wijken['stedelijkheid_adressen_per_km2']\n",
    "test2 = gpdf_wijken['bevolkingsdichtheid_inwoners_per_km2']\n",
    "test.describe()\n",
    ""
   ]
  },
  {
   "cell_type": "markdown",
   "metadata": {},
   "source": [
    "# Construct data\n",
    "\n",
    "Hieronder wordt er aan de hand van boolean values een selectie gemaakt in de data. Deze boolean values zijn representatief met user input van de front end. Voor nu wordt er nog geen rekening gehouden met classificatie. Er wordt echter wel een selecte gemaakt met daarin dat bijvoorbeeld kolom 'omgevingsadressendichtheid' en 'stedelijkheid_adressen_per_km2' betrekking hebben tot stedelijkheid. Met deze data wordt er één extra kolom gemaakt met daarbin de normalisatie waarde. \n",
    "Deze normalisatie waarde wordt later dan weer gebruikt om een weging te kunnen maken voor de user input. \n",
    "Hieronder een overzicht met welke kolommen worden meegenomen bij de user input en dus de normalisatie:\n",
    "\n",
    "- `Stedelijkheid` worden de kolommen omgevingsadressendichtheid, stedelijkheid_adressen_per_km2 meegenomen\n",
    "- `water` wordt de kolom oppervlakte_water_in_ha meegenomen\n",
    "- `mensen` worden de kolommen aantal_inwoners, bevolkingsdichtheid_inwoners_per_km2 meegenomen \n",
    "- `kinderen` worden de kolommen aantal_inwoners, percentage_personen_0_tot_15_jaar meegenomen\n",
    "- `senioren` worden de kolommen aantal_inwoners, percentage_personen_65_jaar_en_ouder meegenomen \n",
    "\n",
    "\n"
   ]
  },
  {
   "cell_type": "code",
   "execution_count": 6,
   "metadata": {},
   "outputs": [
    {
     "output_type": "execute_result",
     "data": {
      "text/plain": "                        id  wijkcode    jrstatcode                   wijknaam  \\\n0        cbs_wijken_2019.0  WK000300  2019WK000300                    Wijk 00   \n1        cbs_wijken_2019.1  WK001001  2019WK001001                    Centrum   \n2      cbs_wijken_2019.115  WK009300  2019WK009300  Wijk 00 West-Terschelling   \n3     cbs_wijken_2019.1248  WK048911  2019WK048911            Wijk 11 Bijdorp   \n4        cbs_wijken_2019.2  WK001002  2019WK001002                       West   \n...                    ...       ...           ...                        ...   \n3242  cbs_wijken_2019.3229  WK169599  2019WK169599                Groot water   \n3243  cbs_wijken_2019.3230  WK170899  2019WK170899                Groot water   \n3244  cbs_wijken_2019.3231  WK170999  2019WK170999                Groot water   \n3245  cbs_wijken_2019.3245  WK196999  2019WK196999                Groot water   \n3246  cbs_wijken_2019.3246  WK197099  2019WK197099                Groot water   \n\n     gemeentecode       gemeentenaam  ind_wbi water  \\\n0          GM0003         Appingedam      1.0   NEE   \n1          GM0010           Delfzijl      3.0   NEE   \n2          GM0093       Terschelling      1.0   NEE   \n3          GM0489        Barendrecht      1.0   NEE   \n4          GM0010           Delfzijl      3.0   NEE   \n...           ...                ...      ...   ...   \n3242       GM1695     Noord-Beveland      NaN    JA   \n3243       GM1708    Steenwijkerland      NaN    JA   \n3244       GM1709           Moerdijk      NaN    JA   \n3245       GM1969     Westerkwartier      NaN    JA   \n3246       GM1970  Noardeast-Fryslân      NaN    JA   \n\n      omgevingsadressendichtheid  stedelijkheid_adressen_per_km2  ...  \\\n0                         1067.0                             3.0  ...   \n1                          963.0                             4.0  ...   \n2                          366.0                             5.0  ...   \n3                         1485.0                             3.0  ...   \n4                         1203.0                             3.0  ...   \n...                          ...                             ...  ...   \n3242                         NaN                             NaN  ...   \n3243                         NaN                             NaN  ...   \n3244                         NaN                             NaN  ...   \n3245                         NaN                             NaN  ...   \n3246                         NaN                             NaN  ...   \n\n      stedelijkheid_normalisatie_waarde  klasse_stedelijkheid_normalisatie  \\\n0                              0.588046                             Middel   \n1                              0.829448                        Middel-Hoog   \n2                              1.030093                               Hoog   \n3                              0.622603                             Middel   \n4                              0.599289                             Middel   \n...                                 ...                                ...   \n3242                                NaN                               Geen   \n3243                                NaN                               Geen   \n3244                                NaN                               Geen   \n3245                                NaN                               Geen   \n3246                                NaN                               Geen   \n\n      mensen_normalisatie_waarde  klasse_mensen_normalisatie  \\\n0                       0.124743                 Middel-Hoog   \n1                       0.110214                 Middel-Hoog   \n2                       0.027145                      Middel   \n3                       0.208831                        Hoog   \n4                       0.113740                 Middel-Hoog   \n...                          ...                         ...   \n3242                         NaN                        Geen   \n3243                         NaN                        Geen   \n3244                         NaN                        Geen   \n3245                         NaN                        Geen   \n3246                         NaN                        Geen   \n\n      kinderen_normalisatie_waarde  klasse_kinderen_normalisatie  \\\n0                         0.089393                          Hoog   \n1                         0.001170                          Laag   \n2                         0.013068                        Middel   \n3                         0.013678                        Middel   \n4                         0.021357                        Middel   \n...                            ...                           ...   \n3242                           NaN                          Geen   \n3243                           NaN                          Geen   \n3244                           NaN                          Geen   \n3245                           NaN                          Geen   \n3246                           NaN                          Geen   \n\n      senioren_normalisatie_waarde  klasse_senioren_normalisatie  \\\n0                         0.103703                          Hoog   \n1                         0.005728                          Laag   \n2                         0.018839                        Middel   \n3                         0.015325                        Middel   \n4                         0.026782                        Middel   \n...                            ...                           ...   \n3242                           NaN                          Geen   \n3243                           NaN                          Geen   \n3244                           NaN                          Geen   \n3245                           NaN                          Geen   \n3246                           NaN                          Geen   \n\n      water_normalisatie_waarde  klasse_water_normalisatie  \n0                      0.016587                       Hoog  \n1                      0.000207                       Laag  \n2                      0.006842                Middel-Hoog  \n3                      0.000000                       Laag  \n4                      0.001451                     Middel  \n...                         ...                        ...  \n3242                        NaN                       Geen  \n3243                        NaN                       Geen  \n3244                        NaN                       Geen  \n3245                        NaN                       Geen  \n3246                        NaN                       Geen  \n\n[3247 rows x 49 columns]",
      "text/html": "<div>\n<style scoped>\n    .dataframe tbody tr th:only-of-type {\n        vertical-align: middle;\n    }\n\n    .dataframe tbody tr th {\n        vertical-align: top;\n    }\n\n    .dataframe thead th {\n        text-align: right;\n    }\n</style>\n<table border=\"1\" class=\"dataframe\">\n  <thead>\n    <tr style=\"text-align: right;\">\n      <th></th>\n      <th>id</th>\n      <th>wijkcode</th>\n      <th>jrstatcode</th>\n      <th>wijknaam</th>\n      <th>gemeentecode</th>\n      <th>gemeentenaam</th>\n      <th>ind_wbi</th>\n      <th>water</th>\n      <th>omgevingsadressendichtheid</th>\n      <th>stedelijkheid_adressen_per_km2</th>\n      <th>...</th>\n      <th>stedelijkheid_normalisatie_waarde</th>\n      <th>klasse_stedelijkheid_normalisatie</th>\n      <th>mensen_normalisatie_waarde</th>\n      <th>klasse_mensen_normalisatie</th>\n      <th>kinderen_normalisatie_waarde</th>\n      <th>klasse_kinderen_normalisatie</th>\n      <th>senioren_normalisatie_waarde</th>\n      <th>klasse_senioren_normalisatie</th>\n      <th>water_normalisatie_waarde</th>\n      <th>klasse_water_normalisatie</th>\n    </tr>\n  </thead>\n  <tbody>\n    <tr>\n      <th>0</th>\n      <td>cbs_wijken_2019.0</td>\n      <td>WK000300</td>\n      <td>2019WK000300</td>\n      <td>Wijk 00</td>\n      <td>GM0003</td>\n      <td>Appingedam</td>\n      <td>1.0</td>\n      <td>NEE</td>\n      <td>1067.0</td>\n      <td>3.0</td>\n      <td>...</td>\n      <td>0.588046</td>\n      <td>Middel</td>\n      <td>0.124743</td>\n      <td>Middel-Hoog</td>\n      <td>0.089393</td>\n      <td>Hoog</td>\n      <td>0.103703</td>\n      <td>Hoog</td>\n      <td>0.016587</td>\n      <td>Hoog</td>\n    </tr>\n    <tr>\n      <th>1</th>\n      <td>cbs_wijken_2019.1</td>\n      <td>WK001001</td>\n      <td>2019WK001001</td>\n      <td>Centrum</td>\n      <td>GM0010</td>\n      <td>Delfzijl</td>\n      <td>3.0</td>\n      <td>NEE</td>\n      <td>963.0</td>\n      <td>4.0</td>\n      <td>...</td>\n      <td>0.829448</td>\n      <td>Middel-Hoog</td>\n      <td>0.110214</td>\n      <td>Middel-Hoog</td>\n      <td>0.001170</td>\n      <td>Laag</td>\n      <td>0.005728</td>\n      <td>Laag</td>\n      <td>0.000207</td>\n      <td>Laag</td>\n    </tr>\n    <tr>\n      <th>2</th>\n      <td>cbs_wijken_2019.115</td>\n      <td>WK009300</td>\n      <td>2019WK009300</td>\n      <td>Wijk 00 West-Terschelling</td>\n      <td>GM0093</td>\n      <td>Terschelling</td>\n      <td>1.0</td>\n      <td>NEE</td>\n      <td>366.0</td>\n      <td>5.0</td>\n      <td>...</td>\n      <td>1.030093</td>\n      <td>Hoog</td>\n      <td>0.027145</td>\n      <td>Middel</td>\n      <td>0.013068</td>\n      <td>Middel</td>\n      <td>0.018839</td>\n      <td>Middel</td>\n      <td>0.006842</td>\n      <td>Middel-Hoog</td>\n    </tr>\n    <tr>\n      <th>3</th>\n      <td>cbs_wijken_2019.1248</td>\n      <td>WK048911</td>\n      <td>2019WK048911</td>\n      <td>Wijk 11 Bijdorp</td>\n      <td>GM0489</td>\n      <td>Barendrecht</td>\n      <td>1.0</td>\n      <td>NEE</td>\n      <td>1485.0</td>\n      <td>3.0</td>\n      <td>...</td>\n      <td>0.622603</td>\n      <td>Middel</td>\n      <td>0.208831</td>\n      <td>Hoog</td>\n      <td>0.013678</td>\n      <td>Middel</td>\n      <td>0.015325</td>\n      <td>Middel</td>\n      <td>0.000000</td>\n      <td>Laag</td>\n    </tr>\n    <tr>\n      <th>4</th>\n      <td>cbs_wijken_2019.2</td>\n      <td>WK001002</td>\n      <td>2019WK001002</td>\n      <td>West</td>\n      <td>GM0010</td>\n      <td>Delfzijl</td>\n      <td>3.0</td>\n      <td>NEE</td>\n      <td>1203.0</td>\n      <td>3.0</td>\n      <td>...</td>\n      <td>0.599289</td>\n      <td>Middel</td>\n      <td>0.113740</td>\n      <td>Middel-Hoog</td>\n      <td>0.021357</td>\n      <td>Middel</td>\n      <td>0.026782</td>\n      <td>Middel</td>\n      <td>0.001451</td>\n      <td>Middel</td>\n    </tr>\n    <tr>\n      <th>...</th>\n      <td>...</td>\n      <td>...</td>\n      <td>...</td>\n      <td>...</td>\n      <td>...</td>\n      <td>...</td>\n      <td>...</td>\n      <td>...</td>\n      <td>...</td>\n      <td>...</td>\n      <td>...</td>\n      <td>...</td>\n      <td>...</td>\n      <td>...</td>\n      <td>...</td>\n      <td>...</td>\n      <td>...</td>\n      <td>...</td>\n      <td>...</td>\n      <td>...</td>\n      <td>...</td>\n    </tr>\n    <tr>\n      <th>3242</th>\n      <td>cbs_wijken_2019.3229</td>\n      <td>WK169599</td>\n      <td>2019WK169599</td>\n      <td>Groot water</td>\n      <td>GM1695</td>\n      <td>Noord-Beveland</td>\n      <td>NaN</td>\n      <td>JA</td>\n      <td>NaN</td>\n      <td>NaN</td>\n      <td>...</td>\n      <td>NaN</td>\n      <td>Geen</td>\n      <td>NaN</td>\n      <td>Geen</td>\n      <td>NaN</td>\n      <td>Geen</td>\n      <td>NaN</td>\n      <td>Geen</td>\n      <td>NaN</td>\n      <td>Geen</td>\n    </tr>\n    <tr>\n      <th>3243</th>\n      <td>cbs_wijken_2019.3230</td>\n      <td>WK170899</td>\n      <td>2019WK170899</td>\n      <td>Groot water</td>\n      <td>GM1708</td>\n      <td>Steenwijkerland</td>\n      <td>NaN</td>\n      <td>JA</td>\n      <td>NaN</td>\n      <td>NaN</td>\n      <td>...</td>\n      <td>NaN</td>\n      <td>Geen</td>\n      <td>NaN</td>\n      <td>Geen</td>\n      <td>NaN</td>\n      <td>Geen</td>\n      <td>NaN</td>\n      <td>Geen</td>\n      <td>NaN</td>\n      <td>Geen</td>\n    </tr>\n    <tr>\n      <th>3244</th>\n      <td>cbs_wijken_2019.3231</td>\n      <td>WK170999</td>\n      <td>2019WK170999</td>\n      <td>Groot water</td>\n      <td>GM1709</td>\n      <td>Moerdijk</td>\n      <td>NaN</td>\n      <td>JA</td>\n      <td>NaN</td>\n      <td>NaN</td>\n      <td>...</td>\n      <td>NaN</td>\n      <td>Geen</td>\n      <td>NaN</td>\n      <td>Geen</td>\n      <td>NaN</td>\n      <td>Geen</td>\n      <td>NaN</td>\n      <td>Geen</td>\n      <td>NaN</td>\n      <td>Geen</td>\n    </tr>\n    <tr>\n      <th>3245</th>\n      <td>cbs_wijken_2019.3245</td>\n      <td>WK196999</td>\n      <td>2019WK196999</td>\n      <td>Groot water</td>\n      <td>GM1969</td>\n      <td>Westerkwartier</td>\n      <td>NaN</td>\n      <td>JA</td>\n      <td>NaN</td>\n      <td>NaN</td>\n      <td>...</td>\n      <td>NaN</td>\n      <td>Geen</td>\n      <td>NaN</td>\n      <td>Geen</td>\n      <td>NaN</td>\n      <td>Geen</td>\n      <td>NaN</td>\n      <td>Geen</td>\n      <td>NaN</td>\n      <td>Geen</td>\n    </tr>\n    <tr>\n      <th>3246</th>\n      <td>cbs_wijken_2019.3246</td>\n      <td>WK197099</td>\n      <td>2019WK197099</td>\n      <td>Groot water</td>\n      <td>GM1970</td>\n      <td>Noardeast-Fryslân</td>\n      <td>NaN</td>\n      <td>JA</td>\n      <td>NaN</td>\n      <td>NaN</td>\n      <td>...</td>\n      <td>NaN</td>\n      <td>Geen</td>\n      <td>NaN</td>\n      <td>Geen</td>\n      <td>NaN</td>\n      <td>Geen</td>\n      <td>NaN</td>\n      <td>Geen</td>\n      <td>NaN</td>\n      <td>Geen</td>\n    </tr>\n  </tbody>\n</table>\n<p>3247 rows × 49 columns</p>\n</div>"
     },
     "metadata": {},
     "execution_count": 6
    }
   ],
   "source": [
    "gpdf_wijken_backup = gpdf_wijken\n",
    "\n",
    "stedelijkheid = True\n",
    "water = True\n",
    "mensen = True \n",
    "kinderen = True \n",
    "senioren = True\n",
    "\n",
    "if stedelijkheid == True:\n",
    "    # Normalisatie waarde aanmaken voor 'omgevingsadressendichtheid'\n",
    "    x = gpdf_wijken[['omgevingsadressendichtheid']]\n",
    "    min_max_scaler = preprocessing.MinMaxScaler()\n",
    "    x_scaled = min_max_scaler.fit_transform(x)\n",
    "    gpdf_wijken['omgevingsadressendichtheid_genormaliseerd'] = pd.DataFrame(x_scaled)\n",
    "\n",
    "    # Normalisatie waarde aanmaken voor stedelijkheid_adressen_per_km2\n",
    "    x = gpdf_wijken[['stedelijkheid_adressen_per_km2']]\n",
    "    min_max_scaler = preprocessing.MinMaxScaler()\n",
    "    x_scaled = min_max_scaler.fit_transform(x)\n",
    "    gpdf_wijken['stedelijkheid_adressen_per_km2_genormaliseerd'] = pd.DataFrame(x_scaled)\n",
    "\n",
    "    # Maken van vertaling naar één normalisatie waarde in een kolom 'stedelijkheid_normalisatie_waarde'\n",
    "    gpdf_wijken['stedelijkheid_normalisatie_waarde'] = gpdf_wijken['omgevingsadressendichtheid_genormaliseerd'] + gpdf_wijken['stedelijkheid_adressen_per_km2_genormaliseerd']\n",
    "\n",
    "    # Verwijderen van overbodige kolommen\n",
    "    gpdf_wijken.drop(columns=['omgevingsadressendichtheid_genormaliseerd','stedelijkheid_adressen_per_km2_genormaliseerd'], axis=1, inplace=True)\n",
    "\n",
    "    #KLASSE KOLOM MAKEN OP BASIS VAN KWARTIELEN VAN NORMALISATIE WAARDE\n",
    "    dataframe_kolom = gpdf_wijken[\"stedelijkheid_normalisatie_waarde\"]\n",
    "    q25 = dataframe_kolom.quantile(q=.25)\n",
    "    q50 = dataframe_kolom.quantile(q=.5)\n",
    "    q75 = dataframe_kolom.quantile(q=.75)\n",
    "\n",
    "    # Gebruik de aantallen die bij vg_data.describe() staan\n",
    "    m1 = dataframe_kolom < q25\n",
    "    m2 = np.logical_and(dataframe_kolom >  q25, dataframe_kolom < q50)\n",
    "    m3 = np.logical_and(dataframe_kolom >  q50, dataframe_kolom < q75)\n",
    "    m4 = dataframe_kolom > q75\n",
    "\n",
    "    gpdf_wijken['klasse_stedelijkheid_normalisatie'] = np.select([m1,m2,m3,m4], ['Laag','Middel','Middel-Hoog','Hoog'], default='Geen')\n",
    "\n",
    "# -----------------------------------------------------------------------------------------------------\n",
    "\n",
    "if mensen == True:\n",
    "    # Normalisatie waarde aanmaken voor 'omgevingsadressendichtheid'\n",
    "    x = gpdf_wijken[['aantal_inwoners']]\n",
    "    min_max_scaler = preprocessing.MinMaxScaler()\n",
    "    x_scaled = min_max_scaler.fit_transform(x)\n",
    "    gpdf_wijken['aantal_inwoners_genormaliseerd'] = pd.DataFrame(x_scaled)\n",
    "    \n",
    "    # Normalisatie waarde aanmaken voor stedelijkheid_adressen_per_km2\n",
    "    x = gpdf_wijken[['bevolkingsdichtheid_inwoners_per_km2']]\n",
    "    min_max_scaler = preprocessing.MinMaxScaler()\n",
    "    x_scaled = min_max_scaler.fit_transform(x)\n",
    "    gpdf_wijken['bevolkingsdichtheid_inwoners_per_km2_genormaliseerd'] = pd.DataFrame(x_scaled)\n",
    "\n",
    "    # Maken van vertaling naar één normalisatie waarde in een kolom 'stedelijkheid_normalisatie_waarde'\n",
    "    gpdf_wijken['mensen_normalisatie_waarde'] = gpdf_wijken['aantal_inwoners_genormaliseerd'] + gpdf_wijken['bevolkingsdichtheid_inwoners_per_km2_genormaliseerd']\n",
    "\n",
    "    # Verwijderen van overbodige kolommen\n",
    "    gpdf_wijken.drop(columns=['aantal_inwoners_genormaliseerd','bevolkingsdichtheid_inwoners_per_km2_genormaliseerd'], axis=1, inplace=True)\n",
    "\n",
    "    #KLASSE KOLOM MAKEN OP BASIS VAN KWARTIELEN VAN NORMALISATIE WAARDE\n",
    "    dataframe_kolom = gpdf_wijken[\"mensen_normalisatie_waarde\"]\n",
    "    q25 = dataframe_kolom.quantile(q=.25)\n",
    "    q50 = dataframe_kolom.quantile(q=.5)\n",
    "    q75 = dataframe_kolom.quantile(q=.75)\n",
    "\n",
    "    # Gebruik de aantallen die bij vg_data.describe() staan\n",
    "    m1 = dataframe_kolom < q25\n",
    "    m2 = np.logical_and(dataframe_kolom > q25, dataframe_kolom < q50)\n",
    "    m3 = np.logical_and(dataframe_kolom > q50, dataframe_kolom < q75)\n",
    "    m4 = dataframe_kolom > q75\n",
    "\n",
    "    gpdf_wijken['klasse_mensen_normalisatie'] = np.select([m1,m2,m3,m4], ['Laag','Middel','Middel-Hoog','Hoog'], default='Geen')\n",
    "\n",
    "# -----------------------------------------------------------------------------------------------------\n",
    "\n",
    "if kinderen == True:\n",
    "    # Normalisatie waarde aanmaken voor 'omgevingsadressendichtheid'\n",
    "    gpdf_wijken['kinderen_berekening'] = gpdf_wijken['percentage_personen_0_tot_15_jaar'] / 100\n",
    "    gpdf_wijken['aantal_kinderen_in_wijk'] = gpdf_wijken['aantal_inwoners'] * gpdf_wijken['kinderen_berekening']\n",
    "    gpdf_wijken['aantal_kinderen_in_wijk'] = gpdf_wijken['aantal_kinderen_in_wijk'].apply(np.floor)\n",
    "\n",
    "    x = gpdf_wijken[['aantal_kinderen_in_wijk']]\n",
    "    min_max_scaler = preprocessing.MinMaxScaler()\n",
    "    x_scaled = min_max_scaler.fit_transform(x)\n",
    "    gpdf_wijken['kinderen_normalisatie_waarde'] = pd.DataFrame(x_scaled)\n",
    "\n",
    "    gpdf_wijken.drop(columns=['kinderen_berekening', 'aantal_kinderen_in_wijk'], axis=1, inplace=True)\n",
    "\n",
    "    #KLASSE KOLOM MAKEN OP BASIS VAN KWARTIELEN VAN NORMALISATIE WAARDE\n",
    "    dataframe_kolom = gpdf_wijken[\"kinderen_normalisatie_waarde\"]\n",
    "    q25 = dataframe_kolom.quantile(q=.25)\n",
    "    q50 = dataframe_kolom.quantile(q=.5)\n",
    "    q75 = dataframe_kolom.quantile(q=.75)\n",
    "\n",
    "    # Gebruik de aantallen die bij vg_data.describe() staan\n",
    "    m1 = dataframe_kolom < q25\n",
    "    m2 = np.logical_and(dataframe_kolom >  q25, dataframe_kolom < q50)\n",
    "    m3 = np.logical_and(dataframe_kolom >  q50, dataframe_kolom < q75)\n",
    "    m4 = dataframe_kolom > q75\n",
    "\n",
    "    gpdf_wijken['klasse_kinderen_normalisatie'] = np.select([m1,m2,m3,m4], ['Laag','Middel','Middel-Hoog','Hoog'], default='Geen')\n",
    "\n",
    "# -----------------------------------------------------------------------------------------------------\n",
    "\n",
    "if senioren == True:\n",
    "    # Normalisatie waarde aanmaken voor 'omgevingsadressendichtheid'\n",
    "    gpdf_wijken['senioren_berekening'] = gpdf_wijken['percentage_personen_65_jaar_en_ouder'] / 100\n",
    "    gpdf_wijken['aantal_senioren_in_wijk'] = gpdf_wijken['aantal_inwoners'] * gpdf_wijken['senioren_berekening']\n",
    "    gpdf_wijken['aantal_senioren_in_wijk'] = gpdf_wijken['aantal_senioren_in_wijk'].apply(np.floor)\n",
    "\n",
    "    x = gpdf_wijken[['aantal_senioren_in_wijk']]\n",
    "    min_max_scaler = preprocessing.MinMaxScaler()\n",
    "    x_scaled = min_max_scaler.fit_transform(x)\n",
    "    gpdf_wijken['senioren_normalisatie_waarde'] = pd.DataFrame(x_scaled)\n",
    "\n",
    "    gpdf_wijken.drop(columns=['senioren_berekening', 'aantal_senioren_in_wijk'], axis=1, inplace=True)\n",
    "\n",
    "    #KLASSE KOLOM MAKEN OP BASIS VAN KWARTIELEN VAN NORMALISATIE WAARDE\n",
    "    dataframe_kolom = gpdf_wijken[\"senioren_normalisatie_waarde\"]\n",
    "    q25 = dataframe_kolom.quantile(q=.25)\n",
    "    q50 = dataframe_kolom.quantile(q=.5)\n",
    "    q75 = dataframe_kolom.quantile(q=.75)\n",
    "\n",
    "    # Gebruik de aantallen die bij vg_data.describe() staan\n",
    "    m1 = dataframe_kolom < q25\n",
    "    m2 = np.logical_and(dataframe_kolom >  q25, dataframe_kolom < q50)\n",
    "    m3 = np.logical_and(dataframe_kolom >  q50, dataframe_kolom < q75)\n",
    "    m4 = dataframe_kolom > q75\n",
    "\n",
    "    gpdf_wijken['klasse_senioren_normalisatie'] = np.select([m1,m2,m3,m4], ['Laag','Middel','Middel-Hoog','Hoog'], default='Geen')\n",
    "\n",
    "# -----------------------------------------------------------------------------------------------------\n",
    "\n",
    "if water == True:\n",
    "    # Normalisatie waarde aanmaken voor 'omgevingsadressendichtheid'\n",
    "    x = gpdf_wijken[['oppervlakte_water_in_ha']]\n",
    "    min_max_scaler = preprocessing.MinMaxScaler()\n",
    "    x_scaled = min_max_scaler.fit_transform(x)\n",
    "    gpdf_wijken['water_normalisatie_waarde'] = pd.DataFrame(x_scaled)\n",
    "\n",
    "    #KLASSE KOLOM MAKEN OP BASIS VAN KWARTIELEN VAN NORMALISATIE WAARDE\n",
    "    dataframe_kolom = gpdf_wijken[\"water_normalisatie_waarde\"]\n",
    "    q25 = dataframe_kolom.quantile(q=.25)\n",
    "    q50 = dataframe_kolom.quantile(q=.5)\n",
    "    q75 = dataframe_kolom.quantile(q=.75)\n",
    "\n",
    "    # Gebruik de aantallen die bij vg_data.describe() staan\n",
    "    m1 = dataframe_kolom < q25\n",
    "    m2 = np.logical_and(dataframe_kolom >  q25, dataframe_kolom < q50)\n",
    "    m3 = np.logical_and(dataframe_kolom >  q50, dataframe_kolom < q75)\n",
    "    m4 = dataframe_kolom > q75\n",
    "\n",
    "    gpdf_wijken['klasse_water_normalisatie'] = np.select([m1,m2,m3,m4], ['Laag','Middel','Middel-Hoog','Hoog'], default='Geen')\n",
    "\n",
    "gpdf_wijken\n"
   ]
  },
  {
   "cell_type": "code",
   "execution_count": 7,
   "metadata": {},
   "outputs": [],
   "source": [
    "Dataframe_demografie = gpdf_wijken\n",
    "\n",
    "Dataframe_demografie = gpdf_wijken[['wijkcode', 'wijknaam','gemeentenaam','water','omgevingsadressendichtheid','stedelijkheid_adressen_per_km2', 'bevolkingsdichtheid_inwoners_per_km2', 'aantal_inwoners', 'mannen',\n",
    "       'vrouwen', 'percentage_personen_0_tot_15_jaar',\n",
    "       'percentage_personen_15_tot_25_jaar',\n",
    "       'percentage_personen_25_tot_45_jaar',\n",
    "       'percentage_personen_65_jaar_en_ouder',\n",
    "       'percentage_personen_45_tot_65_jaar', 'percentage_ongehuwd',\n",
    "       'percentage_gehuwd', 'percentage_gescheid','aantal_huishoudens', 'percentage_eenpersoonshuishoudens',\n",
    "       'percentage_huishoudens_zonder_kinderen',\n",
    "       'percentage_huishoudens_met_kinderen', 'gemiddelde_huishoudsgrootte','oppervlakte_totaal_in_ha', 'oppervlakte_land_in_ha',\n",
    "       'oppervlakte_water_in_ha']]\n",
    "\n",
    "def DemografieAPI(wijk):\n",
    "    df = Dataframe_demografie.loc[Dataframe_demografie['wijkcode'] == wijk]\n",
    "    return df\n",
    "\n"
   ]
  },
  {
   "cell_type": "markdown",
   "metadata": {},
   "source": [
    "# Samenvatting dataset\n",
    "\n",
    "Je kan deze dataset gebruiken voor het beschrijvende statistieken gedeelte maar ook voor het formulier.\n",
    "De waardes die hierboven in het vorige tekst vakje staat vermeld zijn genormaliseerd en staan in een kolom binnen de dataframe. Hieraan is nog een kolom toegevoegd met een bepaalde klasse. \n",
    "\n",
    "Deze klasse is gebasseerd op de kwartielen van de normalisatie waardes. Dit kan worden gebruikt voor wegingen afhankelijk van de user input. "
   ]
  },
  {
   "cell_type": "markdown",
   "metadata": {},
   "source": [
    "# Uitwerken van voorspelling methode"
   ]
  },
  {
   "cell_type": "code",
   "execution_count": 8,
   "metadata": {},
   "outputs": [],
   "source": [
    "df_voorspelling = gpdf_wijken[['id', 'wijkcode', 'jrstatcode', 'wijknaam', 'gemeentecode',\n",
    "       'gemeentenaam', 'ind_wbi', 'water', 'omgevingsadressendichtheid',\n",
    "       'stedelijkheid_adressen_per_km2',\n",
    "       'bevolkingsdichtheid_inwoners_per_km2', 'aantal_inwoners', 'mannen',\n",
    "       'vrouwen', 'percentage_personen_0_tot_15_jaar',\n",
    "       'percentage_personen_15_tot_25_jaar',\n",
    "       'percentage_personen_25_tot_45_jaar',\n",
    "       'percentage_personen_65_jaar_en_ouder',\n",
    "       'percentage_personen_45_tot_65_jaar', 'percentage_ongehuwd',\n",
    "       'percentage_gehuwd', 'percentage_gescheid', 'percentage_verweduwd',\n",
    "       'aantal_huishoudens', 'percentage_eenpersoonshuishoudens',\n",
    "       'percentage_huishoudens_zonder_kinderen',\n",
    "       'percentage_huishoudens_met_kinderen', 'gemiddelde_huishoudsgrootte',\n",
    "       'percentage_westerse_migratieachtergrond',\n",
    "       'percentage_niet_westerse_migratieachtergrond',\n",
    "       'percentage_uit_marokko',\n",
    "       'percentage_uit_nederlandse_antillen_en_aruba',\n",
    "       'percentage_uit_suriname', 'percentage_uit_turkije',\n",
    "       'percentage_overige_nietwestersemigratieachtergrond',\n",
    "       'oppervlakte_totaal_in_ha', 'oppervlakte_land_in_ha',\n",
    "       'oppervlakte_water_in_ha']]\n",
    "    "
   ]
  },
  {
   "cell_type": "code",
   "execution_count": 10,
   "metadata": {},
   "outputs": [
    {
     "output_type": "execute_result",
     "data": {
      "text/plain": "         -0.235975   \npercentage_westerse_migratieachtergrond                           0.248161   \npercentage_niet_westerse_migratieachtergrond                      0.780479   \npercentage_uit_marokko                                            1.000000   \npercentage_uit_nederlandse_antillen_en_aruba                      0.380983   \npercentage_uit_suriname                                           0.480881   \npercentage_uit_turkije                                            0.629439   \npercentage_overige_nietwestersemigratieachtergrond                0.483682   \noppervlakte_totaal_in_ha                                         -0.225463   \noppervlakte_land_in_ha                                           -0.225896   \noppervlakte_water_in_ha                                          -0.072971   \n\n                                                    percentage_uit_nederlandse_antillen_en_aruba  \\\nind_wbi                                                                                -0.075739   \nomgevingsadressendichtheid                                                              0.437642   \nstedelijkheid_adressen_per_km2                                                         -0.525986   \nbevolkingsdichtheid_inwoners_per_km2                                                    0.432419   \naantal_inwoners                                                                         0.277675   \nmannen                                                                                  0.278047   \nvrouwen                                                                                 0.276960   \npercentage_personen_0_tot_15_jaar                                                      -0.041641   \npercentage_personen_15_tot_25_jaar                                                      0.179087   \npercentage_personen_25_tot_45_jaar                                                      0.453428   \npercentage_personen_65_jaar_en_ouder                                                   -0.383923   \npercentage_personen_45_tot_65_jaar                                                     -0.244960   \npercentage_ongehuwd                                                                     0.453510   \npercentage_gehuwd                                                                      -0.554591   \npercentage_gescheid                                                                     0.398263   \npercentage_verweduwd                                                                   -0.149747   \naantal_huishoudens                                                                      0.315141   \npercentage_eenpersoonshuishoudens                                                       0.441173   \npercentage_huishoudens_zonder_kinderen                                                 -0.506815   \npercentage_huishoudens_met_kinderen                                                    -0.240713   \ngemiddelde_huishoudsgrootte                                                            -0.367392   \npercentage_westerse_migratieachtergrond                                                 0.295933   \npercentage_niet_westerse_migratieachtergrond                                            0.669653   \npercentage_uit_marokko                                                                  0.380983   \npercentage_uit_nederlandse_antillen_en_aruba                                            1.000000   \npercentage_uit_suriname                                                                 0.630679   \npercentage_uit_turkije                                                                  0.403751   \npercentage_overige_nietwestersemigratieachtergrond                                      0.573766   \noppervlakte_totaal_in_ha                                                               -0.271789   \noppervlakte_land_in_ha                                                                 -0.271810   \noppervlakte_water_in_ha                                                                -0.094563   \n\n                                                    percentage_uit_suriname  \\\nind_wbi                                                           -0.088202   \nomgevingsadressendichtheid                                         0.465410   \nstedelijkheid_adressen_per_km2                                    -0.474984   \nbevolkingsdichtheid_inwoners_per_km2                               0.499810   \naantal_inwoners                                                    0.336484   \nmannen                                                             0.337335   \nvrouwen                                                            0.335269   \npercentage_personen_0_tot_15_jaar                                  0.097526   \npercentage_personen_15_tot_25_jaar                                 0.092098   \npercentage_personen_25_tot_45_jaar                                 0.416919   \npercentage_personen_65_jaar_en_ouder                              -0.286046   \npercentage_personen_45_tot_65_jaar                                -0.314882   \npercentage_ongehuwd                                                0.426195   \npercentage_gehuwd                                                 -0.470769   \npercentage_gescheid                                                0.302216   \npercentage_verweduwd                                              -0.241569   \naantal_huishoudens                                                 0.353506   \npercentage_eenpersoonshuishoudens                                  0.303295   \npercentage_huishoudens_zonder_kinderen                            -0.501329   \npercentage_huishoudens_met_kinderen                               -0.064824   \ngemiddelde_huishoudsgrootte                                       -0.210023   \npercentage_westerse_migratieachtergrond                            0.268639   \npercentage_niet_westerse_migratieachtergrond                       0.768739   \npercentage_uit_marokko                                             0.480881   \npercentage_uit_nederlandse_antillen_en_aruba                       0.630679   \npercentage_uit_suriname                                            1.000000   \npercentage_uit_turkije                                             0.425504   \npercentage_overige_nietwestersemigratieachtergrond                 0.605922   \noppervlakte_totaal_in_ha                                          -0.231937   \noppervlakte_land_in_ha                                            -0.234214   \noppervlakte_water_in_ha                                           -0.050690   \n\n                                                    percentage_uit_turkije  \\\nind_wbi                                                          -0.082041   \nomgevingsadressendichtheid                                        0.422992   \nstedelijkheid_adressen_per_km2                                   -0.485956   \nbevolkingsdichtheid_inwoners_per_km2                              0.446741   \naantal_inwoners                                                   0.269872   \nmannen                                                            0.272144   \nvrouwen                                                           0.267329   \npercentage_personen_0_tot_15_jaar                                 0.105938   \npercentage_personen_15_tot_25_jaar                                0.073564   \npercentage_personen_25_tot_45_jaar                                0.386745   \npercentage_personen_65_jaar_en_ouder                             -0.339662   \npercentage_personen_45_tot_65_jaar                               -0.242656   \npercentage_ongehuwd                                               0.315295   \npercentage_gehuwd                                                -0.395262   \npercentage_gescheid                                               0.313195   \npercentage_verweduwd                                             -0.106721   \naantal_huishoudens                                                0.283878   \npercentage_eenpersoonshuishoudens                                 0.312460   \npercentage_huishoudens_zonder_kinderen                           -0.479256   \npercentage_huishoudens_met_kinderen                              -0.090549   \ngemiddelde_huishoudsgrootte                                      -0.212138   \npercentage_westerse_migratieachtergrond                           0.224722   \npercentage_niet_westerse_migratieachtergrond                      0.771151   \npercentage_uit_marokko                                            0.629439   \npercentage_uit_nederlandse_antillen_en_aruba                      0.403751   \npercentage_uit_suriname                                           0.425504   \npercentage_uit_turkije                                            1.000000   \npercentage_overige_nietwestersemigratieachtergrond                0.469368   \noppervlakte_totaal_in_ha                                         -0.226800   \noppervlakte_land_in_ha                                           -0.226273   \noppervlakte_water_in_ha                                          -0.086250   \n\n                                                    percentage_overige_nietwestersemigratieachtergrond  \\\nind_wbi                                                                                     -0.081054    \nomgevingsadressendichtheid                                                                   0.549286    \nstedelijkheid_adressen_per_km2                                                              -0.607347    \nbevolkingsdichtheid_inwoners_per_km2                                                         0.502459    \naantal_inwoners                                                                              0.296800    \nmannen                                                                                       0.297639    \nvrouwen                                                                                      0.295609    \npercentage_personen_0_tot_15_jaar                                                            0.016063    \npercentage_personen_15_tot_25_jaar                                                           0.246233    \npercentage_personen_25_tot_45_jaar                                                           0.566435    \npercentage_personen_65_jaar_en_ouder                                                        -0.546783    \npercentage_personen_45_tot_65_jaar                                                          -0.313519    \npercentage_ongehuwd                                                                          0.589353    \npercentage_gehuwd                                                                           -0.665002    \npercentage_gescheid                                                                          0.334024    \npercentage_verweduwd                                                                        -0.191815    \naantal_huishoudens                                                                           0.340525    \npercentage_eenpersoonshuishoudens                                                            0.570866    \npercentage_huishoudens_zonder_kinderen                                                      -0.639321    \npercentage_huishoudens_met_kinderen                                                         -0.322993    \ngemiddelde_huishoudsgrootte                                                                 -0.456300    \npercentage_westerse_migratieachtergrond                                                      0.463250    \npercentage_niet_westerse_migratieachtergrond                                                 0.847260    \npercentage_uit_marokko                                                                       0.483682    \npercentage_uit_nederlandse_antillen_en_aruba                                                 0.573766    \npercentage_uit_suriname                                                                      0.605922    \npercentage_uit_turkije                                                                       0.469368    \npercentage_overige_nietwestersemigratieachtergrond                                           1.000000    \noppervlakte_totaal_in_ha                                                                    -0.277473    \noppervlakte_land_in_ha                                                                      -0.278113    \noppervlakte_water_in_ha                                                                     -0.088368    \n\n                                                    oppervlakte_totaal_in_ha  \\\nind_wbi                                                             0.034723   \nomgevingsadressendichtheid                                         -0.299764   \nstedelijkheid_adressen_per_km2                                      0.366246   \nbevolkingsdichtheid_inwoners_per_km2                               -0.347801   \naantal_inwoners                                                     0.095352   \nmannen                                                              0.099862   \nvrouwen                                                             0.090970   \npercentage_personen_0_tot_15_jaar                                   0.028914   \npercentage_personen_15_tot_25_jaar                                 -0.024738   \npercentage_personen_25_tot_45_jaar                                 -0.217860   \npercentage_personen_65_jaar_en_ouder                                0.155374   \npercentage_personen_45_tot_65_jaar                                  0.088690   \npercentage_ongehuwd                                                -0.198749   \npercentage_gehuwd                                                   0.252918   \npercentage_gescheid                                                -0.197072   \npercentage_verweduwd                                                0.051414   \naantal_huishoudens                                                  0.055096   \npercentage_eenpersoonshuishoudens                                  -0.203891   \npercentage_huishoudens_zonder_kinderen                              0.225092   \npercentage_huishoudens_met_kinderen                                 0.103864   \ngemiddelde_huishoudsgrootte                                         0.172405   \npercentage_westerse_migratieachtergrond                            -0.233261   \npercentage_niet_westerse_migratieachtergrond                       -0.272932   \npercentage_uit_marokko                                             -0.225463   \npercentage_uit_nederlandse_antillen_en_aruba                       -0.271789   \npercentage_uit_suriname                                            -0.231937   \npercentage_uit_turkije                                             -0.226800   \npercentage_overige_nietwestersemigratieachtergrond                 -0.277473   \noppervlakte_totaal_in_ha                                            1.000000   \noppervlakte_land_in_ha                                              0.995535   \noppervlakte_water_in_ha                                             0.378409   \n\n                                                    oppervlakte_land_in_ha  \\\nind_wbi                                                           0.037470   \nomgevingsadressendichtheid                                       -0.299491   \nstedelijkheid_adressen_per_km2                                    0.366334   \nbevolkingsdichtheid_inwoners_per_km2                             -0.345487   \naantal_inwoners                                                   0.092851   \nmannen                                                            0.097403   \nvrouwen                                                           0.088429   \npercentage_personen_0_tot_15_jaar                                 0.029356   \npercentage_personen_15_tot_25_jaar                               -0.023916   \npercentage_personen_25_tot_45_jaar                               -0.217042   \npercentage_personen_65_jaar_en_ouder                              0.152778   \npercentage_personen_45_tot_65_jaar                                0.089179   \npercentage_ongehuwd                                              -0.198807   \npercentage_gehuwd                                                 0.253339   \npercentage_gescheid                                              -0.200930   \npercentage_verweduwd                                              0.054060   \naantal_huishoudens                                                0.052706   \npercentage_eenpersoonshuishoudens                                -0.204714   \npercentage_huishoudens_zonder_kinderen                            0.224935   \npercentage_huishoudens_met_kinderen                               0.105024   \ngemiddelde_huishoudsgrootte                                       0.176367   \npercentage_westerse_migratieachtergrond                          -0.232845   \npercentage_niet_westerse_migratieachtergrond                     -0.273721   \npercentage_uit_marokko                                           -0.225896   \npercentage_uit_nederlandse_antillen_en_aruba                     -0.271810   \npercentage_uit_suriname                                          -0.234214   \npercentage_uit_turkije                                           -0.226273   \npercentage_overige_nietwestersemigratieachtergrond               -0.278113   \noppervlakte_totaal_in_ha                                          0.995535   \noppervlakte_land_in_ha                                            1.000000   \noppervlakte_water_in_ha                                           0.289350   \n\n                                                    oppervlakte_water_in_ha  \nind_wbi                                                           -0.015284  \nomgevingsadressendichtheid                                        -0.102858  \nstedelijkheid_adressen_per_km2                                     0.121568  \nbevolkingsdichtheid_inwoners_per_km2                              -0.147743  \naantal_inwoners                                                    0.056532  \nmannen                                                             0.057635  \nvrouwen                                                            0.055456  \npercentage_personen_0_tot_15_jaar                                  0.004291  \npercentage_personen_15_tot_25_jaar                                -0.018655  \npercentage_personen_25_tot_45_jaar                                -0.084599  \npercentage_personen_65_jaar_en_ouder                               0.085760  \npercentage_personen_45_tot_65_jaar                                 0.023950  \npercentage_ongehuwd                                               -0.066886  \npercentage_gehuwd                                                  0.080802  \npercentage_gescheid                                               -0.018494  \npercentage_verweduwd                                              -0.016023  \naantal_huishoudens                                                 0.041985  \npercentage_eenpersoonshuishoudens                                 -0.059062  \npercentage_huishoudens_zonder_kinderen                             0.078613  \npercentage_huishoudens_met_kinderen                                0.020771  \ngemiddelde_huishoudsgrootte                                        0.018745  \npercentage_westerse_migratieachtergrond                           -0.084777  \npercentage_niet_westerse_migratieachtergrond                      -0.083049  \npercentage_uit_marokko                                            -0.072971  \npercentage_uit_nederlandse_antillen_en_aruba                      -0.094563  \npercentage_uit_suriname                                           -0.050690  \npercentage_uit_turkije                                            -0.086250  \npercentage_overige_nietwestersemigratieachtergrond                -0.088368  \noppervlakte_totaal_in_ha                                           0.378409  \noppervlakte_land_in_ha                                             0.289350  \noppervlakte_water_in_ha                                            1.000000  \n\n[31 rows x 31 columns]",
      "text/html": "<div>\n<style scoped>\n    .dataframe tbody tr th:only-of-type {\n        vertical-align: middle;\n    }\n\n    .dataframe tbody tr th {\n        vertical-align: top;\n    }\n\n    .dataframe thead th {\n        text-align: right;\n    }\n</style>\n<table border=\"1\" class=\"dataframe\">\n  <thead>\n    <tr style=\"text-align: right;\">\n      <th></th>\n      <th>ind_wbi</th>\n      <th>omgevingsadressendichtheid</th>\n      <th>stedelijkheid_adressen_per_km2</th>\n      <th>bevolkingsdichtheid_inwoners_per_km2</th>\n      <th>aantal_inwoners</th>\n      <th>mannen</th>\n      <th>vrouwen</th>\n      <th>percentage_personen_0_tot_15_jaar</th>\n      <th>percentage_personen_15_tot_25_jaar</th>\n      <th>percentage_personen_25_tot_45_jaar</th>\n      <th>...</th>\n      <th>percentage_westerse_migratieachtergrond</th>\n      <th>percentage_niet_westerse_migratieachtergrond</th>\n      <th>percentage_uit_marokko</th>\n      <th>percentage_uit_nederlandse_antillen_en_aruba</th>\n      <th>percentage_uit_suriname</th>\n      <th>percentage_uit_turkije</th>\n      <th>percentage_overige_nietwestersemigratieachtergrond</th>\n      <th>oppervlakte_totaal_in_ha</th>\n      <th>oppervlakte_land_in_ha</th>\n      <th>oppervlakte_water_in_ha</th>\n    </tr>\n  </thead>\n  <tbody>\n    <tr>\n      <th>ind_wbi</th>\n      <td>1.000000</td>\n      <td>-0.129465</td>\n      <td>0.160866</td>\n      <td>-0.125552</td>\n      <td>-0.077923</td>\n      <td>-0.076842</td>\n      <td>-0.078828</td>\n      <td>0.023293</td>\n      <td>-0.020183</td>\n      <td>-0.054776</td>\n      <td>...</td>\n      <td>-0.081165</td>\n      <td>-0.106104</td>\n      <td>-0.105270</td>\n      <td>-0.075739</td>\n      <td>-0.088202</td>\n      <td>-0.082041</td>\n      <td>-0.081054</td>\n      <td>0.034723</td>\n      <td>0.037470</td>\n      <td>-0.015284</td>\n    </tr>\n    <tr>\n      <th>omgevingsadressendichtheid</th>\n      <td>-0.129465</td>\n      <td>1.000000</td>\n      <td>-0.817683</td>\n      <td>0.895893</td>\n      <td>0.408005</td>\n      <td>0.407573</td>\n      <td>0.407950</td>\n      <td>-0.132561</td>\n      <td>0.094338</td>\n      <td>0.652663</td>\n      <td>...</td>\n      <td>0.533553</td>\n      <td>0.636169</td>\n      <td>0.495098</td>\n      <td>0.437642</td>\n      <td>0.465410</td>\n      <td>0.422992</td>\n      <td>0.549286</td>\n      <td>-0.299764</td>\n      <td>-0.299491</td>\n      <td>-0.102858</td>\n    </tr>\n    <tr>\n      <th>stedelijkheid_adressen_per_km2</th>\n      <td>0.160866</td>\n      <td>-0.817683</td>\n      <td>1.000000</td>\n      <td>-0.742353</td>\n      <td>-0.504077</td>\n      <td>-0.500890</td>\n      <td>-0.506598</td>\n      <td>0.041124</td>\n      <td>-0.078172</td>\n      <td>-0.562415</td>\n      <td>...</td>\n      <td>-0.475420</td>\n      <td>-0.682787</td>\n      <td>-0.494525</td>\n      <td>-0.525986</td>\n      <td>-0.474984</td>\n      <td>-0.485956</td>\n      <td>-0.607347</td>\n      <td>0.366246</td>\n      <td>0.366334</td>\n      <td>0.121568</td>\n    </tr>\n    <tr>\n      <th>bevolkingsdichtheid_inwoners_per_km2</th>\n      <td>-0.125552</td>\n      <td>0.895893</td>\n      <td>-0.742353</td>\n      <td>1.000000</td>\n      <td>0.348851</td>\n      <td>0.348261</td>\n      <td>0.349007</td>\n      <td>-0.035278</td>\n      <td>0.060888</td>\n      <td>0.597891</td>\n      <td>...</td>\n      <td>0.442341</td>\n      <td>0.635183</td>\n      <td>0.522540</td>\n      <td>0.432419</td>\n      <td>0.499810</td>\n      <td>0.446741</td>\n      <td>0.502459</td>\n      <td>-0.347801</td>\n      <td>-0.345487</td>\n      <td>-0.147743</td>\n    </tr>\n    <tr>\n      <th>aantal_inwoners</th>\n      <td>-0.077923</td>\n      <td>0.408005</td>\n      <td>-0.504077</td>\n      <td>0.348851</td>\n      <td>1.000000</td>\n      <td>0.999552</td>\n      <td>0.999576</td>\n      <td>0.103420</td>\n      <td>0.041238</td>\n      <td>0.291765</td>\n      <td>...</td>\n      <td>0.177091</td>\n      <td>0.421878</td>\n      <td>0.303678</td>\n      <td>0.277675</td>\n      <td>0.336484</td>\n      <td>0.269872</td>\n      <td>0.296800</td>\n      <td>0.095352</td>\n      <td>0.092851</td>\n      <td>0.056532</td>\n    </tr>\n    <tr>\n      <th>mannen</th>\n      <td>-0.076842</td>\n      <td>0.407573</td>\n      <td>-0.500890</td>\n      <td>0.348261</td>\n      <td>0.999552</td>\n      <td>1.000000</td>\n      <td>0.998258</td>\n      <td>0.103703</td>\n      <td>0.045426</td>\n      <td>0.296661</td>\n      <td>...</td>\n      <td>0.176851</td>\n      <td>0.423373</td>\n      <td>0.304223</td>\n      <td>0.278047</td>\n      <td>0.337335</td>\n      <td>0.272144</td>\n      <td>0.297639</td>\n      <td>0.099862</td>\n      <td>0.097403</td>\n      <td>0.057635</td>\n    </tr>\n    <tr>\n      <th>vrouwen</th>\n      <td>-0.078828</td>\n      <td>0.407950</td>\n      <td>-0.506598</td>\n      <td>0.349007</td>\n      <td>0.999576</td>\n      <td>0.998258</td>\n      <td>1.000000</td>\n      <td>0.103057</td>\n      <td>0.037106</td>\n      <td>0.286663</td>\n      <td>...</td>\n      <td>0.177058</td>\n      <td>0.419942</td>\n      <td>0.302772</td>\n      <td>0.276960</td>\n      <td>0.335269</td>\n      <td>0.267329</td>\n      <td>0.295609</td>\n      <td>0.090970</td>\n      <td>0.088429</td>\n      <td>0.055456</td>\n    </tr>\n    <tr>\n      <th>percentage_personen_0_tot_15_jaar</th>\n      <td>0.023293</td>\n      <td>-0.132561</td>\n      <td>0.041124</td>\n      <td>-0.035278</td>\n      <td>0.103420</td>\n      <td>0.103703</td>\n      <td>0.103057</td>\n      <td>1.000000</td>\n      <td>-0.142114</td>\n      <td>0.079721</td>\n      <td>...</td>\n      <td>-0.247536</td>\n      <td>0.078347</td>\n      <td>0.089854</td>\n      <td>-0.041641</td>\n      <td>0.097526</td>\n      <td>0.105938</td>\n      <td>0.016063</td>\n      <td>0.028914</td>\n      <td>0.029356</td>\n      <td>0.004291</td>\n    </tr>\n    <tr>\n      <th>percentage_personen_15_tot_25_jaar</th>\n      <td>-0.020183</td>\n      <td>0.094338</td>\n      <td>-0.078172</td>\n      <td>0.060888</td>\n      <td>0.041238</td>\n      <td>0.045426</td>\n      <td>0.037106</td>\n      <td>-0.142114</td>\n      <td>1.000000</td>\n      <td>0.172403</td>\n      <td>...</td>\n      <td>0.009136</td>\n      <td>0.137177</td>\n      <td>0.061041</td>\n      <td>0.179087</td>\n      <td>0.092098</td>\n      <td>0.073564</td>\n      <td>0.246233</td>\n      <td>-0.024738</td>\n      <td>-0.023916</td>\n      <td>-0.018655</td>\n    </tr>\n    <tr>\n      <th>percentage_personen_25_tot_45_jaar</th>\n      <td>-0.054776</td>\n      <td>0.652663</td>\n      <td>-0.562415</td>\n      <td>0.597891</td>\n      <td>0.291765</td>\n      <td>0.296661</td>\n      <td>0.286663</td>\n      <td>0.079721</td>\n      <td>0.172403</td>\n      <td>1.000000</td>\n      <td>...</td>\n      <td>0.425270</td>\n      <td>0.594919</td>\n      <td>0.435568</td>\n      <td>0.453428</td>\n      <td>0.416919</td>\n      <td>0.386745</td>\n      <td>0.566435</td>\n      <td>-0.217860</td>\n      <td>-0.217042</td>\n      <td>-0.084599</td>\n    </tr>\n    <tr>\n      <th>percentage_personen_65_jaar_en_ouder</th>\n      <td>0.037460</td>\n      <td>-0.504285</td>\n      <td>0.543065</td>\n      <td>-0.438819</td>\n      <td>-0.325503</td>\n      <td>-0.325038</td>\n      <td>-0.325581</td>\n      <td>-0.204841</td>\n      <td>-0.243298</td>\n      <td>-0.670375</td>\n      <td>...</td>\n      <td>-0.277233</td>\n      <td>-0.509705</td>\n      <td>-0.362833</td>\n      <td>-0.383923</td>\n      <td>-0.286046</td>\n      <td>-0.339662</td>\n      <td>-0.546783</td>\n      <td>0.155374</td>\n      <td>0.152778</td>\n      <td>0.085760</td>\n    </tr>\n    <tr>\n      <th>percentage_personen_45_tot_65_jaar</th>\n      <td>0.019708</td>\n      <td>-0.220524</td>\n      <td>0.149189</td>\n      <td>-0.257408</td>\n      <td>-0.119371</td>\n      <td>-0.127134</td>\n      <td>-0.111689</td>\n      <td>-0.441567</td>\n      <td>-0.448368</td>\n      <td>-0.602780</td>\n      <td>...</td>\n      <td>-0.058191</td>\n      <td>-0.311083</td>\n      <td>-0.257632</td>\n      <td>-0.244960</td>\n      <td>-0.314882</td>\n      <td>-0.242656</td>\n      <td>-0.313519</td>\n      <td>0.088690</td>\n      <td>0.089179</td>\n      <td>0.023950</td>\n    </tr>\n    <tr>\n      <th>percentage_ongehuwd</th>\n      <td>-0.060667</td>\n      <td>0.611010</td>\n      <td>-0.495002</td>\n      <td>0.552217</td>\n      <td>0.246596</td>\n      <td>0.250901</td>\n      <td>0.242110</td>\n      <td>0.075989</td>\n      <td>0.520676</td>\n      <td>0.805154</td>\n      <td>...</td>\n      <td>0.360039</td>\n      <td>0.551167</td>\n      <td>0.376477</td>\n      <td>0.453510</td>\n      <td>0.426195</td>\n      <td>0.315295</td>\n      <td>0.589353</td>\n      <td>-0.198749</td>\n      <td>-0.198807</td>\n      <td>-0.066886</td>\n    </tr>\n    <tr>\n      <th>percentage_gehuwd</th>\n      <td>0.079571</td>\n      <td>-0.716892</td>\n      <td>0.671593</td>\n      <td>-0.635052</td>\n      <td>-0.324965</td>\n      <td>-0.326120</td>\n      <td>-0.323454</td>\n      <td>0.126151</td>\n      <td>-0.339074</td>\n      <td>-0.768711</td>\n      <td>...</td>\n      <td>-0.486757</td>\n      <td>-0.654192</td>\n      <td>-0.438228</td>\n      <td>-0.554591</td>\n      <td>-0.470769</td>\n      <td>-0.395262</td>\n      <td>-0.665002</td>\n      <td>0.252918</td>\n      <td>0.253339</td>\n      <td>0.080802</td>\n    </tr>\n    <tr>\n      <th>percentage_gescheid</th>\n      <td>-0.041683</td>\n      <td>0.359938</td>\n      <td>-0.487518</td>\n      <td>0.328089</td>\n      <td>0.217971</td>\n      <td>0.214340</td>\n      <td>0.221246</td>\n      <td>-0.330425</td>\n      <td>-0.293520</td>\n      <td>0.171512</td>\n      <td>...</td>\n      <td>0.376307</td>\n      <td>0.405612</td>\n      <td>0.289330</td>\n      <td>0.398263</td>\n      <td>0.302216</td>\n      <td>0.313195</td>\n      <td>0.334024</td>\n      <td>-0.197072</td>\n      <td>-0.200930</td>\n      <td>-0.018494</td>\n    </tr>\n    <tr>\n      <th>percentage_verweduwd</th>\n      <td>-0.009965</td>\n      <td>-0.092812</td>\n      <td>-0.021606</td>\n      <td>-0.127796</td>\n      <td>0.006177</td>\n      <td>-0.001067</td>\n      <td>0.013222</td>\n      <td>-0.336660</td>\n      <td>-0.356365</td>\n      <td>-0.395772</td>\n      <td>...</td>\n      <td>-0.010840</td>\n      <td>-0.147295</td>\n      <td>-0.150628</td>\n      <td>-0.149747</td>\n      <td>-0.241569</td>\n      <td>-0.106721</td>\n      <td>-0.191815</td>\n      <td>0.051414</td>\n      <td>0.054060</td>\n      <td>-0.016023</td>\n    </tr>\n    <tr>\n      <th>aantal_huishoudens</th>\n      <td>-0.076816</td>\n      <td>0.475402</td>\n      <td>-0.542986</td>\n      <td>0.405067</td>\n      <td>0.985025</td>\n      <td>0.984315</td>\n      <td>0.984862</td>\n      <td>0.029109</td>\n      <td>0.088155</td>\n      <td>0.343171</td>\n      <td>...</td>\n      <td>0.231900</td>\n      <td>0.451944</td>\n      <td>0.324687</td>\n      <td>0.315141</td>\n      <td>0.353506</td>\n      <td>0.283878</td>\n      <td>0.340525</td>\n      <td>0.055096</td>\n      <td>0.052706</td>\n      <td>0.041985</td>\n    </tr>\n    <tr>\n      <th>percentage_eenpersoonshuishoudens</th>\n      <td>-0.062345</td>\n      <td>0.654183</td>\n      <td>-0.630321</td>\n      <td>0.535582</td>\n      <td>0.273960</td>\n      <td>0.272863</td>\n      <td>0.274706</td>\n      <td>-0.463155</td>\n      <td>0.225179</td>\n      <td>0.562284</td>\n      <td>...</td>\n      <td>0.551120</td>\n      <td>0.530858</td>\n      <td>0.339766</td>\n      <td>0.441173</td>\n      <td>0.303295</td>\n      <td>0.312460</td>\n      <td>0.570866</td>\n      <td>-0.203891</td>\n      <td>-0.204714</td>\n      <td>-0.059062</td>\n    </tr>\n    <tr>\n      <th>percentage_huishoudens_zonder_kinderen</th>\n      <td>0.074584</td>\n      <td>-0.570219</td>\n      <td>0.623069</td>\n      <td>-0.537764</td>\n      <td>-0.353545</td>\n      <td>-0.353889</td>\n      <td>-0.352799</td>\n      <td>-0.190589</td>\n      <td>-0.349333</td>\n      <td>-0.629963</td>\n      <td>...</td>\n      <td>-0.356174</td>\n      <td>-0.625133</td>\n      <td>-0.467725</td>\n      <td>-0.506815</td>\n      <td>-0.501329</td>\n      <td>-0.479256</td>\n      <td>-0.639321</td>\n      <td>0.225092</td>\n      <td>0.224935</td>\n      <td>0.078613</td>\n    </tr>\n    <tr>\n      <th>percentage_huishoudens_met_kinderen</th>\n      <td>0.027703</td>\n      <td>-0.437658</td>\n      <td>0.370617</td>\n      <td>-0.308453</td>\n      <td>-0.103349</td>\n      <td>-0.101687</td>\n      <td>-0.104841</td>\n      <td>0.728360</td>\n      <td>-0.045674</td>\n      <td>-0.284857</td>\n      <td>...</td>\n      <td>-0.462226</td>\n      <td>-0.250143</td>\n      <td>-0.133014</td>\n      <td>-0.240713</td>\n      <td>-0.064824</td>\n      <td>-0.090549</td>\n      <td>-0.322993</td>\n      <td>0.103864</td>\n      <td>0.105024</td>\n      <td>0.020771</td>\n    </tr>\n    <tr>\n      <th>gemiddelde_huishoudsgrootte</th>\n      <td>0.040319</td>\n      <td>-0.543486</td>\n      <td>0.527064</td>\n      <td>-0.438503</td>\n      <td>-0.211496</td>\n      <td>-0.209660</td>\n      <td>-0.213046</td>\n      <td>0.637555</td>\n      <td>-0.023861</td>\n      <td>-0.410218</td>\n      <td>...</td>\n      <td>-0.547215</td>\n      <td>-0.407779</td>\n      <td>-0.235975</td>\n      <td>-0.367392</td>\n      <td>-0.210023</td>\n      <td>-0.212138</td>\n      <td>-0.456300</td>\n      <td>0.172405</td>\n      <td>0.176367</td>\n      <td>0.018745</td>\n    </tr>\n    <tr>\n      <th>percentage_westerse_migratieachtergrond</th>\n      <td>-0.081165</td>\n      <td>0.533553</td>\n      <td>-0.475420</td>\n      <td>0.442341</td>\n      <td>0.177091</td>\n      <td>0.176851</td>\n      <td>0.177058</td>\n      <td>-0.247536</td>\n      <td>0.009136</td>\n      <td>0.425270</td>\n      <td>...</td>\n      <td>1.000000</td>\n      <td>0.402763</td>\n      <td>0.248161</td>\n      <td>0.295933</td>\n      <td>0.268639</td>\n      <td>0.224722</td>\n      <td>0.463250</td>\n      <td>-0.233261</td>\n      <td>-0.232845</td>\n      <td>-0.084777</td>\n    </tr>\n    <tr>\n      <th>percentage_niet_westerse_migratieachtergrond</th>\n      <td>-0.106104</td>\n      <td>0.636169</td>\n      <td>-0.682787</td>\n      <td>0.635183</td>\n      <td>0.421878</td>\n      <td>0.423373</td>\n      <td>0.419942</td>\n      <td>0.078347</td>\n      <td>0.137177</td>\n      <td>0.594919</td>\n      <td>...</td>\n      <td>0.402763</td>\n      <td>1.000000</td>\n      <td>0.780479</td>\n      <td>0.669653</td>\n      <td>0.768739</td>\n      <td>0.771151</td>\n      <td>0.847260</td>\n      <td>-0.272932</td>\n      <td>-0.273721</td>\n      <td>-0.083049</td>\n    </tr>\n    <tr>\n      <th>percentage_uit_marokko</th>\n      <td>-0.105270</td>\n      <td>0.495098</td>\n      <td>-0.494525</td>\n      <td>0.522540</td>\n      <td>0.303678</td>\n      <td>0.304223</td>\n      <td>0.302772</td>\n      <td>0.089854</td>\n      <td>0.061041</td>\n      <td>0.435568</td>\n      <td>...</td>\n      <td>0.248161</td>\n      <td>0.780479</td>\n      <td>1.000000</td>\n      <td>0.380983</td>\n      <td>0.480881</td>\n      <td>0.629439</td>\n      <td>0.483682</td>\n      <td>-0.225463</td>\n      <td>-0.225896</td>\n      <td>-0.072971</td>\n    </tr>\n    <tr>\n      <th>percentage_uit_nederlandse_antillen_en_aruba</th>\n      <td>-0.075739</td>\n      <td>0.437642</td>\n      <td>-0.525986</td>\n      <td>0.432419</td>\n      <td>0.277675</td>\n      <td>0.278047</td>\n      <td>0.276960</td>\n      <td>-0.041641</td>\n      <td>0.179087</td>\n      <td>0.453428</td>\n      <td>...</td>\n      <td>0.295933</td>\n      <td>0.669653</td>\n      <td>0.380983</td>\n      <td>1.000000</td>\n      <td>0.630679</td>\n      <td>0.403751</td>\n      <td>0.573766</td>\n      <td>-0.271789</td>\n      <td>-0.271810</td>\n      <td>-0.094563</td>\n    </tr>\n    <tr>\n      <th>percentage_uit_suriname</th>\n      <td>-0.088202</td>\n      <td>0.465410</td>\n      <td>-0.474984</td>\n      <td>0.499810</td>\n      <td>0.336484</td>\n      <td>0.337335</td>\n      <td>0.335269</td>\n      <td>0.097526</td>\n      <td>0.092098</td>\n      <td>0.416919</td>\n      <td>...</td>\n      <td>0.268639</td>\n      <td>0.768739</td>\n      <td>0.480881</td>\n      <td>0.630679</td>\n      <td>1.000000</td>\n      <td>0.425504</td>\n      <td>0.605922</td>\n      <td>-0.231937</td>\n      <td>-0.234214</td>\n      <td>-0.050690</td>\n    </tr>\n    <tr>\n      <th>percentage_uit_turkije</th>\n      <td>-0.082041</td>\n      <td>0.422992</td>\n      <td>-0.485956</td>\n      <td>0.446741</td>\n      <td>0.269872</td>\n      <td>0.272144</td>\n      <td>0.267329</td>\n      <td>0.105938</td>\n      <td>0.073564</td>\n      <td>0.386745</td>\n      <td>...</td>\n      <td>0.224722</td>\n      <td>0.771151</td>\n      <td>0.629439</td>\n      <td>0.403751</td>\n      <td>0.425504</td>\n      <td>1.000000</td>\n      <td>0.469368</td>\n      <td>-0.226800</td>\n      <td>-0.226273</td>\n      <td>-0.086250</td>\n    </tr>\n    <tr>\n      <th>percentage_overige_nietwestersemigratieachtergrond</th>\n      <td>-0.081054</td>\n      <td>0.549286</td>\n      <td>-0.607347</td>\n      <td>0.502459</td>\n      <td>0.296800</td>\n      <td>0.297639</td>\n      <td>0.295609</td>\n      <td>0.016063</td>\n      <td>0.246233</td>\n      <td>0.566435</td>\n      <td>...</td>\n      <td>0.463250</td>\n      <td>0.847260</td>\n      <td>0.483682</td>\n      <td>0.573766</td>\n      <td>0.605922</td>\n      <td>0.469368</td>\n      <td>1.000000</td>\n      <td>-0.277473</td>\n      <td>-0.278113</td>\n      <td>-0.088368</td>\n    </tr>\n    <tr>\n      <th>oppervlakte_totaal_in_ha</th>\n      <td>0.034723</td>\n      <td>-0.299764</td>\n      <td>0.366246</td>\n      <td>-0.347801</td>\n      <td>0.095352</td>\n      <td>0.099862</td>\n      <td>0.090970</td>\n      <td>0.028914</td>\n      <td>-0.024738</td>\n      <td>-0.217860</td>\n      <td>...</td>\n      <td>-0.233261</td>\n      <td>-0.272932</td>\n      <td>-0.225463</td>\n      <td>-0.271789</td>\n      <td>-0.231937</td>\n      <td>-0.226800</td>\n      <td>-0.277473</td>\n      <td>1.000000</td>\n      <td>0.995535</td>\n      <td>0.378409</td>\n    </tr>\n    <tr>\n      <th>oppervlakte_land_in_ha</th>\n      <td>0.037470</td>\n      <td>-0.299491</td>\n      <td>0.366334</td>\n      <td>-0.345487</td>\n      <td>0.092851</td>\n      <td>0.097403</td>\n      <td>0.088429</td>\n      <td>0.029356</td>\n      <td>-0.023916</td>\n      <td>-0.217042</td>\n      <td>...</td>\n      <td>-0.232845</td>\n      <td>-0.273721</td>\n      <td>-0.225896</td>\n      <td>-0.271810</td>\n      <td>-0.234214</td>\n      <td>-0.226273</td>\n      <td>-0.278113</td>\n      <td>0.995535</td>\n      <td>1.000000</td>\n      <td>0.289350</td>\n    </tr>\n    <tr>\n      <th>oppervlakte_water_in_ha</th>\n      <td>-0.015284</td>\n      <td>-0.102858</td>\n      <td>0.121568</td>\n      <td>-0.147743</td>\n      <td>0.056532</td>\n      <td>0.057635</td>\n      <td>0.055456</td>\n      <td>0.004291</td>\n      <td>-0.018655</td>\n      <td>-0.084599</td>\n      <td>...</td>\n      <td>-0.084777</td>\n      <td>-0.083049</td>\n      <td>-0.072971</td>\n      <td>-0.094563</td>\n      <td>-0.050690</td>\n      <td>-0.086250</td>\n      <td>-0.088368</td>\n      <td>0.378409</td>\n      <td>0.289350</td>\n      <td>1.000000</td>\n    </tr>\n  </tbody>\n</table>\n<p>31 rows × 31 columns</p>\n</div>"
     },
     "metadata": {},
     "execution_count": 10
    }
   ],
   "source": [
    "import seaborn as sns\n",
    "correlatie = df_voorspelling.corr()\n",
    "correlatie\n"
   ]
  },
  {
   "cell_type": "code",
   "execution_count": null,
   "metadata": {},
   "outputs": [],
   "source": [
    "for x in correlatie:\n",
    "    "
   ]
  },
  {
   "cell_type": "markdown",
   "metadata": {},
   "source": [
    "## Uitslagen van correlatie\n",
    "\n",
    "- `"
   ]
  }
 ],
 "metadata": {
  "language_info": {
   "name": "python",
   "codemirror_mode": {
    "name": "ipython",
    "version": 3
   },
   "version": "3.7.7-final"
  },
  "orig_nbformat": 2,
  "file_extension": ".py",
  "mimetype": "text/x-python",
  "name": "python",
  "npconvert_exporter": "python",
  "pygments_lexer": "ipython3",
  "version": 3,
  "kernelspec": {
   "name": "python3",
   "display_name": "Python 3"
  }
 },
 "nbformat": 4,
 "nbformat_minor": 2
}