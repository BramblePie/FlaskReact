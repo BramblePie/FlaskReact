{
 "nbformat": 4,
 "nbformat_minor": 2,
 "metadata": {
  "language_info": {
   "name": "python",
   "codemirror_mode": {
    "name": "ipython",
    "version": 3
   },
   "version": "3.7.7-final"
  },
  "orig_nbformat": 2,
  "file_extension": ".py",
  "mimetype": "text/x-python",
  "name": "python",
  "npconvert_exporter": "python",
  "pygments_lexer": "ipython3",
  "version": 3,
  "kernelspec": {
   "name": "python3",
   "display_name": "Python 3"
  }
 },
 "cells": [
  {
   "cell_type": "code",
   "execution_count": 1,
   "metadata": {},
   "outputs": [
    {
     "output_type": "execute_result",
     "data": {
      "text/plain": "   x.type                                            x.value\n0     uri  http://bag.basisregistraties.overheid.nl/bag/i...\n1     uri  http://bag.basisregistraties.overheid.nl/bag/i...\n2     uri  http://bag.basisregistraties.overheid.nl/bag/i...\n3     uri  http://bag.basisregistraties.overheid.nl/bag/i...\n4     uri  http://bag.basisregistraties.overheid.nl/bag/i...\n..    ...                                                ...\n95    uri  http://bag.basisregistraties.overheid.nl/bag/i...\n96    uri  http://bag.basisregistraties.overheid.nl/bag/i...\n97    uri  http://bag.basisregistraties.overheid.nl/bag/i...\n98    uri  http://bag.basisregistraties.overheid.nl/bag/i...\n99    uri  http://bag.basisregistraties.overheid.nl/bag/i...\n\n[100 rows x 2 columns]",
      "text/html": "<div>\n<style scoped>\n    .dataframe tbody tr th:only-of-type {\n        vertical-align: middle;\n    }\n\n    .dataframe tbody tr th {\n        vertical-align: top;\n    }\n\n    .dataframe thead th {\n        text-align: right;\n    }\n</style>\n<table border=\"1\" class=\"dataframe\">\n  <thead>\n    <tr style=\"text-align: right;\">\n      <th></th>\n      <th>x.type</th>\n      <th>x.value</th>\n    </tr>\n  </thead>\n  <tbody>\n    <tr>\n      <th>0</th>\n      <td>uri</td>\n      <td>http://bag.basisregistraties.overheid.nl/bag/i...</td>\n    </tr>\n    <tr>\n      <th>1</th>\n      <td>uri</td>\n      <td>http://bag.basisregistraties.overheid.nl/bag/i...</td>\n    </tr>\n    <tr>\n      <th>2</th>\n      <td>uri</td>\n      <td>http://bag.basisregistraties.overheid.nl/bag/i...</td>\n    </tr>\n    <tr>\n      <th>3</th>\n      <td>uri</td>\n      <td>http://bag.basisregistraties.overheid.nl/bag/i...</td>\n    </tr>\n    <tr>\n      <th>4</th>\n      <td>uri</td>\n      <td>http://bag.basisregistraties.overheid.nl/bag/i...</td>\n    </tr>\n    <tr>\n      <th>...</th>\n      <td>...</td>\n      <td>...</td>\n    </tr>\n    <tr>\n      <th>95</th>\n      <td>uri</td>\n      <td>http://bag.basisregistraties.overheid.nl/bag/i...</td>\n    </tr>\n    <tr>\n      <th>96</th>\n      <td>uri</td>\n      <td>http://bag.basisregistraties.overheid.nl/bag/i...</td>\n    </tr>\n    <tr>\n      <th>97</th>\n      <td>uri</td>\n      <td>http://bag.basisregistraties.overheid.nl/bag/i...</td>\n    </tr>\n    <tr>\n      <th>98</th>\n      <td>uri</td>\n      <td>http://bag.basisregistraties.overheid.nl/bag/i...</td>\n    </tr>\n    <tr>\n      <th>99</th>\n      <td>uri</td>\n      <td>http://bag.basisregistraties.overheid.nl/bag/i...</td>\n    </tr>\n  </tbody>\n</table>\n<p>100 rows × 2 columns</p>\n</div>"
     },
     "metadata": {},
     "execution_count": 1
    }
   ],
   "source": [
    "\n",
    "import pandas as pd\n",
    "# from pandas.io.json import json_normalize\n",
    "from SPARQLWrapper import SPARQLWrapper, JSON\n",
    "\n",
    "def query_kadaster(sparql_query, sparql_service_url):\n",
    "    sparql = SPARQLWrapper(sparql_service_url, agent=\"Sparql Wrapper on Jupyter example\")  \n",
    "    sparql.setQuery(sparql_query)\n",
    "    sparql.setReturnFormat(JSON)\n",
    "    result = sparql.query().convert()\n",
    "    return pd.json_normalize(result[\"results\"][\"bindings\"])\n",
    "\n",
    "\n",
    "# !!!!!!-----voorbeeld van variabelen en input----!!!!!!!\n",
    "sparql_query = \"\"\"\n",
    "PREFIX bag: <http://bag.basisregistraties.overheid.nl/def/bag#>\n",
    "SELECT ?x WHERE {\n",
    " ?x a bag:Pand.\n",
    " ?x bag:oorspronkelijkBouwjaar ?bouwjaar.\n",
    " FILTER (?bouwjaar = 1923)\n",
    "}\n",
    "LIMIT 100\n",
    "\"\"\"\n",
    "sparql_service_url = \"https://data.pdok.nl/sparql\"\n",
    "\n",
    "data = query_kadaster(sparql_query, sparql_service_url)\n",
    "data"
   ]
  },
  {
   "cell_type": "code",
   "execution_count": 1,
   "metadata": {},
   "outputs": [
    {
     "output_type": "stream",
     "name": "stdout",
     "text": "test\n"
    }
   ],
   "source": []
  },
  {
   "cell_type": "code",
   "execution_count": null,
   "metadata": {},
   "outputs": [],
   "source": []
  }
 ]
}