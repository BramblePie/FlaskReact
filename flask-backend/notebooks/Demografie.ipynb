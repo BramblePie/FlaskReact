{
 "cells": [
  {
   "cell_type": "code",
   "execution_count": 1,
   "metadata": {},
   "outputs": [
    {
     "output_type": "stream",
     "name": "stderr",
     "text": "\nBad key \"text.kerning_factor\" on line 4 in\nC:\\githubdocs\\DS_Bram\\FlaskReact\\.env\\lib\\site-packages\\matplotlib\\mpl-data\\stylelib\\_classic_test_patch.mplstyle.\nYou probably need to get an updated matplotlibrc file from\nhttps://github.com/matplotlib/matplotlib/blob/v3.1.3/matplotlibrc.template\nor from the matplotlib source distribution\n"
    }
   ],
   "source": [
    "from Helper_functions import *\n",
    "import numpy as np \n",
    "gpdf_wijken = wfs_data(\"https://geodata.nationaalgeoregister.nl/wijkenbuurten2019/wfs\", \"wijkenbuurten2019:cbs_wijken_2019\")\n",
    "gpdf_gemeenten = wfs_data(\"https://geodata.nationaalgeoregister.nl/wijkenbuurten2019/wfs\", \"wijkenbuurten2019:gemeenten2019\")\n"
   ]
  },
  {
   "cell_type": "code",
   "execution_count": 2,
   "metadata": {},
   "outputs": [
    {
     "output_type": "stream",
     "name": "stdout",
     "text": "Index(['id', 'wijkcode', 'jrstatcode', 'wijknaam', 'gemeentecode',\n       'gemeentenaam', 'ind_wbi', 'water', 'omgevingsadressendichtheid',\n       'stedelijkheid_adressen_per_km2',\n       'bevolkingsdichtheid_inwoners_per_km2', 'aantal_inwoners', 'mannen',\n       'vrouwen', 'percentage_personen_0_tot_15_jaar',\n       'percentage_personen_15_tot_25_jaar',\n       'percentage_personen_25_tot_45_jaar',\n       'percentage_personen_65_jaar_en_ouder',\n       'percentage_personen_45_tot_65_jaar', 'percentage_ongehuwd',\n       'percentage_gehuwd', 'percentage_gescheid', 'percentage_verweduwd',\n       'aantal_huishoudens', 'percentage_eenpersoonshuishoudens',\n       'percentage_huishoudens_zonder_kinderen',\n       'percentage_huishoudens_met_kinderen', 'gemiddelde_huishoudsgrootte',\n       'percentage_westerse_migratieachtergrond',\n       'percentage_niet_westerse_migratieachtergrond',\n       'percentage_uit_marokko',\n       'percentage_uit_nederlandse_antillen_en_aruba',\n       'percentage_uit_suriname', 'percentage_uit_turkije',\n       'percentage_overige_nietwestersemigratieachtergrond',\n       'oppervlakte_totaal_in_ha', 'oppervlakte_land_in_ha',\n       'oppervlakte_water_in_ha', 'geometry'],\n      dtype='object')\nIndex(['id', 'gemeentecode', 'jrstatcode', 'gemeentenaam', 'water',\n       'omgevingsadressendichtheid', 'stedelijkheid_adressen_per_km2',\n       'bevolkingsdichtheid_inwoners_per_km2', 'aantal_inwoners', 'mannen',\n       'vrouwen', 'percentage_personen_0_tot_15_jaar',\n       'percentage_personen_15_tot_25_jaar',\n       'percentage_personen_25_tot_45_jaar',\n       'percentage_personen_65_jaar_en_ouder',\n       'percentage_personen_45_tot_65_jaar', 'percentage_ongehuwd',\n       'percentage_gehuwd', 'percentage_gescheid', 'percentage_verweduwd',\n       'aantal_huishoudens', 'percentage_eenpersoonshuishoudens',\n       'percentage_huishoudens_zonder_kinderen',\n       'percentage_huishoudens_met_kinderen', 'gemiddelde_huishoudsgrootte',\n       'percentage_westerse_migratieachtergrond',\n       'percentage_niet_westerse_migratieachtergrond',\n       'percentage_uit_marokko',\n       'percentage_uit_nederlandse_antillen_en_aruba',\n       'percentage_uit_suriname', 'percentage_uit_turkije',\n       'percentage_overige_nietwestersemigratieachtergrond',\n       'oppervlakte_totaal_in_ha', 'oppervlakte_land_in_ha',\n       'oppervlakte_water_in_ha', 'geometry'],\n      dtype='object')\n"
    }
   ],
   "source": [
    "print(gpdf_wijken.columns)\n",
    "print(gpdf_gemeenten.columns)"
   ]
  },
  {
   "cell_type": "markdown",
   "metadata": {},
   "source": [
    "# Data Understanding\n",
    "\n",
    " - `BU_CODE`          = Buurtcode\n",
    " - `JRSTATCODE`       = Jaar van de buurt gegegevens + buurtcode\n",
    " - `BU_NAAM`          = Buurtnaam van desbetreffende buurt\n",
    " - `WK_CODE`          = Wijkcode die is toegekend aan een wijk  \n",
    " - `WK_NAAM`          = Wijknaam die is toegekend aan een wijk\n",
    " - `GM_CODE`          = Gemeentecode die is toegekend aan een gemeente\n",
    " - `GM_NAAM`          = Gemeentenaam die is toegekend aan een gemeente\n",
    " - `IND_WBI`          = Indelingswijziging wijken en buurten; Deze indicator geeft per wijk en buurt aan of de cijfers uit deze tabel zonder problemen kunnen worden gekoppeld aan en vergeleken met de cijfers van een jaar eerder, of dat er wijzigingen in de Wijk- en Buurtindeling zijn waardoor dit niet kan. \n",
    " - `WATER`            = Een onderverdeling tussen land en grotere wateroppervlakten overeenkomend met het Bestand Bodemgebruik van het CBS. \n",
    " - `POSTCODE`         = Postcode van de wijk\n",
    " - `DEK_PERC`         = Dekkingspercentage van omgeving\n",
    " - `OAD`              = Omgevingsadressendichtheid; Het gemiddeld aantal adressen van een buurt, wijk of gemeente per vierkante kilometer binnen een cirkel met een straal van één kilometer op 1 januari van het betreffende jaar.\n",
    " - `STED`             = Stedelijkheid; Op grond van de omgevingsadressendichtheid is aan iedere buurt, wijk of gemeente een stedelijkheidsklasse toegekend.                       \n",
    " De volgende klassenindeling is gehanteerd:\n",
    "                       -  1. zeer sterk stedelijk ≥ 2 500 adressen per km2;\n",
    "                       -  2. sterk stedelijk 1 500–2 500 adressen per km2;\n",
    "                       -  3. matig stedelijk 1 000–1 500 adressen per km2;\n",
    "                       -  4. weinig stedelijk 500–1 000 adressen per km2;\n",
    "                       -  5. niet stedelijk < 500 adressen per km2.\n",
    " - `BEV_DICHTH`       = Bevolkingsdichtheid in desbetreffende wijk\n",
    " - `AANT_INW`         = Aantal inwoners in desbetreffende wijk\n",
    " - `AANT_MAN`         = Aantal mannen in desbetreffende wijk\n",
    " - `AANT_VROUW`       = Aantal vrouwen in desbetreffende wijk\n",
    " - `P_00_14_JR`       = Percentage inwoners van 0 t/m 14 jaar\n",
    " - `P_15_24_JR`       = Percentage inwoners van 15 t/m 24 jaar\n",
    " - `P_25_44_JR`       = Percentage inwoners van 25 t/m 64 jaar\n",
    " - `P_45_64_JR`       = Percentage inwoners van 45 t/m 64 jaar\n",
    " - `P_65_EO_JR`       = Percentage inwoners van 65 jaar en ouder\n",
    " - `P_ONGEHUWD`       = Percentage inwoners die ongehuwd is\n",
    " - `P_GEHUWD`         = Percentage inwoners die gehuwd is\n",
    " - `P_GESCHEID`       = Percentage inwoners die gescheiden is\n",
    " - `P_VERWEDUW`       = Percentage inwoners die verweduwed is\n",
    " - `AANTAL_HH`        = Het aantal particuliere huishoudens op 1 januari.\n",
    " - `P_EENP_HH`        = Eenpersoonshuishoudens; Het aantal huishoudens met één persoon, uitgedrukt in hele procenten van het totaal aantal particuliere huishoudens.\n",
    " - `P_HH_Z_K`         = Huishoudens zonder kinderen; Het aantal meerpersoonshuishoudens zonder kinderen uitgedrukt in hele procenten van het totaal aantal particuliere huishoudens\n",
    " - `P_HH_M_K`         = Huishoudens met kinderen; Het aantal meerpersoonshuishoudens met kinderen uitgedrukt in hele procenten van het totaal aantal particuliere huishoudens.\n",
    " - `GEM_HH_GR`        = Gemiddelde huishoudensgrootte;\n",
    "Het aantal in particuliere huishoudens levende personen gedeeld door het aantal particuliere huishoudens. \n",
    "\n",
    " - `P_WEST_AL`        = Westers totaal; Het aantal allochtonen met een westerse herkomst op 1 januari, uitgedrukt in hele procenten van het aantal inwoners. \n",
    " - `P_N_W_AL`         = Niet-westers totaal; Het aantal allochtonen met een niet-westerse herkomst op 1 januari, uitgedrukt in hele procenten van het aantal inwoners. \n",
    " - `P_MAROKKO`        = Marokko totaal uitgedrukt in procenten\n",
    " - `P_ANT_ARU`        = Nederlandse Antillen en Aruba; Het aandeel allochtonen met herkomstgroep van (voormalige) Nederlandse Antillen en Aruba op 1 januari, uitgedrukt in hele procenten van het aantal inwoners.\n",
    " - `P_SURINAM`        = Surinamers uitgedrukt in procenten\n",
    " - `P_TURKIJE`        = Turken uitgedrukt in procenten\n",
    " - `P_OVER_NW`        = Overig niet-westers; Het aandeel allochtonen met een overige niet-westerse herkomst op 1 januari, uitgedrukt in hele procenten van het aantal inwoners.\n",
    " - `OPP_TOT`          = Totale oppervlakte in ha\n",
    " - `OPP_LAND`         = Oppervlakte land in ha\n",
    " - `OPP_WATER`        = Oppervlakte water in ha\n",
    " - `geometry`         = afmetingen op aarde van desbetreffende omgeving\n",
    "\n",
    "\n",
    " -99999999 staat voor nullwaardes\n"
   ]
  },
  {
   "cell_type": "code",
   "execution_count": 3,
   "metadata": {},
   "outputs": [
    {
     "output_type": "stream",
     "name": "stdout",
     "text": "<class 'geopandas.geodataframe.GeoDataFrame'>\nRangeIndex: 3247 entries, 0 to 3246\nData columns (total 39 columns):\n #   Column                                              Non-Null Count  Dtype   \n---  ------                                              --------------  -----   \n 0   id                                                  3247 non-null   object  \n 1   wijkcode                                            3247 non-null   object  \n 2   jrstatcode                                          3247 non-null   object  \n 3   wijknaam                                            3247 non-null   object  \n 4   gemeentecode                                        3247 non-null   object  \n 5   gemeentenaam                                        3247 non-null   object  \n 6   ind_wbi                                             3247 non-null   int64   \n 7   water                                               3247 non-null   object  \n 8   omgevingsadressendichtheid                          3247 non-null   int64   \n 9   stedelijkheid_adressen_per_km2                      3247 non-null   int64   \n 10  bevolkingsdichtheid_inwoners_per_km2                3247 non-null   int64   \n 11  aantal_inwoners                                     3247 non-null   int64   \n 12  mannen                                              3247 non-null   int64   \n 13  vrouwen                                             3247 non-null   int64   \n 14  percentage_personen_0_tot_15_jaar                   3247 non-null   int64   \n 15  percentage_personen_15_tot_25_jaar                  3247 non-null   int64   \n 16  percentage_personen_25_tot_45_jaar                  3247 non-null   int64   \n 17  percentage_personen_65_jaar_en_ouder                3247 non-null   int64   \n 18  percentage_personen_45_tot_65_jaar                  3247 non-null   int64   \n 19  percentage_ongehuwd                                 3247 non-null   int64   \n 20  percentage_gehuwd                                   3247 non-null   int64   \n 21  percentage_gescheid                                 3247 non-null   int64   \n 22  percentage_verweduwd                                3247 non-null   int64   \n 23  aantal_huishoudens                                  3247 non-null   int64   \n 24  percentage_eenpersoonshuishoudens                   3247 non-null   int64   \n 25  percentage_huishoudens_zonder_kinderen              3247 non-null   int64   \n 26  percentage_huishoudens_met_kinderen                 3247 non-null   int64   \n 27  gemiddelde_huishoudsgrootte                         3247 non-null   float64 \n 28  percentage_westerse_migratieachtergrond             3247 non-null   int64   \n 29  percentage_niet_westerse_migratieachtergrond        3247 non-null   int64   \n 30  percentage_uit_marokko                              3247 non-null   int64   \n 31  percentage_uit_nederlandse_antillen_en_aruba        3247 non-null   int64   \n 32  percentage_uit_suriname                             3247 non-null   int64   \n 33  percentage_uit_turkije                              3247 non-null   int64   \n 34  percentage_overige_nietwestersemigratieachtergrond  3247 non-null   int64   \n 35  oppervlakte_totaal_in_ha                            3247 non-null   int64   \n 36  oppervlakte_land_in_ha                              3247 non-null   int64   \n 37  oppervlakte_water_in_ha                             3247 non-null   int64   \n 38  geometry                                            3247 non-null   geometry\ndtypes: float64(1), geometry(1), int64(30), object(7)\nmemory usage: 989.4+ KB\n"
    }
   ],
   "source": [
    "gpdf_wijken.info()"
   ]
  },
  {
   "cell_type": "code",
   "execution_count": 4,
   "metadata": {},
   "outputs": [
    {
     "output_type": "execute_result",
     "data": {
      "text/plain": "                        id  wijkcode    jrstatcode                   wijknaam  \\\n0        cbs_wijken_2019.0  WK000300  2019WK000300                    Wijk 00   \n1        cbs_wijken_2019.1  WK001001  2019WK001001                    Centrum   \n2      cbs_wijken_2019.115  WK009300  2019WK009300  Wijk 00 West-Terschelling   \n3     cbs_wijken_2019.1248  WK048911  2019WK048911            Wijk 11 Bijdorp   \n4        cbs_wijken_2019.2  WK001002  2019WK001002                       West   \n...                    ...       ...           ...                        ...   \n3242  cbs_wijken_2019.3229  WK169599  2019WK169599                Groot water   \n3243  cbs_wijken_2019.3230  WK170899  2019WK170899                Groot water   \n3244  cbs_wijken_2019.3231  WK170999  2019WK170999                Groot water   \n3245  cbs_wijken_2019.3245  WK196999  2019WK196999                Groot water   \n3246  cbs_wijken_2019.3246  WK197099  2019WK197099                Groot water   \n\n     gemeentecode       gemeentenaam  ind_wbi water  \\\n0          GM0003         Appingedam      1.0   NEE   \n1          GM0010           Delfzijl      3.0   NEE   \n2          GM0093       Terschelling      1.0   NEE   \n3          GM0489        Barendrecht      1.0   NEE   \n4          GM0010           Delfzijl      3.0   NEE   \n...           ...                ...      ...   ...   \n3242       GM1695     Noord-Beveland      NaN    JA   \n3243       GM1708    Steenwijkerland      NaN    JA   \n3244       GM1709           Moerdijk      NaN    JA   \n3245       GM1969     Westerkwartier      NaN    JA   \n3246       GM1970  Noardeast-Fryslân      NaN    JA   \n\n      omgevingsadressendichtheid  stedelijkheid_adressen_per_km2  ...  \\\n0                         1067.0                             3.0  ...   \n1                          963.0                             4.0  ...   \n2                          366.0                             5.0  ...   \n3                         1485.0                             3.0  ...   \n4                         1203.0                             3.0  ...   \n...                          ...                             ...  ...   \n3242                         NaN                             NaN  ...   \n3243                         NaN                             NaN  ...   \n3244                         NaN                             NaN  ...   \n3245                         NaN                             NaN  ...   \n3246                         NaN                             NaN  ...   \n\n      percentage_niet_westerse_migratieachtergrond  percentage_uit_marokko  \\\n0                                              7.0                     0.0   \n1                                             11.0                     0.0   \n2                                              2.0                     0.0   \n3                                              6.0                     0.0   \n4                                              4.0                     0.0   \n...                                            ...                     ...   \n3242                                           NaN                     NaN   \n3243                                           NaN                     NaN   \n3244                                           NaN                     NaN   \n3245                                           NaN                     NaN   \n3246                                           NaN                     NaN   \n\n      percentage_uit_nederlandse_antillen_en_aruba  percentage_uit_suriname  \\\n0                                              1.0                      1.0   \n1                                              4.0                      1.0   \n2                                              1.0                      0.0   \n3                                              1.0                      2.0   \n4                                              1.0                      1.0   \n...                                            ...                      ...   \n3242                                           NaN                      NaN   \n3243                                           NaN                      NaN   \n3244                                           NaN                      NaN   \n3245                                           NaN                      NaN   \n3246                                           NaN                      NaN   \n\n      percentage_uit_turkije  \\\n0                        2.0   \n1                        2.0   \n2                        0.0   \n3                        0.0   \n4                        1.0   \n...                      ...   \n3242                     NaN   \n3243                     NaN   \n3244                     NaN   \n3245                     NaN   \n3246                     NaN   \n\n      percentage_overige_nietwestersemigratieachtergrond  \\\n0                                                   3.0    \n1                                                   4.0    \n2                                                   1.0    \n3                                                   3.0    \n4                                                   1.0    \n...                                                 ...    \n3242                                                NaN    \n3243                                                NaN    \n3244                                                NaN    \n3245                                                NaN    \n3246                                                NaN    \n\n      oppervlakte_totaal_in_ha  oppervlakte_land_in_ha  \\\n0                       2458.0                  2378.0   \n1                         29.0                    27.0   \n2                       2527.0                  2494.0   \n3                         27.0                    27.0   \n4                        160.0                   152.0   \n...                        ...                     ...   \n3242                       NaN                     NaN   \n3243                       NaN                     NaN   \n3244                       NaN                     NaN   \n3245                       NaN                     NaN   \n3246                       NaN                     NaN   \n\n      oppervlakte_water_in_ha  \\\n0                        80.0   \n1                         1.0   \n2                        33.0   \n3                         0.0   \n4                         7.0   \n...                       ...   \n3242                      NaN   \n3243                      NaN   \n3244                      NaN   \n3245                      NaN   \n3246                      NaN   \n\n                                               geometry  \n0     MULTIPOLYGON (((249539.950 593217.579, 249543....  \n1     MULTIPOLYGON (((257630.571 595346.405, 257656....  \n2     MULTIPOLYGON (((145825.563 585437.698, 145847....  \n3     MULTIPOLYGON (((94985.520 430533.131, 95095.34...  \n4     MULTIPOLYGON (((257206.315 595051.433, 257206....  \n...                                                 ...  \n3242  MULTIPOLYGON (((49415.469 396102.892, 49412.45...  \n3243  MULTIPOLYGON (((197925.908 517291.947, 197906....  \n3244  MULTIPOLYGON (((86666.874 412087.271, 86666.97...  \n3245  MULTIPOLYGON (((215284.173 595049.928, 215280....  \n3246  MULTIPOLYGON (((201767.157 602623.271, 201763....  \n\n[3247 rows x 39 columns]",
      "text/html": "<div>\n<style scoped>\n    .dataframe tbody tr th:only-of-type {\n        vertical-align: middle;\n    }\n\n    .dataframe tbody tr th {\n        vertical-align: top;\n    }\n\n    .dataframe thead th {\n        text-align: right;\n    }\n</style>\n<table border=\"1\" class=\"dataframe\">\n  <thead>\n    <tr style=\"text-align: right;\">\n      <th></th>\n      <th>id</th>\n      <th>wijkcode</th>\n      <th>jrstatcode</th>\n      <th>wijknaam</th>\n      <th>gemeentecode</th>\n      <th>gemeentenaam</th>\n      <th>ind_wbi</th>\n      <th>water</th>\n      <th>omgevingsadressendichtheid</th>\n      <th>stedelijkheid_adressen_per_km2</th>\n      <th>...</th>\n      <th>percentage_niet_westerse_migratieachtergrond</th>\n      <th>percentage_uit_marokko</th>\n      <th>percentage_uit_nederlandse_antillen_en_aruba</th>\n      <th>percentage_uit_suriname</th>\n      <th>percentage_uit_turkije</th>\n      <th>percentage_overige_nietwestersemigratieachtergrond</th>\n      <th>oppervlakte_totaal_in_ha</th>\n      <th>oppervlakte_land_in_ha</th>\n      <th>oppervlakte_water_in_ha</th>\n      <th>geometry</th>\n    </tr>\n  </thead>\n  <tbody>\n    <tr>\n      <th>0</th>\n      <td>cbs_wijken_2019.0</td>\n      <td>WK000300</td>\n      <td>2019WK000300</td>\n      <td>Wijk 00</td>\n      <td>GM0003</td>\n      <td>Appingedam</td>\n      <td>1.0</td>\n      <td>NEE</td>\n      <td>1067.0</td>\n      <td>3.0</td>\n      <td>...</td>\n      <td>7.0</td>\n      <td>0.0</td>\n      <td>1.0</td>\n      <td>1.0</td>\n      <td>2.0</td>\n      <td>3.0</td>\n      <td>2458.0</td>\n      <td>2378.0</td>\n      <td>80.0</td>\n      <td>MULTIPOLYGON (((249539.950 593217.579, 249543....</td>\n    </tr>\n    <tr>\n      <th>1</th>\n      <td>cbs_wijken_2019.1</td>\n      <td>WK001001</td>\n      <td>2019WK001001</td>\n      <td>Centrum</td>\n      <td>GM0010</td>\n      <td>Delfzijl</td>\n      <td>3.0</td>\n      <td>NEE</td>\n      <td>963.0</td>\n      <td>4.0</td>\n      <td>...</td>\n      <td>11.0</td>\n      <td>0.0</td>\n      <td>4.0</td>\n      <td>1.0</td>\n      <td>2.0</td>\n      <td>4.0</td>\n      <td>29.0</td>\n      <td>27.0</td>\n      <td>1.0</td>\n      <td>MULTIPOLYGON (((257630.571 595346.405, 257656....</td>\n    </tr>\n    <tr>\n      <th>2</th>\n      <td>cbs_wijken_2019.115</td>\n      <td>WK009300</td>\n      <td>2019WK009300</td>\n      <td>Wijk 00 West-Terschelling</td>\n      <td>GM0093</td>\n      <td>Terschelling</td>\n      <td>1.0</td>\n      <td>NEE</td>\n      <td>366.0</td>\n      <td>5.0</td>\n      <td>...</td>\n      <td>2.0</td>\n      <td>0.0</td>\n      <td>1.0</td>\n      <td>0.0</td>\n      <td>0.0</td>\n      <td>1.0</td>\n      <td>2527.0</td>\n      <td>2494.0</td>\n      <td>33.0</td>\n      <td>MULTIPOLYGON (((145825.563 585437.698, 145847....</td>\n    </tr>\n    <tr>\n      <th>3</th>\n      <td>cbs_wijken_2019.1248</td>\n      <td>WK048911</td>\n      <td>2019WK048911</td>\n      <td>Wijk 11 Bijdorp</td>\n      <td>GM0489</td>\n      <td>Barendrecht</td>\n      <td>1.0</td>\n      <td>NEE</td>\n      <td>1485.0</td>\n      <td>3.0</td>\n      <td>...</td>\n      <td>6.0</td>\n      <td>0.0</td>\n      <td>1.0</td>\n      <td>2.0</td>\n      <td>0.0</td>\n      <td>3.0</td>\n      <td>27.0</td>\n      <td>27.0</td>\n      <td>0.0</td>\n      <td>MULTIPOLYGON (((94985.520 430533.131, 95095.34...</td>\n    </tr>\n    <tr>\n      <th>4</th>\n      <td>cbs_wijken_2019.2</td>\n      <td>WK001002</td>\n      <td>2019WK001002</td>\n      <td>West</td>\n      <td>GM0010</td>\n      <td>Delfzijl</td>\n      <td>3.0</td>\n      <td>NEE</td>\n      <td>1203.0</td>\n      <td>3.0</td>\n      <td>...</td>\n      <td>4.0</td>\n      <td>0.0</td>\n      <td>1.0</td>\n      <td>1.0</td>\n      <td>1.0</td>\n      <td>1.0</td>\n      <td>160.0</td>\n      <td>152.0</td>\n      <td>7.0</td>\n      <td>MULTIPOLYGON (((257206.315 595051.433, 257206....</td>\n    </tr>\n    <tr>\n      <th>...</th>\n      <td>...</td>\n      <td>...</td>\n      <td>...</td>\n      <td>...</td>\n      <td>...</td>\n      <td>...</td>\n      <td>...</td>\n      <td>...</td>\n      <td>...</td>\n      <td>...</td>\n      <td>...</td>\n      <td>...</td>\n      <td>...</td>\n      <td>...</td>\n      <td>...</td>\n      <td>...</td>\n      <td>...</td>\n      <td>...</td>\n      <td>...</td>\n      <td>...</td>\n      <td>...</td>\n    </tr>\n    <tr>\n      <th>3242</th>\n      <td>cbs_wijken_2019.3229</td>\n      <td>WK169599</td>\n      <td>2019WK169599</td>\n      <td>Groot water</td>\n      <td>GM1695</td>\n      <td>Noord-Beveland</td>\n      <td>NaN</td>\n      <td>JA</td>\n      <td>NaN</td>\n      <td>NaN</td>\n      <td>...</td>\n      <td>NaN</td>\n      <td>NaN</td>\n      <td>NaN</td>\n      <td>NaN</td>\n      <td>NaN</td>\n      <td>NaN</td>\n      <td>NaN</td>\n      <td>NaN</td>\n      <td>NaN</td>\n      <td>MULTIPOLYGON (((49415.469 396102.892, 49412.45...</td>\n    </tr>\n    <tr>\n      <th>3243</th>\n      <td>cbs_wijken_2019.3230</td>\n      <td>WK170899</td>\n      <td>2019WK170899</td>\n      <td>Groot water</td>\n      <td>GM1708</td>\n      <td>Steenwijkerland</td>\n      <td>NaN</td>\n      <td>JA</td>\n      <td>NaN</td>\n      <td>NaN</td>\n      <td>...</td>\n      <td>NaN</td>\n      <td>NaN</td>\n      <td>NaN</td>\n      <td>NaN</td>\n      <td>NaN</td>\n      <td>NaN</td>\n      <td>NaN</td>\n      <td>NaN</td>\n      <td>NaN</td>\n      <td>MULTIPOLYGON (((197925.908 517291.947, 197906....</td>\n    </tr>\n    <tr>\n      <th>3244</th>\n      <td>cbs_wijken_2019.3231</td>\n      <td>WK170999</td>\n      <td>2019WK170999</td>\n      <td>Groot water</td>\n      <td>GM1709</td>\n      <td>Moerdijk</td>\n      <td>NaN</td>\n      <td>JA</td>\n      <td>NaN</td>\n      <td>NaN</td>\n      <td>...</td>\n      <td>NaN</td>\n      <td>NaN</td>\n      <td>NaN</td>\n      <td>NaN</td>\n      <td>NaN</td>\n      <td>NaN</td>\n      <td>NaN</td>\n      <td>NaN</td>\n      <td>NaN</td>\n      <td>MULTIPOLYGON (((86666.874 412087.271, 86666.97...</td>\n    </tr>\n    <tr>\n      <th>3245</th>\n      <td>cbs_wijken_2019.3245</td>\n      <td>WK196999</td>\n      <td>2019WK196999</td>\n      <td>Groot water</td>\n      <td>GM1969</td>\n      <td>Westerkwartier</td>\n      <td>NaN</td>\n      <td>JA</td>\n      <td>NaN</td>\n      <td>NaN</td>\n      <td>...</td>\n      <td>NaN</td>\n      <td>NaN</td>\n      <td>NaN</td>\n      <td>NaN</td>\n      <td>NaN</td>\n      <td>NaN</td>\n      <td>NaN</td>\n      <td>NaN</td>\n      <td>NaN</td>\n      <td>MULTIPOLYGON (((215284.173 595049.928, 215280....</td>\n    </tr>\n    <tr>\n      <th>3246</th>\n      <td>cbs_wijken_2019.3246</td>\n      <td>WK197099</td>\n      <td>2019WK197099</td>\n      <td>Groot water</td>\n      <td>GM1970</td>\n      <td>Noardeast-Fryslân</td>\n      <td>NaN</td>\n      <td>JA</td>\n      <td>NaN</td>\n      <td>NaN</td>\n      <td>...</td>\n      <td>NaN</td>\n      <td>NaN</td>\n      <td>NaN</td>\n      <td>NaN</td>\n      <td>NaN</td>\n      <td>NaN</td>\n      <td>NaN</td>\n      <td>NaN</td>\n      <td>NaN</td>\n      <td>MULTIPOLYGON (((201767.157 602623.271, 201763....</td>\n    </tr>\n  </tbody>\n</table>\n<p>3247 rows × 39 columns</p>\n</div>"
     },
     "metadata": {},
     "execution_count": 4
    }
   ],
   "source": [
    "gpdf_wijken = gpdf_wijken.replace(-99999999, np.nan)\n",
    "gpdf_gemeenten = gpdf_gemeenten.replace(-99999999, np.nan)\n",
    "gpdf_wijken\n"
   ]
  },
  {
   "cell_type": "code",
   "execution_count": 5,
   "metadata": {},
   "outputs": [
    {
     "output_type": "execute_result",
     "data": {
      "text/plain": "count    3161.000000\nmean        3.698197\nstd         1.461757\nmin         1.000000\n25%         2.000000\n50%         4.000000\n75%         5.000000\nmax         5.000000\nName: stedelijkheid_adressen_per_km2, dtype: float64"
     },
     "metadata": {},
     "execution_count": 5
    }
   ],
   "source": [
    "test = gpdf_wijken['stedelijkheid_adressen_per_km2']\n",
    "test2 = gpdf_wijken['bevolkingsdichtheid_inwoners_per_km2']\n",
    "test.describe()\n",
    ""
   ]
  },
  {
   "cell_type": "markdown",
   "metadata": {},
   "source": [
    "Hieronder wordt er aan de hand van boolean values een selectie gemaakt in de data. Deze boolean values zijn representatief met user input van de front end. Voor nu wordt er nog geen rekening gehouden met classificatie. Er wordt echter wel een selecte gemaakt met daarin dat bijvoorbeeld kolom 'omgevingsadressendichtheid' en 'stedelijkheid_adressen_per_km2' betrekking hebben tot stedelijkheid. Met deze data wordt er één extra kolom gemaakt met daarbin de normalisatie waarde. \n",
    "Deze normalisatie waarde wordt later dan weer gebruikt om een weging te kunnen maken voor de user input. \n",
    "Hieronder een overzicht met welke kolommen worden meegenomen bij de user input en dus de normalisatie:\n",
    "\n",
    "- `Stedelijkheid` worden de kolommen omgevingsadressendichtheid, stedelijkheid_adressen_per_km2 meegenomen\n",
    "- `water` wordt de kolom oppervlakte_water_in_ha meegenomen\n",
    "- `mensen` worden de kolommen aantal_inwoners, bevolkingsdichtheid_inwoners_per_km2, aantal_huishoudens meegenomen \n",
    "- `kinderen` worden de kolommen aantal_inwoners, percentage_personen_0_tot_15_jaar meegenomen\n",
    "- `senioren` worden de kolommen aantal_inwoners, percentage_persoon_65_jaar_en_ouder meegenomen \n"
   ]
  },
  {
   "cell_type": "code",
   "execution_count": null,
   "metadata": {},
   "outputs": [],
   "source": [
    "from sklearn import preprocessing\n",
    "gpdf_wijken_backup = gpdf_wijken\n",
    "\n",
    "stedelijkheid = True\n",
    "water = True\n",
    "mensen = True \n",
    "kinderen = True \n",
    "senioren = True\n",
    "\n",
    "if stedelijkheid == True:\n",
    "    # Normalisatie waarde aanmaken voor 'omgevingsadressendichtheid'\n",
    "    x = gpdf_wijken[['omgevingsadressendichtheid']]\n",
    "    min_max_scaler = preprocessing.MinMaxScaler()\n",
    "    x_scaled = min_max_scaler.fit_transform(x)\n",
    "    gpdf_wijken['omgevingsadressendichtheid_genormaliseerd'] = pd.DataFrame(x_scaled)\n",
    "\n",
    "    # Normalisatie waarde aanmaken voor stedelijkheid_adressen_per_km2\n",
    "    x = gpdf_wijken[['stedelijkheid_adressen_per_km2']]\n",
    "    min_max_scaler = preprocessing.MinMaxScaler()\n",
    "    x_scaled = min_max_scaler.fit_transform(x)\n",
    "    gpdf_wijken['stedelijkheid_adressen_per_km2_genormaliseerd'] = pd.DataFrame(x_scaled)\n",
    "\n",
    "    # Maken van vertaling naar één normalisatie waarde in een kolom 'stedelijkheid_normalisatie_waarde'\n",
    "    gpdf_wijken['stedelijkheid_normalisatie_waarde'] = gpdf_wijken['omgevingsadressendichtheid_genormaliseerd'] + gpdf_wijken['stedelijkheid_adressen_per_km2_genormaliseerd']\n",
    "\n",
    "    # Verwijderen van overbodige kolommen\n",
    "    gpdf_wijken.drop(columns=['omgevingsadressendichtheid_genormaliseerd','stedelijkheid_adressen_per_km2_genormaliseerd'], axis=1, inplace=True)\n",
    "\n",
    "if mensen == True:\n",
    "    # Normalisatie waarde aanmaken voor 'omgevingsadressendichtheid'\n",
    "    x = gpdf_wijken[['aantal_inwoners']]\n",
    "    min_max_scaler = preprocessing.MinMaxScaler()\n",
    "    x_scaled = min_max_scaler.fit_transform(x)\n",
    "    gpdf_wijken['aantal_inwoners_genormaliseerd'] = pd.DataFrame(x_scaled)\n",
    "    \n",
    "    # Normalisatie waarde aanmaken voor stedelijkheid_adressen_per_km2\n",
    "    x = gpdf_wijken[['bevolkingsdichtheid_inwoners_per_km2']]\n",
    "    min_max_scaler = preprocessing.MinMaxScaler()\n",
    "    x_scaled = min_max_scaler.fit_transform(x)\n",
    "    gpdf_wijken['bevolkingsdichtheid_inwoners_per_km2_genormaliseerd'] = pd.DataFrame(x_scaled)\n",
    "\n",
    "    # Maken van vertaling naar één normalisatie waarde in een kolom 'stedelijkheid_normalisatie_waarde'\n",
    "    gpdf_wijken['mensen_normalisatie_waarde'] = gpdf_wijken['aantal_inwoners_genormaliseerd'] + gpdf_wijken['bevolkingsdichtheid_inwoners_per_km2_genormaliseerd']\n",
    "\n",
    "    # Verwijderen van overbodige kolommen\n",
    "    gpdf_wijken.drop(columns=['aantal_inwoners_genormaliseerd','bevolkingsdichtheid_inwoners_per_km2_genormaliseerd'], axis=1, inplace=True)\n",
    "\n",
    "\n",
    "if kinderen == True:\n",
    "    # Normalisatie waarde aanmaken voor 'omgevingsadressendichtheid'\n",
    "    x = gpdf_wijken[['aantal_inwoners']]\n",
    "    min_max_scaler = preprocessing.MinMaxScaler()\n",
    "    x_scaled = min_max_scaler.fit_transform(x)\n",
    "\n",
    "    gpdf_wijken['kinderen_berekening'] = gpdf_wijken['percentage_personen_0_tot_15_jaar'] / 100\n",
    "    gpdf_wijken['aantal_kinderen_in_wijk'].apply(np.floor) = gpdf_wijken['aantal_inwoners'] * gpdf_wijken['kinderen_berekening']\n",
    "   \n",
    "\n",
    "    #Normaliseren nog doen!\n",
    "    gpdf_wijken.drop(columns=['kinderen_berekening'], axis=1, inplace=True)\n",
    "\n",
    "if senioren == True:\n",
    "    # Normalisatie waarde aanmaken voor 'omgevingsadressendichtheid'\n",
    "    x = gpdf_wijken[['aantal_inwoners']]\n",
    "    min_max_scaler = preprocessing.MinMaxScaler()\n",
    "    x_scaled = min_max_scaler.fit_transform(x)\n",
    "    gpdf_wijken['aantal_inwoners_genormaliseerd'] = pd.DataFrame(x_scaled)\n",
    "\n",
    "    # Normalisatie waarde aanmaken voor stedelijkheid_adressen_per_km2\n",
    "    x = gpdf_wijken[['percentage_personen_65_jaar_en_ouder']]\n",
    "    min_max_scaler = preprocessing.MinMaxScaler()\n",
    "    x_scaled = min_max_scaler.fit_transform(x)\n",
    "    gpdf_wijken['percentage_personen_65_jaar_en_ouder_genormaliseerd'] = pd.DataFrame(x_scaled)\n",
    "\n",
    "    # Maken van vertaling naar één normalisatie waarde in een kolom 'stedelijkheid_normalisatie_waarde'\n",
    "    gpdf_wijken['senioren_normalisatie_waarde'] = gpdf_wijken['aantal_inwoners_genormaliseerd'] + gpdf_wijken['percentage_personen_65_jaar_en_ouder_genormaliseerd']\n",
    "\n",
    "    # Verwijderen van overbodige kolommen\n",
    "    gpdf_wijken.drop(columns=['aantal_inwoners_genormaliseerd','percentage_personen_65_jaar_en_ouder_genormaliseerd'], axis=1, inplace=True)\n",
    "\n",
    "if water == True:\n",
    "    # Normalisatie waarde aanmaken voor 'omgevingsadressendichtheid'\n",
    "    x = gpdf_wijken[['oppervlakte_water_in_ha']]\n",
    "    min_max_scaler = preprocessing.MinMaxScaler()\n",
    "    x_scaled = min_max_scaler.fit_transform(x)\n",
    "    gpdf_wijken['oppervlakte_water_in_ha_genormaliseerd'] = pd.DataFrame(x_scaled)\n",
    "\n",
    "\n",
    "gpdf_wijken"
   ]
  },
  {
   "cell_type": "code",
   "execution_count": 6,
   "metadata": {},
   "outputs": [],
   "source": [
    "from sklearn import preprocessing\n",
    "Stedelijkheid = True\n",
    "Water = True\n",
    "mensen = True \n",
    "kinderen = True \n",
    "\n",
    "\n",
    "\n",
    "\n",
    "\n",
    "# >>> X = [[4, 1, 2, 2],\n",
    "# ...      [1, 3, 9, 3],\n",
    "# ...      [5, 7, 5, 1]]\n",
    "# >>> transformer = Normalizer().fit(X)  # fit does nothing.\n",
    "# >>> transformer\n",
    "# Normalizer()\n",
    "# >>> transformer.transform(X)\n",
    "# array([[0.8, 0.2, 0.4, 0.4],\n",
    "#        [0.1, 0.3, 0.9, 0.3],\n",
    "#        [0.5, 0.7, 0.5, 0.1]])\n"
   ]
  },
  {
   "cell_type": "code",
   "execution_count": 7,
   "metadata": {},
   "outputs": [],
   "source": [
    "# >>> X = [[ 1., -1.,  2.],\n",
    "# ...      [ 2.,  0.,  0.],\n",
    "# ...      [ 0.,  1., -1.]]\n",
    "# >>> X_normalized = preprocessing.normalize(X, norm='l2')\n",
    "\n",
    "# >>> X_normalized\n",
    "# array([[ 0.40..., -0.40...,  0.81...],\n",
    "#       [ 1.  ...,  0.  ...,  0.  ...],\n",
    "#       [ 0.  ...,  0.70..., -0.70...]])\n",
    "\n",
    "# (df['col']-df['col'].min())/(df['col'].max()-df['col'].min())\n",
    "\n",
    "Water_normaliseerd = (gpdf_wijken['oppervlakte_water_in_ha']-gpdf_wijken['oppervlakte_water_in_ha'].min())/(gpdf_wijken['oppervlakte_water_in_ha'].max()-gpdf_wijken['oppervlakte_water_in_ha'].min())"
   ]
  },
  {
   "cell_type": "code",
   "execution_count": 80,
   "metadata": {},
   "outputs": [],
   "source": [
    "# data2 = data_veiligheid_incl_provincie\n",
    " \n",
    "# # Create x, where x the 'scores' column's values as floats\n",
    "# x = data2[['Aantal_misdrijven']].values.astype(float)\n",
    " \n",
    "# # Create a minimum and maximum processor object\n",
    "# min_max_scaler = preprocessing.MinMaxScaler()\n",
    " \n",
    "# # Create an object to transform the data to fit minmax processor\n",
    "# x_scaled = min_max_scaler.fit_transform(x)\n",
    " \n",
    "# # Run the normalizer on the dataframe\n",
    "# data_veiligheid_incl_provincie['Aantal_misdrijven_genormaliseerd'] = pd.DataFrame(x_scaled)\n",
    "# # View the dataframe\n",
    "# data_veiligheid_incl_provincie\n",
    "\n",
    "np.set_printoptions()\n",
    "\n",
    "min_max_scaler = preprocessing.MinMaxScaler()\n",
    "\n",
    "gpdf_wijken_waterminmax = min_max_scaler.fit_transform(gpdf_wijken[[\"oppervlakte_water_in_ha\"]])\n",
    "gpdf_wijken[\"water_normalisatie\"] = gpdf_wijken_waterminmax"
   ]
  },
  {
   "cell_type": "code",
   "execution_count": 12,
   "metadata": {},
   "outputs": [
    {
     "output_type": "execute_result",
     "data": {
      "text/plain": "count    3164.000000\nmean        0.009206\nstd         0.029844\nmin         0.000000\n25%         0.000415\n50%         0.002281\n75%         0.007879\nmax         1.000000\nName: water_normalisatie, dtype: float64"
     },
     "metadata": {},
     "execution_count": 12
    }
   ],
   "source": [
    "gpdf_wijken[\"water_normalisatie\"].describe()"
   ]
  },
  {
   "cell_type": "code",
   "execution_count": 84,
   "metadata": {
    "tags": [
     "outputPrepend",
     "outputPrepend",
     "outputPrepend",
     "outputPrepend",
     "outputPrepend"
    ]
   },
   "outputs": [],
   "source": [
    "# p25 = data['woz_normalisatie'].quantile(q=0.25)\n",
    "# p50 = data['woz_normalisatie'].quantile(q=0.50)\n",
    "# p75 = data['woz_normalisatie'].quantile(q=0.75)\n",
    "# p100 = data['woz_normalisatie'].quantile(q=1)\n",
    "# m1 = data[\"woz_normalisatie\"] < p25\n",
    "# m2 = np.logical_and(data[\"woz_normalisatie\"] > p25,data[\"woz_normalisatie\"] < p50)\n",
    "# m3 = np.logical_and(data[\"woz_normalisatie\"] > p50,data[\"woz_normalisatie\"] < p75)\n",
    "# m4 = data[\"woz_normalisatie\"] > p75\n",
    "# data['klasse_woz'] = np.select([m1,m2,m3,m4], ['Laag','Middel','Middel-Hoog','Hoog'], default='none')\n",
    "\n",
    "# Klasse geven aan water_normalisatie\n",
    "water_25 = gpdf_wijken[\"water_normalisatie\"].quantile(q=.25)\n",
    "water_50 = gpdf_wijken[\"water_normalisatie\"].quantile(q=.5)\n",
    "water_75 = gpdf_wijken[\"water_normalisatie\"].quantile(q=.75)\n",
    "\n",
    "# Gebruik de aantallen die bij vg_data.describe() staan\n",
    "m1 = gpdf_wijken[\"water_normalisatie\"] < water_25\n",
    "m2 = np.logical_and(gpdf_wijken[\"water_normalisatie\"] >  water_25, gpdf_wijken[\"water_normalisatie\"] < water_50)\n",
    "m3 = np.logical_and(gpdf_wijken[\"water_normalisatie\"] >  water_50, gpdf_wijken[\"water_normalisatie\"] < water_75)\n",
    "m4 = gpdf_wijken[\"water_normalisatie\"] > water_75\n",
    "\n",
    "gpdf_wijken['klasse_oppervlaktewater'] = np.select([m1,m2,m3,m4], ['Laag','Middel','Middel-Hoog','Hoog'], default='Geen')"
   ]
  },
  {
   "cell_type": "code",
   "execution_count": 85,
   "metadata": {},
   "outputs": [
    {
     "output_type": "execute_result",
     "data": {
      "text/plain": "      water_normalisatie klasse_oppervlaktewater\n0               0.016587                    Hoog\n1               0.000207                    Laag\n2               0.006842             Middel-Hoog\n3               0.000000                    Laag\n4               0.001451                  Middel\n...                  ...                     ...\n3242                 NaN                    Geen\n3243                 NaN                    Geen\n3244                 NaN                    Geen\n3245                 NaN                    Geen\n3246                 NaN                    Geen\n\n[3247 rows x 2 columns]",
      "text/html": "<div>\n<style scoped>\n    .dataframe tbody tr th:only-of-type {\n        vertical-align: middle;\n    }\n\n    .dataframe tbody tr th {\n        vertical-align: top;\n    }\n\n    .dataframe thead th {\n        text-align: right;\n    }\n</style>\n<table border=\"1\" class=\"dataframe\">\n  <thead>\n    <tr style=\"text-align: right;\">\n      <th></th>\n      <th>water_normalisatie</th>\n      <th>klasse_oppervlaktewater</th>\n    </tr>\n  </thead>\n  <tbody>\n    <tr>\n      <th>0</th>\n      <td>0.016587</td>\n      <td>Hoog</td>\n    </tr>\n    <tr>\n      <th>1</th>\n      <td>0.000207</td>\n      <td>Laag</td>\n    </tr>\n    <tr>\n      <th>2</th>\n      <td>0.006842</td>\n      <td>Middel-Hoog</td>\n    </tr>\n    <tr>\n      <th>3</th>\n      <td>0.000000</td>\n      <td>Laag</td>\n    </tr>\n    <tr>\n      <th>4</th>\n      <td>0.001451</td>\n      <td>Middel</td>\n    </tr>\n    <tr>\n      <th>...</th>\n      <td>...</td>\n      <td>...</td>\n    </tr>\n    <tr>\n      <th>3242</th>\n      <td>NaN</td>\n      <td>Geen</td>\n    </tr>\n    <tr>\n      <th>3243</th>\n      <td>NaN</td>\n      <td>Geen</td>\n    </tr>\n    <tr>\n      <th>3244</th>\n      <td>NaN</td>\n      <td>Geen</td>\n    </tr>\n    <tr>\n      <th>3245</th>\n      <td>NaN</td>\n      <td>Geen</td>\n    </tr>\n    <tr>\n      <th>3246</th>\n      <td>NaN</td>\n      <td>Geen</td>\n    </tr>\n  </tbody>\n</table>\n<p>3247 rows × 2 columns</p>\n</div>"
     },
     "metadata": {},
     "execution_count": 85
    }
   ],
   "source": [
    "gpdf_wijken[[\"water_normalisatie\", \"klasse_oppervlaktewater\"]]"
   ]
  }
 ],
 "metadata": {
  "language_info": {
   "name": "python",
   "codemirror_mode": {
    "name": "ipython",
    "version": 3
   },
   "version": "3.8.2-final"
  },
  "orig_nbformat": 2,
  "file_extension": ".py",
  "mimetype": "text/x-python",
  "name": "python",
  "npconvert_exporter": "python",
  "pygments_lexer": "ipython3",
  "version": 3,
  "kernelspec": {
   "name": "python38264bitcondaca271fd294a54879a76f70a69c838a05",
   "display_name": "Python 3.8.2 64-bit (conda)"
  }
 },
 "nbformat": 4,
 "nbformat_minor": 2
}