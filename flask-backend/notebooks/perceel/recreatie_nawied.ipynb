{
 "nbformat": 4,
 "nbformat_minor": 2,
 "metadata": {
  "language_info": {
   "name": "python",
   "codemirror_mode": {
    "name": "ipython",
    "version": 3
   },
   "version": "3.8.2-final"
  },
  "orig_nbformat": 2,
  "file_extension": ".py",
  "mimetype": "text/x-python",
  "name": "python",
  "npconvert_exporter": "python",
  "pygments_lexer": "ipython3",
  "version": 3,
  "kernelspec": {
   "name": "python38264bitenvcondaf96fe45400d245478aa42fe86c9a5622",
   "display_name": "Python 3.8.2 64-bit ('.env': conda)"
  }
 },
 "cells": [
  {
   "cell_type": "markdown",
   "metadata": {},
   "source": [
    "# Data Understanding"
   ]
  },
  {
   "cell_type": "markdown",
   "metadata": {},
   "source": [
    "De zip bestand bestaat in totaal uit 42 kolommen en 13689 rijen aan data.\n",
    "\n",
    " - `BU_CODE`          = Buurtcode\n",
    "\n",
    "\n",
    "\n"
   ]
  },
  {
   "cell_type": "markdown",
   "metadata": {},
   "source": [
    "## Beschrijven van de data\n",
    "\n",
    "Hieronder wordt de data beschreven. Dit wordt telkens door een stukje code gedaan, met comments erbij."
   ]
  },
  {
   "cell_type": "code",
   "execution_count": 4,
   "metadata": {},
   "outputs": [],
   "source": [
    "#importeren van de benodigde packages\n",
    "import pandas as pd\n",
    "import geopandas as gpd"
   ]
  },
  {
   "cell_type": "code",
   "execution_count": 5,
   "metadata": {},
   "outputs": [
    {
     "output_type": "stream",
     "name": "stdout",
     "text": "Loading zip://../../../raw-data/CBS_PC4_2015_v2.zip...\nLoaded zip://../../../raw-data/CBS_PC4_2015_v2.zip\n"
    }
   ],
   "source": [
    "#laden van de dataset\n",
    "zipfile = \"zip://../../../raw-data/CBS_PC4_2015_v2.zip\"\n",
    "print(f\"Loading {zipfile}...\")\n",
    "data_recreatie = gpd.read_file(zipfile)\n",
    "print(f\"Loaded {zipfile}\")"
   ]
  },
  {
   "cell_type": "code",
   "execution_count": 6,
   "metadata": {},
   "outputs": [
    {
     "output_type": "execute_result",
     "data": {
      "text/plain": "      postcode  aantal_inwoners  aantal_mannen  aantal_vrouwen  \\\n0         1011             9535           4975            4555   \n1         1012             8440           4590            3855   \n2         1013            21635          10740           10895   \n3         1014              535            330             205   \n4         1015            14870           7495            7375   \n...        ...              ...            ...             ...   \n4048      9995              725            375             350   \n4049      9996               80             50              35   \n4050      9997              630            335             300   \n4051      9998              180             95              85   \n4052      9999              100             50              50   \n\n      aantal_inwoners_0_tot_15_jaar  aantal_inwoners_15_tot_25_jaar  \\\n0                               805                            1195   \n1                               485                            1365   \n2                              2670                            2585   \n3                                30                              65   \n4                              1455                            1545   \n...                             ...                             ...   \n4048                            155                              90   \n4049                             15                               5   \n4050                            110                              75   \n4051                             40                              20   \n4052                             10                              15   \n\n      aantal_inwoners_25_tot_45_jaar  aantal_inwoners_45_tot_65_jaar  \\\n0                               3210                            2960   \n1                               4150                            1790   \n2                               7800                            6065   \n3                                335                              80   \n4                               5340                            4375   \n...                              ...                             ...   \n4048                             170                             205   \n4049                              15                              25   \n4050                             140                             205   \n4051                              35                              60   \n4052                              10                              45   \n\n      aantal_inwoners_65_jaar_en_ouder  aantal_part_huishoudens  ...  \\\n0                                 1365                     6330  ...   \n1                                  650                     6015  ...   \n2                                 2515                    13180  ...   \n3                                   25                      285  ...   \n4                                 2155                     9910  ...   \n...                                ...                      ...  ...   \n4048                               105                      290  ...   \n4049                                20                       35  ...   \n4050                               100                      260  ...   \n4051                                25                       70  ...   \n4052                                20                       40  ...   \n\n      zonnebank_gemiddelde_afstand_in_km  \\\n0                                    1.2   \n1                                    0.6   \n2                                    0.8   \n3                                    1.3   \n4                                    0.5   \n...                                  ...   \n4048                                19.4   \n4049                                21.7   \n4050                                23.1   \n4051                                20.9   \n4052                                17.4   \n\n      attractiepark_gemiddelde_afstand_in_km  \\\n0                                        1.1   \n1                                        1.8   \n2                                        3.7   \n3                                        5.9   \n4                                        3.0   \n...                                      ...   \n4048                                    17.7   \n4049                                    20.5   \n4050                                    21.9   \n4051                                    19.1   \n4052                                    15.7   \n\n      attractiepark_aantal_binnen_10_km  attractiepark_aantal_binnen_20_km  \\\n0                                   4.0                                8.0   \n1                                   4.0                                8.1   \n2                                   3.7                                8.1   \n3                                   3.9                                9.5   \n4                                   3.8                                7.8   \n...                                 ...                                ...   \n4048                                0.0                                1.0   \n4049                                0.0                                0.0   \n4050                                0.0                                0.0   \n4051                                0.0                                0.8   \n4052                                0.0                                2.6   \n\n      attractiepark_aantal_binnen_50_km  \\\n0                                  46.0   \n1                                  45.6   \n2                                  46.8   \n3                                  45.2   \n4                                  46.8   \n...                                 ...   \n4048                               11.8   \n4049                                9.2   \n4050                                8.0   \n4051                                9.9   \n4052                               13.7   \n\n      brandweerkazerne_gemiddelde_afstand_in_km  omgevingsadressendichtheid  \\\n0                                           0.7                        6965   \n1                                           1.3                        8400   \n2                                           2.0                        6207   \n3                                           1.6                        2557   \n4                                           1.0                       10936   \n...                                         ...                         ...   \n4048                                        3.1                          91   \n4049                                        5.5                          18   \n4050                                        4.5                          87   \n4051                                        4.9                          17   \n4052                                        6.1                          24   \n\n      stedelijkheid  ms_fid                                           geometry  \n0                 1       1  MULTIPOLYGON (((122246.232 487910.177, 122259....  \n1                 1       2  MULTIPOLYGON (((121933.366 488300.039, 121990....  \n2                 1       3  MULTIPOLYGON (((120142.497 493416.929, 120162....  \n3                 1       4  MULTIPOLYGON (((120418.653 489749.819, 120405....  \n4                 1       5  MULTIPOLYGON (((120665.642 488535.500, 120668....  \n...             ...     ...                                                ...  \n4048              5    4049  MULTIPOLYGON (((239939.989 600081.617, 239953....  \n4049              5    4050  MULTIPOLYGON (((242620.211 600841.827, 242626....  \n4050              5    4051  MULTIPOLYGON (((240755.585 602191.415, 240752....  \n4051              5    4052  MULTIPOLYGON (((237960.007 602041.398, 237962....  \n4052              5    4053  MULTIPOLYGON (((204514.846 380659.652, 204645....  \n\n[4053 rows x 133 columns]",
      "text/html": "<div>\n<style scoped>\n    .dataframe tbody tr th:only-of-type {\n        vertical-align: middle;\n    }\n\n    .dataframe tbody tr th {\n        vertical-align: top;\n    }\n\n    .dataframe thead th {\n        text-align: right;\n    }\n</style>\n<table border=\"1\" class=\"dataframe\">\n  <thead>\n    <tr style=\"text-align: right;\">\n      <th></th>\n      <th>postcode</th>\n      <th>aantal_inwoners</th>\n      <th>aantal_mannen</th>\n      <th>aantal_vrouwen</th>\n      <th>aantal_inwoners_0_tot_15_jaar</th>\n      <th>aantal_inwoners_15_tot_25_jaar</th>\n      <th>aantal_inwoners_25_tot_45_jaar</th>\n      <th>aantal_inwoners_45_tot_65_jaar</th>\n      <th>aantal_inwoners_65_jaar_en_ouder</th>\n      <th>aantal_part_huishoudens</th>\n      <th>...</th>\n      <th>zonnebank_gemiddelde_afstand_in_km</th>\n      <th>attractiepark_gemiddelde_afstand_in_km</th>\n      <th>attractiepark_aantal_binnen_10_km</th>\n      <th>attractiepark_aantal_binnen_20_km</th>\n      <th>attractiepark_aantal_binnen_50_km</th>\n      <th>brandweerkazerne_gemiddelde_afstand_in_km</th>\n      <th>omgevingsadressendichtheid</th>\n      <th>stedelijkheid</th>\n      <th>ms_fid</th>\n      <th>geometry</th>\n    </tr>\n  </thead>\n  <tbody>\n    <tr>\n      <th>0</th>\n      <td>1011</td>\n      <td>9535</td>\n      <td>4975</td>\n      <td>4555</td>\n      <td>805</td>\n      <td>1195</td>\n      <td>3210</td>\n      <td>2960</td>\n      <td>1365</td>\n      <td>6330</td>\n      <td>...</td>\n      <td>1.2</td>\n      <td>1.1</td>\n      <td>4.0</td>\n      <td>8.0</td>\n      <td>46.0</td>\n      <td>0.7</td>\n      <td>6965</td>\n      <td>1</td>\n      <td>1</td>\n      <td>MULTIPOLYGON (((122246.232 487910.177, 122259....</td>\n    </tr>\n    <tr>\n      <th>1</th>\n      <td>1012</td>\n      <td>8440</td>\n      <td>4590</td>\n      <td>3855</td>\n      <td>485</td>\n      <td>1365</td>\n      <td>4150</td>\n      <td>1790</td>\n      <td>650</td>\n      <td>6015</td>\n      <td>...</td>\n      <td>0.6</td>\n      <td>1.8</td>\n      <td>4.0</td>\n      <td>8.1</td>\n      <td>45.6</td>\n      <td>1.3</td>\n      <td>8400</td>\n      <td>1</td>\n      <td>2</td>\n      <td>MULTIPOLYGON (((121933.366 488300.039, 121990....</td>\n    </tr>\n    <tr>\n      <th>2</th>\n      <td>1013</td>\n      <td>21635</td>\n      <td>10740</td>\n      <td>10895</td>\n      <td>2670</td>\n      <td>2585</td>\n      <td>7800</td>\n      <td>6065</td>\n      <td>2515</td>\n      <td>13180</td>\n      <td>...</td>\n      <td>0.8</td>\n      <td>3.7</td>\n      <td>3.7</td>\n      <td>8.1</td>\n      <td>46.8</td>\n      <td>2.0</td>\n      <td>6207</td>\n      <td>1</td>\n      <td>3</td>\n      <td>MULTIPOLYGON (((120142.497 493416.929, 120162....</td>\n    </tr>\n    <tr>\n      <th>3</th>\n      <td>1014</td>\n      <td>535</td>\n      <td>330</td>\n      <td>205</td>\n      <td>30</td>\n      <td>65</td>\n      <td>335</td>\n      <td>80</td>\n      <td>25</td>\n      <td>285</td>\n      <td>...</td>\n      <td>1.3</td>\n      <td>5.9</td>\n      <td>3.9</td>\n      <td>9.5</td>\n      <td>45.2</td>\n      <td>1.6</td>\n      <td>2557</td>\n      <td>1</td>\n      <td>4</td>\n      <td>MULTIPOLYGON (((120418.653 489749.819, 120405....</td>\n    </tr>\n    <tr>\n      <th>4</th>\n      <td>1015</td>\n      <td>14870</td>\n      <td>7495</td>\n      <td>7375</td>\n      <td>1455</td>\n      <td>1545</td>\n      <td>5340</td>\n      <td>4375</td>\n      <td>2155</td>\n      <td>9910</td>\n      <td>...</td>\n      <td>0.5</td>\n      <td>3.0</td>\n      <td>3.8</td>\n      <td>7.8</td>\n      <td>46.8</td>\n      <td>1.0</td>\n      <td>10936</td>\n      <td>1</td>\n      <td>5</td>\n      <td>MULTIPOLYGON (((120665.642 488535.500, 120668....</td>\n    </tr>\n    <tr>\n      <th>...</th>\n      <td>...</td>\n      <td>...</td>\n      <td>...</td>\n      <td>...</td>\n      <td>...</td>\n      <td>...</td>\n      <td>...</td>\n      <td>...</td>\n      <td>...</td>\n      <td>...</td>\n      <td>...</td>\n      <td>...</td>\n      <td>...</td>\n      <td>...</td>\n      <td>...</td>\n      <td>...</td>\n      <td>...</td>\n      <td>...</td>\n      <td>...</td>\n      <td>...</td>\n      <td>...</td>\n    </tr>\n    <tr>\n      <th>4048</th>\n      <td>9995</td>\n      <td>725</td>\n      <td>375</td>\n      <td>350</td>\n      <td>155</td>\n      <td>90</td>\n      <td>170</td>\n      <td>205</td>\n      <td>105</td>\n      <td>290</td>\n      <td>...</td>\n      <td>19.4</td>\n      <td>17.7</td>\n      <td>0.0</td>\n      <td>1.0</td>\n      <td>11.8</td>\n      <td>3.1</td>\n      <td>91</td>\n      <td>5</td>\n      <td>4049</td>\n      <td>MULTIPOLYGON (((239939.989 600081.617, 239953....</td>\n    </tr>\n    <tr>\n      <th>4049</th>\n      <td>9996</td>\n      <td>80</td>\n      <td>50</td>\n      <td>35</td>\n      <td>15</td>\n      <td>5</td>\n      <td>15</td>\n      <td>25</td>\n      <td>20</td>\n      <td>35</td>\n      <td>...</td>\n      <td>21.7</td>\n      <td>20.5</td>\n      <td>0.0</td>\n      <td>0.0</td>\n      <td>9.2</td>\n      <td>5.5</td>\n      <td>18</td>\n      <td>5</td>\n      <td>4050</td>\n      <td>MULTIPOLYGON (((242620.211 600841.827, 242626....</td>\n    </tr>\n    <tr>\n      <th>4050</th>\n      <td>9997</td>\n      <td>630</td>\n      <td>335</td>\n      <td>300</td>\n      <td>110</td>\n      <td>75</td>\n      <td>140</td>\n      <td>205</td>\n      <td>100</td>\n      <td>260</td>\n      <td>...</td>\n      <td>23.1</td>\n      <td>21.9</td>\n      <td>0.0</td>\n      <td>0.0</td>\n      <td>8.0</td>\n      <td>4.5</td>\n      <td>87</td>\n      <td>5</td>\n      <td>4051</td>\n      <td>MULTIPOLYGON (((240755.585 602191.415, 240752....</td>\n    </tr>\n    <tr>\n      <th>4051</th>\n      <td>9998</td>\n      <td>180</td>\n      <td>95</td>\n      <td>85</td>\n      <td>40</td>\n      <td>20</td>\n      <td>35</td>\n      <td>60</td>\n      <td>25</td>\n      <td>70</td>\n      <td>...</td>\n      <td>20.9</td>\n      <td>19.1</td>\n      <td>0.0</td>\n      <td>0.8</td>\n      <td>9.9</td>\n      <td>4.9</td>\n      <td>17</td>\n      <td>5</td>\n      <td>4052</td>\n      <td>MULTIPOLYGON (((237960.007 602041.398, 237962....</td>\n    </tr>\n    <tr>\n      <th>4052</th>\n      <td>9999</td>\n      <td>100</td>\n      <td>50</td>\n      <td>50</td>\n      <td>10</td>\n      <td>15</td>\n      <td>10</td>\n      <td>45</td>\n      <td>20</td>\n      <td>40</td>\n      <td>...</td>\n      <td>17.4</td>\n      <td>15.7</td>\n      <td>0.0</td>\n      <td>2.6</td>\n      <td>13.7</td>\n      <td>6.1</td>\n      <td>24</td>\n      <td>5</td>\n      <td>4053</td>\n      <td>MULTIPOLYGON (((204514.846 380659.652, 204645....</td>\n    </tr>\n  </tbody>\n</table>\n<p>4053 rows × 133 columns</p>\n</div>"
     },
     "metadata": {},
     "execution_count": 6
    }
   ],
   "source": [
    "#dataverkennen door dataframe te openen\n",
    "data_recreatie"
   ]
  },
  {
   "cell_type": "code",
   "execution_count": 7,
   "metadata": {},
   "outputs": [
    {
     "output_type": "stream",
     "name": "stdout",
     "text": "<class 'geopandas.geodataframe.GeoDataFrame'>\nRangeIndex: 4053 entries, 0 to 4052\nColumns: 133 entries, postcode to geometry\ndtypes: float64(94), geometry(1), int64(37), object(1)\nmemory usage: 4.1+ MB\n"
    }
   ],
   "source": [
    "# Info over de kolommen in perceelprijzen\n",
    "info_kolommen_recreatie = data_recreatie.info()\n",
    "info_kolommen_recreatie"
   ]
  },
  {
   "cell_type": "code",
   "execution_count": 8,
   "metadata": {},
   "outputs": [
    {
     "output_type": "execute_result",
     "data": {
      "text/plain": "          postcode  aantal_inwoners  aantal_mannen  aantal_vrouwen  \\\ncount  4053.000000      4053.000000    4053.000000     4053.000000   \nmean   5669.970392      3576.255120    1374.186775     1363.248211   \nstd    2671.286282      9013.161565    8700.723863     9005.453986   \nmin    1011.000000    -99997.000000  -99997.000000   -99997.000000   \n25%    3329.000000       655.000000     335.000000      320.000000   \n50%    5705.000000      2635.000000    1305.000000     1315.000000   \n75%    8044.000000      6840.000000    3360.000000     3460.000000   \nmax    9999.000000     28410.000000   14195.000000    14215.000000   \n\n       aantal_inwoners_0_tot_15_jaar  aantal_inwoners_15_tot_25_jaar  \\\ncount                    4053.000000                     4053.000000   \nmean                    -1695.857143                    -2129.486553   \nstd                     15412.549996                    16127.804491   \nmin                    -99997.000000                   -99997.000000   \n25%                       105.000000                       75.000000   \n50%                       420.000000                      290.000000   \n75%                      1105.000000                      785.000000   \nmax                      6535.000000                     4380.000000   \n\n       aantal_inwoners_25_tot_45_jaar  aantal_inwoners_45_tot_65_jaar  \\\ncount                     4053.000000                     4053.000000   \nmean                      -532.840612                      210.207747   \nstd                      12656.042110                     9944.089464   \nmin                     -99997.000000                   -99997.000000   \n25%                        130.000000                      215.000000   \n50%                        570.000000                      775.000000   \n75%                       1670.000000                     1880.000000   \nmax                       9060.000000                     8110.000000   \n\n       aantal_inwoners_65_jaar_en_ouder  aantal_part_huishoudens  ...  \\\ncount                       4053.000000              4053.000000  ...   \nmean                       -1355.308414              1174.709351  ...   \nstd                        14458.748618              8817.094670  ...   \nmin                       -99997.000000            -99997.000000  ...   \n25%                          115.000000               265.000000  ...   \n50%                          460.000000              1100.000000  ...   \n75%                         1200.000000              3100.000000  ...   \nmax                         5160.000000             13180.000000  ...   \n\n       sauna_gemiddelde_afstand_in_km  zonnebank_gemiddelde_afstand_in_km  \\\ncount                     4053.000000                         4053.000000   \nmean                      -582.153442                         -584.406242   \nstd                       7673.826618                         7673.654587   \nmin                     -99997.000000                       -99997.000000   \n25%                          4.800000                            1.800000   \n50%                          8.800000                            5.000000   \n75%                         14.000000                           10.200000   \nmax                         43.900000                           71.800000   \n\n       attractiepark_gemiddelde_afstand_in_km  \\\ncount                             4053.000000   \nmean                              -584.311522   \nstd                               7673.659554   \nmin                             -99997.000000   \n25%                                  3.700000   \n50%                                  6.500000   \n75%                                 10.400000   \nmax                                 54.900000   \n\n       attractiepark_aantal_binnen_10_km  attractiepark_aantal_binnen_20_km  \\\ncount                        4053.000000                        4053.000000   \nmean                         -590.443005                        -586.663928   \nstd                          7673.184013                        7673.476417   \nmin                        -99997.000000                      -99997.000000   \n25%                             0.200000                           3.000000   \n50%                             1.000000                           5.000000   \n75%                             2.200000                           7.000000   \nmax                             8.500000                          21.800000   \n\n       attractiepark_aantal_binnen_50_km  \\\ncount                        4053.000000   \nmean                         -565.401530   \nstd                          7675.125517   \nmin                        -99997.000000   \n25%                            17.200000   \n50%                            26.100000   \n75%                            34.900000   \nmax                            56.200000   \n\n       brandweerkazerne_gemiddelde_afstand_in_km  omgevingsadressendichtheid  \\\ncount                                4053.000000                 4053.000000   \nmean                                 -589.344041                  841.439428   \nstd                                  7673.268849                 4404.635536   \nmin                                -99997.000000               -99997.000000   \n25%                                     1.400000                  115.000000   \n50%                                     2.400000                  494.000000   \n75%                                     3.800000                 1491.000000   \nmax                                    11.500000                11343.000000   \n\n       stedelijkheid       ms_fid  \ncount    4053.000000  4053.000000  \nmean     -168.919812  2027.000000  \nstd      4152.813326  1170.144649  \nmin    -99997.000000     1.000000  \n25%         3.000000  1014.000000  \n50%         5.000000  2027.000000  \n75%         5.000000  3040.000000  \nmax         5.000000  4053.000000  \n\n[8 rows x 131 columns]",
      "text/html": "<div>\n<style scoped>\n    .dataframe tbody tr th:only-of-type {\n        vertical-align: middle;\n    }\n\n    .dataframe tbody tr th {\n        vertical-align: top;\n    }\n\n    .dataframe thead th {\n        text-align: right;\n    }\n</style>\n<table border=\"1\" class=\"dataframe\">\n  <thead>\n    <tr style=\"text-align: right;\">\n      <th></th>\n      <th>postcode</th>\n      <th>aantal_inwoners</th>\n      <th>aantal_mannen</th>\n      <th>aantal_vrouwen</th>\n      <th>aantal_inwoners_0_tot_15_jaar</th>\n      <th>aantal_inwoners_15_tot_25_jaar</th>\n      <th>aantal_inwoners_25_tot_45_jaar</th>\n      <th>aantal_inwoners_45_tot_65_jaar</th>\n      <th>aantal_inwoners_65_jaar_en_ouder</th>\n      <th>aantal_part_huishoudens</th>\n      <th>...</th>\n      <th>sauna_gemiddelde_afstand_in_km</th>\n      <th>zonnebank_gemiddelde_afstand_in_km</th>\n      <th>attractiepark_gemiddelde_afstand_in_km</th>\n      <th>attractiepark_aantal_binnen_10_km</th>\n      <th>attractiepark_aantal_binnen_20_km</th>\n      <th>attractiepark_aantal_binnen_50_km</th>\n      <th>brandweerkazerne_gemiddelde_afstand_in_km</th>\n      <th>omgevingsadressendichtheid</th>\n      <th>stedelijkheid</th>\n      <th>ms_fid</th>\n    </tr>\n  </thead>\n  <tbody>\n    <tr>\n      <th>count</th>\n      <td>4053.000000</td>\n      <td>4053.000000</td>\n      <td>4053.000000</td>\n      <td>4053.000000</td>\n      <td>4053.000000</td>\n      <td>4053.000000</td>\n      <td>4053.000000</td>\n      <td>4053.000000</td>\n      <td>4053.000000</td>\n      <td>4053.000000</td>\n      <td>...</td>\n      <td>4053.000000</td>\n      <td>4053.000000</td>\n      <td>4053.000000</td>\n      <td>4053.000000</td>\n      <td>4053.000000</td>\n      <td>4053.000000</td>\n      <td>4053.000000</td>\n      <td>4053.000000</td>\n      <td>4053.000000</td>\n      <td>4053.000000</td>\n    </tr>\n    <tr>\n      <th>mean</th>\n      <td>5669.970392</td>\n      <td>3576.255120</td>\n      <td>1374.186775</td>\n      <td>1363.248211</td>\n      <td>-1695.857143</td>\n      <td>-2129.486553</td>\n      <td>-532.840612</td>\n      <td>210.207747</td>\n      <td>-1355.308414</td>\n      <td>1174.709351</td>\n      <td>...</td>\n      <td>-582.153442</td>\n      <td>-584.406242</td>\n      <td>-584.311522</td>\n      <td>-590.443005</td>\n      <td>-586.663928</td>\n      <td>-565.401530</td>\n      <td>-589.344041</td>\n      <td>841.439428</td>\n      <td>-168.919812</td>\n      <td>2027.000000</td>\n    </tr>\n    <tr>\n      <th>std</th>\n      <td>2671.286282</td>\n      <td>9013.161565</td>\n      <td>8700.723863</td>\n      <td>9005.453986</td>\n      <td>15412.549996</td>\n      <td>16127.804491</td>\n      <td>12656.042110</td>\n      <td>9944.089464</td>\n      <td>14458.748618</td>\n      <td>8817.094670</td>\n      <td>...</td>\n      <td>7673.826618</td>\n      <td>7673.654587</td>\n      <td>7673.659554</td>\n      <td>7673.184013</td>\n      <td>7673.476417</td>\n      <td>7675.125517</td>\n      <td>7673.268849</td>\n      <td>4404.635536</td>\n      <td>4152.813326</td>\n      <td>1170.144649</td>\n    </tr>\n    <tr>\n      <th>min</th>\n      <td>1011.000000</td>\n      <td>-99997.000000</td>\n      <td>-99997.000000</td>\n      <td>-99997.000000</td>\n      <td>-99997.000000</td>\n      <td>-99997.000000</td>\n      <td>-99997.000000</td>\n      <td>-99997.000000</td>\n      <td>-99997.000000</td>\n      <td>-99997.000000</td>\n      <td>...</td>\n      <td>-99997.000000</td>\n      <td>-99997.000000</td>\n      <td>-99997.000000</td>\n      <td>-99997.000000</td>\n      <td>-99997.000000</td>\n      <td>-99997.000000</td>\n      <td>-99997.000000</td>\n      <td>-99997.000000</td>\n      <td>-99997.000000</td>\n      <td>1.000000</td>\n    </tr>\n    <tr>\n      <th>25%</th>\n      <td>3329.000000</td>\n      <td>655.000000</td>\n      <td>335.000000</td>\n      <td>320.000000</td>\n      <td>105.000000</td>\n      <td>75.000000</td>\n      <td>130.000000</td>\n      <td>215.000000</td>\n      <td>115.000000</td>\n      <td>265.000000</td>\n      <td>...</td>\n      <td>4.800000</td>\n      <td>1.800000</td>\n      <td>3.700000</td>\n      <td>0.200000</td>\n      <td>3.000000</td>\n      <td>17.200000</td>\n      <td>1.400000</td>\n      <td>115.000000</td>\n      <td>3.000000</td>\n      <td>1014.000000</td>\n    </tr>\n    <tr>\n      <th>50%</th>\n      <td>5705.000000</td>\n      <td>2635.000000</td>\n      <td>1305.000000</td>\n      <td>1315.000000</td>\n      <td>420.000000</td>\n      <td>290.000000</td>\n      <td>570.000000</td>\n      <td>775.000000</td>\n      <td>460.000000</td>\n      <td>1100.000000</td>\n      <td>...</td>\n      <td>8.800000</td>\n      <td>5.000000</td>\n      <td>6.500000</td>\n      <td>1.000000</td>\n      <td>5.000000</td>\n      <td>26.100000</td>\n      <td>2.400000</td>\n      <td>494.000000</td>\n      <td>5.000000</td>\n      <td>2027.000000</td>\n    </tr>\n    <tr>\n      <th>75%</th>\n      <td>8044.000000</td>\n      <td>6840.000000</td>\n      <td>3360.000000</td>\n      <td>3460.000000</td>\n      <td>1105.000000</td>\n      <td>785.000000</td>\n      <td>1670.000000</td>\n      <td>1880.000000</td>\n      <td>1200.000000</td>\n      <td>3100.000000</td>\n      <td>...</td>\n      <td>14.000000</td>\n      <td>10.200000</td>\n      <td>10.400000</td>\n      <td>2.200000</td>\n      <td>7.000000</td>\n      <td>34.900000</td>\n      <td>3.800000</td>\n      <td>1491.000000</td>\n      <td>5.000000</td>\n      <td>3040.000000</td>\n    </tr>\n    <tr>\n      <th>max</th>\n      <td>9999.000000</td>\n      <td>28410.000000</td>\n      <td>14195.000000</td>\n      <td>14215.000000</td>\n      <td>6535.000000</td>\n      <td>4380.000000</td>\n      <td>9060.000000</td>\n      <td>8110.000000</td>\n      <td>5160.000000</td>\n      <td>13180.000000</td>\n      <td>...</td>\n      <td>43.900000</td>\n      <td>71.800000</td>\n      <td>54.900000</td>\n      <td>8.500000</td>\n      <td>21.800000</td>\n      <td>56.200000</td>\n      <td>11.500000</td>\n      <td>11343.000000</td>\n      <td>5.000000</td>\n      <td>4053.000000</td>\n    </tr>\n  </tbody>\n</table>\n<p>8 rows × 131 columns</p>\n</div>"
     },
     "metadata": {},
     "execution_count": 8
    }
   ],
   "source": [
    "# Beschrijvende statistieken van de data\n",
    "beschrijvende_stats_recreatie = data_recreatie.describe()\n",
    "beschrijvende_stats_recreatie"
   ]
  },
  {
   "cell_type": "code",
   "execution_count": null,
   "metadata": {},
   "outputs": [],
   "source": [
    "# Informatie over de kolomnamen in de Dataframe\n",
    "data_recreatie.columns"
   ]
  },
  {
   "cell_type": "code",
   "execution_count": null,
   "metadata": {},
   "outputs": [],
   "source": [
    "# Controleren op nulwaarden in de dataframe\n",
    "data_recreatie.isna().sum()"
   ]
  },
  {
   "cell_type": "code",
   "execution_count": null,
   "metadata": {},
   "outputs": [],
   "source": []
  }
 ]
}