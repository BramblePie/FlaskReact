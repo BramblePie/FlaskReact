{
 "nbformat": 4,
 "nbformat_minor": 2,
 "metadata": {
  "language_info": {
   "name": "python",
   "codemirror_mode": {
    "name": "ipython",
    "version": 3
   },
   "version": "3.8.2-final"
  },
  "orig_nbformat": 2,
  "file_extension": ".py",
  "mimetype": "text/x-python",
  "name": "python",
  "npconvert_exporter": "python",
  "pygments_lexer": "ipython3",
  "version": 3,
  "kernelspec": {
   "name": "python38264bitenvcondaf96fe45400d245478aa42fe86c9a5622",
   "display_name": "Python 3.8.2 64-bit ('.env': conda)"
  }
 },
 "cells": [
  {
   "cell_type": "markdown",
   "metadata": {},
   "source": [
    "# Data Understanding"
   ]
  },
  {
   "cell_type": "markdown",
   "metadata": {},
   "source": [
    "De zip bestand bestaat in totaal uit 42 kolommen en 13689 rijen aan data.\n",
    "\n",
    " - `BU_CODE`          = Buurtcode\n",
    " - `JRSTATCODE`       = Jaar van de buurt gegegevens + buurtcode\n",
    " - `BU_NAAM`          = Buurtnaam van desbetreffende buurt\n",
    " - `WK_CODE`          = Wijkcode die is toegekend aan een wijk  \n",
    " - `WK_NAAM`          = Wijknaam die is toegekend aan een wijk\n",
    " - `GM_CODE`          = Gemeentecode die is toegekend aan een gemeente\n",
    " - `GM_NAAM`          = Gemeentenaam die is toegekend aan een gemeente\n",
    " - `IND_WBI`          = Indelingswijziging wijken en buurten; Deze indicator geeft per wijk en buurt aan of de cijfers uit deze tabel zonder problemen kunnen worden gekoppeld aan en vergeleken met de cijfers van een jaar eerder, of dat er wijzigingen in de Wijk- en Buurtindeling zijn waardoor dit niet kan. \n",
    " - `WATER`            = Een onderverdeling tussen land en grotere wateroppervlakten overeenkomend met het Bestand Bodemgebruik van het CBS. \n",
    " - `POSTCODE`         = Postcode van de wijk\n",
    " - `DEK_PERC`         = Dekkingspercentage van omgeving\n",
    " - `OAD`              = Omgevingsadressendichtheid; Het gemiddeld aantal adressen van een buurt, wijk of gemeente per vierkante kilometer binnen een cirkel met een straal van één kilometer op 1 januari van het betreffende jaar.\n",
    " - `STED`             = Stedelijkheid; Op grond van de omgevingsadressendichtheid is aan iedere buurt, wijk of gemeente een stedelijkheidsklasse toegekend.                       \n",
    " De volgende klassenindeling is gehanteerd:\n",
    "                       -  1. zeer sterk stedelijk ≥ 2 500 adressen per km2;\n",
    "                       -  2. sterk stedelijk 1 500–2 500 adressen per km2;\n",
    "                       -  3. matig stedelijk 1 000–1 500 adressen per km2;\n",
    "                       -  4. weinig stedelijk 500–1 000 adressen per km2;\n",
    "                       -  5. niet stedelijk < 500 adressen per km2.\n",
    " - `BEV_DICHTH`       = Bevolkingsdichtheid in desbetreffende wijk\n",
    " - `AANT_INW`         = Aantal inwoners in desbetreffende wijk\n",
    " - `AANT_MAN`         = Aantal mannen in desbetreffende wijk\n",
    " - `AANT_VROUW`       = Aantal vrouwen in desbetreffende wijk\n",
    " - `P_00_14_JR`       = Percentage inwoners van 0 t/m 14 jaar\n",
    " - `P_15_24_JR`       = Percentage inwoners van 15 t/m 24 jaar\n",
    " - `P_25_44_JR`       = Percentage inwoners van 25 t/m 64 jaar\n",
    " - `P_45_64_JR`       = Percentage inwoners van 45 t/m 64 jaar\n",
    " - `P_65_EO_JR`       = Percentage inwoners van 65 jaar en ouder\n",
    " - `P_ONGEHUWD`       = Percentage inwoners die ongehuwd is\n",
    " - `P_GEHUWD`         = Percentage inwoners die gehuwd is\n",
    " - `P_GESCHEID`       = Percentage inwoners die gescheiden is\n",
    " - `P_VERWEDUW`       = Percentage inwoners die verweduwed is\n",
    " - `AANTAL_HH`        = Het aantal particuliere huishoudens op 1 januari.\n",
    " - `P_EENP_HH`        = Eenpersoonshuishoudens; Het aantal huishoudens met één persoon, uitgedrukt in hele procenten van het totaal aantal particuliere huishoudens.\n",
    " - `P_HH_Z_K`         = Huishoudens zonder kinderen; Het aantal meerpersoonshuishoudens zonder kinderen uitgedrukt in hele procenten van het totaal aantal particuliere huishoudens\n",
    " - `P_HH_M_K`         = Huishoudens met kinderen; Het aantal meerpersoonshuishoudens met kinderen uitgedrukt in hele procenten van het totaal aantal particuliere huishoudens.\n",
    " - `GEM_HH_GR`        = Gemiddelde huishoudensgrootte;\n",
    "Het aantal in particuliere huishoudens levende personen gedeeld door het aantal particuliere huishoudens. \n",
    "\n",
    " - `P_WEST_AL`        = Westers totaal; Het aantal allochtonen met een westerse herkomst op 1 januari, uitgedrukt in hele procenten van het aantal inwoners. \n",
    " - `P_N_W_AL`         = Niet-westers totaal; Het aantal allochtonen met een niet-westerse herkomst op 1 januari, uitgedrukt in hele procenten van het aantal inwoners. \n",
    " - `P_MAROKKO`        = Marokko totaal uitgedrukt in procenten\n",
    " - `P_ANT_ARU`        = Nederlandse Antillen en Aruba; Het aandeel allochtonen met herkomstgroep van (voormalige) Nederlandse Antillen en Aruba op 1 januari, uitgedrukt in hele procenten van het aantal inwoners.\n",
    " - `P_SURINAM`        = Surinamers uitgedrukt in procenten\n",
    " - `P_TURKIJE`        = Turken uitgedrukt in procenten\n",
    " - `P_OVER_NW`        = Overig niet-westers; Het aandeel allochtonen met een overige niet-westerse herkomst op 1 januari, uitgedrukt in hele procenten van het aantal inwoners.\n",
    " - `OPP_TOT`          = Totale oppervlakte in ha\n",
    " - `OPP_LAND`         = Oppervlakte land in ha\n",
    " - `OPP_WATER`        = Oppervlakte water in ha\n",
    " - `geometry`         = afmetingen op aarde van desbetreffende omgeving\n",
    "\n",
    "\n",
    " -99999999 staat voor nullwaardes\n"
   ]
  },
  {
   "cell_type": "markdown",
   "metadata": {},
   "source": [
    "## Beschrijven van de data\n",
    "\n",
    "Hieronder wordt de data beschreven. Dit wordt telkens door een stukje code gedaan, met comments erbij."
   ]
  },
  {
   "cell_type": "code",
   "execution_count": 83,
   "metadata": {},
   "outputs": [],
   "source": [
    "#importeren van de benodigde packages\n",
    "import pandas as pd\n",
    "import geopandas as gpd"
   ]
  },
  {
   "cell_type": "code",
   "execution_count": 84,
   "metadata": {},
   "outputs": [
    {
     "output_type": "stream",
     "name": "stdout",
     "text": "Loading zip://../../../raw-data/wijkenbuurten2019.zip...\nLoaded zip://../../../raw-data/wijkenbuurten2019.zip\n"
    }
   ],
   "source": [
    "#laden van de dataset\n",
    "zipfile = \"zip://../../../raw-data/wijkenbuurten2019.zip\"\n",
    "print(f\"Loading {zipfile}...\")\n",
    "data_demografie = gpd.read_file(zipfile)\n",
    "print(f\"Loaded {zipfile}\")"
   ]
  },
  {
   "cell_type": "code",
   "execution_count": 85,
   "metadata": {},
   "outputs": [
    {
     "output_type": "execute_result",
     "data": {
      "text/plain": "          BU_CODE      JRSTATCODE  \\\n0      BU00030000  2019BU00030000   \n1      BU00030001  2019BU00030001   \n2      BU00030002  2019BU00030002   \n3      BU00030007  2019BU00030007   \n4      BU00030008  2019BU00030008   \n...           ...             ...   \n13684  BU19669997  2019BU19669997   \n13685  BU19669998  2019BU19669998   \n13686  BU19699997  2019BU19699997   \n13687  BU19709997  2019BU19709997   \n13688  BU19709998  2019BU19709998   \n\n                                           BU_NAAM   WK_CODE      WK_NAAM  \\\n0                               Appingedam-Centrum  WK000300      Wijk 00   \n1                                  Appingedam-West  WK000300      Wijk 00   \n2                                  Appingedam-Oost  WK000300      Wijk 00   \n3      Verspreide huizen Damsterdiep en Eemskanaal  WK000300      Wijk 00   \n4      Verspreide huizen ten zuiden van Eemskanaal  WK000300      Wijk 00   \n...                                            ...       ...          ...   \n13684                            Groot binnenwater  WK196699  Groot water   \n13685                                  Buitenwater  WK196699  Groot water   \n13686                            Groot binnenwater  WK196999  Groot water   \n13687                            Groot binnenwater  WK197099  Groot water   \n13688                                  Buitenwater  WK197099  Groot water   \n\n      GM_CODE             GM_NAAM   IND_WBI WATER POSTCODE  ...  P_N_W_AL  \\\n0      GM0003          Appingedam         1   NEE     9901  ...         4   \n1      GM0003          Appingedam         1   NEE     9903  ...         4   \n2      GM0003          Appingedam         1   NEE     9902  ...        11   \n3      GM0003          Appingedam         1   NEE     9903  ...         2   \n4      GM0003          Appingedam         1   NEE     9902  ...         1   \n...       ...                 ...       ...   ...      ...  ...       ...   \n13684  GM1966        Het Hogeland -99999999    JA     None  ... -99999999   \n13685  GM1966        Het Hogeland -99999999    JA     None  ... -99999999   \n13686  GM1969      Westerkwartier -99999999    JA     None  ... -99999999   \n13687  GM1970  Noardeast-FryslÃ¢n -99999999    JA     None  ... -99999999   \n13688  GM1970  Noardeast-FryslÃ¢n -99999999    JA     None  ... -99999999   \n\n       P_MAROKKO  P_ANT_ARU  P_SURINAM  P_TURKIJE  P_OVER_NW   OPP_TOT  \\\n0              0          1          0          0          2        90   \n1              0          1          0          1          2       163   \n2              1          1          1          4          4       295   \n3      -99999999  -99999999  -99999999  -99999999  -99999999       559   \n4      -99999999  -99999999  -99999999  -99999999  -99999999       582   \n...          ...        ...        ...        ...        ...       ...   \n13684  -99999999  -99999999  -99999999  -99999999  -99999999 -99999999   \n13685  -99999999  -99999999  -99999999  -99999999  -99999999 -99999999   \n13686  -99999999  -99999999  -99999999  -99999999  -99999999 -99999999   \n13687  -99999999  -99999999  -99999999  -99999999  -99999999 -99999999   \n13688  -99999999  -99999999  -99999999  -99999999  -99999999 -99999999   \n\n       OPP_LAND  OPP_WATER                                           geometry  \n0            84          5  POLYGON ((252643.203 594343.688, 252674.500 59...  \n1           158          5  POLYGON ((251260.496 594393.830, 251261.415 59...  \n2           284         11  POLYGON ((254580.674 594573.506, 254580.774 59...  \n3           540         18  POLYGON ((249539.950 593217.579, 249669.500 59...  \n4           554         28  POLYGON ((254809.060 592703.148, 254809.461 59...  \n...         ...        ...                                                ...  \n13684 -99999999  -99999999  MULTIPOLYGON (((211698.493 598454.762, 211702....  \n13685 -99999999  -99999999  POLYGON ((219000.000 617500.000, 224000.000 62...  \n13686 -99999999  -99999999  MULTIPOLYGON (((215284.173 595049.928, 215280....  \n13687 -99999999  -99999999  POLYGON ((207707.215 603347.328, 207726.405 60...  \n13688 -99999999  -99999999  MULTIPOLYGON (((201767.157 602623.271, 201763....  \n\n[13689 rows x 42 columns]",
      "text/html": "<div>\n<style scoped>\n    .dataframe tbody tr th:only-of-type {\n        vertical-align: middle;\n    }\n\n    .dataframe tbody tr th {\n        vertical-align: top;\n    }\n\n    .dataframe thead th {\n        text-align: right;\n    }\n</style>\n<table border=\"1\" class=\"dataframe\">\n  <thead>\n    <tr style=\"text-align: right;\">\n      <th></th>\n      <th>BU_CODE</th>\n      <th>JRSTATCODE</th>\n      <th>BU_NAAM</th>\n      <th>WK_CODE</th>\n      <th>WK_NAAM</th>\n      <th>GM_CODE</th>\n      <th>GM_NAAM</th>\n      <th>IND_WBI</th>\n      <th>WATER</th>\n      <th>POSTCODE</th>\n      <th>...</th>\n      <th>P_N_W_AL</th>\n      <th>P_MAROKKO</th>\n      <th>P_ANT_ARU</th>\n      <th>P_SURINAM</th>\n      <th>P_TURKIJE</th>\n      <th>P_OVER_NW</th>\n      <th>OPP_TOT</th>\n      <th>OPP_LAND</th>\n      <th>OPP_WATER</th>\n      <th>geometry</th>\n    </tr>\n  </thead>\n  <tbody>\n    <tr>\n      <th>0</th>\n      <td>BU00030000</td>\n      <td>2019BU00030000</td>\n      <td>Appingedam-Centrum</td>\n      <td>WK000300</td>\n      <td>Wijk 00</td>\n      <td>GM0003</td>\n      <td>Appingedam</td>\n      <td>1</td>\n      <td>NEE</td>\n      <td>9901</td>\n      <td>...</td>\n      <td>4</td>\n      <td>0</td>\n      <td>1</td>\n      <td>0</td>\n      <td>0</td>\n      <td>2</td>\n      <td>90</td>\n      <td>84</td>\n      <td>5</td>\n      <td>POLYGON ((252643.203 594343.688, 252674.500 59...</td>\n    </tr>\n    <tr>\n      <th>1</th>\n      <td>BU00030001</td>\n      <td>2019BU00030001</td>\n      <td>Appingedam-West</td>\n      <td>WK000300</td>\n      <td>Wijk 00</td>\n      <td>GM0003</td>\n      <td>Appingedam</td>\n      <td>1</td>\n      <td>NEE</td>\n      <td>9903</td>\n      <td>...</td>\n      <td>4</td>\n      <td>0</td>\n      <td>1</td>\n      <td>0</td>\n      <td>1</td>\n      <td>2</td>\n      <td>163</td>\n      <td>158</td>\n      <td>5</td>\n      <td>POLYGON ((251260.496 594393.830, 251261.415 59...</td>\n    </tr>\n    <tr>\n      <th>2</th>\n      <td>BU00030002</td>\n      <td>2019BU00030002</td>\n      <td>Appingedam-Oost</td>\n      <td>WK000300</td>\n      <td>Wijk 00</td>\n      <td>GM0003</td>\n      <td>Appingedam</td>\n      <td>1</td>\n      <td>NEE</td>\n      <td>9902</td>\n      <td>...</td>\n      <td>11</td>\n      <td>1</td>\n      <td>1</td>\n      <td>1</td>\n      <td>4</td>\n      <td>4</td>\n      <td>295</td>\n      <td>284</td>\n      <td>11</td>\n      <td>POLYGON ((254580.674 594573.506, 254580.774 59...</td>\n    </tr>\n    <tr>\n      <th>3</th>\n      <td>BU00030007</td>\n      <td>2019BU00030007</td>\n      <td>Verspreide huizen Damsterdiep en Eemskanaal</td>\n      <td>WK000300</td>\n      <td>Wijk 00</td>\n      <td>GM0003</td>\n      <td>Appingedam</td>\n      <td>1</td>\n      <td>NEE</td>\n      <td>9903</td>\n      <td>...</td>\n      <td>2</td>\n      <td>-99999999</td>\n      <td>-99999999</td>\n      <td>-99999999</td>\n      <td>-99999999</td>\n      <td>-99999999</td>\n      <td>559</td>\n      <td>540</td>\n      <td>18</td>\n      <td>POLYGON ((249539.950 593217.579, 249669.500 59...</td>\n    </tr>\n    <tr>\n      <th>4</th>\n      <td>BU00030008</td>\n      <td>2019BU00030008</td>\n      <td>Verspreide huizen ten zuiden van Eemskanaal</td>\n      <td>WK000300</td>\n      <td>Wijk 00</td>\n      <td>GM0003</td>\n      <td>Appingedam</td>\n      <td>1</td>\n      <td>NEE</td>\n      <td>9902</td>\n      <td>...</td>\n      <td>1</td>\n      <td>-99999999</td>\n      <td>-99999999</td>\n      <td>-99999999</td>\n      <td>-99999999</td>\n      <td>-99999999</td>\n      <td>582</td>\n      <td>554</td>\n      <td>28</td>\n      <td>POLYGON ((254809.060 592703.148, 254809.461 59...</td>\n    </tr>\n    <tr>\n      <th>...</th>\n      <td>...</td>\n      <td>...</td>\n      <td>...</td>\n      <td>...</td>\n      <td>...</td>\n      <td>...</td>\n      <td>...</td>\n      <td>...</td>\n      <td>...</td>\n      <td>...</td>\n      <td>...</td>\n      <td>...</td>\n      <td>...</td>\n      <td>...</td>\n      <td>...</td>\n      <td>...</td>\n      <td>...</td>\n      <td>...</td>\n      <td>...</td>\n      <td>...</td>\n      <td>...</td>\n    </tr>\n    <tr>\n      <th>13684</th>\n      <td>BU19669997</td>\n      <td>2019BU19669997</td>\n      <td>Groot binnenwater</td>\n      <td>WK196699</td>\n      <td>Groot water</td>\n      <td>GM1966</td>\n      <td>Het Hogeland</td>\n      <td>-99999999</td>\n      <td>JA</td>\n      <td>None</td>\n      <td>...</td>\n      <td>-99999999</td>\n      <td>-99999999</td>\n      <td>-99999999</td>\n      <td>-99999999</td>\n      <td>-99999999</td>\n      <td>-99999999</td>\n      <td>-99999999</td>\n      <td>-99999999</td>\n      <td>-99999999</td>\n      <td>MULTIPOLYGON (((211698.493 598454.762, 211702....</td>\n    </tr>\n    <tr>\n      <th>13685</th>\n      <td>BU19669998</td>\n      <td>2019BU19669998</td>\n      <td>Buitenwater</td>\n      <td>WK196699</td>\n      <td>Groot water</td>\n      <td>GM1966</td>\n      <td>Het Hogeland</td>\n      <td>-99999999</td>\n      <td>JA</td>\n      <td>None</td>\n      <td>...</td>\n      <td>-99999999</td>\n      <td>-99999999</td>\n      <td>-99999999</td>\n      <td>-99999999</td>\n      <td>-99999999</td>\n      <td>-99999999</td>\n      <td>-99999999</td>\n      <td>-99999999</td>\n      <td>-99999999</td>\n      <td>POLYGON ((219000.000 617500.000, 224000.000 62...</td>\n    </tr>\n    <tr>\n      <th>13686</th>\n      <td>BU19699997</td>\n      <td>2019BU19699997</td>\n      <td>Groot binnenwater</td>\n      <td>WK196999</td>\n      <td>Groot water</td>\n      <td>GM1969</td>\n      <td>Westerkwartier</td>\n      <td>-99999999</td>\n      <td>JA</td>\n      <td>None</td>\n      <td>...</td>\n      <td>-99999999</td>\n      <td>-99999999</td>\n      <td>-99999999</td>\n      <td>-99999999</td>\n      <td>-99999999</td>\n      <td>-99999999</td>\n      <td>-99999999</td>\n      <td>-99999999</td>\n      <td>-99999999</td>\n      <td>MULTIPOLYGON (((215284.173 595049.928, 215280....</td>\n    </tr>\n    <tr>\n      <th>13687</th>\n      <td>BU19709997</td>\n      <td>2019BU19709997</td>\n      <td>Groot binnenwater</td>\n      <td>WK197099</td>\n      <td>Groot water</td>\n      <td>GM1970</td>\n      <td>Noardeast-FryslÃ¢n</td>\n      <td>-99999999</td>\n      <td>JA</td>\n      <td>None</td>\n      <td>...</td>\n      <td>-99999999</td>\n      <td>-99999999</td>\n      <td>-99999999</td>\n      <td>-99999999</td>\n      <td>-99999999</td>\n      <td>-99999999</td>\n      <td>-99999999</td>\n      <td>-99999999</td>\n      <td>-99999999</td>\n      <td>POLYGON ((207707.215 603347.328, 207726.405 60...</td>\n    </tr>\n    <tr>\n      <th>13688</th>\n      <td>BU19709998</td>\n      <td>2019BU19709998</td>\n      <td>Buitenwater</td>\n      <td>WK197099</td>\n      <td>Groot water</td>\n      <td>GM1970</td>\n      <td>Noardeast-FryslÃ¢n</td>\n      <td>-99999999</td>\n      <td>JA</td>\n      <td>None</td>\n      <td>...</td>\n      <td>-99999999</td>\n      <td>-99999999</td>\n      <td>-99999999</td>\n      <td>-99999999</td>\n      <td>-99999999</td>\n      <td>-99999999</td>\n      <td>-99999999</td>\n      <td>-99999999</td>\n      <td>-99999999</td>\n      <td>MULTIPOLYGON (((201767.157 602623.271, 201763....</td>\n    </tr>\n  </tbody>\n</table>\n<p>13689 rows × 42 columns</p>\n</div>"
     },
     "metadata": {},
     "execution_count": 85
    }
   ],
   "source": [
    "#dataverkennen door dataframe te openen\n",
    "data_demografie"
   ]
  },
  {
   "cell_type": "code",
   "execution_count": 86,
   "metadata": {},
   "outputs": [
    {
     "output_type": "stream",
     "name": "stdout",
     "text": "<class 'geopandas.geodataframe.GeoDataFrame'>\nRangeIndex: 13689 entries, 0 to 13688\nData columns (total 42 columns):\n #   Column      Non-Null Count  Dtype   \n---  ------      --------------  -----   \n 0   BU_CODE     13689 non-null  object  \n 1   JRSTATCODE  13689 non-null  object  \n 2   BU_NAAM     13689 non-null  object  \n 3   WK_CODE     13689 non-null  object  \n 4   WK_NAAM     13689 non-null  object  \n 5   GM_CODE     13689 non-null  object  \n 6   GM_NAAM     13689 non-null  object  \n 7   IND_WBI     13689 non-null  int64   \n 8   WATER       13689 non-null  object  \n 9   POSTCODE    13594 non-null  object  \n 10  DEK_PERC    13689 non-null  int64   \n 11  OAD         13689 non-null  int64   \n 12  STED        13689 non-null  int64   \n 13  BEV_DICHTH  13689 non-null  int64   \n 14  AANT_INW    13689 non-null  int64   \n 15  AANT_MAN    13689 non-null  int64   \n 16  AANT_VROUW  13689 non-null  int64   \n 17  P_00_14_JR  13689 non-null  int64   \n 18  P_15_24_JR  13689 non-null  int64   \n 19  P_25_44_JR  13689 non-null  int64   \n 20  P_45_64_JR  13689 non-null  int64   \n 21  P_65_EO_JR  13689 non-null  int64   \n 22  P_ONGEHUWD  13689 non-null  int64   \n 23  P_GEHUWD    13689 non-null  int64   \n 24  P_GESCHEID  13689 non-null  int64   \n 25  P_VERWEDUW  13689 non-null  int64   \n 26  AANTAL_HH   13689 non-null  int64   \n 27  P_EENP_HH   13689 non-null  int64   \n 28  P_HH_Z_K    13689 non-null  int64   \n 29  P_HH_M_K    13689 non-null  int64   \n 30  GEM_HH_GR   13689 non-null  float64 \n 31  P_WEST_AL   13689 non-null  int64   \n 32  P_N_W_AL    13689 non-null  int64   \n 33  P_MAROKKO   13689 non-null  int64   \n 34  P_ANT_ARU   13689 non-null  int64   \n 35  P_SURINAM   13689 non-null  int64   \n 36  P_TURKIJE   13689 non-null  int64   \n 37  P_OVER_NW   13689 non-null  int64   \n 38  OPP_TOT     13689 non-null  int64   \n 39  OPP_LAND    13689 non-null  int64   \n 40  OPP_WATER   13689 non-null  int64   \n 41  geometry    13689 non-null  geometry\ndtypes: float64(1), geometry(1), int64(31), object(9)\nmemory usage: 4.4+ MB\n"
    }
   ],
   "source": [
    "# Info over de kolommen in perceelprijzen\n",
    "info_kolommen = data_demografie.info()\n",
    "info_kolommen"
   ]
  },
  {
   "cell_type": "code",
   "execution_count": 87,
   "metadata": {},
   "outputs": [
    {
     "output_type": "execute_result",
     "data": {
      "text/plain": "            IND_WBI      DEK_PERC           OAD          STED    BEV_DICHTH  \\\ncount  1.368900e+04  1.368900e+04  1.368900e+04  1.368900e+04  1.368900e+04   \nmean  -6.939867e+05 -1.234567e+06 -1.167651e+06 -1.154208e+06 -5.329823e+06   \nstd    8.301940e+06  1.104271e+07  1.074836e+07  1.068163e+07  2.247009e+07   \nmin   -1.000000e+08 -1.000000e+08 -1.000000e+08 -1.000000e+08 -1.000000e+08   \n25%    1.000000e+00  1.000000e+00  1.460000e+02  2.000000e+00  6.200000e+01   \n50%    1.000000e+00  1.000000e+00  6.850000e+02  4.000000e+00  1.406000e+03   \n75%    1.000000e+00  1.000000e+00  1.682000e+03  5.000000e+00  4.684000e+03   \nmax    3.000000e+00  6.000000e+00  1.241700e+04  5.000000e+00  5.422000e+04   \n\n           AANT_INW      AANT_MAN    AANT_VROUW    P_00_14_JR    P_15_24_JR  \\\ncount  1.368900e+04  1.368900e+04  1.368900e+04  1.368900e+04  1.368900e+04   \nmean  -6.927261e+05 -6.933617e+05 -6.933529e+05 -1.110379e+07 -1.110379e+07   \nstd    8.302045e+06  8.301992e+06  8.301993e+06  3.141908e+07  3.141908e+07   \nmin   -1.000000e+08 -1.000000e+08 -1.000000e+08 -1.000000e+08 -1.000000e+08   \n25%    1.700000e+02  9.000000e+01  8.000000e+01  1.100000e+01  9.000000e+00   \n50%    6.700000e+02  3.350000e+02  3.300000e+02  1.400000e+01  1.100000e+01   \n75%    1.715000e+03  8.500000e+02  8.700000e+02  1.700000e+01  1.400000e+01   \nmax    2.875000e+04  1.356500e+04  1.518500e+04  4.900000e+01  9.600000e+01   \n\n       ...     P_WEST_AL      P_N_W_AL     P_MAROKKO     P_ANT_ARU  \\\ncount  ...  1.368900e+04  1.368900e+04  1.368900e+04  1.368900e+04   \nmean   ... -1.110380e+07 -1.110380e+07 -3.842501e+07 -3.842501e+07   \nstd    ...  3.141908e+07  3.141908e+07  4.864353e+07  4.864352e+07   \nmin    ... -1.000000e+08 -1.000000e+08 -1.000000e+08 -1.000000e+08   \n25%    ...  4.000000e+00  1.000000e+00 -1.000000e+08 -1.000000e+08   \n50%    ...  7.000000e+00  3.000000e+00  0.000000e+00  0.000000e+00   \n75%    ...  1.100000e+01  9.000000e+00  1.000000e+00  1.000000e+00   \nmax    ...  8.500000e+01  9.900000e+01  4.200000e+01  1.700000e+01   \n\n          P_SURINAM     P_TURKIJE     P_OVER_NW       OPP_TOT      OPP_LAND  \\\ncount  1.368900e+04  1.368900e+04  1.368900e+04  1.368900e+04  1.368900e+04   \nmean  -3.842501e+07 -3.842501e+07 -3.842501e+07 -6.937316e+05 -6.937419e+05   \nstd    4.864353e+07  4.864353e+07  4.864353e+07  8.301961e+06  8.301960e+06   \nmin   -1.000000e+08 -1.000000e+08 -1.000000e+08 -1.000000e+08 -1.000000e+08   \n25%   -1.000000e+08 -1.000000e+08 -1.000000e+08  2.700000e+01  2.600000e+01   \n50%    0.000000e+00  0.000000e+00  2.000000e+00  6.100000e+01  5.900000e+01   \n75%    1.000000e+00  1.000000e+00  4.000000e+00  2.180000e+02  2.080000e+02   \nmax    4.600000e+01  4.600000e+01  9.800000e+01  1.301500e+04  1.281300e+04   \n\n          OPP_WATER  \ncount  1.368900e+04  \nmean  -6.939776e+05  \nstd    8.301940e+06  \nmin   -1.000000e+08  \n25%    0.000000e+00  \n50%    1.000000e+00  \n75%    5.000000e+00  \nmax    2.411000e+03  \n\n[8 rows x 32 columns]",
      "text/html": "<div>\n<style scoped>\n    .dataframe tbody tr th:only-of-type {\n        vertical-align: middle;\n    }\n\n    .dataframe tbody tr th {\n        vertical-align: top;\n    }\n\n    .dataframe thead th {\n        text-align: right;\n    }\n</style>\n<table border=\"1\" class=\"dataframe\">\n  <thead>\n    <tr style=\"text-align: right;\">\n      <th></th>\n      <th>IND_WBI</th>\n      <th>DEK_PERC</th>\n      <th>OAD</th>\n      <th>STED</th>\n      <th>BEV_DICHTH</th>\n      <th>AANT_INW</th>\n      <th>AANT_MAN</th>\n      <th>AANT_VROUW</th>\n      <th>P_00_14_JR</th>\n      <th>P_15_24_JR</th>\n      <th>...</th>\n      <th>P_WEST_AL</th>\n      <th>P_N_W_AL</th>\n      <th>P_MAROKKO</th>\n      <th>P_ANT_ARU</th>\n      <th>P_SURINAM</th>\n      <th>P_TURKIJE</th>\n      <th>P_OVER_NW</th>\n      <th>OPP_TOT</th>\n      <th>OPP_LAND</th>\n      <th>OPP_WATER</th>\n    </tr>\n  </thead>\n  <tbody>\n    <tr>\n      <th>count</th>\n      <td>1.368900e+04</td>\n      <td>1.368900e+04</td>\n      <td>1.368900e+04</td>\n      <td>1.368900e+04</td>\n      <td>1.368900e+04</td>\n      <td>1.368900e+04</td>\n      <td>1.368900e+04</td>\n      <td>1.368900e+04</td>\n      <td>1.368900e+04</td>\n      <td>1.368900e+04</td>\n      <td>...</td>\n      <td>1.368900e+04</td>\n      <td>1.368900e+04</td>\n      <td>1.368900e+04</td>\n      <td>1.368900e+04</td>\n      <td>1.368900e+04</td>\n      <td>1.368900e+04</td>\n      <td>1.368900e+04</td>\n      <td>1.368900e+04</td>\n      <td>1.368900e+04</td>\n      <td>1.368900e+04</td>\n    </tr>\n    <tr>\n      <th>mean</th>\n      <td>-6.939867e+05</td>\n      <td>-1.234567e+06</td>\n      <td>-1.167651e+06</td>\n      <td>-1.154208e+06</td>\n      <td>-5.329823e+06</td>\n      <td>-6.927261e+05</td>\n      <td>-6.933617e+05</td>\n      <td>-6.933529e+05</td>\n      <td>-1.110379e+07</td>\n      <td>-1.110379e+07</td>\n      <td>...</td>\n      <td>-1.110380e+07</td>\n      <td>-1.110380e+07</td>\n      <td>-3.842501e+07</td>\n      <td>-3.842501e+07</td>\n      <td>-3.842501e+07</td>\n      <td>-3.842501e+07</td>\n      <td>-3.842501e+07</td>\n      <td>-6.937316e+05</td>\n      <td>-6.937419e+05</td>\n      <td>-6.939776e+05</td>\n    </tr>\n    <tr>\n      <th>std</th>\n      <td>8.301940e+06</td>\n      <td>1.104271e+07</td>\n      <td>1.074836e+07</td>\n      <td>1.068163e+07</td>\n      <td>2.247009e+07</td>\n      <td>8.302045e+06</td>\n      <td>8.301992e+06</td>\n      <td>8.301993e+06</td>\n      <td>3.141908e+07</td>\n      <td>3.141908e+07</td>\n      <td>...</td>\n      <td>3.141908e+07</td>\n      <td>3.141908e+07</td>\n      <td>4.864353e+07</td>\n      <td>4.864352e+07</td>\n      <td>4.864353e+07</td>\n      <td>4.864353e+07</td>\n      <td>4.864353e+07</td>\n      <td>8.301961e+06</td>\n      <td>8.301960e+06</td>\n      <td>8.301940e+06</td>\n    </tr>\n    <tr>\n      <th>min</th>\n      <td>-1.000000e+08</td>\n      <td>-1.000000e+08</td>\n      <td>-1.000000e+08</td>\n      <td>-1.000000e+08</td>\n      <td>-1.000000e+08</td>\n      <td>-1.000000e+08</td>\n      <td>-1.000000e+08</td>\n      <td>-1.000000e+08</td>\n      <td>-1.000000e+08</td>\n      <td>-1.000000e+08</td>\n      <td>...</td>\n      <td>-1.000000e+08</td>\n      <td>-1.000000e+08</td>\n      <td>-1.000000e+08</td>\n      <td>-1.000000e+08</td>\n      <td>-1.000000e+08</td>\n      <td>-1.000000e+08</td>\n      <td>-1.000000e+08</td>\n      <td>-1.000000e+08</td>\n      <td>-1.000000e+08</td>\n      <td>-1.000000e+08</td>\n    </tr>\n    <tr>\n      <th>25%</th>\n      <td>1.000000e+00</td>\n      <td>1.000000e+00</td>\n      <td>1.460000e+02</td>\n      <td>2.000000e+00</td>\n      <td>6.200000e+01</td>\n      <td>1.700000e+02</td>\n      <td>9.000000e+01</td>\n      <td>8.000000e+01</td>\n      <td>1.100000e+01</td>\n      <td>9.000000e+00</td>\n      <td>...</td>\n      <td>4.000000e+00</td>\n      <td>1.000000e+00</td>\n      <td>-1.000000e+08</td>\n      <td>-1.000000e+08</td>\n      <td>-1.000000e+08</td>\n      <td>-1.000000e+08</td>\n      <td>-1.000000e+08</td>\n      <td>2.700000e+01</td>\n      <td>2.600000e+01</td>\n      <td>0.000000e+00</td>\n    </tr>\n    <tr>\n      <th>50%</th>\n      <td>1.000000e+00</td>\n      <td>1.000000e+00</td>\n      <td>6.850000e+02</td>\n      <td>4.000000e+00</td>\n      <td>1.406000e+03</td>\n      <td>6.700000e+02</td>\n      <td>3.350000e+02</td>\n      <td>3.300000e+02</td>\n      <td>1.400000e+01</td>\n      <td>1.100000e+01</td>\n      <td>...</td>\n      <td>7.000000e+00</td>\n      <td>3.000000e+00</td>\n      <td>0.000000e+00</td>\n      <td>0.000000e+00</td>\n      <td>0.000000e+00</td>\n      <td>0.000000e+00</td>\n      <td>2.000000e+00</td>\n      <td>6.100000e+01</td>\n      <td>5.900000e+01</td>\n      <td>1.000000e+00</td>\n    </tr>\n    <tr>\n      <th>75%</th>\n      <td>1.000000e+00</td>\n      <td>1.000000e+00</td>\n      <td>1.682000e+03</td>\n      <td>5.000000e+00</td>\n      <td>4.684000e+03</td>\n      <td>1.715000e+03</td>\n      <td>8.500000e+02</td>\n      <td>8.700000e+02</td>\n      <td>1.700000e+01</td>\n      <td>1.400000e+01</td>\n      <td>...</td>\n      <td>1.100000e+01</td>\n      <td>9.000000e+00</td>\n      <td>1.000000e+00</td>\n      <td>1.000000e+00</td>\n      <td>1.000000e+00</td>\n      <td>1.000000e+00</td>\n      <td>4.000000e+00</td>\n      <td>2.180000e+02</td>\n      <td>2.080000e+02</td>\n      <td>5.000000e+00</td>\n    </tr>\n    <tr>\n      <th>max</th>\n      <td>3.000000e+00</td>\n      <td>6.000000e+00</td>\n      <td>1.241700e+04</td>\n      <td>5.000000e+00</td>\n      <td>5.422000e+04</td>\n      <td>2.875000e+04</td>\n      <td>1.356500e+04</td>\n      <td>1.518500e+04</td>\n      <td>4.900000e+01</td>\n      <td>9.600000e+01</td>\n      <td>...</td>\n      <td>8.500000e+01</td>\n      <td>9.900000e+01</td>\n      <td>4.200000e+01</td>\n      <td>1.700000e+01</td>\n      <td>4.600000e+01</td>\n      <td>4.600000e+01</td>\n      <td>9.800000e+01</td>\n      <td>1.301500e+04</td>\n      <td>1.281300e+04</td>\n      <td>2.411000e+03</td>\n    </tr>\n  </tbody>\n</table>\n<p>8 rows × 32 columns</p>\n</div>"
     },
     "metadata": {},
     "execution_count": 87
    }
   ],
   "source": [
    "# Beschrijvende statistieken van de data\n",
    "beschrijvende_stats = data_demografie.describe()\n",
    "beschrijvende_stats"
   ]
  },
  {
   "cell_type": "code",
   "execution_count": 90,
   "metadata": {},
   "outputs": [
    {
     "output_type": "execute_result",
     "data": {
      "text/plain": "Index(['BU_CODE', 'JRSTATCODE', 'BU_NAAM', 'WK_CODE', 'WK_NAAM', 'GM_CODE',\n       'GM_NAAM', 'IND_WBI', 'WATER', 'POSTCODE', 'DEK_PERC', 'OAD', 'STED',\n       'BEV_DICHTH', 'AANT_INW', 'AANT_MAN', 'AANT_VROUW', 'P_00_14_JR',\n       'P_15_24_JR', 'P_25_44_JR', 'P_45_64_JR', 'P_65_EO_JR', 'P_ONGEHUWD',\n       'P_GEHUWD', 'P_GESCHEID', 'P_VERWEDUW', 'AANTAL_HH', 'P_EENP_HH',\n       'P_HH_Z_K', 'P_HH_M_K', 'GEM_HH_GR', 'P_WEST_AL', 'P_N_W_AL',\n       'P_MAROKKO', 'P_ANT_ARU', 'P_SURINAM', 'P_TURKIJE', 'P_OVER_NW',\n       'OPP_TOT', 'OPP_LAND', 'OPP_WATER', 'geometry'],\n      dtype='object')"
     },
     "metadata": {},
     "execution_count": 90
    }
   ],
   "source": [
    "# Informatie over de kolomnamen in de Dataframe\n",
    "data_demografie.columns"
   ]
  },
  {
   "cell_type": "code",
   "execution_count": 91,
   "metadata": {},
   "outputs": [
    {
     "output_type": "execute_result",
     "data": {
      "text/plain": "BU_CODE        0\nJRSTATCODE     0\nBU_NAAM        0\nWK_CODE        0\nWK_NAAM        0\nGM_CODE        0\nGM_NAAM        0\nIND_WBI        0\nWATER          0\nPOSTCODE      95\nDEK_PERC       0\nOAD            0\nSTED           0\nBEV_DICHTH     0\nAANT_INW       0\nAANT_MAN       0\nAANT_VROUW     0\nP_00_14_JR     0\nP_15_24_JR     0\nP_25_44_JR     0\nP_45_64_JR     0\nP_65_EO_JR     0\nP_ONGEHUWD     0\nP_GEHUWD       0\nP_GESCHEID     0\nP_VERWEDUW     0\nAANTAL_HH      0\nP_EENP_HH      0\nP_HH_Z_K       0\nP_HH_M_K       0\nGEM_HH_GR      0\nP_WEST_AL      0\nP_N_W_AL       0\nP_MAROKKO      0\nP_ANT_ARU      0\nP_SURINAM      0\nP_TURKIJE      0\nP_OVER_NW      0\nOPP_TOT        0\nOPP_LAND       0\nOPP_WATER      0\ngeometry       0\ndtype: int64"
     },
     "metadata": {},
     "execution_count": 91
    }
   ],
   "source": [
    "# Controleren op nulwaarden in de dataframe\n",
    "data_demografie.isna().sum()"
   ]
  },
  {
   "cell_type": "markdown",
   "metadata": {},
   "source": [
    "## Data Exploratie\n",
    "In dit gedeelte worden een aantal plotjes getoont over de data. Ook wordt er gekeken naar de kwaliteit van de data."
   ]
  },
  {
   "cell_type": "code",
   "execution_count": null,
   "metadata": {},
   "outputs": [],
   "source": []
  }
 ]
}