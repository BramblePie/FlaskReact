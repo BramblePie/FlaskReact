{
 "nbformat": 4,
 "nbformat_minor": 2,
 "metadata": {
  "language_info": {
   "name": "python",
   "codemirror_mode": {
    "name": "ipython",
    "version": 3
   },
   "version": "3.7.4-final"
  },
  "orig_nbformat": 2,
  "file_extension": ".py",
  "mimetype": "text/x-python",
  "name": "python",
  "npconvert_exporter": "python",
  "pygments_lexer": "ipython3",
  "version": 3,
  "kernelspec": {
   "name": "python3",
   "display_name": "Python 3"
  }
 },
 "cells": [
  {
   "cell_type": "markdown",
   "metadata": {},
   "source": [
    "# Data understanding"
   ]
  },
  {
   "cell_type": "markdown",
   "metadata": {},
   "source": [
    "Het CSV-bestand bestaat uit een viertal kolommen, elk met eigen attributten.\n",
    " - `Perdioden` is het jaartal waarin de gemiddelde huisprijs is gemeten.\n",
    " - `Regio's` is de regio waar de gegevens van de gemiddelde huisprijs bekent zijn.\n",
    " - `Gemiddelde verkoopprijs (euro)` is de hoogte van de gemiddelde huisprijs in een bepaalde regio en bepaalde periode. "
   ]
  },
  {
   "cell_type": "markdown",
   "metadata": {},
   "source": [
    "## Beschrijven van de data\n",
    "\n",
    "Hieronder wordt de data beschreven. Dit wordt telkens door een stukje code gedaan, met comments erbij."
   ]
  },
  {
   "cell_type": "code",
   "execution_count": 1,
   "metadata": {},
   "outputs": [],
   "source": [
    "# Importeren van de benodigde packages.\n",
    "import pandas as pd\n",
    "import geopandas as gpd\n",
    ""
   ]
  },
  {
   "cell_type": "code",
   "execution_count": 2,
   "metadata": {},
   "outputs": [
    {
     "output_type": "execute_result",
     "data": {
      "text/plain": "     Perioden Regio's  Gemiddelde verkoopprijs (euro)\n0        1995  Arnhem                           80240\n1        2000  Arnhem                          149386\n2        2005  Arnhem                          188779\n3        2010  Arnhem                          204498\n4        2011  Arnhem                          212747\n..        ...     ...                             ...\n151      2015  Zwolle                          218349\n152      2016  Zwolle                          228479\n153      2017  Zwolle                          245803\n154      2018  Zwolle                          279684\n155      2019  Zwolle                          293098\n\n[156 rows x 3 columns]",
      "text/html": "<div>\n<style scoped>\n    .dataframe tbody tr th:only-of-type {\n        vertical-align: middle;\n    }\n\n    .dataframe tbody tr th {\n        vertical-align: top;\n    }\n\n    .dataframe thead th {\n        text-align: right;\n    }\n</style>\n<table border=\"1\" class=\"dataframe\">\n  <thead>\n    <tr style=\"text-align: right;\">\n      <th></th>\n      <th>Perioden</th>\n      <th>Regio's</th>\n      <th>Gemiddelde verkoopprijs (euro)</th>\n    </tr>\n  </thead>\n  <tbody>\n    <tr>\n      <th>0</th>\n      <td>1995</td>\n      <td>Arnhem</td>\n      <td>80240</td>\n    </tr>\n    <tr>\n      <th>1</th>\n      <td>2000</td>\n      <td>Arnhem</td>\n      <td>149386</td>\n    </tr>\n    <tr>\n      <th>2</th>\n      <td>2005</td>\n      <td>Arnhem</td>\n      <td>188779</td>\n    </tr>\n    <tr>\n      <th>3</th>\n      <td>2010</td>\n      <td>Arnhem</td>\n      <td>204498</td>\n    </tr>\n    <tr>\n      <th>4</th>\n      <td>2011</td>\n      <td>Arnhem</td>\n      <td>212747</td>\n    </tr>\n    <tr>\n      <th>...</th>\n      <td>...</td>\n      <td>...</td>\n      <td>...</td>\n    </tr>\n    <tr>\n      <th>151</th>\n      <td>2015</td>\n      <td>Zwolle</td>\n      <td>218349</td>\n    </tr>\n    <tr>\n      <th>152</th>\n      <td>2016</td>\n      <td>Zwolle</td>\n      <td>228479</td>\n    </tr>\n    <tr>\n      <th>153</th>\n      <td>2017</td>\n      <td>Zwolle</td>\n      <td>245803</td>\n    </tr>\n    <tr>\n      <th>154</th>\n      <td>2018</td>\n      <td>Zwolle</td>\n      <td>279684</td>\n    </tr>\n    <tr>\n      <th>155</th>\n      <td>2019</td>\n      <td>Zwolle</td>\n      <td>293098</td>\n    </tr>\n  </tbody>\n</table>\n<p>156 rows × 3 columns</p>\n</div>"
     },
     "metadata": {},
     "execution_count": 2
    }
   ],
   "source": [
    "# Importeren van de dataset en in een bestand zetten.\n",
    "file = \"../../../raw-data/Bestaande_koopwoningen__prijzen__regio_14042020_114827.csv\"\n",
    "perceelprijzen = pd.read_csv(file, sep=\";\")\n",
    "perceelprijzen"
   ]
  },
  {
   "cell_type": "code",
   "execution_count": 3,
   "metadata": {},
   "outputs": [
    {
     "output_type": "execute_result",
     "data": {
      "text/plain": "          Perioden  Gemiddelde verkoopprijs (euro)\ncount   156.000000                      156.000000\nmean   2011.153846                   207055.916667\nstd       6.915298                    62585.033309\nmin    1995.000000                    56599.000000\n25%    2010.000000                   173257.000000\n50%    2013.000000                   210899.000000\n75%    2016.000000                   243404.500000\nmax    2019.000000                   417583.000000",
      "text/html": "<div>\n<style scoped>\n    .dataframe tbody tr th:only-of-type {\n        vertical-align: middle;\n    }\n\n    .dataframe tbody tr th {\n        vertical-align: top;\n    }\n\n    .dataframe thead th {\n        text-align: right;\n    }\n</style>\n<table border=\"1\" class=\"dataframe\">\n  <thead>\n    <tr style=\"text-align: right;\">\n      <th></th>\n      <th>Perioden</th>\n      <th>Gemiddelde verkoopprijs (euro)</th>\n    </tr>\n  </thead>\n  <tbody>\n    <tr>\n      <th>count</th>\n      <td>156.000000</td>\n      <td>156.000000</td>\n    </tr>\n    <tr>\n      <th>mean</th>\n      <td>2011.153846</td>\n      <td>207055.916667</td>\n    </tr>\n    <tr>\n      <th>std</th>\n      <td>6.915298</td>\n      <td>62585.033309</td>\n    </tr>\n    <tr>\n      <th>min</th>\n      <td>1995.000000</td>\n      <td>56599.000000</td>\n    </tr>\n    <tr>\n      <th>25%</th>\n      <td>2010.000000</td>\n      <td>173257.000000</td>\n    </tr>\n    <tr>\n      <th>50%</th>\n      <td>2013.000000</td>\n      <td>210899.000000</td>\n    </tr>\n    <tr>\n      <th>75%</th>\n      <td>2016.000000</td>\n      <td>243404.500000</td>\n    </tr>\n    <tr>\n      <th>max</th>\n      <td>2019.000000</td>\n      <td>417583.000000</td>\n    </tr>\n  </tbody>\n</table>\n</div>"
     },
     "metadata": {},
     "execution_count": 3
    }
   ],
   "source": [
    "# Beschrijvende statistieken van de data\n",
    "beschrijvende_perceelprijzen = perceelprijzen.describe()\n",
    "beschrijvende_perceelprijzen"
   ]
  },
  {
   "cell_type": "code",
   "execution_count": 4,
   "metadata": {},
   "outputs": [
    {
     "output_type": "execute_result",
     "data": {
      "text/plain": "         Gemiddelde verkoopprijs (euro)                               \\\n                                  count           mean           std   \nPerioden                                                               \n1995                               12.0   80621.666667  12518.380576   \n2000                               12.0  141246.000000  28655.392226   \n2005                               12.0  196732.166667  29852.685741   \n2010                               12.0  215694.666667  32937.637039   \n2011                               12.0  215126.083333  34843.619918   \n2012                               12.0  205850.500000  32289.629907   \n2013                               12.0  196763.000000  29721.601728   \n2014                               12.0  202427.416667  30101.460996   \n2015                               12.0  210905.333333  34309.736416   \n2016                               12.0  222474.916667  38520.046182   \n2017                               12.0  242403.000000  46520.312277   \n2018                               12.0  270078.666667  57133.430607   \n2019                               12.0  291403.500000  61624.216429   \n\n                                                              \n               min        25%       50%        75%       max  \nPerioden                                                      \n1995       56599.0   74773.00   81706.0   86210.00  100092.0  \n2000       95702.0  122954.25  142377.0  162863.50  191688.0  \n2005      143596.0  172984.50  200842.0  215423.00  246806.0  \n2010      162912.0  191732.75  214542.5  233728.00  267413.0  \n2011      164585.0  182838.00  216817.0  234513.50  265863.0  \n2012      154669.0  180309.00  208274.5  222828.25  252145.0  \n2013      143835.0  170532.50  206067.0  217421.75  234272.0  \n2014      154238.0  174557.75  204907.0  226012.75  245391.0  \n2015      157690.0  182877.75  208938.5  234951.50  268197.0  \n2016      164437.0  190107.00  218268.0  250213.25  290367.0  \n2017      177737.0  205030.75  236720.5  272223.50  324843.0  \n2018      196578.0  228004.25  259556.5  307264.00  383576.0  \n2019      215883.0  254195.50  272045.5  326921.50  417583.0  ",
      "text/html": "<div>\n<style scoped>\n    .dataframe tbody tr th:only-of-type {\n        vertical-align: middle;\n    }\n\n    .dataframe tbody tr th {\n        vertical-align: top;\n    }\n\n    .dataframe thead tr th {\n        text-align: left;\n    }\n\n    .dataframe thead tr:last-of-type th {\n        text-align: right;\n    }\n</style>\n<table border=\"1\" class=\"dataframe\">\n  <thead>\n    <tr>\n      <th></th>\n      <th colspan=\"8\" halign=\"left\">Gemiddelde verkoopprijs (euro)</th>\n    </tr>\n    <tr>\n      <th></th>\n      <th>count</th>\n      <th>mean</th>\n      <th>std</th>\n      <th>min</th>\n      <th>25%</th>\n      <th>50%</th>\n      <th>75%</th>\n      <th>max</th>\n    </tr>\n    <tr>\n      <th>Perioden</th>\n      <th></th>\n      <th></th>\n      <th></th>\n      <th></th>\n      <th></th>\n      <th></th>\n      <th></th>\n      <th></th>\n    </tr>\n  </thead>\n  <tbody>\n    <tr>\n      <th>1995</th>\n      <td>12.0</td>\n      <td>80621.666667</td>\n      <td>12518.380576</td>\n      <td>56599.0</td>\n      <td>74773.00</td>\n      <td>81706.0</td>\n      <td>86210.00</td>\n      <td>100092.0</td>\n    </tr>\n    <tr>\n      <th>2000</th>\n      <td>12.0</td>\n      <td>141246.000000</td>\n      <td>28655.392226</td>\n      <td>95702.0</td>\n      <td>122954.25</td>\n      <td>142377.0</td>\n      <td>162863.50</td>\n      <td>191688.0</td>\n    </tr>\n    <tr>\n      <th>2005</th>\n      <td>12.0</td>\n      <td>196732.166667</td>\n      <td>29852.685741</td>\n      <td>143596.0</td>\n      <td>172984.50</td>\n      <td>200842.0</td>\n      <td>215423.00</td>\n      <td>246806.0</td>\n    </tr>\n    <tr>\n      <th>2010</th>\n      <td>12.0</td>\n      <td>215694.666667</td>\n      <td>32937.637039</td>\n      <td>162912.0</td>\n      <td>191732.75</td>\n      <td>214542.5</td>\n      <td>233728.00</td>\n      <td>267413.0</td>\n    </tr>\n    <tr>\n      <th>2011</th>\n      <td>12.0</td>\n      <td>215126.083333</td>\n      <td>34843.619918</td>\n      <td>164585.0</td>\n      <td>182838.00</td>\n      <td>216817.0</td>\n      <td>234513.50</td>\n      <td>265863.0</td>\n    </tr>\n    <tr>\n      <th>2012</th>\n      <td>12.0</td>\n      <td>205850.500000</td>\n      <td>32289.629907</td>\n      <td>154669.0</td>\n      <td>180309.00</td>\n      <td>208274.5</td>\n      <td>222828.25</td>\n      <td>252145.0</td>\n    </tr>\n    <tr>\n      <th>2013</th>\n      <td>12.0</td>\n      <td>196763.000000</td>\n      <td>29721.601728</td>\n      <td>143835.0</td>\n      <td>170532.50</td>\n      <td>206067.0</td>\n      <td>217421.75</td>\n      <td>234272.0</td>\n    </tr>\n    <tr>\n      <th>2014</th>\n      <td>12.0</td>\n      <td>202427.416667</td>\n      <td>30101.460996</td>\n      <td>154238.0</td>\n      <td>174557.75</td>\n      <td>204907.0</td>\n      <td>226012.75</td>\n      <td>245391.0</td>\n    </tr>\n    <tr>\n      <th>2015</th>\n      <td>12.0</td>\n      <td>210905.333333</td>\n      <td>34309.736416</td>\n      <td>157690.0</td>\n      <td>182877.75</td>\n      <td>208938.5</td>\n      <td>234951.50</td>\n      <td>268197.0</td>\n    </tr>\n    <tr>\n      <th>2016</th>\n      <td>12.0</td>\n      <td>222474.916667</td>\n      <td>38520.046182</td>\n      <td>164437.0</td>\n      <td>190107.00</td>\n      <td>218268.0</td>\n      <td>250213.25</td>\n      <td>290367.0</td>\n    </tr>\n    <tr>\n      <th>2017</th>\n      <td>12.0</td>\n      <td>242403.000000</td>\n      <td>46520.312277</td>\n      <td>177737.0</td>\n      <td>205030.75</td>\n      <td>236720.5</td>\n      <td>272223.50</td>\n      <td>324843.0</td>\n    </tr>\n    <tr>\n      <th>2018</th>\n      <td>12.0</td>\n      <td>270078.666667</td>\n      <td>57133.430607</td>\n      <td>196578.0</td>\n      <td>228004.25</td>\n      <td>259556.5</td>\n      <td>307264.00</td>\n      <td>383576.0</td>\n    </tr>\n    <tr>\n      <th>2019</th>\n      <td>12.0</td>\n      <td>291403.500000</td>\n      <td>61624.216429</td>\n      <td>215883.0</td>\n      <td>254195.50</td>\n      <td>272045.5</td>\n      <td>326921.50</td>\n      <td>417583.0</td>\n    </tr>\n  </tbody>\n</table>\n</div>"
     },
     "metadata": {},
     "execution_count": 4
    }
   ],
   "source": [
    "# Beschrijvende statistieken per regio\n",
    "beschrijvende_periode_perceelprijzen = perceelprijzen.groupby([\"Perioden\"]).describe()\n",
    "beschrijvende_periode_perceelprijzen"
   ]
  },
  {
   "cell_type": "code",
   "execution_count": 23,
   "metadata": {},
   "outputs": [
    {
     "output_type": "stream",
     "name": "stdout",
     "text": "<class 'pandas.core.frame.DataFrame'>\nRangeIndex: 156 entries, 0 to 155\nData columns (total 3 columns):\n #   Column                          Non-Null Count  Dtype \n---  ------                          --------------  ----- \n 0   Perioden                        156 non-null    int64 \n 1   Regio's                         156 non-null    object\n 2   Gemiddelde verkoopprijs (euro)  156 non-null    int64 \ndtypes: int64(2), object(1)\nmemory usage: 3.8+ KB\n"
    }
   ],
   "source": [
    "# Info over de kolommen in perceelprijzen\n",
    "info_perceel = perceelprijzen.info()\n",
    "info_perceel"
   ]
  },
  {
   "cell_type": "code",
   "execution_count": 24,
   "metadata": {},
   "outputs": [
    {
     "output_type": "execute_result",
     "data": {
      "text/plain": "Index(['Perioden', 'Regio's', 'Gemiddelde verkoopprijs (euro)'], dtype='object')"
     },
     "metadata": {},
     "execution_count": 24
    }
   ],
   "source": [
    "# Informatie over de kolomnamen in de Dataframe\n",
    "perceelprijzen.columns"
   ]
  },
  {
   "cell_type": "code",
   "execution_count": 25,
   "metadata": {},
   "outputs": [
    {
     "output_type": "execute_result",
     "data": {
      "text/plain": "Perioden                          0\nRegio's                           0\nGemiddelde verkoopprijs (euro)    0\ndtype: int64"
     },
     "metadata": {},
     "execution_count": 25
    }
   ],
   "source": [
    "# Controleren op nulwaarden in de dataframe\n",
    "perceelprijzen.isna().sum()"
   ]
  }
 ]
}