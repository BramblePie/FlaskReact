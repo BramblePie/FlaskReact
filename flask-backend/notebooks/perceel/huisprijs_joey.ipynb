{
 "nbformat": 4,
 "nbformat_minor": 2,
 "metadata": {
  "language_info": {
   "name": "python",
   "codemirror_mode": {
    "name": "ipython",
    "version": 3
   },
   "version": "3.7.4-final"
  },
  "orig_nbformat": 2,
  "file_extension": ".py",
  "mimetype": "text/x-python",
  "name": "python",
  "npconvert_exporter": "python",
  "pygments_lexer": "ipython3",
  "version": 3,
  "kernelspec": {
   "name": "python3",
   "display_name": "Python 3"
  }
 },
 "cells": [
  {
   "cell_type": "code",
   "execution_count": 1,
   "metadata": {},
   "outputs": [],
   "source": [
    "#importeren van de benodigde packages\n",
    "import pandas as pd\n",
    "import geopandas as gpd\n",
    ""
   ]
  },
  {
   "cell_type": "code",
   "execution_count": 3,
   "metadata": {},
   "outputs": [
    {
     "output_type": "execute_result",
     "data": {
      "text/plain": "     Perioden Regio's  Gemiddelde verkoopprijs (euro)\n0        1995  Arnhem                           80240\n1        2000  Arnhem                          149386\n2        2005  Arnhem                          188779\n3        2010  Arnhem                          204498\n4        2011  Arnhem                          212747\n..        ...     ...                             ...\n151      2015  Zwolle                          218349\n152      2016  Zwolle                          228479\n153      2017  Zwolle                          245803\n154      2018  Zwolle                          279684\n155      2019  Zwolle                          293098\n\n[156 rows x 3 columns]",
      "text/html": "<div>\n<style scoped>\n    .dataframe tbody tr th:only-of-type {\n        vertical-align: middle;\n    }\n\n    .dataframe tbody tr th {\n        vertical-align: top;\n    }\n\n    .dataframe thead th {\n        text-align: right;\n    }\n</style>\n<table border=\"1\" class=\"dataframe\">\n  <thead>\n    <tr style=\"text-align: right;\">\n      <th></th>\n      <th>Perioden</th>\n      <th>Regio's</th>\n      <th>Gemiddelde verkoopprijs (euro)</th>\n    </tr>\n  </thead>\n  <tbody>\n    <tr>\n      <th>0</th>\n      <td>1995</td>\n      <td>Arnhem</td>\n      <td>80240</td>\n    </tr>\n    <tr>\n      <th>1</th>\n      <td>2000</td>\n      <td>Arnhem</td>\n      <td>149386</td>\n    </tr>\n    <tr>\n      <th>2</th>\n      <td>2005</td>\n      <td>Arnhem</td>\n      <td>188779</td>\n    </tr>\n    <tr>\n      <th>3</th>\n      <td>2010</td>\n      <td>Arnhem</td>\n      <td>204498</td>\n    </tr>\n    <tr>\n      <th>4</th>\n      <td>2011</td>\n      <td>Arnhem</td>\n      <td>212747</td>\n    </tr>\n    <tr>\n      <th>...</th>\n      <td>...</td>\n      <td>...</td>\n      <td>...</td>\n    </tr>\n    <tr>\n      <th>151</th>\n      <td>2015</td>\n      <td>Zwolle</td>\n      <td>218349</td>\n    </tr>\n    <tr>\n      <th>152</th>\n      <td>2016</td>\n      <td>Zwolle</td>\n      <td>228479</td>\n    </tr>\n    <tr>\n      <th>153</th>\n      <td>2017</td>\n      <td>Zwolle</td>\n      <td>245803</td>\n    </tr>\n    <tr>\n      <th>154</th>\n      <td>2018</td>\n      <td>Zwolle</td>\n      <td>279684</td>\n    </tr>\n    <tr>\n      <th>155</th>\n      <td>2019</td>\n      <td>Zwolle</td>\n      <td>293098</td>\n    </tr>\n  </tbody>\n</table>\n<p>156 rows × 3 columns</p>\n</div>"
     },
     "metadata": {},
     "execution_count": 3
    }
   ],
   "source": [
    "file = \"../../../raw-data/Bestaande_koopwoningen__prijzen__regio_14042020_114827.csv\"\n",
    "data = pd.read_csv(file, sep=\";\")\n",
    "data"
   ]
  },
  {
   "cell_type": "code",
   "execution_count": null,
   "metadata": {},
   "outputs": [],
   "source": []
  }
 ]
}