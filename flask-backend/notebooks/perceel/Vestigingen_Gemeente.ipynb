{
 "cells": [
  {
   "cell_type": "markdown",
   "metadata": {},
   "source": [
    "# Data understanding"
   ]
  },
  {
   "cell_type": "markdown",
   "metadata": {},
   "source": [
    "De gebruikte dataset is “Vestigingen_Gemeente\" (https://opendata.cbs.nl/statline/#/CBS/nl/dataset/81575NED/table?ts=1584707583585). \n",
    "\n",
    "De CBS data is een csv bestand, dit staat voor comma seperated values of door comma gescheide waarden in het nederlands.\n",
    "De data bevat de volgende kolomen:\n",
    " - `ID` is de unieke waarde voor elke row.\n",
    " - `Bedrijfstakken/branches SBI 2008` geeft de waarde weer in welke bedrijfstak/branch de bedrijfen zit.\n",
    " - `Perioden` geeft de periode aan waarin de bedrijfstak/branch actief in is.\n",
    " - `Regio's` is de regio waarin de behorende bedrijfstak/branch actief in is.\n",
    " - `Vestigingen (aantal)` is de aantal vestigingen die binnen die bedrijfstak/branch geteld zijn per regio en per periode."
   ]
  },
  {
   "cell_type": "code",
   "execution_count": 10,
   "metadata": {},
   "outputs": [],
   "source": [
    "import pandas as pd\n",
    "import geopandas as gpd\n",
    "import seaborn as sb"
   ]
  },
  {
   "cell_type": "code",
   "execution_count": 13,
   "metadata": {},
   "outputs": [
    {
     "output_type": "execute_result",
     "data": {
      "text/plain": "     Bedrijfstakken/branches SBI 2008 Perioden             Regio's  \\\n0     A Landbouw, bosbouw en visserij    2020*           Amsterdam   \n1     A Landbouw, bosbouw en visserij    2020*              Arnhem   \n2     A Landbouw, bosbouw en visserij    2020*               Assen   \n3     A Landbouw, bosbouw en visserij    2020*               Breda   \n4     A Landbouw, bosbouw en visserij    2020*           Eindhoven   \n..                                ...      ...                 ...   \n318  U Extraterritoriale organisaties    2020*     Middelburg (Z.)   \n319  U Extraterritoriale organisaties    2020*           Rotterdam   \n320  U Extraterritoriale organisaties    2020*             Tilburg   \n321  U Extraterritoriale organisaties    2020*  Utrecht (gemeente)   \n322  U Extraterritoriale organisaties    2020*              Zwolle   \n\n     Vestigingen (aantal)  \n0                     130  \n1                      55  \n2                      75  \n3                     210  \n4                      45  \n..                    ...  \n318                     0  \n319                     5  \n320                     0  \n321                     0  \n322                     0  \n\n[323 rows x 4 columns]",
      "text/html": "<div>\n<style scoped>\n    .dataframe tbody tr th:only-of-type {\n        vertical-align: middle;\n    }\n\n    .dataframe tbody tr th {\n        vertical-align: top;\n    }\n\n    .dataframe thead th {\n        text-align: right;\n    }\n</style>\n<table border=\"1\" class=\"dataframe\">\n  <thead>\n    <tr style=\"text-align: right;\">\n      <th></th>\n      <th>Bedrijfstakken/branches SBI 2008</th>\n      <th>Perioden</th>\n      <th>Regio's</th>\n      <th>Vestigingen (aantal)</th>\n    </tr>\n  </thead>\n  <tbody>\n    <tr>\n      <th>0</th>\n      <td>A Landbouw, bosbouw en visserij</td>\n      <td>2020*</td>\n      <td>Amsterdam</td>\n      <td>130</td>\n    </tr>\n    <tr>\n      <th>1</th>\n      <td>A Landbouw, bosbouw en visserij</td>\n      <td>2020*</td>\n      <td>Arnhem</td>\n      <td>55</td>\n    </tr>\n    <tr>\n      <th>2</th>\n      <td>A Landbouw, bosbouw en visserij</td>\n      <td>2020*</td>\n      <td>Assen</td>\n      <td>75</td>\n    </tr>\n    <tr>\n      <th>3</th>\n      <td>A Landbouw, bosbouw en visserij</td>\n      <td>2020*</td>\n      <td>Breda</td>\n      <td>210</td>\n    </tr>\n    <tr>\n      <th>4</th>\n      <td>A Landbouw, bosbouw en visserij</td>\n      <td>2020*</td>\n      <td>Eindhoven</td>\n      <td>45</td>\n    </tr>\n    <tr>\n      <th>...</th>\n      <td>...</td>\n      <td>...</td>\n      <td>...</td>\n      <td>...</td>\n    </tr>\n    <tr>\n      <th>318</th>\n      <td>U Extraterritoriale organisaties</td>\n      <td>2020*</td>\n      <td>Middelburg (Z.)</td>\n      <td>0</td>\n    </tr>\n    <tr>\n      <th>319</th>\n      <td>U Extraterritoriale organisaties</td>\n      <td>2020*</td>\n      <td>Rotterdam</td>\n      <td>5</td>\n    </tr>\n    <tr>\n      <th>320</th>\n      <td>U Extraterritoriale organisaties</td>\n      <td>2020*</td>\n      <td>Tilburg</td>\n      <td>0</td>\n    </tr>\n    <tr>\n      <th>321</th>\n      <td>U Extraterritoriale organisaties</td>\n      <td>2020*</td>\n      <td>Utrecht (gemeente)</td>\n      <td>0</td>\n    </tr>\n    <tr>\n      <th>322</th>\n      <td>U Extraterritoriale organisaties</td>\n      <td>2020*</td>\n      <td>Zwolle</td>\n      <td>0</td>\n    </tr>\n  </tbody>\n</table>\n<p>323 rows × 4 columns</p>\n</div>"
     },
     "metadata": {},
     "execution_count": 13
    }
   ],
   "source": [
    "file = \"../../../raw-data/Vestigingen_Gemeente.csv\"\n",
    "data = pd.read_csv(file, sep=\";\")\n",
    "\n",
    "data"
   ]
  }
 ],
 "metadata": {
  "kernelspec": {
   "display_name": "Python 3",
   "language": "python",
   "name": "python3"
  },
  "language_info": {
   "codemirror_mode": {
    "name": "ipython",
    "version": 3
   },
   "file_extension": ".py",
   "mimetype": "text/x-python",
   "name": "python",
   "nbconvert_exporter": "python",
   "pygments_lexer": "ipython3",
   "version": "3.7.7-final"
  }
 },
 "nbformat": 4,
 "nbformat_minor": 4
}