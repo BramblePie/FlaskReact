{
 "nbformat": 4,
 "nbformat_minor": 2,
 "metadata": {
  "language_info": {
   "name": "python",
   "codemirror_mode": {
    "name": "ipython",
    "version": 3
   },
   "version": "3.7.7-final"
  },
  "orig_nbformat": 2,
  "file_extension": ".py",
  "mimetype": "text/x-python",
  "name": "python",
  "npconvert_exporter": "python",
  "pygments_lexer": "ipython3",
  "version": 3,
  "kernelspec": {
   "name": "python3",
   "display_name": "Python 3"
  }
 },
 "cells": [
  {
   "cell_type": "markdown",
   "metadata": {},
   "source": [
    "# Data understanding\n",
    "\n",
    "De gebruikte dataset is “Geregistreerde criminaliteit\" (https://opendata.cbs.nl/statline/#/CBS/nl/dataset/83648NED/table?fromstatweb). \n",
    "\n",
    "De CBS data is een csv bestand, dit staat voor comma seperated values of door comma gescheide waarden in het nederlands.\n",
    "De data bevat de volgende kolomen:\n",
    " - `ID` is de unieke waarde voor elke row.\n",
    " - `Soort misdrijf` geeft aan welke om wat voor misdrijf het gaat.\n",
    " - `Perioden` geeft de periode aan waarin de misdrijven en aantal misdrijven zijn uitgevoerd.\n",
    " - `Regio's` is de regio waarin de genoemde aantal misdrijven in zijn gebeurd.\n",
    " - `Geregistreerde misdrijven/Totaal geregistreerde misdrijven (aantal)` is de aantal misdrijven die binnen een provincie/gemeente geregistreerd zijn.\n",
    " - `Geregistreerde misdrijven/Geregistreerde misdrijven, relatief (% van totaal geregistreerde misdrijven)` is de procentuele aantal van de totaal geregistreerde misdrijven.\n",
    " - `Geregistreerde misdrijven/Geregistreerde misdrijven per 1000 inw. (per 1.000 inwoners)` is de aantal misdrijven die binnen een provincie/gemeente geregistreerd zijn per 1.000 inwoners."
   ]
  },
  {
   "cell_type": "markdown",
   "metadata": {},
   "source": [
    "## Beschrijven van de data\n",
    "\n",
    "Hieronder staat een beschrijving van de data vanuit de Centraal Bureau Statistieken. Dit wordt telkens door middel van een stukje code weergegeven. "
   ]
  },
  {
   "cell_type": "code",
   "execution_count": 44,
   "metadata": {},
   "outputs": [
    {
     "output_type": "execute_result",
     "data": {
      "text/plain": "               Soort misdrijf Perioden                      Regio's  \\\n0          Misdrijven, totaal     2015               Groningen (PV)   \n1          Misdrijven, totaal     2016               Groningen (PV)   \n2          Misdrijven, totaal     2017               Groningen (PV)   \n3          Misdrijven, totaal    2018*               Groningen (PV)   \n4          Misdrijven, totaal    2019*               Groningen (PV)   \n...                       ...      ...                          ...   \n176995  9.2 Misdrijf (overig)     2015  Niet-gemeentelijk ingedeeld   \n176996  9.2 Misdrijf (overig)     2016  Niet-gemeentelijk ingedeeld   \n176997  9.2 Misdrijf (overig)     2017  Niet-gemeentelijk ingedeeld   \n176998  9.2 Misdrijf (overig)    2018*  Niet-gemeentelijk ingedeeld   \n176999  9.2 Misdrijf (overig)    2019*  Niet-gemeentelijk ingedeeld   \n\n        Geregistreerde misdrijven/Totaal geregistreerde misdrijven (aantal)  \\\n0                                                 30065.0                     \n1                                                 29570.0                     \n2                                                 24990.0                     \n3                                                 24035.0                     \n4                                                 24865.0                     \n...                                                   ...                     \n176995                                               10.0                     \n176996                                               10.0                     \n176997                                               20.0                     \n176998                                               25.0                     \n176999                                               10.0                     \n\n        Geregistreerde misdrijven/Geregistreerde misdrijven, relatief (% van totaal geregistreerde misdrijven)  \\\n0                                                   100.0                                                        \n1                                                   100.0                                                        \n2                                                   100.0                                                        \n3                                                   100.0                                                        \n4                                                   100.0                                                        \n...                                                   ...                                                        \n176995                                                1.0                                                        \n176996                                                1.0                                                        \n176997                                                1.0                                                        \n176998                                                1.0                                                        \n176999                                                0.0                                                        \n\n       Geregistreerde misdrijven/Geregistreerde misdrijven per 1000 inw.  (per 1 000 inwoners)  \n0                                                    51,5                                       \n1                                                    50,7                                       \n2                                                    42,8                                       \n3                                                    41,2                                       \n4                                                    42,6                                       \n...                                                   ...                                       \n176995                                                NaN                                       \n176996                                                NaN                                       \n176997                                                NaN                                       \n176998                                                NaN                                       \n176999                                                NaN                                       \n\n[177000 rows x 6 columns]",
      "text/html": "<div>\n<style scoped>\n    .dataframe tbody tr th:only-of-type {\n        vertical-align: middle;\n    }\n\n    .dataframe tbody tr th {\n        vertical-align: top;\n    }\n\n    .dataframe thead th {\n        text-align: right;\n    }\n</style>\n<table border=\"1\" class=\"dataframe\">\n  <thead>\n    <tr style=\"text-align: right;\">\n      <th></th>\n      <th>Soort misdrijf</th>\n      <th>Perioden</th>\n      <th>Regio's</th>\n      <th>Geregistreerde misdrijven/Totaal geregistreerde misdrijven (aantal)</th>\n      <th>Geregistreerde misdrijven/Geregistreerde misdrijven, relatief (% van totaal geregistreerde misdrijven)</th>\n      <th>Geregistreerde misdrijven/Geregistreerde misdrijven per 1000 inw.  (per 1 000 inwoners)</th>\n    </tr>\n  </thead>\n  <tbody>\n    <tr>\n      <th>0</th>\n      <td>Misdrijven, totaal</td>\n      <td>2015</td>\n      <td>Groningen (PV)</td>\n      <td>30065.0</td>\n      <td>100.0</td>\n      <td>51,5</td>\n    </tr>\n    <tr>\n      <th>1</th>\n      <td>Misdrijven, totaal</td>\n      <td>2016</td>\n      <td>Groningen (PV)</td>\n      <td>29570.0</td>\n      <td>100.0</td>\n      <td>50,7</td>\n    </tr>\n    <tr>\n      <th>2</th>\n      <td>Misdrijven, totaal</td>\n      <td>2017</td>\n      <td>Groningen (PV)</td>\n      <td>24990.0</td>\n      <td>100.0</td>\n      <td>42,8</td>\n    </tr>\n    <tr>\n      <th>3</th>\n      <td>Misdrijven, totaal</td>\n      <td>2018*</td>\n      <td>Groningen (PV)</td>\n      <td>24035.0</td>\n      <td>100.0</td>\n      <td>41,2</td>\n    </tr>\n    <tr>\n      <th>4</th>\n      <td>Misdrijven, totaal</td>\n      <td>2019*</td>\n      <td>Groningen (PV)</td>\n      <td>24865.0</td>\n      <td>100.0</td>\n      <td>42,6</td>\n    </tr>\n    <tr>\n      <th>...</th>\n      <td>...</td>\n      <td>...</td>\n      <td>...</td>\n      <td>...</td>\n      <td>...</td>\n      <td>...</td>\n    </tr>\n    <tr>\n      <th>176995</th>\n      <td>9.2 Misdrijf (overig)</td>\n      <td>2015</td>\n      <td>Niet-gemeentelijk ingedeeld</td>\n      <td>10.0</td>\n      <td>1.0</td>\n      <td>NaN</td>\n    </tr>\n    <tr>\n      <th>176996</th>\n      <td>9.2 Misdrijf (overig)</td>\n      <td>2016</td>\n      <td>Niet-gemeentelijk ingedeeld</td>\n      <td>10.0</td>\n      <td>1.0</td>\n      <td>NaN</td>\n    </tr>\n    <tr>\n      <th>176997</th>\n      <td>9.2 Misdrijf (overig)</td>\n      <td>2017</td>\n      <td>Niet-gemeentelijk ingedeeld</td>\n      <td>20.0</td>\n      <td>1.0</td>\n      <td>NaN</td>\n    </tr>\n    <tr>\n      <th>176998</th>\n      <td>9.2 Misdrijf (overig)</td>\n      <td>2018*</td>\n      <td>Niet-gemeentelijk ingedeeld</td>\n      <td>25.0</td>\n      <td>1.0</td>\n      <td>NaN</td>\n    </tr>\n    <tr>\n      <th>176999</th>\n      <td>9.2 Misdrijf (overig)</td>\n      <td>2019*</td>\n      <td>Niet-gemeentelijk ingedeeld</td>\n      <td>10.0</td>\n      <td>0.0</td>\n      <td>NaN</td>\n    </tr>\n  </tbody>\n</table>\n<p>177000 rows × 6 columns</p>\n</div>"
     },
     "metadata": {},
     "execution_count": 44
    }
   ],
   "source": [
    "import pandas as pd\n",
    "import geopandas as gpd\n",
    "import seaborn as sb\n",
    "import numpy as np\n",
    "import matplotlib.pyplot as plt\n",
    "\n",
    "# Dataset inlezen\n",
    "file = \"../../../raw-data/Veiligheid.csv\"\n",
    "data_veiligheid = pd.read_csv(file, sep=\";\")\n",
    "\n",
    "# Dataverkennen door dataframe te openen\n",
    "data_veiligheid"
   ]
  },
  {
   "cell_type": "code",
   "execution_count": 45,
   "metadata": {},
   "outputs": [
    {
     "output_type": "stream",
     "name": "stdout",
     "text": "<class 'pandas.core.frame.DataFrame'>\nRangeIndex: 177000 entries, 0 to 176999\nData columns (total 6 columns):\n #   Column                                                                                                  Non-Null Count   Dtype  \n---  ------                                                                                                  --------------   -----  \n 0   Soort misdrijf                                                                                          177000 non-null  object \n 1   Perioden                                                                                                177000 non-null  object \n 2   Regio's                                                                                                 177000 non-null  object \n 3   Geregistreerde misdrijven/Totaal geregistreerde misdrijven (aantal)                                     148200 non-null  float64\n 4   Geregistreerde misdrijven/Geregistreerde misdrijven, relatief (% van totaal geregistreerde misdrijven)  148200 non-null  float64\n 5   Geregistreerde misdrijven/Geregistreerde misdrijven per 1000 inw.  (per 1 000 inwoners)                 87965 non-null   object \ndtypes: float64(2), object(4)\nmemory usage: 8.1+ MB\n"
    }
   ],
   "source": [
    "# Info over de kolommen\n",
    "info_kolommen_veiligheid = data_veiligheid.info()\n",
    "info_kolommen_veiligheid"
   ]
  },
  {
   "cell_type": "code",
   "execution_count": 46,
   "metadata": {},
   "outputs": [
    {
     "output_type": "execute_result",
     "data": {
      "text/plain": "       Geregistreerde misdrijven/Totaal geregistreerde misdrijven (aantal)  \\\ncount                                      148200.000000                     \nmean                                          219.201113                     \nstd                                          2918.560582                     \nmin                                             0.000000                     \n25%                                             0.000000                     \n50%                                             5.000000                     \n75%                                            30.000000                     \nmax                                        224970.000000                     \n\n       Geregistreerde misdrijven/Geregistreerde misdrijven, relatief (% van totaal geregistreerde misdrijven)  \ncount                                      148200.000000                                                       \nmean                                            4.900385                                                       \nstd                                            14.944102                                                       \nmin                                             0.000000                                                       \n25%                                             0.000000                                                       \n50%                                             0.000000                                                       \n75%                                             2.000000                                                       \nmax                                           100.000000                                                       ",
      "text/html": "<div>\n<style scoped>\n    .dataframe tbody tr th:only-of-type {\n        vertical-align: middle;\n    }\n\n    .dataframe tbody tr th {\n        vertical-align: top;\n    }\n\n    .dataframe thead th {\n        text-align: right;\n    }\n</style>\n<table border=\"1\" class=\"dataframe\">\n  <thead>\n    <tr style=\"text-align: right;\">\n      <th></th>\n      <th>Geregistreerde misdrijven/Totaal geregistreerde misdrijven (aantal)</th>\n      <th>Geregistreerde misdrijven/Geregistreerde misdrijven, relatief (% van totaal geregistreerde misdrijven)</th>\n    </tr>\n  </thead>\n  <tbody>\n    <tr>\n      <th>count</th>\n      <td>148200.000000</td>\n      <td>148200.000000</td>\n    </tr>\n    <tr>\n      <th>mean</th>\n      <td>219.201113</td>\n      <td>4.900385</td>\n    </tr>\n    <tr>\n      <th>std</th>\n      <td>2918.560582</td>\n      <td>14.944102</td>\n    </tr>\n    <tr>\n      <th>min</th>\n      <td>0.000000</td>\n      <td>0.000000</td>\n    </tr>\n    <tr>\n      <th>25%</th>\n      <td>0.000000</td>\n      <td>0.000000</td>\n    </tr>\n    <tr>\n      <th>50%</th>\n      <td>5.000000</td>\n      <td>0.000000</td>\n    </tr>\n    <tr>\n      <th>75%</th>\n      <td>30.000000</td>\n      <td>2.000000</td>\n    </tr>\n    <tr>\n      <th>max</th>\n      <td>224970.000000</td>\n      <td>100.000000</td>\n    </tr>\n  </tbody>\n</table>\n</div>"
     },
     "metadata": {},
     "execution_count": 46
    }
   ],
   "source": [
    "# Beschrijvende statistieken van de data\n",
    "beschrijvende_stats_veiligheid = data_veiligheid.describe()\n",
    "beschrijvende_stats_veiligheid"
   ]
  },
  {
   "cell_type": "code",
   "execution_count": 48,
   "metadata": {},
   "outputs": [
    {
     "output_type": "execute_result",
     "data": {
      "text/plain": "Index(['Soort misdrijf', 'Perioden', 'Regio's',\n       'Geregistreerde misdrijven/Totaal geregistreerde misdrijven (aantal)',\n       'Geregistreerde misdrijven/Geregistreerde misdrijven, relatief (% van totaal geregistreerde misdrijven)',\n       'Geregistreerde misdrijven/Geregistreerde misdrijven per 1000 inw.  (per 1 000 inwoners)'],\n      dtype='object')"
     },
     "metadata": {},
     "execution_count": 48
    }
   ],
   "source": [
    "# Informatie over de kolomnamen in de Dataframe\n",
    "data_veiligheid.columns"
   ]
  },
  {
   "cell_type": "code",
   "execution_count": 50,
   "metadata": {},
   "outputs": [
    {
     "output_type": "execute_result",
     "data": {
      "text/plain": "Soort misdrijf                                                                                                0\nPerioden                                                                                                      0\nRegio's                                                                                                       0\nGeregistreerde misdrijven/Totaal geregistreerde misdrijven (aantal)                                       28800\nGeregistreerde misdrijven/Geregistreerde misdrijven, relatief (% van totaal geregistreerde misdrijven)    28800\nGeregistreerde misdrijven/Geregistreerde misdrijven per 1000 inw.  (per 1 000 inwoners)                   89035\ndtype: int64"
     },
     "metadata": {},
     "execution_count": 50
    }
   ],
   "source": [
    "# Controleren op nulwaarden in de dataframe\n",
    "data_veiligheid.isna().sum()"
   ]
  },
  {
   "cell_type": "code",
   "execution_count": null,
   "metadata": {},
   "outputs": [],
   "source": []
  },
  {
   "cell_type": "code",
   "execution_count": null,
   "metadata": {},
   "outputs": [],
   "source": []
  },
  {
   "cell_type": "code",
   "execution_count": null,
   "metadata": {},
   "outputs": [],
   "source": []
  },
  {
   "cell_type": "code",
   "execution_count": 52,
   "metadata": {},
   "outputs": [
    {
     "output_type": "execute_result",
     "data": {
      "text/plain": "0                              Misdrijven, totaal\n2360                        1 Vermogensmisdrijven\n4720        1.1 Diefstal/verduistering en inbraak\n7080         1.1.1 Diefstal en inbraak met geweld\n9440      1.1.2 Diefstal en inbraak zonder geweld\n                           ...                   \n165200                 6.3 Drugsmisdrijf (overig)\n167560                    7 (Vuur)wapenmisdrijven\n169920                9 Misdrijven overige wetten\n172280                      9.1 Militair misdrijf\n174640                      9.2 Misdrijf (overig)\nName: Soort misdrijf, Length: 75, dtype: object"
     },
     "metadata": {},
     "execution_count": 52
    }
   ],
   "source": [
    "test = data_veiligheid[\"Soort misdrijf\"].drop_duplicates()\n",
    "test"
   ]
  },
  {
   "cell_type": "code",
   "execution_count": null,
   "metadata": {},
   "outputs": [],
   "source": [
    "provincie = data_veiligheid[\"Soort misdrijf\"].loc[\"\"]"
   ]
  }
 ]
}