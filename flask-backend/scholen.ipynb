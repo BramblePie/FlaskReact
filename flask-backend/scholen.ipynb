{
 "cells": [
  {
   "cell_type": "code",
   "execution_count": 105,
   "metadata": {},
   "outputs": [],
   "source": [
    "\n",
    "import geopandas as gpd"
   ]
  },
  {
   "cell_type": "code",
   "execution_count": 222,
   "metadata": {},
   "outputs": [],
   "source": [
    "data = gpd.read_file('data/asbestscholenkaart.csv')\n",
    "data\n",
    "pd.options.display.max_columns = None\n",
    "pd.options.display.max_rows = None"
   ]
  },
  {
   "cell_type": "code",
   "execution_count": 206,
   "metadata": {},
   "outputs": [
    {
     "data": {
      "text/plain": [
       "soort_instelling       7\n",
       "naam_vestiging      6626\n",
       "plaatsnaam          1901\n",
       "straatnaam          6284\n",
       "postcode            7856\n",
       "huisnummer           431\n",
       "x_y_coordinaten     7923\n",
       "geometry            7923\n",
       "dtype: int64"
      ]
     },
     "execution_count": 206,
     "metadata": {},
     "output_type": "execute_result"
    }
   ],
   "source": [
    "data.nunique()"
   ]
  },
  {
   "cell_type": "code",
   "execution_count": 130,
   "metadata": {},
   "outputs": [],
   "source": [
    "data = data[[\"soort_instelling\",\"naam_vestiging\",\"plaatsnaam\",\"straatnaam\",\"postcode\",\"huisnummer\",\"x_y_coordinaten\"]]"
   ]
  },
  {
   "cell_type": "code",
   "execution_count": 131,
   "metadata": {},
   "outputs": [],
   "source": [
    "data[\"geometry\"] = data[\"x_y_coordinaten\"] \n"
   ]
  },
  {
   "cell_type": "code",
   "execution_count": 223,
   "metadata": {},
   "outputs": [],
   "source": [
    "plaats = \"Groningen\""
   ]
  },
  {
   "cell_type": "code",
   "execution_count": 224,
   "metadata": {},
   "outputs": [],
   "source": [
    "plaatsdata = data.loc[data['plaatsnaam'] == plaats]"
   ]
  },
  {
   "cell_type": "code",
   "execution_count": 225,
   "metadata": {},
   "outputs": [
    {
     "data": {
      "text/html": [
       "<div>\n",
       "<style scoped>\n",
       "    .dataframe tbody tr th:only-of-type {\n",
       "        vertical-align: middle;\n",
       "    }\n",
       "\n",
       "    .dataframe tbody tr th {\n",
       "        vertical-align: top;\n",
       "    }\n",
       "\n",
       "    .dataframe thead th {\n",
       "        text-align: right;\n",
       "    }\n",
       "</style>\n",
       "<table border=\"1\" class=\"dataframe\">\n",
       "  <thead>\n",
       "    <tr style=\"text-align: right;\">\n",
       "      <th></th>\n",
       "      <th>FID</th>\n",
       "      <th>brin_vest_</th>\n",
       "      <th>soort_instelling</th>\n",
       "      <th>naam_vestiging</th>\n",
       "      <th>plaatsnaam</th>\n",
       "      <th>straatnaam</th>\n",
       "      <th>postcode</th>\n",
       "      <th>huisnummer</th>\n",
       "      <th>huisnummer_toevoeging</th>\n",
       "      <th>x_y_coordinaten</th>\n",
       "      <th>woonplaats</th>\n",
       "      <th>openbare_ruimte_naam</th>\n",
       "      <th>postcode1</th>\n",
       "      <th>huisnummer1</th>\n",
       "      <th>huisletter</th>\n",
       "      <th>huisnummer_toevoeging1</th>\n",
       "      <th>nummeraanduidingidentificatie</th>\n",
       "      <th>adresseerbaarobjectidentificatie</th>\n",
       "      <th>pand_identificatie</th>\n",
       "      <th>bouwjaar</th>\n",
       "      <th>oppervlakteverblijfsobject</th>\n",
       "      <th>woonfunctie</th>\n",
       "      <th>sportfunctie</th>\n",
       "      <th>gezondheidszorgfunctie</th>\n",
       "      <th>logiesfunctie</th>\n",
       "      <th>kantoorfunctie</th>\n",
       "      <th>onderwijsfunctie</th>\n",
       "      <th>winkelfunctie</th>\n",
       "      <th>industriefunctie</th>\n",
       "      <th>celfunctie</th>\n",
       "      <th>bijeenkomstfunctie</th>\n",
       "      <th>overigen_gebruik</th>\n",
       "      <th>opmerkingen</th>\n",
       "      <th>match</th>\n",
       "      <th>enquete</th>\n",
       "      <th>inventaris</th>\n",
       "      <th>asbest_aanwezig</th>\n",
       "      <th>asbest_verwijderd</th>\n",
       "      <th>dubbel</th>\n",
       "      <th>bouwjaar_bag</th>\n",
       "      <th>pand_bag_id</th>\n",
       "      <th>pandvlak</th>\n",
       "      <th>categorie</th>\n",
       "      <th>geom</th>\n",
       "      <th>geometry</th>\n",
       "    </tr>\n",
       "  </thead>\n",
       "  <tbody>\n",
       "  </tbody>\n",
       "</table>\n",
       "</div>"
      ],
      "text/plain": [
       "Empty GeoDataFrame\n",
       "Columns: [FID, brin_vest_, soort_instelling, naam_vestiging, plaatsnaam, straatnaam, postcode, huisnummer, huisnummer_toevoeging, x_y_coordinaten, woonplaats, openbare_ruimte_naam, postcode1, huisnummer1, huisletter, huisnummer_toevoeging1, nummeraanduidingidentificatie, adresseerbaarobjectidentificatie, pand_identificatie, bouwjaar, oppervlakteverblijfsobject, woonfunctie, sportfunctie, gezondheidszorgfunctie, logiesfunctie, kantoorfunctie, onderwijsfunctie, winkelfunctie, industriefunctie, celfunctie, bijeenkomstfunctie, overigen_gebruik, opmerkingen, match, enquete, inventaris, asbest_aanwezig, asbest_verwijderd, dubbel, bouwjaar_bag, pand_bag_id, pandvlak, categorie, geom, geometry]\n",
       "Index: []"
      ]
     },
     "execution_count": 225,
     "metadata": {},
     "output_type": "execute_result"
    }
   ],
   "source": [
    "plaatsdata"
   ]
  },
  {
   "cell_type": "code",
   "execution_count": 219,
   "metadata": {},
   "outputs": [],
   "source": [
    "aantalscholen = plaatsdata['soort_instelling'].count() \n",
    "aantalsoortschool = plaatsdata['soort_instelling'].nunique()\n",
    "countdata = plaatsdata.groupby('soort_instelling').count()\n",
    "countdata = countdata[['naam_vestiging']]\n",
    "countdata = countdata.reset_index()\n"
   ]
  },
  {
   "cell_type": "code",
   "execution_count": 220,
   "metadata": {},
   "outputs": [
    {
     "data": {
      "text/plain": [
       "array(['VO', 'BO', 'WECSOVSO', 'SBO', 'WECSO'], dtype=object)"
      ]
     },
     "execution_count": 220,
     "metadata": {},
     "output_type": "execute_result"
    }
   ],
   "source": [
    "plaatsdata['soort_instelling'].unique()\n"
   ]
  },
  {
   "cell_type": "code",
   "execution_count": 212,
   "metadata": {},
   "outputs": [
    {
     "data": {
      "text/html": [
       "<div>\n",
       "<style scoped>\n",
       "    .dataframe tbody tr th:only-of-type {\n",
       "        vertical-align: middle;\n",
       "    }\n",
       "\n",
       "    .dataframe tbody tr th {\n",
       "        vertical-align: top;\n",
       "    }\n",
       "\n",
       "    .dataframe thead th {\n",
       "        text-align: right;\n",
       "    }\n",
       "</style>\n",
       "<table border=\"1\" class=\"dataframe\">\n",
       "  <thead>\n",
       "    <tr style=\"text-align: right;\">\n",
       "      <th></th>\n",
       "      <th>soort_instelling</th>\n",
       "      <th>naam_vestiging</th>\n",
       "    </tr>\n",
       "  </thead>\n",
       "  <tbody>\n",
       "    <tr>\n",
       "      <th>0</th>\n",
       "      <td>BO</td>\n",
       "      <td>6</td>\n",
       "    </tr>\n",
       "    <tr>\n",
       "      <th>1</th>\n",
       "      <td>VO</td>\n",
       "      <td>2</td>\n",
       "    </tr>\n",
       "  </tbody>\n",
       "</table>\n",
       "</div>"
      ],
      "text/plain": [
       "  soort_instelling  naam_vestiging\n",
       "0               BO               6\n",
       "1               VO               2"
      ]
     },
     "execution_count": 212,
     "metadata": {},
     "output_type": "execute_result"
    }
   ],
   "source": [
    "\n",
    "countdata"
   ]
  },
  {
   "cell_type": "code",
   "execution_count": 221,
   "metadata": {},
   "outputs": [
    {
     "name": "stdout",
     "output_type": "stream",
     "text": [
      "In ZWOLLE zijn 62 scholen gevestigd\n",
      "er zijn  5 soorten scholen in  ZWOLLE\n",
      "Aantal BO instellingen: 38\n",
      "Aantal SBO instellingen: 4\n",
      "Aantal VO instellingen: 14\n",
      "Aantal WECSO instellingen: 1\n",
      "Aantal WECSOVSO instellingen: 5\n"
     ]
    }
   ],
   "source": [
    "print('In', plaats,'zijn',aantalscholen, 'scholen gevestigd')\n",
    "print('er zijn ', aantalsoortschool,'soorten scholen in ', plaats)\n",
    "\n",
    "for index, row in countdata.iterrows():\n",
    "    print('Aantal',row['soort_instelling'],'instellingen:',row['naam_vestiging'])"
   ]
  },
  {
   "cell_type": "code",
   "execution_count": null,
   "metadata": {},
   "outputs": [],
   "source": []
  }
 ],
 "metadata": {
  "kernelspec": {
   "display_name": "Python 3",
   "language": "python",
   "name": "python3"
  },
  "language_info": {
   "codemirror_mode": {
    "name": "ipython",
    "version": 3
   },
   "file_extension": ".py",
   "mimetype": "text/x-python",
   "name": "python",
   "nbconvert_exporter": "python",
   "pygments_lexer": "ipython3",
   "version": "3.7.4"
  }
 },
 "nbformat": 4,
 "nbformat_minor": 4
}
