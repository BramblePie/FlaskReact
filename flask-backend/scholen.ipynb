{
 "cells": [
  {
   "cell_type": "code",
   "execution_count": 149,
   "metadata": {},
   "outputs": [],
   "source": [
    "import pandas as pd\n",
    "import geopandas as gpd\n",
    "from shapely import wkt"
   ]
  },
  {
   "cell_type": "code",
   "execution_count": 208,
   "metadata": {},
   "outputs": [],
   "source": [
    "from requests import Request\n",
    "from owslib.wfs import WebFeatureService\n",
    "url = \"https://geodata.nationaalgeoregister.nl/asbestscholenkaart/wfs\"\n",
    "wfs = WebFeatureService(url=url)\n",
    "layer = list(wfs.contents)[-1]\n",
    "params = dict(service='WFS', request='GetFeature',typeName=\"asbestscholenkaart:asbestscholenkaart\",StartIndex='0', outputFormat='json')\n",
    "q = Request('GET', url, params=params).prepare().url\n",
    "data = gpd.read_file(q)\n",
    "# data = gpd.read_file('data/asbestscholenkaart.csv')\n",
    "pd.options.display.max_columns = None\n",
    "pd.options.display.max_rows = None"
   ]
  },
  {
   "cell_type": "code",
   "execution_count": 191,
   "metadata": {},
   "outputs": [],
   "source": [
    "linkdata = gpd.read_file('data/Woonplaatsen.csv')"
   ]
  },
  {
   "cell_type": "code",
   "execution_count": 192,
   "metadata": {},
   "outputs": [],
   "source": [
    "#deze data linkt de dataset van gemeentegrenzen aan die van asbestscholenkaart\n",
    "linkdata= linkdata[['Woonplaatsen','Gemeentenaam']]\n",
    "linkdata['Woonplaatsenhoofd'] = linkdata['Woonplaatsen'].str.upper()"
   ]
  },
  {
   "cell_type": "code",
   "execution_count": 225,
   "metadata": {},
   "outputs": [
    {
     "data": {
      "text/plain": [
       "soort_instelling       7\n",
       "naam_vestiging      6626\n",
       "plaatsnaam          1901\n",
       "straatnaam          6284\n",
       "postcode            7856\n",
       "huisnummer           431\n",
       "x_y_coordinaten     7923\n",
       "dtype: int64"
      ]
     },
     "execution_count": 225,
     "metadata": {},
     "output_type": "execute_result"
    }
   ],
   "source": [
    "data.nunique()"
   ]
  },
  {
   "cell_type": "code",
   "execution_count": 226,
   "metadata": {},
   "outputs": [],
   "source": [
    "data = data[[\"soort_instelling\",\"naam_vestiging\",\"plaatsnaam\",\"straatnaam\",\"postcode\",\"huisnummer\",\"x_y_coordinaten\"]]"
   ]
  },
  {
   "cell_type": "code",
   "execution_count": 211,
   "metadata": {},
   "outputs": [],
   "source": [
    "#omzetten data voor plot\n",
    "#data['x_y_coordinaten'] = data['x_y_coordinaten'].apply(wkt.loads)\n",
    "#data = data.set_geometry('x_y_coordinaten')\n",
    "#data = data.to_crs(epsg=3857)"
   ]
  },
  {
   "cell_type": "code",
   "execution_count": 212,
   "metadata": {},
   "outputs": [],
   "source": [
    "plaats = \"DEDEMSVAART\""
   ]
  },
  {
   "cell_type": "code",
   "execution_count": 221,
   "metadata": {},
   "outputs": [],
   "source": [
    "plaatsdata = data.loc[data['plaatsnaam'] == plaats]"
   ]
  },
  {
   "cell_type": "code",
   "execution_count": 229,
   "metadata": {},
   "outputs": [
    {
     "data": {
      "text/plain": [
       "<matplotlib.axes._subplots.AxesSubplot at 0x7f3c56546690>"
      ]
     },
     "execution_count": 229,
     "metadata": {},
     "output_type": "execute_result"
    },
    {
     "data": {
      "image/png": "[encoded data removed]",
      "text/plain": [
       "<Figure size 432x288 with 1 Axes>"
      ]
     },
     "metadata": {
      "needs_background": "light"
     },
     "output_type": "display_data"
    }
   ],
   "source": [
    "plaatsdata = plaatsdata.set_geometry('x_y_coordinaten')\n",
    "plaatsdata.plot()"
   ]
  },
  {
   "cell_type": "code",
   "execution_count": null,
   "metadata": {},
   "outputs": [],
   "source": []
  },
  {
   "cell_type": "code",
   "execution_count": 102,
   "metadata": {},
   "outputs": [],
   "source": [
    "aantalscholen = plaatsdata['soort_instelling'].count() \n",
    "aantalsoortschool = plaatsdata['soort_instelling'].nunique()\n",
    "countdata = plaatsdata.groupby('soort_instelling').count()\n",
    "countdata = countdata[['naam_vestiging']]\n",
    "countdata = countdata.reset_index()\n"
   ]
  },
  {
   "cell_type": "code",
   "execution_count": 103,
   "metadata": {},
   "outputs": [
    {
     "data": {
      "text/plain": [
       "array(['BO', 'VO'], dtype=object)"
      ]
     },
     "execution_count": 103,
     "metadata": {},
     "output_type": "execute_result"
    }
   ],
   "source": [
    "plaatsdata['soort_instelling'].unique()\n"
   ]
  },
  {
   "cell_type": "code",
   "execution_count": 104,
   "metadata": {},
   "outputs": [
    {
     "data": {
      "text/html": [
       "<div>\n",
       "<style scoped>\n",
       "    .dataframe tbody tr th:only-of-type {\n",
       "        vertical-align: middle;\n",
       "    }\n",
       "\n",
       "    .dataframe tbody tr th {\n",
       "        vertical-align: top;\n",
       "    }\n",
       "\n",
       "    .dataframe thead th {\n",
       "        text-align: right;\n",
       "    }\n",
       "</style>\n",
       "<table border=\"1\" class=\"dataframe\">\n",
       "  <thead>\n",
       "    <tr style=\"text-align: right;\">\n",
       "      <th></th>\n",
       "      <th>soort_instelling</th>\n",
       "      <th>naam_vestiging</th>\n",
       "    </tr>\n",
       "  </thead>\n",
       "  <tbody>\n",
       "    <tr>\n",
       "      <th>0</th>\n",
       "      <td>BO</td>\n",
       "      <td>6</td>\n",
       "    </tr>\n",
       "    <tr>\n",
       "      <th>1</th>\n",
       "      <td>VO</td>\n",
       "      <td>2</td>\n",
       "    </tr>\n",
       "  </tbody>\n",
       "</table>\n",
       "</div>"
      ],
      "text/plain": [
       "  soort_instelling  naam_vestiging\n",
       "0               BO               6\n",
       "1               VO               2"
      ]
     },
     "execution_count": 104,
     "metadata": {},
     "output_type": "execute_result"
    }
   ],
   "source": [
    "\n",
    "countdata"
   ]
  },
  {
   "cell_type": "code",
   "execution_count": 115,
   "metadata": {},
   "outputs": [
    {
     "name": "stdout",
     "output_type": "stream",
     "text": [
      "In DEDEMSVAART zijn 8 scholen gevestigd\n",
      "er zijn  2 soorten scholen in  DEDEMSVAART\n",
      "Aantal BO instellingen: 6\n",
      "Aantal VO instellingen: 2\n"
     ]
    }
   ],
   "source": [
    "print('In', plaats,'zijn',aantalscholen, 'scholen gevestigd')\n",
    "print('er zijn ', aantalsoortschool,'soorten scholen in ', plaats)\n",
    "\n",
    "for index, row in countdata.iterrows():\n",
    "    print('Aantal',row['soort_instelling'],'instellingen:',row['naam_vestiging'])"
   ]
  },
  {
   "cell_type": "code",
   "execution_count": 113,
   "metadata": {},
   "outputs": [],
   "source": [
    "# ST_TONER = 'http://tile.stamen.com/toner/tileZ/tileX/tileY.png'\n",
    "# ST_TONER_HYBRID = 'http://tile.stamen.com/toner-hybrid/tileZ/tileX/tileY.png'\n",
    "# ST_TONER_LABELS = 'http://tile.stamen.com/toner-labels/tileZ/tileX/tileY.png'\n",
    "# ST_TONER_LINES = 'http://tile.stamen.com/toner-lines/tileZ/tileX/tileY.png'\n",
    "# ST_TONER_BACKGROUND = 'http://tile.stamen.com/toner-background/tileZ/tileX/tileY.png'\n",
    "# ST_TONER_LITE = 'http://tile.stamen.com/toner-lite/tileZ/tileX/tileY.png'\n",
    "# # \n",
    "# ST_TERRAIN = 'http://tile.stamen.com/terrain/tileZ/tileX/tileY.png'\n",
    "# ST_TERRAIN_LABELS = 'http://tile.stamen.com/terrain-labels/tileZ/tileX/tileY.png'\n",
    "# ST_TERRAIN_LINES = 'http://tile.stamen.com/terrain-lines/tileZ/tileX/tileY.png'\n",
    "# ST_TERRAIN_BACKGROUND = 'http://tile.stamen.com/terrain-background/tileZ/tileX/tileY.png'\n",
    "\n",
    "# ST_WATERCOLOR = 'http://tile.stamen.com/watercolor/tileZ/tileX/tileY.png'\n",
    "# OSM_A = 'http://a.tile.openstreetmap.org/tileZ/tileX/tileY.png'\n",
    "# OSM_B = 'http://b.tile.openstreetmap.org/tileZ/tileX/tileY.png'\n",
    "# OSM_C = 'http://c.tile.openstreetmap.org/tileZ/tileX/tileY.png'"
   ]
  },
  {
   "cell_type": "code",
   "execution_count": 143,
   "metadata": {},
   "outputs": [],
   "source": [
    "# import matplotlib.pyplot as plt\n",
    "# from matplotlib import cm\n",
    "# import contextily as ctx\n",
    "# cmap = plt.cm.get_cmap('Dark2', 9)\n",
    "# ax = plaatsdata.plot(c=plaatsdata.naam_vestiging \t, cmap=cmap, label=plaatsdata.naam_vestiging, figsize=(10,10), alpha=.5)\n",
    "# ctx.add_basemap(ax, source=ctx.sources.ST_TERRAIN)\n",
    "# ax.set_axis_off()\n",
    "# ax.legend(loc='center left', bbox_to_anchor=(1, 0.5))"
   ]
  },
  {
   "cell_type": "code",
   "execution_count": 131,
   "metadata": {},
   "outputs": [],
   "source": [
    "#inladen gemeentegrensen uit pdok voor context plot\n",
    "import geopandas as gpd\n",
    "from requests import Request\n",
    "from owslib.wfs import WebFeatureService\n",
    "def wfs_kadaster(url,type_param):\n",
    " wfs = WebFeatureService(url=url)\n",
    " layer = list(wfs.contents)[-1]\n",
    " params = dict(service='WFS', request='GetFeature',typeName=type_param ,StartIndex='0', outputFormat='json')\n",
    " q = Request('GET', url, params=params).prepare().url\n",
    " return gpd.read_file(q)\n"
   ]
  },
  {
   "cell_type": "code",
   "execution_count": 132,
   "metadata": {},
   "outputs": [],
   "source": [
    "#uitvoeren wfs query op kadaster\n",
    "gdata = wfs_kadaster(\"https://geodata.nationaalgeoregister.nl/bestuurlijkegrenzen/wfs\",\"bestuurlijkegrenzen:gemeenten\")\n"
   ]
  },
  {
   "cell_type": "code",
   "execution_count": 140,
   "metadata": {},
   "outputs": [],
   "source": [
    "#gdata"
   ]
  },
  {
   "cell_type": "code",
   "execution_count": 135,
   "metadata": {},
   "outputs": [],
   "source": [
    "#selecteren grensen van een gemeente\n",
    "gemeente = \"Hardenberg\"\n",
    "gemeentedata = gdata.loc[gdata['gemeentenaam'] == gemeente]"
   ]
  },
  {
   "cell_type": "code",
   "execution_count": 233,
   "metadata": {},
   "outputs": [
    {
     "data": {
      "image/png": "[encoded data removed]",
      "text/plain": [
       "<Figure size 432x288 with 1 Axes>"
      ]
     },
     "metadata": {
      "needs_background": "light"
     },
     "output_type": "display_data"
    }
   ],
   "source": [
    "#plot de 2 lagen over elkaar\n",
    "base = gemeentedata.plot(color=\"white\",edgecolor='black')\n",
    "plaatsdata.plot(ax=base, marker='o', color='black', markersize=5);"
   ]
  }
 ],
 "metadata": {
  "kernelspec": {
   "display_name": "Python 3",
   "language": "python",
   "name": "python3"
  },
  "language_info": {
   "codemirror_mode": {
    "name": "ipython",
    "version": 3
   },
   "file_extension": ".py",
   "mimetype": "text/x-python",
   "name": "python",
   "nbconvert_exporter": "python",
   "pygments_lexer": "ipython3",
   "version": "3.7.4"
  }
 },
 "nbformat": 4,
 "nbformat_minor": 4
}
