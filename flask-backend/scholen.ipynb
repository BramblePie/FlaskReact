{
 "cells": [
  {
   "cell_type": "code",
   "execution_count": 1,
   "metadata": {},
   "outputs": [],
   "source": [
    "import pandas as pd\n",
    "import geopandas as gpd\n",
    "from shapely import wkt"
   ]
  },
  {
   "cell_type": "code",
   "execution_count": 2,
   "metadata": {},
   "outputs": [],
   "source": [
    "from requests import Request\n",
    "from owslib.wfs import WebFeatureService\n",
    "url = \"https://geodata.nationaalgeoregister.nl/asbestscholenkaart/wfs\"\n",
    "wfs = WebFeatureService(url=url)\n",
    "layer = list(wfs.contents)[-1]\n",
    "params = dict(service='WFS', request='GetFeature',typeName=\"asbestscholenkaart:asbestscholenkaart\",StartIndex='0', outputFormat='json')\n",
    "q = Request('GET', url, params=params).prepare().url\n",
    "data = gpd.read_file(q)\n",
    "# data = gpd.read_file('data/asbestscholenkaart.csv')\n",
    "pd.options.display.max_columns = None\n",
    "pd.options.display.max_rows = None"
   ]
  },
  {
   "cell_type": "code",
   "execution_count": 3,
   "metadata": {},
   "outputs": [],
   "source": [
    "linkdata = gpd.read_file('data/Woonplaatsen.csv')\n"
   ]
  },
  {
   "cell_type": "code",
   "execution_count": 4,
   "metadata": {},
   "outputs": [],
   "source": [
    "#deze data linkt de dataset van gemeentegrenzen aan die van asbestscholenkaart\n",
    "linkdata = linkdata[['Woonplaatsen','GemeenteNaam','ProvincieNaam']]\n",
    "linkdata['plaatsnaam'] = linkdata['Woonplaatsen'].str.upper()"
   ]
  },
  {
   "cell_type": "code",
   "execution_count": 5,
   "metadata": {},
   "outputs": [],
   "source": [
    "# link da data en voeg gemeente toe aan dataset\n",
    "data = data.merge(linkdata, on='plaatsnaam')"
   ]
  },
  {
   "cell_type": "code",
   "execution_count": 6,
   "metadata": {},
   "outputs": [
    {
     "data": {
      "text/plain": [
       "id                                  7810\n",
       "brin_vest_                          7810\n",
       "soort_instelling                       7\n",
       "naam_vestiging                      6243\n",
       "plaatsnaam                          1766\n",
       "straatnaam                          5943\n",
       "postcode                            7371\n",
       "huisnummer                           424\n",
       "huisnummer_toevoeging                 17\n",
       "x_y_coordinaten                     7430\n",
       "woonplaats                          1767\n",
       "openbare_ruimte_naam                5943\n",
       "postcode1                           7344\n",
       "huisnummer1                          422\n",
       "huisletter                            12\n",
       "huisnummer_toevoeging1                 4\n",
       "nummeraanduidingidentificatie       7806\n",
       "adresseerbaarobjectidentificatie    7806\n",
       "pand_identificatie                  7810\n",
       "bouwjaar                             143\n",
       "oppervlakteverblijfsobject          3504\n",
       "woonfunctie                            1\n",
       "sportfunctie                           1\n",
       "gezondheidszorgfunctie                 1\n",
       "logiesfunctie                          1\n",
       "kantoorfunctie                         1\n",
       "onderwijsfunctie                       1\n",
       "winkelfunctie                          1\n",
       "industriefunctie                       1\n",
       "celfunctie                             1\n",
       "bijeenkomstfunctie                     1\n",
       "overigen_gebruik                       1\n",
       "opmerkingen                            0\n",
       "match                                  3\n",
       "enquete                                2\n",
       "inventaris                             3\n",
       "asbest_aanwezig                        2\n",
       "asbest_verwijderd                      3\n",
       "dubbel                                 1\n",
       "bouwjaar_bag                         146\n",
       "pand_bag_id                         7810\n",
       "pandvlak                            7810\n",
       "categorie                              3\n",
       "geometry                            7810\n",
       "Woonplaatsen                        1766\n",
       "GemeenteNaam                         373\n",
       "ProvincieNaam                         12\n",
       "dtype: int64"
      ]
     },
     "execution_count": 6,
     "metadata": {},
     "output_type": "execute_result"
    }
   ],
   "source": [
    "data.nunique()"
   ]
  },
  {
   "cell_type": "code",
   "execution_count": 24,
   "metadata": {},
   "outputs": [],
   "source": [
    "data = data[[\"soort_instelling\",\"naam_vestiging\",\"plaatsnaam\",\"x_y_coordinaten\",'Woonplaatsen','GemeenteNaam','ProvincieNaam']]"
   ]
  },
  {
   "cell_type": "code",
   "execution_count": 27,
   "metadata": {},
   "outputs": [
    {
     "data": {
      "text/html": [
       "<div>\n",
       "<style scoped>\n",
       "    .dataframe tbody tr th:only-of-type {\n",
       "        vertical-align: middle;\n",
       "    }\n",
       "\n",
       "    .dataframe tbody tr th {\n",
       "        vertical-align: top;\n",
       "    }\n",
       "\n",
       "    .dataframe thead th {\n",
       "        text-align: right;\n",
       "    }\n",
       "</style>\n",
       "<table border=\"1\" class=\"dataframe\">\n",
       "  <thead>\n",
       "    <tr style=\"text-align: right;\">\n",
       "      <th></th>\n",
       "      <th>soort_instelling</th>\n",
       "      <th>naam_vestiging</th>\n",
       "      <th>plaatsnaam</th>\n",
       "      <th>x_y_coordinaten</th>\n",
       "      <th>Woonplaatsen</th>\n",
       "      <th>GemeenteNaam</th>\n",
       "      <th>ProvincieNaam</th>\n",
       "    </tr>\n",
       "  </thead>\n",
       "  <tbody>\n",
       "    <tr>\n",
       "      <th>count</th>\n",
       "      <td>7842</td>\n",
       "      <td>7842</td>\n",
       "      <td>7842</td>\n",
       "      <td>7842</td>\n",
       "      <td>7842</td>\n",
       "      <td>7842</td>\n",
       "      <td>7842</td>\n",
       "    </tr>\n",
       "    <tr>\n",
       "      <th>unique</th>\n",
       "      <td>7</td>\n",
       "      <td>6243</td>\n",
       "      <td>1766</td>\n",
       "      <td>7430</td>\n",
       "      <td>1766</td>\n",
       "      <td>373</td>\n",
       "      <td>12</td>\n",
       "    </tr>\n",
       "    <tr>\n",
       "      <th>top</th>\n",
       "      <td>BO</td>\n",
       "      <td>Basisschool De Regenboog</td>\n",
       "      <td>AMSTERDAM</td>\n",
       "      <td>POINT(0.0 0.0 0.0)</td>\n",
       "      <td>Amsterdam</td>\n",
       "      <td>Rotterdam</td>\n",
       "      <td>Zuid-Holland</td>\n",
       "    </tr>\n",
       "    <tr>\n",
       "      <th>freq</th>\n",
       "      <td>6007</td>\n",
       "      <td>26</td>\n",
       "      <td>263</td>\n",
       "      <td>17</td>\n",
       "      <td>263</td>\n",
       "      <td>266</td>\n",
       "      <td>1475</td>\n",
       "    </tr>\n",
       "  </tbody>\n",
       "</table>\n",
       "</div>"
      ],
      "text/plain": [
       "       soort_instelling            naam_vestiging plaatsnaam  \\\n",
       "count              7842                      7842       7842   \n",
       "unique                7                      6243       1766   \n",
       "top                  BO  Basisschool De Regenboog  AMSTERDAM   \n",
       "freq               6007                        26        263   \n",
       "\n",
       "           x_y_coordinaten Woonplaatsen                         GemeenteNaam  \\\n",
       "count                 7842         7842                                 7842   \n",
       "unique                7430         1766                                  373   \n",
       "top     POINT(0.0 0.0 0.0)    Amsterdam  Rotterdam                             \n",
       "freq                    17          263                                  266   \n",
       "\n",
       "                    ProvincieNaam  \n",
       "count                        7842  \n",
       "unique                         12  \n",
       "top     Zuid-Holland               \n",
       "freq                         1475  "
      ]
     },
     "execution_count": 27,
     "metadata": {},
     "output_type": "execute_result"
    }
   ],
   "source": [
    "#omzetten data voor plot\n",
    "#data['x_y_coordinaten'] = data['x_y_coordinaten'].apply(wkt.loads)\n",
    "#data = data.set_geometry('x_y_coordinaten')\n",
    "#data = data.to_crs(epsg=3857)\n",
    "data.count()\n",
    "# data = gpd.GeoDataFrame(data)\n",
    "data.describe()"
   ]
  },
  {
   "cell_type": "code",
   "execution_count": 34,
   "metadata": {},
   "outputs": [
    {
     "data": {
      "text/html": [
       "<div>\n",
       "<style scoped>\n",
       "    .dataframe tbody tr th:only-of-type {\n",
       "        vertical-align: middle;\n",
       "    }\n",
       "\n",
       "    .dataframe tbody tr th {\n",
       "        vertical-align: top;\n",
       "    }\n",
       "\n",
       "    .dataframe thead th {\n",
       "        text-align: right;\n",
       "    }\n",
       "</style>\n",
       "<table border=\"1\" class=\"dataframe\">\n",
       "  <thead>\n",
       "    <tr style=\"text-align: right;\">\n",
       "      <th></th>\n",
       "      <th>soort_instelling</th>\n",
       "      <th>naam_vestiging</th>\n",
       "      <th>plaatsnaam</th>\n",
       "      <th>x_y_coordinaten</th>\n",
       "      <th>Woonplaatsen</th>\n",
       "      <th>GemeenteNaam</th>\n",
       "      <th>ProvincieNaam</th>\n",
       "    </tr>\n",
       "  </thead>\n",
       "  <tbody>\n",
       "  </tbody>\n",
       "</table>\n",
       "</div>"
      ],
      "text/plain": [
       "Empty GeoDataFrame\n",
       "Columns: [soort_instelling, naam_vestiging, plaatsnaam, x_y_coordinaten, Woonplaatsen, GemeenteNaam, ProvincieNaam]\n",
       "Index: []"
      ]
     },
     "execution_count": 34,
     "metadata": {},
     "output_type": "execute_result"
    }
   ],
   "source": [
    "g = 'Rotterdam'\n",
    "# data['GemeenteNaam'] = data['GemeenteNaam'].astype('string')\n",
    "gemdata = data.loc[data['GemeenteNaam'] == g]\n",
    "gemdata"
   ]
  },
  {
   "cell_type": "code",
   "execution_count": 14,
   "metadata": {},
   "outputs": [],
   "source": [
    "plaats = \"DEDEMSVAART\"\n",
    "plaatsdata = data.loc[data['plaatsnaam'] == plaats]\n"
   ]
  },
  {
   "cell_type": "code",
   "execution_count": 15,
   "metadata": {},
   "outputs": [
    {
     "name": "stderr",
     "output_type": "stream",
     "text": [
      "/home/jacco/anaconda3/lib/python3.7/site-packages/ipykernel_launcher.py:1: SettingWithCopyWarning: \n",
      "A value is trying to be set on a copy of a slice from a DataFrame.\n",
      "Try using .loc[row_indexer,col_indexer] = value instead\n",
      "\n",
      "See the caveats in the documentation: https://pandas.pydata.org/pandas-docs/stable/user_guide/indexing.html#returning-a-view-versus-a-copy\n",
      "  \"\"\"Entry point for launching an IPython kernel.\n"
     ]
    }
   ],
   "source": [
    "plaatsdata['x_y_coordinaten'] = plaatsdata['x_y_coordinaten'].apply(wkt.loads)\n",
    "# plaatsdata = plaatsdata.to_crs(epsg=3857)\n",
    "plaatsdata = plaatsdata.set_geometry('x_y_coordinaten')\n",
    "\n"
   ]
  },
  {
   "cell_type": "code",
   "execution_count": 16,
   "metadata": {},
   "outputs": [
    {
     "ename": "TypeError",
     "evalue": "Only str is accepted.",
     "output_type": "error",
     "traceback": [
      "\u001b[0;31m---------------------------------------------------------------------------\u001b[0m",
      "\u001b[0;31mTypeError\u001b[0m                                 Traceback (most recent call last)",
      "\u001b[0;32m<ipython-input-16-8bc9e92c27e8>\u001b[0m in \u001b[0;36m<module>\u001b[0;34m\u001b[0m\n\u001b[0;32m----> 1\u001b[0;31m \u001b[0mgemeentedata\u001b[0m\u001b[0;34m[\u001b[0m\u001b[0;34m'x_y_coordinaten'\u001b[0m\u001b[0;34m]\u001b[0m \u001b[0;34m=\u001b[0m \u001b[0mplaatsdata\u001b[0m\u001b[0;34m[\u001b[0m\u001b[0;34m'x_y_coordinaten'\u001b[0m\u001b[0;34m]\u001b[0m\u001b[0;34m.\u001b[0m\u001b[0mapply\u001b[0m\u001b[0;34m(\u001b[0m\u001b[0mwkt\u001b[0m\u001b[0;34m.\u001b[0m\u001b[0mloads\u001b[0m\u001b[0;34m)\u001b[0m\u001b[0;34m\u001b[0m\u001b[0;34m\u001b[0m\u001b[0m\n\u001b[0m\u001b[1;32m      2\u001b[0m \u001b[0;31m# plaatsdata = plaatsdata.to_crs(epsg=3857)\u001b[0m\u001b[0;34m\u001b[0m\u001b[0;34m\u001b[0m\u001b[0;34m\u001b[0m\u001b[0m\n\u001b[1;32m      3\u001b[0m \u001b[0mgemeentedata\u001b[0m \u001b[0;34m=\u001b[0m \u001b[0mplaatsdata\u001b[0m\u001b[0;34m.\u001b[0m\u001b[0mset_geometry\u001b[0m\u001b[0;34m(\u001b[0m\u001b[0;34m'x_y_coordinaten'\u001b[0m\u001b[0;34m)\u001b[0m\u001b[0;34m\u001b[0m\u001b[0;34m\u001b[0m\u001b[0m\n",
      "\u001b[0;32m~/.local/lib/python3.7/site-packages/pandas/core/series.py\u001b[0m in \u001b[0;36mapply\u001b[0;34m(self, func, convert_dtype, args, **kwds)\u001b[0m\n\u001b[1;32m   3846\u001b[0m             \u001b[0;32melse\u001b[0m\u001b[0;34m:\u001b[0m\u001b[0;34m\u001b[0m\u001b[0;34m\u001b[0m\u001b[0m\n\u001b[1;32m   3847\u001b[0m                 \u001b[0mvalues\u001b[0m \u001b[0;34m=\u001b[0m \u001b[0mself\u001b[0m\u001b[0;34m.\u001b[0m\u001b[0mastype\u001b[0m\u001b[0;34m(\u001b[0m\u001b[0mobject\u001b[0m\u001b[0;34m)\u001b[0m\u001b[0;34m.\u001b[0m\u001b[0mvalues\u001b[0m\u001b[0;34m\u001b[0m\u001b[0;34m\u001b[0m\u001b[0m\n\u001b[0;32m-> 3848\u001b[0;31m                 \u001b[0mmapped\u001b[0m \u001b[0;34m=\u001b[0m \u001b[0mlib\u001b[0m\u001b[0;34m.\u001b[0m\u001b[0mmap_infer\u001b[0m\u001b[0;34m(\u001b[0m\u001b[0mvalues\u001b[0m\u001b[0;34m,\u001b[0m \u001b[0mf\u001b[0m\u001b[0;34m,\u001b[0m \u001b[0mconvert\u001b[0m\u001b[0;34m=\u001b[0m\u001b[0mconvert_dtype\u001b[0m\u001b[0;34m)\u001b[0m\u001b[0;34m\u001b[0m\u001b[0;34m\u001b[0m\u001b[0m\n\u001b[0m\u001b[1;32m   3849\u001b[0m \u001b[0;34m\u001b[0m\u001b[0m\n\u001b[1;32m   3850\u001b[0m         \u001b[0;32mif\u001b[0m \u001b[0mlen\u001b[0m\u001b[0;34m(\u001b[0m\u001b[0mmapped\u001b[0m\u001b[0;34m)\u001b[0m \u001b[0;32mand\u001b[0m \u001b[0misinstance\u001b[0m\u001b[0;34m(\u001b[0m\u001b[0mmapped\u001b[0m\u001b[0;34m[\u001b[0m\u001b[0;36m0\u001b[0m\u001b[0;34m]\u001b[0m\u001b[0;34m,\u001b[0m \u001b[0mSeries\u001b[0m\u001b[0;34m)\u001b[0m\u001b[0;34m:\u001b[0m\u001b[0;34m\u001b[0m\u001b[0;34m\u001b[0m\u001b[0m\n",
      "\u001b[0;32mpandas/_libs/lib.pyx\u001b[0m in \u001b[0;36mpandas._libs.lib.map_infer\u001b[0;34m()\u001b[0m\n",
      "\u001b[0;32m~/.local/lib/python3.7/site-packages/shapely/wkt.py\u001b[0m in \u001b[0;36mloads\u001b[0;34m(data)\u001b[0m\n\u001b[1;32m      8\u001b[0m \u001b[0;32mdef\u001b[0m \u001b[0mloads\u001b[0m\u001b[0;34m(\u001b[0m\u001b[0mdata\u001b[0m\u001b[0;34m)\u001b[0m\u001b[0;34m:\u001b[0m\u001b[0;34m\u001b[0m\u001b[0;34m\u001b[0m\u001b[0m\n\u001b[1;32m      9\u001b[0m     \u001b[0;34m\"\"\"Load a geometry from a WKT string.\"\"\"\u001b[0m\u001b[0;34m\u001b[0m\u001b[0;34m\u001b[0m\u001b[0m\n\u001b[0;32m---> 10\u001b[0;31m     \u001b[0;32mreturn\u001b[0m \u001b[0mgeos\u001b[0m\u001b[0;34m.\u001b[0m\u001b[0mWKTReader\u001b[0m\u001b[0;34m(\u001b[0m\u001b[0mgeos\u001b[0m\u001b[0;34m.\u001b[0m\u001b[0mlgeos\u001b[0m\u001b[0;34m)\u001b[0m\u001b[0;34m.\u001b[0m\u001b[0mread\u001b[0m\u001b[0;34m(\u001b[0m\u001b[0mdata\u001b[0m\u001b[0;34m)\u001b[0m\u001b[0;34m\u001b[0m\u001b[0;34m\u001b[0m\u001b[0m\n\u001b[0m\u001b[1;32m     11\u001b[0m \u001b[0;34m\u001b[0m\u001b[0m\n\u001b[1;32m     12\u001b[0m \u001b[0;32mdef\u001b[0m \u001b[0mload\u001b[0m\u001b[0;34m(\u001b[0m\u001b[0mfp\u001b[0m\u001b[0;34m)\u001b[0m\u001b[0;34m:\u001b[0m\u001b[0;34m\u001b[0m\u001b[0;34m\u001b[0m\u001b[0m\n",
      "\u001b[0;32m~/.local/lib/python3.7/site-packages/shapely/geos.py\u001b[0m in \u001b[0;36mread\u001b[0;34m(self, text)\u001b[0m\n\u001b[1;32m    277\u001b[0m         \u001b[0;34m\"\"\"Returns geometry from WKT\"\"\"\u001b[0m\u001b[0;34m\u001b[0m\u001b[0;34m\u001b[0m\u001b[0m\n\u001b[1;32m    278\u001b[0m         \u001b[0;32mif\u001b[0m \u001b[0;32mnot\u001b[0m \u001b[0misinstance\u001b[0m\u001b[0;34m(\u001b[0m\u001b[0mtext\u001b[0m\u001b[0;34m,\u001b[0m \u001b[0mtext_types\u001b[0m\u001b[0;34m)\u001b[0m\u001b[0;34m:\u001b[0m\u001b[0;34m\u001b[0m\u001b[0;34m\u001b[0m\u001b[0m\n\u001b[0;32m--> 279\u001b[0;31m             \u001b[0;32mraise\u001b[0m \u001b[0mTypeError\u001b[0m\u001b[0;34m(\u001b[0m\u001b[0;34m\"Only str is accepted.\"\u001b[0m\u001b[0;34m)\u001b[0m\u001b[0;34m\u001b[0m\u001b[0;34m\u001b[0m\u001b[0m\n\u001b[0m\u001b[1;32m    280\u001b[0m         \u001b[0;32mif\u001b[0m \u001b[0msys\u001b[0m\u001b[0;34m.\u001b[0m\u001b[0mversion_info\u001b[0m\u001b[0;34m[\u001b[0m\u001b[0;36m0\u001b[0m\u001b[0;34m]\u001b[0m \u001b[0;34m>=\u001b[0m \u001b[0;36m3\u001b[0m\u001b[0;34m:\u001b[0m\u001b[0;34m\u001b[0m\u001b[0;34m\u001b[0m\u001b[0m\n\u001b[1;32m    281\u001b[0m             \u001b[0mtext\u001b[0m \u001b[0;34m=\u001b[0m \u001b[0mtext\u001b[0m\u001b[0;34m.\u001b[0m\u001b[0mencode\u001b[0m\u001b[0;34m(\u001b[0m\u001b[0;34m)\u001b[0m\u001b[0;34m\u001b[0m\u001b[0;34m\u001b[0m\u001b[0m\n",
      "\u001b[0;31mTypeError\u001b[0m: Only str is accepted."
     ]
    }
   ],
   "source": [
    "gemeentedata['x_y_coordinaten'] = plaatsdata['x_y_coordinaten'].apply(wkt.loads)\n",
    "# plaatsdata = plaatsdata.to_crs(epsg=3857)\n",
    "gemeentedata = plaatsdata.set_geometry('x_y_coordinaten')"
   ]
  },
  {
   "cell_type": "code",
   "execution_count": 25,
   "metadata": {},
   "outputs": [],
   "source": [
    "# plaatsdata\n"
   ]
  },
  {
   "cell_type": "code",
   "execution_count": 18,
   "metadata": {},
   "outputs": [
    {
     "data": {
      "text/plain": [
       "<matplotlib.axes._subplots.AxesSubplot at 0x7f0f6d53aad0>"
      ]
     },
     "execution_count": 18,
     "metadata": {},
     "output_type": "execute_result"
    },
    {
     "data": {
      "image/png": "[encoded data removed]",
      "text/plain": [
       "<Figure size 432x288 with 1 Axes>"
      ]
     },
     "metadata": {
      "needs_background": "light"
     },
     "output_type": "display_data"
    }
   ],
   "source": [
    "plaatsdata.plot()"
   ]
  },
  {
   "cell_type": "code",
   "execution_count": 30,
   "metadata": {},
   "outputs": [],
   "source": [
    "aantalscholen = plaatsdata['soort_instelling'].count() \n",
    "aantalsoortschool = plaatsdata['soort_instelling'].nunique()\n",
    "countdata = plaatsdata.groupby('soort_instelling').count()\n",
    "countdata = countdata[['naam_vestiging']]\n",
    "countdata = countdata.reset_index()\n"
   ]
  },
  {
   "cell_type": "code",
   "execution_count": 17,
   "metadata": {},
   "outputs": [
    {
     "data": {
      "text/plain": [
       "array(['BO', 'VO'], dtype=object)"
      ]
     },
     "execution_count": 17,
     "metadata": {},
     "output_type": "execute_result"
    }
   ],
   "source": [
    "plaatsdata['soort_instelling'].unique()\n"
   ]
  },
  {
   "cell_type": "code",
   "execution_count": 18,
   "metadata": {},
   "outputs": [
    {
     "data": {
      "text/html": [
       "<div>\n",
       "<style scoped>\n",
       "    .dataframe tbody tr th:only-of-type {\n",
       "        vertical-align: middle;\n",
       "    }\n",
       "\n",
       "    .dataframe tbody tr th {\n",
       "        vertical-align: top;\n",
       "    }\n",
       "\n",
       "    .dataframe thead th {\n",
       "        text-align: right;\n",
       "    }\n",
       "</style>\n",
       "<table border=\"1\" class=\"dataframe\">\n",
       "  <thead>\n",
       "    <tr style=\"text-align: right;\">\n",
       "      <th></th>\n",
       "      <th>soort_instelling</th>\n",
       "      <th>naam_vestiging</th>\n",
       "    </tr>\n",
       "  </thead>\n",
       "  <tbody>\n",
       "    <tr>\n",
       "      <th>0</th>\n",
       "      <td>BO</td>\n",
       "      <td>6</td>\n",
       "    </tr>\n",
       "    <tr>\n",
       "      <th>1</th>\n",
       "      <td>VO</td>\n",
       "      <td>2</td>\n",
       "    </tr>\n",
       "  </tbody>\n",
       "</table>\n",
       "</div>"
      ],
      "text/plain": [
       "  soort_instelling  naam_vestiging\n",
       "0               BO               6\n",
       "1               VO               2"
      ]
     },
     "execution_count": 18,
     "metadata": {},
     "output_type": "execute_result"
    }
   ],
   "source": [
    "\n",
    "countdata"
   ]
  },
  {
   "cell_type": "code",
   "execution_count": 31,
   "metadata": {},
   "outputs": [
    {
     "name": "stdout",
     "output_type": "stream",
     "text": [
      "In DEDEMSVAART zijn 8 scholen gevestigd\n",
      "er zijn  2 soorten scholen in  DEDEMSVAART\n",
      "Aantal BO instellingen: 6\n",
      "Aantal VO instellingen: 2\n"
     ]
    }
   ],
   "source": [
    "print('In', plaats,'zijn',aantalscholen, 'scholen gevestigd')\n",
    "print('er zijn ', aantalsoortschool,'soorten scholen in ', plaats)\n",
    "\n",
    "for index, row in countdata.iterrows():\n",
    "    print('Aantal',row['soort_instelling'],'instellingen:',row['naam_vestiging'])"
   ]
  },
  {
   "cell_type": "code",
   "execution_count": 113,
   "metadata": {},
   "outputs": [],
   "source": [
    "# ST_TONER = 'http://tile.stamen.com/toner/tileZ/tileX/tileY.png'\n",
    "# ST_TONER_HYBRID = 'http://tile.stamen.com/toner-hybrid/tileZ/tileX/tileY.png'\n",
    "# ST_TONER_LABELS = 'http://tile.stamen.com/toner-labels/tileZ/tileX/tileY.png'\n",
    "# ST_TONER_LINES = 'http://tile.stamen.com/toner-lines/tileZ/tileX/tileY.png'\n",
    "# ST_TONER_BACKGROUND = 'http://tile.stamen.com/toner-background/tileZ/tileX/tileY.png'\n",
    "# ST_TONER_LITE = 'http://tile.stamen.com/toner-lite/tileZ/tileX/tileY.png'\n",
    "# # \n",
    "# ST_TERRAIN = 'http://tile.stamen.com/terrain/tileZ/tileX/tileY.png'\n",
    "# ST_TERRAIN_LABELS = 'http://tile.stamen.com/terrain-labels/tileZ/tileX/tileY.png'\n",
    "# ST_TERRAIN_LINES = 'http://tile.stamen.com/terrain-lines/tileZ/tileX/tileY.png'\n",
    "# ST_TERRAIN_BACKGROUND = 'http://tile.stamen.com/terrain-background/tileZ/tileX/tileY.png'\n",
    "\n",
    "# ST_WATERCOLOR = 'http://tile.stamen.com/watercolor/tileZ/tileX/tileY.png'\n",
    "# OSM_A = 'http://a.tile.openstreetmap.org/tileZ/tileX/tileY.png'\n",
    "# OSM_B = 'http://b.tile.openstreetmap.org/tileZ/tileX/tileY.png'\n",
    "# OSM_C = 'http://c.tile.openstreetmap.org/tileZ/tileX/tileY.png'"
   ]
  },
  {
   "cell_type": "code",
   "execution_count": 143,
   "metadata": {},
   "outputs": [],
   "source": [
    "# import matplotlib.pyplot as plt\n",
    "# from matplotlib import cm\n",
    "# import contextily as ctx\n",
    "# cmap = plt.cm.get_cmap('Dark2', 9)\n",
    "# ax = plaatsdata.plot(c=plaatsdata.naam_vestiging \t, cmap=cmap, label=plaatsdata.naam_vestiging, figsize=(10,10), alpha=.5)\n",
    "# ctx.add_basemap(ax, source=ctx.sources.ST_TERRAIN)\n",
    "# ax.set_axis_off()\n",
    "# ax.legend(loc='center left', bbox_to_anchor=(1, 0.5))"
   ]
  },
  {
   "cell_type": "code",
   "execution_count": 20,
   "metadata": {},
   "outputs": [],
   "source": [
    "#inladen gemeentegrensen uit pdok voor context plot\n",
    "import geopandas as gpd\n",
    "from requests import Request\n",
    "from owslib.wfs import WebFeatureService\n",
    "def wfs_kadaster(url,type_param):\n",
    " wfs = WebFeatureService(url=url)\n",
    " layer = list(wfs.contents)[-1]\n",
    " params = dict(service='WFS', request='GetFeature',typeName=type_param ,StartIndex='0', outputFormat='json')\n",
    " q = Request('GET', url, params=params).prepare().url\n",
    " return gpd.read_file(q)\n"
   ]
  },
  {
   "cell_type": "code",
   "execution_count": 21,
   "metadata": {},
   "outputs": [],
   "source": [
    "#uitvoeren wfs query op kadaster\n",
    "gdata = wfs_kadaster(\"https://geodata.nationaalgeoregister.nl/bestuurlijkegrenzen/wfs\",\"bestuurlijkegrenzen:gemeenten\")\n"
   ]
  },
  {
   "cell_type": "code",
   "execution_count": 22,
   "metadata": {},
   "outputs": [],
   "source": [
    "#gdata"
   ]
  },
  {
   "cell_type": "code",
   "execution_count": 23,
   "metadata": {},
   "outputs": [],
   "source": [
    "#selecteren grensen van een gemeente\n",
    "gemeenteplotdata = gdata.loc[gdata['gemeentenaam'] == gemeente]"
   ]
  },
  {
   "cell_type": "code",
   "execution_count": 24,
   "metadata": {},
   "outputs": [
    {
     "data": {
      "image/png": "[encoded data removed]",
      "text/plain": [
       "<Figure size 432x288 with 1 Axes>"
      ]
     },
     "metadata": {
      "needs_background": "light"
     },
     "output_type": "display_data"
    }
   ],
   "source": [
    "#plot de 2 lagen over elkaar\n",
    "base = gemeenteplotdata.plot(color=\"white\",edgecolor='black')\n",
    "plaatsdata.plot(ax=base, marker='x', color='black', markersize=5);"
   ]
  }
 ],
 "metadata": {
  "kernelspec": {
   "display_name": "Python 3",
   "language": "python",
   "name": "python3"
  },
  "language_info": {
   "codemirror_mode": {
    "name": "ipython",
    "version": 3
   },
   "file_extension": ".py",
   "mimetype": "text/x-python",
   "name": "python",
   "nbconvert_exporter": "python",
   "pygments_lexer": "ipython3",
   "version": "3.7.4"
  }
 },
 "nbformat": 4,
 "nbformat_minor": 4
}
