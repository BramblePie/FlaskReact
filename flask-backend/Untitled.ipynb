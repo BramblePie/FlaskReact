{
 "cells": [
  {
   "cell_type": "code",
   "execution_count": 2,
   "metadata": {},
   "outputs": [],
   "source": [
    "import pandas as pd\n",
    "pd.options.display.max_columns = None\n",
    "pd.options.display.max_rows = None"
   ]
  },
  {
   "cell_type": "code",
   "execution_count": 5,
   "metadata": {},
   "outputs": [],
   "source": [
    "#input voor formulier\n",
    "wozinput = 'Hoog'\n",
    "stedelijkheidinput = 'Middel'\n",
    "werkgelegenheidinput = 'Hoog'\n",
    "bedrijfstakinput = ''"
   ]
  },
  {
   "cell_type": "code",
   "execution_count": 5,
   "metadata": {},
   "outputs": [],
   "source": [
    "data = pd.read_csv('form.csv')\n",
    "data = data.drop(columns=[ 'Unnamed: 0'])"
   ]
  },
  {
   "cell_type": "code",
   "execution_count": 6,
   "metadata": {},
   "outputs": [
    {
     "data": {
      "text/plain": [
       "(3081964, 18)"
      ]
     },
     "execution_count": 6,
     "metadata": {},
     "output_type": "execute_result"
    }
   ],
   "source": [
    "data.shape\n"
   ]
  },
  {
   "cell_type": "code",
   "execution_count": null,
   "metadata": {},
   "outputs": [],
   "source": [
    "# data = data[['wijknaam', 'gemeente', 'water',\n",
    "#        'stedelijkheid_normalisatie_waarde',\n",
    "#        'klasse_stedelijkheid_normalisatie', \n",
    "#        'klasse_mensen_normalisatie', \n",
    "#        'klasse_kinderen_normalisatie', \n",
    "#        'klasse_senioren_normalisatie', \n",
    " #        'klasse_water_normalisatie', 'postcode', \n",
    "#         'klasse_woz',\n",
    "#        'Provincie', 'Perioden', 'Bedrijfstak_code', 'Bedrijfstak',\n",
    "#        'Vestigingen (aantal)', 'Aantal_vestigingen_genormaliseerd',\n",
    "#        'Vestigingen Klasse']]"
   ]
  },
  {
   "cell_type": "code",
   "execution_count": null,
   "metadata": {},
   "outputs": [],
   "source": [
    "# data.to_csv('form.csv')"
   ]
  },
  {
   "cell_type": "code",
   "execution_count": 3,
   "metadata": {},
   "outputs": [
    {
     "data": {
      "text/plain": [
       "(172125, 5)"
      ]
     },
     "execution_count": 3,
     "metadata": {},
     "output_type": "execute_result"
    }
   ],
   "source": [
    "datamisdaad = pd.read_csv('data/misdrijven.csv')\n",
    "# datamisdaad = datamisdaad.rename(columns={\"Regio's\": \"gemeente\",})\n",
    "datamisdaad = datamisdaad.drop(columns=[ 'Unnamed: 0'])\n",
    "# datamisdaad.head()\n",
    "# datamisdaad = datamisdaad[['Soort_misdrijf', 'Perioden', 'gemeente', \n",
    "#        'Aantal_misdrijven', \n",
    "#        'Aantal_misdrijven_klasse']]\n",
    "# datamisdaad.to_csv('data/misdrijven.csv')\n",
    "datamisdaad.shape"
   ]
  },
  {
   "cell_type": "code",
   "execution_count": null,
   "metadata": {},
   "outputs": [],
   "source": [
    "form = data.merge(datamisdaad, on='gemeente')\n",
    "\n"
   ]
  }
 ],
 "metadata": {
  "kernelspec": {
   "display_name": "Python 3",
   "language": "python",
   "name": "python3"
  },
  "language_info": {
   "codemirror_mode": {
    "name": "ipython",
    "version": 3
   },
   "file_extension": ".py",
   "mimetype": "text/x-python",
   "name": "python",
   "nbconvert_exporter": "python",
   "pygments_lexer": "ipython3",
   "version": "3.7.4"
  }
 },
 "nbformat": 4,
 "nbformat_minor": 4
}
