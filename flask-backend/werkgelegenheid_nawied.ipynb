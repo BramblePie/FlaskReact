{
 "cells": [
  {
   "cell_type": "code",
   "execution_count": 168,
   "metadata": {},
   "outputs": [
    {
     "output_type": "execute_result",
     "data": {
      "text/plain": "      Bedrijfstakken/branches SBI 2008  Perioden    Regio's  \\\n0      A Landbouw, bosbouw en visserij      2013  Amsterdam   \n1      A Landbouw, bosbouw en visserij      2014  Amsterdam   \n2      A Landbouw, bosbouw en visserij      2015  Amsterdam   \n3      A Landbouw, bosbouw en visserij      2016  Amsterdam   \n4      A Landbouw, bosbouw en visserij      2017  Amsterdam   \n...                                ...       ...        ...   \n1933  U Extraterritoriale organisaties      2014     Zwolle   \n1934  U Extraterritoriale organisaties      2015     Zwolle   \n1935  U Extraterritoriale organisaties      2016     Zwolle   \n1936  U Extraterritoriale organisaties      2017     Zwolle   \n1937  U Extraterritoriale organisaties      2018     Zwolle   \n\n      Vestigingen (aantal)  \n0                       95  \n1                      100  \n2                      105  \n3                      105  \n4                      110  \n...                    ...  \n1933                     0  \n1934                     0  \n1935                     0  \n1936                     0  \n1937                     0  \n\n[1938 rows x 4 columns]",
      "text/html": "<div>\n<style scoped>\n    .dataframe tbody tr th:only-of-type {\n        vertical-align: middle;\n    }\n\n    .dataframe tbody tr th {\n        vertical-align: top;\n    }\n\n    .dataframe thead th {\n        text-align: right;\n    }\n</style>\n<table border=\"1\" class=\"dataframe\">\n  <thead>\n    <tr style=\"text-align: right;\">\n      <th></th>\n      <th>Bedrijfstakken/branches SBI 2008</th>\n      <th>Perioden</th>\n      <th>Regio's</th>\n      <th>Vestigingen (aantal)</th>\n    </tr>\n  </thead>\n  <tbody>\n    <tr>\n      <th>0</th>\n      <td>A Landbouw, bosbouw en visserij</td>\n      <td>2013</td>\n      <td>Amsterdam</td>\n      <td>95</td>\n    </tr>\n    <tr>\n      <th>1</th>\n      <td>A Landbouw, bosbouw en visserij</td>\n      <td>2014</td>\n      <td>Amsterdam</td>\n      <td>100</td>\n    </tr>\n    <tr>\n      <th>2</th>\n      <td>A Landbouw, bosbouw en visserij</td>\n      <td>2015</td>\n      <td>Amsterdam</td>\n      <td>105</td>\n    </tr>\n    <tr>\n      <th>3</th>\n      <td>A Landbouw, bosbouw en visserij</td>\n      <td>2016</td>\n      <td>Amsterdam</td>\n      <td>105</td>\n    </tr>\n    <tr>\n      <th>4</th>\n      <td>A Landbouw, bosbouw en visserij</td>\n      <td>2017</td>\n      <td>Amsterdam</td>\n      <td>110</td>\n    </tr>\n    <tr>\n      <th>...</th>\n      <td>...</td>\n      <td>...</td>\n      <td>...</td>\n      <td>...</td>\n    </tr>\n    <tr>\n      <th>1933</th>\n      <td>U Extraterritoriale organisaties</td>\n      <td>2014</td>\n      <td>Zwolle</td>\n      <td>0</td>\n    </tr>\n    <tr>\n      <th>1934</th>\n      <td>U Extraterritoriale organisaties</td>\n      <td>2015</td>\n      <td>Zwolle</td>\n      <td>0</td>\n    </tr>\n    <tr>\n      <th>1935</th>\n      <td>U Extraterritoriale organisaties</td>\n      <td>2016</td>\n      <td>Zwolle</td>\n      <td>0</td>\n    </tr>\n    <tr>\n      <th>1936</th>\n      <td>U Extraterritoriale organisaties</td>\n      <td>2017</td>\n      <td>Zwolle</td>\n      <td>0</td>\n    </tr>\n    <tr>\n      <th>1937</th>\n      <td>U Extraterritoriale organisaties</td>\n      <td>2018</td>\n      <td>Zwolle</td>\n      <td>0</td>\n    </tr>\n  </tbody>\n</table>\n<p>1938 rows × 4 columns</p>\n</div>"
     },
     "metadata": {},
     "execution_count": 168
    }
   ],
   "source": [
    "import pandas as pd\n",
    "import geopandas as gpd\n",
    "import seaborn as sb\n",
    "import numpy as np\n",
    "import matplotlib.pyplot as plt\n",
    "\n",
    "from sklearn import preprocessing\n",
    "from prep import movecol\n",
    "\n",
    "pd.set_option('display.max_rows', 50)\n",
    "\n",
    "# Dataset inlezen\n",
    "file = \"/Users/nawiedgoelab/Kadaster/FlaskReact/raw-data/Vestegingen_Gemeente.csv\"\n",
    "postcode_file = \"/Users/nawiedgoelab/Kadaster/FlaskReact/raw-data/gemeenten-provincie.xlsx\"\n",
    "data_pc = pd.read_excel(postcode_file)\n",
    "data_vg = pd.read_csv(file, sep=\";\")\n",
    "\n",
    "# Dataverkennen door dataframe te openen\n",
    "data_vg"
   ]
  },
  {
   "cell_type": "code",
   "execution_count": 169,
   "metadata": {},
   "outputs": [
    {
     "output_type": "execute_result",
     "data": {
      "text/plain": "0                     Amsterdam\n6                        Arnhem\n12                        Assen\n18                        Breda\n24                    Eindhoven\n30                     Enschede\n36     's-Gravenhage (gemeente)\n42         Groningen (gemeente)\n48                      Haarlem\n54             's-Hertogenbosch\n60                   Leeuwarden\n66                       Leiden\n72                     Lelystad\n78                   Maastricht\n84              Middelburg (Z.)\n90                    Rotterdam\n96                      Tilburg\n102          Utrecht (gemeente)\n108                      Zwolle\nName: Regio's, dtype: object"
     },
     "metadata": {},
     "execution_count": 169
    }
   ],
   "source": [
    "regios = data_vg[\"Regio's\"].drop_duplicates()\n",
    "regios"
   ]
  },
  {
   "cell_type": "code",
   "execution_count": 170,
   "metadata": {},
   "outputs": [
    {
     "output_type": "execute_result",
     "data": {
      "text/plain": "0               A Landbouw, bosbouw en visserij\n114                        B Delfstoffenwinning\n228                                 C Industrie\n342                        D Energievoorziening\n456             E Waterbedrijven en afvalbeheer\n570                            F Bouwnijverheid\n684                                    G Handel\n798                         H Vervoer en opslag\n912                                    I Horeca\n1026               J Informatie en communicatie\n1140               K Financiële dienstverlening\n1254     L Verhuur en handel van onroerend goed\n1368       M Specialistische zakelijke diensten\n1482    N Verhuur en overige zakelijke diensten\n1596              R Cultuur, sport en recreatie\n1710                  S Overige dienstverlening\n1824           U Extraterritoriale organisaties\nName: Bedrijfstakken/branches SBI 2008, dtype: object"
     },
     "metadata": {},
     "execution_count": 170
    }
   ],
   "source": [
    "bedrijfstakken = data_vg[\"Bedrijfstakken/branches SBI 2008\"].drop_duplicates()\n",
    "bedrijfstakken"
   ]
  },
  {
   "cell_type": "code",
   "execution_count": 171,
   "metadata": {},
   "outputs": [
    {
     "output_type": "execute_result",
     "data": {
      "text/plain": "                         Regio's  Provincie\n0                     Appingedam  Groningen\n1                          Bedum  Groningen\n2                   Bellingwedde  Groningen\n3                       Ten Boer  Groningen\n4                       Delfzijl  Groningen\n..                           ...        ...\n454                        Venlo    Limburg\n455                       Venray    Limburg\n456                   Voerendaal    Limburg\n457                        Weert    Limburg\n458  Niet-gemeentelijk ingedeeld     Overig\n\n[459 rows x 2 columns]",
      "text/html": "<div>\n<style scoped>\n    .dataframe tbody tr th:only-of-type {\n        vertical-align: middle;\n    }\n\n    .dataframe tbody tr th {\n        vertical-align: top;\n    }\n\n    .dataframe thead th {\n        text-align: right;\n    }\n</style>\n<table border=\"1\" class=\"dataframe\">\n  <thead>\n    <tr style=\"text-align: right;\">\n      <th></th>\n      <th>Regio's</th>\n      <th>Provincie</th>\n    </tr>\n  </thead>\n  <tbody>\n    <tr>\n      <th>0</th>\n      <td>Appingedam</td>\n      <td>Groningen</td>\n    </tr>\n    <tr>\n      <th>1</th>\n      <td>Bedum</td>\n      <td>Groningen</td>\n    </tr>\n    <tr>\n      <th>2</th>\n      <td>Bellingwedde</td>\n      <td>Groningen</td>\n    </tr>\n    <tr>\n      <th>3</th>\n      <td>Ten Boer</td>\n      <td>Groningen</td>\n    </tr>\n    <tr>\n      <th>4</th>\n      <td>Delfzijl</td>\n      <td>Groningen</td>\n    </tr>\n    <tr>\n      <th>...</th>\n      <td>...</td>\n      <td>...</td>\n    </tr>\n    <tr>\n      <th>454</th>\n      <td>Venlo</td>\n      <td>Limburg</td>\n    </tr>\n    <tr>\n      <th>455</th>\n      <td>Venray</td>\n      <td>Limburg</td>\n    </tr>\n    <tr>\n      <th>456</th>\n      <td>Voerendaal</td>\n      <td>Limburg</td>\n    </tr>\n    <tr>\n      <th>457</th>\n      <td>Weert</td>\n      <td>Limburg</td>\n    </tr>\n    <tr>\n      <th>458</th>\n      <td>Niet-gemeentelijk ingedeeld</td>\n      <td>Overig</td>\n    </tr>\n  </tbody>\n</table>\n<p>459 rows × 2 columns</p>\n</div>"
     },
     "metadata": {},
     "execution_count": 171
    }
   ],
   "source": [
    "data_pc"
   ]
  },
  {
   "cell_type": "code",
   "execution_count": 172,
   "metadata": {},
   "outputs": [
    {
     "output_type": "execute_result",
     "data": {
      "text/plain": "      Bedrijfstakken/branches SBI 2008  Perioden    Regio's  \\\n0      A Landbouw, bosbouw en visserij      2013  Amsterdam   \n1      A Landbouw, bosbouw en visserij      2014  Amsterdam   \n2      A Landbouw, bosbouw en visserij      2015  Amsterdam   \n3      A Landbouw, bosbouw en visserij      2016  Amsterdam   \n4      A Landbouw, bosbouw en visserij      2017  Amsterdam   \n...                                ...       ...        ...   \n1933  U Extraterritoriale organisaties      2014     Zwolle   \n1934  U Extraterritoriale organisaties      2015     Zwolle   \n1935  U Extraterritoriale organisaties      2016     Zwolle   \n1936  U Extraterritoriale organisaties      2017     Zwolle   \n1937  U Extraterritoriale organisaties      2018     Zwolle   \n\n      Vestigingen (aantal)      Provincie  \n0                       95  Noord-Holland  \n1                      100  Noord-Holland  \n2                      105  Noord-Holland  \n3                      105  Noord-Holland  \n4                      110  Noord-Holland  \n...                    ...            ...  \n1933                     0     Overijssel  \n1934                     0     Overijssel  \n1935                     0     Overijssel  \n1936                     0     Overijssel  \n1937                     0     Overijssel  \n\n[1938 rows x 5 columns]",
      "text/html": "<div>\n<style scoped>\n    .dataframe tbody tr th:only-of-type {\n        vertical-align: middle;\n    }\n\n    .dataframe tbody tr th {\n        vertical-align: top;\n    }\n\n    .dataframe thead th {\n        text-align: right;\n    }\n</style>\n<table border=\"1\" class=\"dataframe\">\n  <thead>\n    <tr style=\"text-align: right;\">\n      <th></th>\n      <th>Bedrijfstakken/branches SBI 2008</th>\n      <th>Perioden</th>\n      <th>Regio's</th>\n      <th>Vestigingen (aantal)</th>\n      <th>Provincie</th>\n    </tr>\n  </thead>\n  <tbody>\n    <tr>\n      <th>0</th>\n      <td>A Landbouw, bosbouw en visserij</td>\n      <td>2013</td>\n      <td>Amsterdam</td>\n      <td>95</td>\n      <td>Noord-Holland</td>\n    </tr>\n    <tr>\n      <th>1</th>\n      <td>A Landbouw, bosbouw en visserij</td>\n      <td>2014</td>\n      <td>Amsterdam</td>\n      <td>100</td>\n      <td>Noord-Holland</td>\n    </tr>\n    <tr>\n      <th>2</th>\n      <td>A Landbouw, bosbouw en visserij</td>\n      <td>2015</td>\n      <td>Amsterdam</td>\n      <td>105</td>\n      <td>Noord-Holland</td>\n    </tr>\n    <tr>\n      <th>3</th>\n      <td>A Landbouw, bosbouw en visserij</td>\n      <td>2016</td>\n      <td>Amsterdam</td>\n      <td>105</td>\n      <td>Noord-Holland</td>\n    </tr>\n    <tr>\n      <th>4</th>\n      <td>A Landbouw, bosbouw en visserij</td>\n      <td>2017</td>\n      <td>Amsterdam</td>\n      <td>110</td>\n      <td>Noord-Holland</td>\n    </tr>\n    <tr>\n      <th>...</th>\n      <td>...</td>\n      <td>...</td>\n      <td>...</td>\n      <td>...</td>\n      <td>...</td>\n    </tr>\n    <tr>\n      <th>1933</th>\n      <td>U Extraterritoriale organisaties</td>\n      <td>2014</td>\n      <td>Zwolle</td>\n      <td>0</td>\n      <td>Overijssel</td>\n    </tr>\n    <tr>\n      <th>1934</th>\n      <td>U Extraterritoriale organisaties</td>\n      <td>2015</td>\n      <td>Zwolle</td>\n      <td>0</td>\n      <td>Overijssel</td>\n    </tr>\n    <tr>\n      <th>1935</th>\n      <td>U Extraterritoriale organisaties</td>\n      <td>2016</td>\n      <td>Zwolle</td>\n      <td>0</td>\n      <td>Overijssel</td>\n    </tr>\n    <tr>\n      <th>1936</th>\n      <td>U Extraterritoriale organisaties</td>\n      <td>2017</td>\n      <td>Zwolle</td>\n      <td>0</td>\n      <td>Overijssel</td>\n    </tr>\n    <tr>\n      <th>1937</th>\n      <td>U Extraterritoriale organisaties</td>\n      <td>2018</td>\n      <td>Zwolle</td>\n      <td>0</td>\n      <td>Overijssel</td>\n    </tr>\n  </tbody>\n</table>\n<p>1938 rows × 5 columns</p>\n</div>"
     },
     "metadata": {},
     "execution_count": 172
    }
   ],
   "source": [
    "data_vg_incl_provincie = pd.merge(data_vg, data_pc, left_on=\"Regio's\", right_on=\"Regio's\")\n",
    "data_vg_incl_provincie"
   ]
  },
  {
   "cell_type": "code",
   "execution_count": 173,
   "metadata": {},
   "outputs": [
    {
     "output_type": "execute_result",
     "data": {
      "text/plain": "      Bedrijfstakken/branches SBI 2008  Perioden    Regio's      Provincie  \\\n0      A Landbouw, bosbouw en visserij      2013  Amsterdam  Noord-Holland   \n1      A Landbouw, bosbouw en visserij      2014  Amsterdam  Noord-Holland   \n2      A Landbouw, bosbouw en visserij      2015  Amsterdam  Noord-Holland   \n3      A Landbouw, bosbouw en visserij      2016  Amsterdam  Noord-Holland   \n4      A Landbouw, bosbouw en visserij      2017  Amsterdam  Noord-Holland   \n...                                ...       ...        ...            ...   \n1933  U Extraterritoriale organisaties      2014     Zwolle     Overijssel   \n1934  U Extraterritoriale organisaties      2015     Zwolle     Overijssel   \n1935  U Extraterritoriale organisaties      2016     Zwolle     Overijssel   \n1936  U Extraterritoriale organisaties      2017     Zwolle     Overijssel   \n1937  U Extraterritoriale organisaties      2018     Zwolle     Overijssel   \n\n      Vestigingen (aantal)  \n0                       95  \n1                      100  \n2                      105  \n3                      105  \n4                      110  \n...                    ...  \n1933                     0  \n1934                     0  \n1935                     0  \n1936                     0  \n1937                     0  \n\n[1938 rows x 5 columns]",
      "text/html": "<div>\n<style scoped>\n    .dataframe tbody tr th:only-of-type {\n        vertical-align: middle;\n    }\n\n    .dataframe tbody tr th {\n        vertical-align: top;\n    }\n\n    .dataframe thead th {\n        text-align: right;\n    }\n</style>\n<table border=\"1\" class=\"dataframe\">\n  <thead>\n    <tr style=\"text-align: right;\">\n      <th></th>\n      <th>Bedrijfstakken/branches SBI 2008</th>\n      <th>Perioden</th>\n      <th>Regio's</th>\n      <th>Provincie</th>\n      <th>Vestigingen (aantal)</th>\n    </tr>\n  </thead>\n  <tbody>\n    <tr>\n      <th>0</th>\n      <td>A Landbouw, bosbouw en visserij</td>\n      <td>2013</td>\n      <td>Amsterdam</td>\n      <td>Noord-Holland</td>\n      <td>95</td>\n    </tr>\n    <tr>\n      <th>1</th>\n      <td>A Landbouw, bosbouw en visserij</td>\n      <td>2014</td>\n      <td>Amsterdam</td>\n      <td>Noord-Holland</td>\n      <td>100</td>\n    </tr>\n    <tr>\n      <th>2</th>\n      <td>A Landbouw, bosbouw en visserij</td>\n      <td>2015</td>\n      <td>Amsterdam</td>\n      <td>Noord-Holland</td>\n      <td>105</td>\n    </tr>\n    <tr>\n      <th>3</th>\n      <td>A Landbouw, bosbouw en visserij</td>\n      <td>2016</td>\n      <td>Amsterdam</td>\n      <td>Noord-Holland</td>\n      <td>105</td>\n    </tr>\n    <tr>\n      <th>4</th>\n      <td>A Landbouw, bosbouw en visserij</td>\n      <td>2017</td>\n      <td>Amsterdam</td>\n      <td>Noord-Holland</td>\n      <td>110</td>\n    </tr>\n    <tr>\n      <th>...</th>\n      <td>...</td>\n      <td>...</td>\n      <td>...</td>\n      <td>...</td>\n      <td>...</td>\n    </tr>\n    <tr>\n      <th>1933</th>\n      <td>U Extraterritoriale organisaties</td>\n      <td>2014</td>\n      <td>Zwolle</td>\n      <td>Overijssel</td>\n      <td>0</td>\n    </tr>\n    <tr>\n      <th>1934</th>\n      <td>U Extraterritoriale organisaties</td>\n      <td>2015</td>\n      <td>Zwolle</td>\n      <td>Overijssel</td>\n      <td>0</td>\n    </tr>\n    <tr>\n      <th>1935</th>\n      <td>U Extraterritoriale organisaties</td>\n      <td>2016</td>\n      <td>Zwolle</td>\n      <td>Overijssel</td>\n      <td>0</td>\n    </tr>\n    <tr>\n      <th>1936</th>\n      <td>U Extraterritoriale organisaties</td>\n      <td>2017</td>\n      <td>Zwolle</td>\n      <td>Overijssel</td>\n      <td>0</td>\n    </tr>\n    <tr>\n      <th>1937</th>\n      <td>U Extraterritoriale organisaties</td>\n      <td>2018</td>\n      <td>Zwolle</td>\n      <td>Overijssel</td>\n      <td>0</td>\n    </tr>\n  </tbody>\n</table>\n<p>1938 rows × 5 columns</p>\n</div>"
     },
     "metadata": {},
     "execution_count": 173
    }
   ],
   "source": [
    "data_vg_incl_provincie = movecol(data_vg_incl_provincie, cols_to_move=['Provincie'], ref_col=\"Regio's\", place='After')\n",
    "\n",
    "data_vg_incl_provincie"
   ]
  },
  {
   "cell_type": "code",
   "execution_count": 174,
   "metadata": {},
   "outputs": [
    {
     "output_type": "execute_result",
     "data": {
      "text/plain": "['Drenthe',\n 'Flevoland',\n 'Friesland',\n 'Gelderland',\n 'Groningen',\n 'Limburg',\n 'Noord-Brabant',\n 'Noord-Holland',\n 'Overijssel',\n 'Utrecht',\n 'Zeeland',\n 'Zuid-Holland']"
     },
     "metadata": {},
     "execution_count": 174
    }
   ],
   "source": [
    "provincies = sorted(data_vg_incl_provincie[\"Provincie\"].drop_duplicates())\n",
    "provincies"
   ]
  },
  {
   "cell_type": "code",
   "execution_count": 175,
   "metadata": {},
   "outputs": [
    {
     "output_type": "execute_result",
     "data": {
      "text/plain": "[\"'s-Gravenhage (gemeente)\",\n \"'s-Hertogenbosch\",\n 'Amsterdam',\n 'Arnhem',\n 'Assen',\n 'Breda',\n 'Eindhoven',\n 'Enschede',\n 'Groningen (gemeente)',\n 'Haarlem',\n 'Leeuwarden',\n 'Leiden',\n 'Lelystad',\n 'Maastricht',\n 'Middelburg (Z.)',\n 'Rotterdam',\n 'Tilburg',\n 'Utrecht (gemeente)',\n 'Zwolle']"
     },
     "metadata": {},
     "execution_count": 175
    }
   ],
   "source": [
    "regios = sorted(data_vg_incl_provincie[\"Regio's\"].drop_duplicates())\n",
    "regios"
   ]
  },
  {
   "cell_type": "code",
   "execution_count": 176,
   "metadata": {},
   "outputs": [
    {
     "output_type": "execute_result",
     "data": {
      "text/plain": "                                                                         Vestigingen (aantal)\nProvincie    Regio's   Perioden Bedrijfstakken/branches SBI 2008                             \nDrenthe      Assen     2013     A Landbouw, bosbouw en visserij                            65\n                                B Delfstoffenwinning                                        5\n                                C Industrie                                               160\n                                D Energievoorziening                                        0\n                                E Waterbedrijven en afvalbeheer                            10\n...                                                                                       ...\nZuid-Holland Rotterdam 2018     M Specialistische zakelijke diensten                    14655\n                                N Verhuur en overige zakelijke diensten                  2910\n                                R Cultuur, sport en recreatie                            5440\n                                S Overige dienstverlening                                3330\n                                U Extraterritoriale organisaties                            0\n\n[1938 rows x 1 columns]",
      "text/html": "<div>\n<style scoped>\n    .dataframe tbody tr th:only-of-type {\n        vertical-align: middle;\n    }\n\n    .dataframe tbody tr th {\n        vertical-align: top;\n    }\n\n    .dataframe thead th {\n        text-align: right;\n    }\n</style>\n<table border=\"1\" class=\"dataframe\">\n  <thead>\n    <tr style=\"text-align: right;\">\n      <th></th>\n      <th></th>\n      <th></th>\n      <th></th>\n      <th>Vestigingen (aantal)</th>\n    </tr>\n    <tr>\n      <th>Provincie</th>\n      <th>Regio's</th>\n      <th>Perioden</th>\n      <th>Bedrijfstakken/branches SBI 2008</th>\n      <th></th>\n    </tr>\n  </thead>\n  <tbody>\n    <tr>\n      <th rowspan=\"5\" valign=\"top\">Drenthe</th>\n      <th rowspan=\"5\" valign=\"top\">Assen</th>\n      <th rowspan=\"5\" valign=\"top\">2013</th>\n      <th>A Landbouw, bosbouw en visserij</th>\n      <td>65</td>\n    </tr>\n    <tr>\n      <th>B Delfstoffenwinning</th>\n      <td>5</td>\n    </tr>\n    <tr>\n      <th>C Industrie</th>\n      <td>160</td>\n    </tr>\n    <tr>\n      <th>D Energievoorziening</th>\n      <td>0</td>\n    </tr>\n    <tr>\n      <th>E Waterbedrijven en afvalbeheer</th>\n      <td>10</td>\n    </tr>\n    <tr>\n      <th>...</th>\n      <th>...</th>\n      <th>...</th>\n      <th>...</th>\n      <td>...</td>\n    </tr>\n    <tr>\n      <th rowspan=\"5\" valign=\"top\">Zuid-Holland</th>\n      <th rowspan=\"5\" valign=\"top\">Rotterdam</th>\n      <th rowspan=\"5\" valign=\"top\">2018</th>\n      <th>M Specialistische zakelijke diensten</th>\n      <td>14655</td>\n    </tr>\n    <tr>\n      <th>N Verhuur en overige zakelijke diensten</th>\n      <td>2910</td>\n    </tr>\n    <tr>\n      <th>R Cultuur, sport en recreatie</th>\n      <td>5440</td>\n    </tr>\n    <tr>\n      <th>S Overige dienstverlening</th>\n      <td>3330</td>\n    </tr>\n    <tr>\n      <th>U Extraterritoriale organisaties</th>\n      <td>0</td>\n    </tr>\n  </tbody>\n</table>\n<p>1938 rows × 1 columns</p>\n</div>"
     },
     "metadata": {},
     "execution_count": 176
    }
   ],
   "source": [
    "# TOTAAL AANTAL MISDRIJVEN PER JAAR PER PROVINCIE. RELATIEVE KOLOM IS NIET VAN TOEPASSING AANGEZIEN TOTALEN GEBASEERD IS OP 100%.\n",
    "\n",
    "\n",
    "werkgelegenheid_groupby = data_vg_incl_provincie.groupby(['Provincie',\"Regio's\", 'Perioden', 'Bedrijfstakken/branches SBI 2008']).sum()\n",
    "\n",
    "werkgelegenheid_groupby"
   ]
  },
  {
   "cell_type": "code",
   "execution_count": 177,
   "metadata": {},
   "outputs": [
    {
     "output_type": "execute_result",
     "data": {
      "text/plain": "          Perioden  Vestigingen (aantal)\ncount  1938.000000           1938.000000\nmean   2015.500000           1256.542828\nstd       1.708266           2690.824443\nmin    2013.000000              0.000000\n25%    2014.000000             66.250000\n50%    2015.500000            470.000000\n75%    2017.000000           1248.750000\nmax    2018.000000          36290.000000",
      "text/html": "<div>\n<style scoped>\n    .dataframe tbody tr th:only-of-type {\n        vertical-align: middle;\n    }\n\n    .dataframe tbody tr th {\n        vertical-align: top;\n    }\n\n    .dataframe thead th {\n        text-align: right;\n    }\n</style>\n<table border=\"1\" class=\"dataframe\">\n  <thead>\n    <tr style=\"text-align: right;\">\n      <th></th>\n      <th>Perioden</th>\n      <th>Vestigingen (aantal)</th>\n    </tr>\n  </thead>\n  <tbody>\n    <tr>\n      <th>count</th>\n      <td>1938.000000</td>\n      <td>1938.000000</td>\n    </tr>\n    <tr>\n      <th>mean</th>\n      <td>2015.500000</td>\n      <td>1256.542828</td>\n    </tr>\n    <tr>\n      <th>std</th>\n      <td>1.708266</td>\n      <td>2690.824443</td>\n    </tr>\n    <tr>\n      <th>min</th>\n      <td>2013.000000</td>\n      <td>0.000000</td>\n    </tr>\n    <tr>\n      <th>25%</th>\n      <td>2014.000000</td>\n      <td>66.250000</td>\n    </tr>\n    <tr>\n      <th>50%</th>\n      <td>2015.500000</td>\n      <td>470.000000</td>\n    </tr>\n    <tr>\n      <th>75%</th>\n      <td>2017.000000</td>\n      <td>1248.750000</td>\n    </tr>\n    <tr>\n      <th>max</th>\n      <td>2018.000000</td>\n      <td>36290.000000</td>\n    </tr>\n  </tbody>\n</table>\n</div>"
     },
     "metadata": {},
     "execution_count": 177
    }
   ],
   "source": [
    "data_vg.describe()"
   ]
  },
  {
   "cell_type": "code",
   "execution_count": 178,
   "metadata": {},
   "outputs": [
    {
     "output_type": "execute_result",
     "data": {
      "text/plain": "                                                                         Vestigingen (aantal)  \\\nProvincie    Regio's   Perioden Bedrijfstakken/branches SBI 2008                                \nDrenthe      Assen     2013     A Landbouw, bosbouw en visserij                            65   \n                                B Delfstoffenwinning                                        5   \n                                C Industrie                                               160   \n                                D Energievoorziening                                        0   \n                                E Waterbedrijven en afvalbeheer                            10   \n...                                                                                       ...   \nZuid-Holland Rotterdam 2018     M Specialistische zakelijke diensten                    14655   \n                                N Verhuur en overige zakelijke diensten                  2910   \n                                R Cultuur, sport en recreatie                            5440   \n                                S Overige dienstverlening                                3330   \n                                U Extraterritoriale organisaties                            0   \n\n                                                                         Aantal_vestigingen_genormaliseerd  \nProvincie    Regio's   Perioden Bedrijfstakken/branches SBI 2008                                            \nDrenthe      Assen     2013     A Landbouw, bosbouw en visserij                                   0.002618  \n                                B Delfstoffenwinning                                              0.002756  \n                                C Industrie                                                       0.002893  \n                                D Energievoorziening                                              0.002893  \n                                E Waterbedrijven en afvalbeheer                                   0.003031  \n...                                                                                                    ...  \nZuid-Holland Rotterdam 2018     M Specialistische zakelijke diensten                              0.000000  \n                                N Verhuur en overige zakelijke diensten                           0.000000  \n                                R Cultuur, sport en recreatie                                     0.000000  \n                                S Overige dienstverlening                                         0.000000  \n                                U Extraterritoriale organisaties                                  0.000000  \n\n[1938 rows x 2 columns]",
      "text/html": "<div>\n<style scoped>\n    .dataframe tbody tr th:only-of-type {\n        vertical-align: middle;\n    }\n\n    .dataframe tbody tr th {\n        vertical-align: top;\n    }\n\n    .dataframe thead th {\n        text-align: right;\n    }\n</style>\n<table border=\"1\" class=\"dataframe\">\n  <thead>\n    <tr style=\"text-align: right;\">\n      <th></th>\n      <th></th>\n      <th></th>\n      <th></th>\n      <th>Vestigingen (aantal)</th>\n      <th>Aantal_vestigingen_genormaliseerd</th>\n    </tr>\n    <tr>\n      <th>Provincie</th>\n      <th>Regio's</th>\n      <th>Perioden</th>\n      <th>Bedrijfstakken/branches SBI 2008</th>\n      <th></th>\n      <th></th>\n    </tr>\n  </thead>\n  <tbody>\n    <tr>\n      <th rowspan=\"5\" valign=\"top\">Drenthe</th>\n      <th rowspan=\"5\" valign=\"top\">Assen</th>\n      <th rowspan=\"5\" valign=\"top\">2013</th>\n      <th>A Landbouw, bosbouw en visserij</th>\n      <td>65</td>\n      <td>0.002618</td>\n    </tr>\n    <tr>\n      <th>B Delfstoffenwinning</th>\n      <td>5</td>\n      <td>0.002756</td>\n    </tr>\n    <tr>\n      <th>C Industrie</th>\n      <td>160</td>\n      <td>0.002893</td>\n    </tr>\n    <tr>\n      <th>D Energievoorziening</th>\n      <td>0</td>\n      <td>0.002893</td>\n    </tr>\n    <tr>\n      <th>E Waterbedrijven en afvalbeheer</th>\n      <td>10</td>\n      <td>0.003031</td>\n    </tr>\n    <tr>\n      <th>...</th>\n      <th>...</th>\n      <th>...</th>\n      <th>...</th>\n      <td>...</td>\n      <td>...</td>\n    </tr>\n    <tr>\n      <th rowspan=\"5\" valign=\"top\">Zuid-Holland</th>\n      <th rowspan=\"5\" valign=\"top\">Rotterdam</th>\n      <th rowspan=\"5\" valign=\"top\">2018</th>\n      <th>M Specialistische zakelijke diensten</th>\n      <td>14655</td>\n      <td>0.000000</td>\n    </tr>\n    <tr>\n      <th>N Verhuur en overige zakelijke diensten</th>\n      <td>2910</td>\n      <td>0.000000</td>\n    </tr>\n    <tr>\n      <th>R Cultuur, sport en recreatie</th>\n      <td>5440</td>\n      <td>0.000000</td>\n    </tr>\n    <tr>\n      <th>S Overige dienstverlening</th>\n      <td>3330</td>\n      <td>0.000000</td>\n    </tr>\n    <tr>\n      <th>U Extraterritoriale organisaties</th>\n      <td>0</td>\n      <td>0.000000</td>\n    </tr>\n  </tbody>\n</table>\n<p>1938 rows × 2 columns</p>\n</div>"
     },
     "metadata": {},
     "execution_count": 178
    }
   ],
   "source": [
    "np.set_printoptions(threshold=np.inf)\n",
    "\n",
    "min_max_scaler = preprocessing.MinMaxScaler()\n",
    "\n",
    "aantal_vestigingen_minmax = min_max_scaler.fit_transform(data_vg_incl_provincie[[\"Vestigingen (aantal)\"]])\n",
    "werkgelegenheid_groupby[\"Aantal_vestigingen_genormaliseerd\"] = aantal_vestigingen_minmax\n",
    "\n",
    "werkgelegenheid_groupby"
   ]
  },
  {
   "cell_type": "code",
   "execution_count": 179,
   "metadata": {},
   "outputs": [
    {
     "output_type": "execute_result",
     "data": {
      "text/plain": "                                                                         Vestigingen (aantal)  \\\nProvincie    Regio's   Perioden Bedrijfstakken/branches SBI 2008                                \nDrenthe      Assen     2013     A Landbouw, bosbouw en visserij                            65   \n                                B Delfstoffenwinning                                        5   \n                                C Industrie                                               160   \n                                D Energievoorziening                                        0   \n                                E Waterbedrijven en afvalbeheer                            10   \n...                                                                                       ...   \nZuid-Holland Rotterdam 2018     M Specialistische zakelijke diensten                    14655   \n                                N Verhuur en overige zakelijke diensten                  2910   \n                                R Cultuur, sport en recreatie                            5440   \n                                S Overige dienstverlening                                3330   \n                                U Extraterritoriale organisaties                            0   \n\n                                                                         Aantal_vestigingen_genormaliseerd  \\\nProvincie    Regio's   Perioden Bedrijfstakken/branches SBI 2008                                             \nDrenthe      Assen     2013     A Landbouw, bosbouw en visserij                                   0.002618   \n                                B Delfstoffenwinning                                              0.002756   \n                                C Industrie                                                       0.002893   \n                                D Energievoorziening                                              0.002893   \n                                E Waterbedrijven en afvalbeheer                                   0.003031   \n...                                                                                                    ...   \nZuid-Holland Rotterdam 2018     M Specialistische zakelijke diensten                              0.000000   \n                                N Verhuur en overige zakelijke diensten                           0.000000   \n                                R Cultuur, sport en recreatie                                     0.000000   \n                                S Overige dienstverlening                                         0.000000   \n                                U Extraterritoriale organisaties                                  0.000000   \n\n                                                                        Vestigingen Klasse  \nProvincie    Regio's   Perioden Bedrijfstakken/branches SBI 2008                            \nDrenthe      Assen     2013     A Landbouw, bosbouw en visserij                       Laag  \n                                B Delfstoffenwinning                                  Laag  \n                                C Industrie                                         Middel  \n                                D Energievoorziening                                  Geen  \n                                E Waterbedrijven en afvalbeheer                       Laag  \n...                                                                                    ...  \nZuid-Holland Rotterdam 2018     M Specialistische zakelijke diensten                  Hoog  \n                                N Verhuur en overige zakelijke diensten               Hoog  \n                                R Cultuur, sport en recreatie                         Hoog  \n                                S Overige dienstverlening                             Hoog  \n                                U Extraterritoriale organisaties                      Geen  \n\n[1938 rows x 3 columns]",
      "text/html": "<div>\n<style scoped>\n    .dataframe tbody tr th:only-of-type {\n        vertical-align: middle;\n    }\n\n    .dataframe tbody tr th {\n        vertical-align: top;\n    }\n\n    .dataframe thead th {\n        text-align: right;\n    }\n</style>\n<table border=\"1\" class=\"dataframe\">\n  <thead>\n    <tr style=\"text-align: right;\">\n      <th></th>\n      <th></th>\n      <th></th>\n      <th></th>\n      <th>Vestigingen (aantal)</th>\n      <th>Aantal_vestigingen_genormaliseerd</th>\n      <th>Vestigingen Klasse</th>\n    </tr>\n    <tr>\n      <th>Provincie</th>\n      <th>Regio's</th>\n      <th>Perioden</th>\n      <th>Bedrijfstakken/branches SBI 2008</th>\n      <th></th>\n      <th></th>\n      <th></th>\n    </tr>\n  </thead>\n  <tbody>\n    <tr>\n      <th rowspan=\"5\" valign=\"top\">Drenthe</th>\n      <th rowspan=\"5\" valign=\"top\">Assen</th>\n      <th rowspan=\"5\" valign=\"top\">2013</th>\n      <th>A Landbouw, bosbouw en visserij</th>\n      <td>65</td>\n      <td>0.002618</td>\n      <td>Laag</td>\n    </tr>\n    <tr>\n      <th>B Delfstoffenwinning</th>\n      <td>5</td>\n      <td>0.002756</td>\n      <td>Laag</td>\n    </tr>\n    <tr>\n      <th>C Industrie</th>\n      <td>160</td>\n      <td>0.002893</td>\n      <td>Middel</td>\n    </tr>\n    <tr>\n      <th>D Energievoorziening</th>\n      <td>0</td>\n      <td>0.002893</td>\n      <td>Geen</td>\n    </tr>\n    <tr>\n      <th>E Waterbedrijven en afvalbeheer</th>\n      <td>10</td>\n      <td>0.003031</td>\n      <td>Laag</td>\n    </tr>\n    <tr>\n      <th>...</th>\n      <th>...</th>\n      <th>...</th>\n      <th>...</th>\n      <td>...</td>\n      <td>...</td>\n      <td>...</td>\n    </tr>\n    <tr>\n      <th rowspan=\"5\" valign=\"top\">Zuid-Holland</th>\n      <th rowspan=\"5\" valign=\"top\">Rotterdam</th>\n      <th rowspan=\"5\" valign=\"top\">2018</th>\n      <th>M Specialistische zakelijke diensten</th>\n      <td>14655</td>\n      <td>0.000000</td>\n      <td>Hoog</td>\n    </tr>\n    <tr>\n      <th>N Verhuur en overige zakelijke diensten</th>\n      <td>2910</td>\n      <td>0.000000</td>\n      <td>Hoog</td>\n    </tr>\n    <tr>\n      <th>R Cultuur, sport en recreatie</th>\n      <td>5440</td>\n      <td>0.000000</td>\n      <td>Hoog</td>\n    </tr>\n    <tr>\n      <th>S Overige dienstverlening</th>\n      <td>3330</td>\n      <td>0.000000</td>\n      <td>Hoog</td>\n    </tr>\n    <tr>\n      <th>U Extraterritoriale organisaties</th>\n      <td>0</td>\n      <td>0.000000</td>\n      <td>Geen</td>\n    </tr>\n  </tbody>\n</table>\n<p>1938 rows × 3 columns</p>\n</div>"
     },
     "metadata": {},
     "execution_count": 179
    }
   ],
   "source": [
    "#data_vg_2018v2.drop(columns=[\"Klasse vestigingsaantal\"])\n",
    "vestigingen = werkgelegenheid_groupby[\"Vestigingen (aantal)\"]\n",
    "\n",
    "# Gebruik de aantallen die bij vg_data.describe() staan\n",
    "werk_25 = vestigingen.quantile(q=.25)\n",
    "werk_50 = vestigingen.quantile(q=.5)\n",
    "werk_75 = vestigingen.quantile(q=.75)\n",
    "\n",
    "# Gebruik de aantallen die bij vg_data.describe() staan\n",
    "m1 = np.logical_and(vestigingen < werk_25, vestigingen != 0)\n",
    "m2 = np.logical_and(vestigingen >  werk_25, vestigingen < werk_50)\n",
    "m3 = np.logical_and(vestigingen >  werk_50, vestigingen < werk_75)\n",
    "m4 = vestigingen > werk_75\n",
    "\n",
    "werkgelegenheid_groupby[\"Vestigingen Klasse\"] = np.select([m1,m2,m3,m4], ['Laag','Middel','Middel-Hoog','Hoog'], default='Geen')\n",
    "\n",
    "werkgelegenheid_groupby"
   ]
  },
  {
   "cell_type": "code",
   "execution_count": null,
   "metadata": {},
   "outputs": [],
   "source": []
  }
 ],
 "metadata": {
  "language_info": {
   "codemirror_mode": {
    "name": "ipython",
    "version": 3
   },
   "file_extension": ".py",
   "mimetype": "text/x-python",
   "name": "python",
   "nbconvert_exporter": "python",
   "pygments_lexer": "ipython3",
   "version": "3.8.2-final"
  },
  "orig_nbformat": 2,
  "kernelspec": {
   "name": "python38264bitenvcondaf96fe45400d245478aa42fe86c9a5622",
   "display_name": "Python 3.8.2 64-bit ('.env': conda)"
  }
 },
 "nbformat": 4,
 "nbformat_minor": 2
}