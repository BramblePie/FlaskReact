{
 "cells": [
  {
   "cell_type": "code",
   "execution_count": 1,
   "metadata": {},
   "outputs": [],
   "source": [
    "import pandas as pd\n",
    "pd.options.display.max_columns = None\n",
    "pd.options.display.max_rows = None"
   ]
  },
  {
   "cell_type": "code",
   "execution_count": 2,
   "metadata": {},
   "outputs": [],
   "source": [
    "#input voor formulier\n",
    "wozinput = 'Hoog'\n",
    "stedelijkheidinput = 'Middel'\n",
    "werkgelegenheidinput = 'Hoog'\n",
    "Bedrijfstakinput = \"Industrie\"\n",
    "misdaadinput = 'Hoog'"
   ]
  },
  {
   "cell_type": "code",
   "execution_count": 3,
   "metadata": {},
   "outputs": [],
   "source": [
    "datawoz = pd.read_csv('data/datasetwoznormaliseerd.csv')\n",
    "datawoz = datawoz.drop(columns=['geometry', 'Unnamed: 0'])"
   ]
  },
  {
   "cell_type": "code",
   "execution_count": 5,
   "metadata": {},
   "outputs": [
    {
     "data": {
      "text/plain": [
       "array(['Hoog', 'Laag', 'Midden'], dtype=object)"
      ]
     },
     "execution_count": 5,
     "metadata": {},
     "output_type": "execute_result"
    }
   ],
   "source": [
    "datamisdaad = pd.read_csv('data/misdrijven.csv')\n",
    "datamisdaad = datamisdaad.rename(columns={\"Regio's\": \"gemeente\",})\n",
    "datamisdaad = datamisdaad.drop(columns=[ 'Unnamed: 0'])\n",
    "datamisdaad = datamisdaad.loc[(datamisdaad['Soort_misdrijf'] == 'Misdrijven, totaal') & (datamisdaad['Perioden'] == '2019*')]\n",
    "datamisdaad['Aantal_misdrijven_klasse'].unique()"
   ]
  },
  {
   "cell_type": "code",
   "execution_count": 56,
   "metadata": {},
   "outputs": [
    {
     "data": {
      "text/html": [
       "<div>\n",
       "<style scoped>\n",
       "    .dataframe tbody tr th:only-of-type {\n",
       "        vertical-align: middle;\n",
       "    }\n",
       "\n",
       "    .dataframe tbody tr th {\n",
       "        vertical-align: top;\n",
       "    }\n",
       "\n",
       "    .dataframe thead th {\n",
       "        text-align: right;\n",
       "    }\n",
       "</style>\n",
       "<table border=\"1\" class=\"dataframe\">\n",
       "  <thead>\n",
       "    <tr style=\"text-align: right;\">\n",
       "      <th></th>\n",
       "      <th>postcode</th>\n",
       "      <th>gemiddelde_woz_waarde_woning</th>\n",
       "      <th>gemeente</th>\n",
       "      <th>gemiddelde_woz_waarde_gemeente</th>\n",
       "      <th>woz_normalisatie</th>\n",
       "      <th>klasse_woz</th>\n",
       "    </tr>\n",
       "  </thead>\n",
       "  <tbody>\n",
       "    <tr>\n",
       "      <th>0</th>\n",
       "      <td>1011</td>\n",
       "      <td>386</td>\n",
       "      <td>Amsterdam</td>\n",
       "      <td>298.333333</td>\n",
       "      <td>0.318303</td>\n",
       "      <td>Heel-Hoog</td>\n",
       "    </tr>\n",
       "    <tr>\n",
       "      <th>1</th>\n",
       "      <td>1012</td>\n",
       "      <td>343</td>\n",
       "      <td>Amsterdam</td>\n",
       "      <td>298.333333</td>\n",
       "      <td>0.318303</td>\n",
       "      <td>Heel-Hoog</td>\n",
       "    </tr>\n",
       "    <tr>\n",
       "      <th>2</th>\n",
       "      <td>1013</td>\n",
       "      <td>329</td>\n",
       "      <td>Amsterdam</td>\n",
       "      <td>298.333333</td>\n",
       "      <td>0.318303</td>\n",
       "      <td>Heel-Hoog</td>\n",
       "    </tr>\n",
       "    <tr>\n",
       "      <th>3</th>\n",
       "      <td>1014</td>\n",
       "      <td>395</td>\n",
       "      <td>Amsterdam</td>\n",
       "      <td>298.333333</td>\n",
       "      <td>0.318303</td>\n",
       "      <td>Heel-Hoog</td>\n",
       "    </tr>\n",
       "    <tr>\n",
       "      <th>4</th>\n",
       "      <td>1015</td>\n",
       "      <td>400</td>\n",
       "      <td>Amsterdam</td>\n",
       "      <td>298.333333</td>\n",
       "      <td>0.318303</td>\n",
       "      <td>Heel-Hoog</td>\n",
       "    </tr>\n",
       "  </tbody>\n",
       "</table>\n",
       "</div>"
      ],
      "text/plain": [
       "   postcode  gemiddelde_woz_waarde_woning   gemeente  \\\n",
       "0      1011                           386  Amsterdam   \n",
       "1      1012                           343  Amsterdam   \n",
       "2      1013                           329  Amsterdam   \n",
       "3      1014                           395  Amsterdam   \n",
       "4      1015                           400  Amsterdam   \n",
       "\n",
       "   gemiddelde_woz_waarde_gemeente  woz_normalisatie klasse_woz  \n",
       "0                      298.333333          0.318303  Heel-Hoog  \n",
       "1                      298.333333          0.318303  Heel-Hoog  \n",
       "2                      298.333333          0.318303  Heel-Hoog  \n",
       "3                      298.333333          0.318303  Heel-Hoog  \n",
       "4                      298.333333          0.318303  Heel-Hoog  "
      ]
     },
     "execution_count": 56,
     "metadata": {},
     "output_type": "execute_result"
    }
   ],
   "source": [
    "datawoz.head()\n"
   ]
  },
  {
   "cell_type": "code",
   "execution_count": 6,
   "metadata": {},
   "outputs": [],
   "source": [
    "datademografie = pd.read_csv('data/Demografie_wijken_data.csv')\n",
    "datademografie = datademografie.rename(columns={\"gemeentenaam\": \"gemeente\",})\n",
    "datademografie = datademografie.drop(columns=['id','wijkcode','jrstatcode','gemeentecode','ind_wbi','Unnamed: 0','geometry','percentage_westerse_migratieachtergrond','percentage_niet_westerse_migratieachtergrond','percentage_uit_marokko','percentage_uit_nederlandse_antillen_en_aruba','percentage_uit_suriname', 'percentage_uit_turkije','percentage_overige_nietwestersemigratieachtergrond'])"
   ]
  },
  {
   "cell_type": "code",
   "execution_count": 7,
   "metadata": {},
   "outputs": [
    {
     "data": {
      "text/plain": [
       "array(['Middel', 'Middel-Hoog', 'Hoog', 'Laag', 'Geen'], dtype=object)"
      ]
     },
     "execution_count": 7,
     "metadata": {},
     "output_type": "execute_result"
    }
   ],
   "source": [
    "datademografie['klasse_stedelijkheid_normalisatie'].unique()"
   ]
  },
  {
   "cell_type": "code",
   "execution_count": 9,
   "metadata": {},
   "outputs": [
    {
     "data": {
      "text/plain": [
       "array(['Landbouw, bosbouw en visserij', 'Delfstoffenwinning', 'Industrie',\n",
       "       'Energievoorziening', 'Waterbedrijven en afvalbeheer',\n",
       "       'Bouwnijverheid', 'Handel', 'Vervoer en opslag', 'Horeca',\n",
       "       'Informatie en communicatie', 'Financiële dienstverlening',\n",
       "       'Verhuur en handel van onroerend goed',\n",
       "       'Specialistische zakelijke diensten',\n",
       "       'Verhuur en overige zakelijke diensten',\n",
       "       'Cultuur, sport en recreatie', 'Overige dienstverlening',\n",
       "       'Extraterritoriale organisaties'], dtype=object)"
      ]
     },
     "execution_count": 9,
     "metadata": {},
     "output_type": "execute_result"
    }
   ],
   "source": [
    "datawerk = pd.read_csv('data/werkgelegenheid_df.csv')\n",
    "datawerk = datawerk.rename(columns={\"Regio's\": \"gemeente\",})\n",
    "datawerk = datawerk.drop(columns=['Unnamed: 0'])\n",
    "datawerk['Bedrijfstak'].unique()"
   ]
  },
  {
   "cell_type": "code",
   "execution_count": 60,
   "metadata": {},
   "outputs": [],
   "source": [
    "data = datademografie.merge(datawoz, on='gemeente')\n",
    "data = data.drop_duplicates()"
   ]
  },
  {
   "cell_type": "code",
   "execution_count": 61,
   "metadata": {},
   "outputs": [],
   "source": [
    "data = data.merge(datawerk, on='gemeente')\n",
    "data = data.drop_duplicates()\n",
    "# data.to_csv('form.csv')\n"
   ]
  },
  {
   "cell_type": "code",
   "execution_count": 62,
   "metadata": {},
   "outputs": [],
   "source": [
    "# form = pd.read_csv('form.csv')\n",
    "data = data.merge(datamisdaad, on='gemeente')\n",
    "data = data.drop_duplicates()"
   ]
  },
  {
   "cell_type": "code",
   "execution_count": null,
   "metadata": {},
   "outputs": [],
   "source": [
    "def formulierAPI(stedelijkheidinput,wozinput,werkgelegenheidinput,Bedrijfstakinput,misdaadinput):\n",
    "    resultaat = data.loc[(data['klasse_stedelijkheid_normalisatie'] == stedelijkheidinput) & (data['klasse_woz'] == wozinput)& (data['Vestigingen Klasse'] == werkgelegenheidinput) & (data['Bedrijfstak'] == Bedrijfstakinput)& (data['Aantal_misdrijven_klasse'] == misdaadinput)]\n",
    "    output = resultaat[[\"wijknaam\",'gemeente','Bedrijfstak','Vestigingen (aantal)']].drop_duplicates()\n",
    "    return output.to_dict(orient='records')"
   ]
  },
  {
   "cell_type": "code",
   "execution_count": 69,
   "metadata": {},
   "outputs": [],
   "source": [
    "\n",
    "resultaat = data.loc[(data['klasse_stedelijkheid_normalisatie'] == stedelijkheidinput) & (data['klasse_woz'] == wozinput)& (data['Vestigingen Klasse'] == werkgelegenheidinput) & (data['Bedrijfstak'] == Bedrijfstakinput)& (data['Aantal_misdrijven_klasse'] == misdaadinput)]\n",
    "output = resultaat[[\"wijknaam\",'gemeente','Bedrijfstak','Vestigingen (aantal)']].drop_duplicates()"
   ]
  },
  {
   "cell_type": "code",
   "execution_count": 73,
   "metadata": {},
   "outputs": [],
   "source": [
    "\n",
    "# resultaat.head()"
   ]
  },
  {
   "cell_type": "code",
   "execution_count": 72,
   "metadata": {},
   "outputs": [
    {
     "name": "stdout",
     "output_type": "stream",
     "text": [
      "wijken waar je kunt wonen:\n",
      "deze wijken hebben een wozwaarde Hoog ,een Middel stedelijkheid, een relatief Hoog aantal misdaden en een Hoog aantal werkgelegenheid in de Industrie\n"
     ]
    },
    {
     "data": {
      "text/html": [
       "<div>\n",
       "<style scoped>\n",
       "    .dataframe tbody tr th:only-of-type {\n",
       "        vertical-align: middle;\n",
       "    }\n",
       "\n",
       "    .dataframe tbody tr th {\n",
       "        vertical-align: top;\n",
       "    }\n",
       "\n",
       "    .dataframe thead th {\n",
       "        text-align: right;\n",
       "    }\n",
       "</style>\n",
       "<table border=\"1\" class=\"dataframe\">\n",
       "  <thead>\n",
       "    <tr style=\"text-align: right;\">\n",
       "      <th></th>\n",
       "      <th>wijknaam</th>\n",
       "      <th>gemeente</th>\n",
       "      <th>Bedrijfstak</th>\n",
       "      <th>Vestigingen (aantal)</th>\n",
       "    </tr>\n",
       "  </thead>\n",
       "  <tbody>\n",
       "    <tr>\n",
       "      <th>1990141</th>\n",
       "      <td>Achtse Molen</td>\n",
       "      <td>Eindhoven</td>\n",
       "      <td>Industrie</td>\n",
       "      <td>820.0</td>\n",
       "    </tr>\n",
       "    <tr>\n",
       "      <th>1999117</th>\n",
       "      <td>Meerhoven</td>\n",
       "      <td>Eindhoven</td>\n",
       "      <td>Industrie</td>\n",
       "      <td>820.0</td>\n",
       "    </tr>\n",
       "    <tr>\n",
       "      <th>1990124</th>\n",
       "      <td>Achtse Molen</td>\n",
       "      <td>Eindhoven</td>\n",
       "      <td>Industrie</td>\n",
       "      <td>775.0</td>\n",
       "    </tr>\n",
       "    <tr>\n",
       "      <th>1999100</th>\n",
       "      <td>Meerhoven</td>\n",
       "      <td>Eindhoven</td>\n",
       "      <td>Industrie</td>\n",
       "      <td>775.0</td>\n",
       "    </tr>\n",
       "    <tr>\n",
       "      <th>1990107</th>\n",
       "      <td>Achtse Molen</td>\n",
       "      <td>Eindhoven</td>\n",
       "      <td>Industrie</td>\n",
       "      <td>750.0</td>\n",
       "    </tr>\n",
       "  </tbody>\n",
       "</table>\n",
       "</div>"
      ],
      "text/plain": [
       "             wijknaam   gemeente Bedrijfstak  Vestigingen (aantal)\n",
       "1990141  Achtse Molen  Eindhoven   Industrie                 820.0\n",
       "1999117     Meerhoven  Eindhoven   Industrie                 820.0\n",
       "1990124  Achtse Molen  Eindhoven   Industrie                 775.0\n",
       "1999100     Meerhoven  Eindhoven   Industrie                 775.0\n",
       "1990107  Achtse Molen  Eindhoven   Industrie                 750.0"
      ]
     },
     "execution_count": 72,
     "metadata": {},
     "output_type": "execute_result"
    }
   ],
   "source": [
    "print('wijken waar je kunt wonen:')\n",
    "print('deze wijken hebben een wozwaarde',wozinput,',een', stedelijkheidinput,'stedelijkheid, een relatief', misdaadinput ,'aantal misdaden en een',werkgelegenheidinput,'aantal werkgelegenheid in de',Bedrijfstakinput)\n",
    "output.sort_values(by='Vestigingen (aantal)',ascending=False).head()\n"
   ]
  },
  {
   "cell_type": "code",
   "execution_count": 48,
   "metadata": {},
   "outputs": [
    {
     "data": {
      "text/html": [
       "<div>\n",
       "<style scoped>\n",
       "    .dataframe tbody tr th:only-of-type {\n",
       "        vertical-align: middle;\n",
       "    }\n",
       "\n",
       "    .dataframe tbody tr th {\n",
       "        vertical-align: top;\n",
       "    }\n",
       "\n",
       "    .dataframe thead th {\n",
       "        text-align: right;\n",
       "    }\n",
       "</style>\n",
       "<table border=\"1\" class=\"dataframe\">\n",
       "  <thead>\n",
       "    <tr style=\"text-align: right;\">\n",
       "      <th></th>\n",
       "      <th>wijknaam</th>\n",
       "      <th>gemeente</th>\n",
       "      <th>Bedrijfstak</th>\n",
       "      <th>Vestigingen (aantal)</th>\n",
       "    </tr>\n",
       "  </thead>\n",
       "  <tbody>\n",
       "    <tr>\n",
       "      <th>194074</th>\n",
       "      <td>Dedemsvaart</td>\n",
       "      <td>Hardenberg</td>\n",
       "      <td>Industrie</td>\n",
       "      <td>230.0</td>\n",
       "    </tr>\n",
       "    <tr>\n",
       "      <th>194091</th>\n",
       "      <td>Dedemsvaart</td>\n",
       "      <td>Hardenberg</td>\n",
       "      <td>Industrie</td>\n",
       "      <td>225.0</td>\n",
       "    </tr>\n",
       "    <tr>\n",
       "      <th>194108</th>\n",
       "      <td>Dedemsvaart</td>\n",
       "      <td>Hardenberg</td>\n",
       "      <td>Industrie</td>\n",
       "      <td>240.0</td>\n",
       "    </tr>\n",
       "    <tr>\n",
       "      <th>194125</th>\n",
       "      <td>Dedemsvaart</td>\n",
       "      <td>Hardenberg</td>\n",
       "      <td>Industrie</td>\n",
       "      <td>255.0</td>\n",
       "    </tr>\n",
       "    <tr>\n",
       "      <th>236710</th>\n",
       "      <td>Hardenberg</td>\n",
       "      <td>Hardenberg</td>\n",
       "      <td>Industrie</td>\n",
       "      <td>230.0</td>\n",
       "    </tr>\n",
       "  </tbody>\n",
       "</table>\n",
       "</div>"
      ],
      "text/plain": [
       "           wijknaam    gemeente Bedrijfstak  Vestigingen (aantal)\n",
       "194074  Dedemsvaart  Hardenberg   Industrie                 230.0\n",
       "194091  Dedemsvaart  Hardenberg   Industrie                 225.0\n",
       "194108  Dedemsvaart  Hardenberg   Industrie                 240.0\n",
       "194125  Dedemsvaart  Hardenberg   Industrie                 255.0\n",
       "236710   Hardenberg  Hardenberg   Industrie                 230.0"
      ]
     },
     "execution_count": 48,
     "metadata": {},
     "output_type": "execute_result"
    }
   ],
   "source": [
    "\n",
    "output.head()"
   ]
  }
 ],
 "metadata": {
  "kernelspec": {
   "display_name": "Python 3",
   "language": "python",
   "name": "python3"
  },
  "language_info": {
   "codemirror_mode": {
    "name": "ipython",
    "version": 3
   },
   "file_extension": ".py",
   "mimetype": "text/x-python",
   "name": "python",
   "nbconvert_exporter": "python",
   "pygments_lexer": "ipython3",
   "version": "3.7.4"
  }
 },
 "nbformat": 4,
 "nbformat_minor": 4
}
